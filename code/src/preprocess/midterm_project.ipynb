{
 "cells": [
  {
   "cell_type": "markdown",
   "id": "60f960bb",
   "metadata": {},
   "source": [
    "<img src=\"data/header.png\" width=100%>\n",
    "\n",
    "Welcome to the Midterm Project! Projects in DSC 10 are similar in format to homeworks, but are different in a few key ways. First, a project is comprehensive, meaning that it draws upon everything we've learned this quarter so far. Second, since problems can vary quite a bit in difficulty, some problems will be worth more points than others. Finally, in a project, the problems are more open-ended; they will usually ask for some result, but won't tell you what method should be used to get it. There might be several equally-valid approaches, and several steps might be necessary. This is closer to how data science is done in \"real life.\"\n",
    "\n",
    "It is important that you **start early** on the project! It will take the place of a homework in the week that it is due, but you should also expect it to take longer than a homework. You are especially encouraged to **find a partner** to work through the project with. If you work with a partner, you must follow the [Pair Programming Guidelines](https://dsc10.com/pair-programming/) on the course website. In particular, you must work together at the same time, and you are not allowed to split up the problems and each work on certain problems. If you work with a partner, only one of you needs to upload your notebook to Gradescope; after uploading, you'll see an option to add the other partner to the submission.\n",
    "\n",
    "**Important:** The `otter` tests don't usually tell you that your answer is correct. More often, they help catch basic mistakes. It's up to you to ensure that your answer is correct. If you're not sure, ask someone (not for the answer, but for some guidance about your approach). Directly sharing answers between groups is not okay, but discussing problems with the course staff or with other students is encouraged.\n",
    "\n",
    "**Avoid looping through DataFrames. Do not import any packages.** Loops in Python are slow, and looping through DataFrames should usually be avoided in favor of the DataFrame methods we've learned in class, which are much faster. Please do not import any additional packages – you don't need them, and our autograder may not be able to run your code if you do.\n",
    "\n",
    "As you work through this project, there are a few resources you may want to have open:\n",
    "- [DSC 10 Reference Sheet](https://drive.google.com/file/d/1mQApk9Ovdi-QVqMgnNcq5dZcWucUKoG-/view)\n",
    "- [`babypandas` notes](https://notes.dsc10.com/front.html)\n",
    "- [`babypandas` documentation](https://babypandas.readthedocs.io/en/latest/)\n",
    "- Other links in the [Resources](https://dsc10.com/resources/) and [Debugging](https://dsc10.com/debugging/) tabs of the course website\n",
    "\n",
    "Start early, good luck, and let's begin! 🏃"
   ]
  },
  {
   "cell_type": "code",
   "execution_count": 1,
   "id": "5b638bde",
   "metadata": {},
   "outputs": [],
   "source": [
    "# Please don't change this cell, but do make sure to run it.\n",
    "import pandas as bpd\n",
    "import numpy as np\n",
    "from IPython.display import HTML, display, IFrame, YouTubeVideo\n",
    "\n",
    "import matplotlib.pyplot as plt\n",
    "plt.style.use('ggplot')\n",
    "\n",
    "import otter\n",
    "import numbers # Not sure if needed\n",
    "grader = otter.Notebook()\n",
    "\n",
    "import warnings\n",
    "warnings.simplefilter('ignore')\n",
    "\n",
    "def play_spotify(uri):\n",
    "    code = uri[uri.rfind(':')+1:]\n",
    "    src = f\"https://open.spotify.com/embed/track/{code}\"\n",
    "    width = 400\n",
    "    height = 75\n",
    "    display(IFrame(src, width, height))"
   ]
  },
  {
   "cell_type": "markdown",
   "id": "10209e61",
   "metadata": {},
   "source": [
    "<a name='outline'></a>\n",
    "\n",
    "### Outline \n",
    "\n",
    "The project is divided into seven sections, each of which contains several questions. Use the outline below to help you quickly navigate to the part of the project you're working on. Questions are worth one point each, unless they contain a ⭐️⭐️ next to them, in which case they are worth two points (e.g. **Question 1.3. ⭐️⭐️**). You can expect questions worth two points to be longer and more challenging than questions worth one point.\n",
    "\n",
    "- [The Data 🎧](#thedata)\n",
    "-  [Section 1: What's a Song? 🤔](#section1)  \n",
    "-  [Section 2: The Sound of Music 🎶](#section2) \n",
    "-  [Section 3: Slow and Steady 🐢🐇](#section3)  \n",
    "-  [Section 4: Crazy in Love 💕](#section4)  \n",
    "-  [Section 5: The Test of Time ⌛️](#section5)  \n",
    "-  [Section 6: Party in the USA 💃](#section6) \n",
    "-  [Section 7: Encore 🔂](#section7)\n",
    "\n",
    "There's also an [Emoji Quiz 💯](#emojiquiz) at the end of the project, just for fun. Try to identify songs and artists based on emoji descriptions, and see how many you can get!"
   ]
  },
  {
   "cell_type": "markdown",
   "id": "cb72f39d",
   "metadata": {},
   "source": [
    "<a name='thedata'></a>\n",
    "\n",
    "## The Data 🎧"
   ]
  },
  {
   "cell_type": "markdown",
   "id": "e2289e97",
   "metadata": {},
   "source": [
    "[Spotify](https://spotify.com), the world's popular music streaming service ([source](https://www.businessofapps.com/data/music-streaming-market/)), is known for keeping close tabs on what its subscribers listen to. They maintain an analytics site, called [Spotify Charts](https://charts.spotify.com), where they post the daily and weekly top 200 songs on Spotify in various countries and cities. This should not be a surprise – in [Lecture 7](https://dsc10.com/resources/lectures/lec07/lec07.html), we downloaded a dataset containing the top 200 songs globally on October 4th.\n",
    "\n",
    "In this project, we will work with a dataset containing **the top 200 songs on Spotify each week, from the week of February 4th, 2021 through the week of July 14th, 2022, in each of the United States, Canada, and Mexico**. A song is in the top 200 for a given week and country if it is one of the 200 most streamed songs during that week in that country.\n",
    "\n",
    "Run the cell below to load in the dataset and save it to a DataFrame named `charts`."
   ]
  },
  {
   "cell_type": "code",
   "execution_count": 2,
   "id": "0f902540",
   "metadata": {},
   "outputs": [
    {
     "data": {
      "text/html": [
       "<div>\n",
       "<style scoped>\n",
       "    .dataframe tbody tr th:only-of-type {\n",
       "        vertical-align: middle;\n",
       "    }\n",
       "\n",
       "    .dataframe tbody tr th {\n",
       "        vertical-align: top;\n",
       "    }\n",
       "\n",
       "    .dataframe thead th {\n",
       "        text-align: right;\n",
       "    }\n",
       "</style>\n",
       "<table border=\"1\" class=\"dataframe\">\n",
       "  <thead>\n",
       "    <tr style=\"text-align: right;\">\n",
       "      <th></th>\n",
       "      <th>week</th>\n",
       "      <th>rank</th>\n",
       "      <th>track_name</th>\n",
       "      <th>uri</th>\n",
       "      <th>release_date</th>\n",
       "      <th>streams</th>\n",
       "      <th>artist_names</th>\n",
       "      <th>artist_individual</th>\n",
       "      <th>artist_id</th>\n",
       "      <th>artist_genre</th>\n",
       "      <th>...</th>\n",
       "      <th>mode</th>\n",
       "      <th>loudness</th>\n",
       "      <th>speechiness</th>\n",
       "      <th>acousticness</th>\n",
       "      <th>instrumentalness</th>\n",
       "      <th>liveness</th>\n",
       "      <th>valence</th>\n",
       "      <th>tempo</th>\n",
       "      <th>duration</th>\n",
       "      <th>country</th>\n",
       "    </tr>\n",
       "  </thead>\n",
       "  <tbody>\n",
       "    <tr>\n",
       "      <th>0</th>\n",
       "      <td>2021-02-04</td>\n",
       "      <td>1</td>\n",
       "      <td>drivers license</td>\n",
       "      <td>spotify:track:7lPN2DXiMsVn7XUKtOW1CS</td>\n",
       "      <td>2021-01-08</td>\n",
       "      <td>2054319</td>\n",
       "      <td>Olivia Rodrigo</td>\n",
       "      <td>Olivia Rodrigo</td>\n",
       "      <td>spotify:artist:1McMsnEElThX1knmY4oliG</td>\n",
       "      <td>pop</td>\n",
       "      <td>...</td>\n",
       "      <td>1</td>\n",
       "      <td>-8.761</td>\n",
       "      <td>0.0601</td>\n",
       "      <td>0.7210</td>\n",
       "      <td>0.000013</td>\n",
       "      <td>0.1050</td>\n",
       "      <td>0.132</td>\n",
       "      <td>143.874</td>\n",
       "      <td>242014</td>\n",
       "      <td>Canada</td>\n",
       "    </tr>\n",
       "    <tr>\n",
       "      <th>1</th>\n",
       "      <td>2021-02-04</td>\n",
       "      <td>2</td>\n",
       "      <td>Good Days</td>\n",
       "      <td>spotify:track:3YJJjQPAbDT7mGpX3WtQ9A</td>\n",
       "      <td>2020-12-25</td>\n",
       "      <td>916516</td>\n",
       "      <td>SZA</td>\n",
       "      <td>SZA</td>\n",
       "      <td>spotify:artist:7tYKF4w9nC0nq9CsPZTHyP</td>\n",
       "      <td>r&amp;b</td>\n",
       "      <td>...</td>\n",
       "      <td>0</td>\n",
       "      <td>-8.370</td>\n",
       "      <td>0.0583</td>\n",
       "      <td>0.4990</td>\n",
       "      <td>0.000008</td>\n",
       "      <td>0.6880</td>\n",
       "      <td>0.412</td>\n",
       "      <td>121.002</td>\n",
       "      <td>279204</td>\n",
       "      <td>Canada</td>\n",
       "    </tr>\n",
       "    <tr>\n",
       "      <th>2</th>\n",
       "      <td>2021-02-04</td>\n",
       "      <td>3</td>\n",
       "      <td>Save Your Tears</td>\n",
       "      <td>spotify:track:5QO79kh1waicV47BqGRL3g</td>\n",
       "      <td>2020-03-20</td>\n",
       "      <td>866067</td>\n",
       "      <td>The Weeknd</td>\n",
       "      <td>The Weeknd</td>\n",
       "      <td>spotify:artist:1Xyo4u8uXC1ZmMpatF05PJ</td>\n",
       "      <td>canadian contemporary r&amp;b</td>\n",
       "      <td>...</td>\n",
       "      <td>1</td>\n",
       "      <td>-5.487</td>\n",
       "      <td>0.0309</td>\n",
       "      <td>0.0212</td>\n",
       "      <td>0.000012</td>\n",
       "      <td>0.5430</td>\n",
       "      <td>0.644</td>\n",
       "      <td>118.051</td>\n",
       "      <td>215627</td>\n",
       "      <td>Canada</td>\n",
       "    </tr>\n",
       "    <tr>\n",
       "      <th>3</th>\n",
       "      <td>2021-02-04</td>\n",
       "      <td>4</td>\n",
       "      <td>Mood (feat. iann dior)</td>\n",
       "      <td>spotify:track:3tjFYV6RSFtuktYl3ZtYcq</td>\n",
       "      <td>2020-07-24</td>\n",
       "      <td>824789</td>\n",
       "      <td>24kGoldn, iann dior</td>\n",
       "      <td>24kGoldn</td>\n",
       "      <td>spotify:artist:6fWVd57NKTalqvmjRd2t8Z</td>\n",
       "      <td>cali rap</td>\n",
       "      <td>...</td>\n",
       "      <td>0</td>\n",
       "      <td>-3.558</td>\n",
       "      <td>0.0369</td>\n",
       "      <td>0.2210</td>\n",
       "      <td>0.000000</td>\n",
       "      <td>0.2720</td>\n",
       "      <td>0.756</td>\n",
       "      <td>90.989</td>\n",
       "      <td>140526</td>\n",
       "      <td>Canada</td>\n",
       "    </tr>\n",
       "    <tr>\n",
       "      <th>4</th>\n",
       "      <td>2021-02-04</td>\n",
       "      <td>4</td>\n",
       "      <td>Mood (feat. iann dior)</td>\n",
       "      <td>spotify:track:3tjFYV6RSFtuktYl3ZtYcq</td>\n",
       "      <td>2020-07-24</td>\n",
       "      <td>824789</td>\n",
       "      <td>24kGoldn, iann dior</td>\n",
       "      <td>iann dior</td>\n",
       "      <td>spotify:artist:6ASri4ePR7RlsvIQgWPJpS</td>\n",
       "      <td>melodic rap</td>\n",
       "      <td>...</td>\n",
       "      <td>0</td>\n",
       "      <td>-3.558</td>\n",
       "      <td>0.0369</td>\n",
       "      <td>0.2210</td>\n",
       "      <td>0.000000</td>\n",
       "      <td>0.2720</td>\n",
       "      <td>0.756</td>\n",
       "      <td>90.989</td>\n",
       "      <td>140526</td>\n",
       "      <td>Canada</td>\n",
       "    </tr>\n",
       "    <tr>\n",
       "      <th>...</th>\n",
       "      <td>...</td>\n",
       "      <td>...</td>\n",
       "      <td>...</td>\n",
       "      <td>...</td>\n",
       "      <td>...</td>\n",
       "      <td>...</td>\n",
       "      <td>...</td>\n",
       "      <td>...</td>\n",
       "      <td>...</td>\n",
       "      <td>...</td>\n",
       "      <td>...</td>\n",
       "      <td>...</td>\n",
       "      <td>...</td>\n",
       "      <td>...</td>\n",
       "      <td>...</td>\n",
       "      <td>...</td>\n",
       "      <td>...</td>\n",
       "      <td>...</td>\n",
       "      <td>...</td>\n",
       "      <td>...</td>\n",
       "      <td>...</td>\n",
       "    </tr>\n",
       "    <tr>\n",
       "      <th>70178</th>\n",
       "      <td>2022-07-14</td>\n",
       "      <td>196</td>\n",
       "      <td>Get Into It (Yuh)</td>\n",
       "      <td>spotify:track:0W6I02J9xcqK8MtSeosEXb</td>\n",
       "      <td>2021-06-25</td>\n",
       "      <td>1592100</td>\n",
       "      <td>Doja Cat</td>\n",
       "      <td>Doja Cat</td>\n",
       "      <td>spotify:artist:5cj0lLjcoR7YOSnhnX0Po5</td>\n",
       "      <td>dance pop</td>\n",
       "      <td>...</td>\n",
       "      <td>0</td>\n",
       "      <td>-6.029</td>\n",
       "      <td>0.1620</td>\n",
       "      <td>0.3150</td>\n",
       "      <td>0.000034</td>\n",
       "      <td>0.0894</td>\n",
       "      <td>0.793</td>\n",
       "      <td>91.942</td>\n",
       "      <td>138293</td>\n",
       "      <td>United States</td>\n",
       "    </tr>\n",
       "    <tr>\n",
       "      <th>70179</th>\n",
       "      <td>2022-07-14</td>\n",
       "      <td>197</td>\n",
       "      <td>Fancy Like</td>\n",
       "      <td>spotify:track:58UKC45GPNTflCN6nwCUeF</td>\n",
       "      <td>2022-01-21</td>\n",
       "      <td>1590126</td>\n",
       "      <td>Walker Hayes</td>\n",
       "      <td>Walker Hayes</td>\n",
       "      <td>spotify:artist:7sKxqpSqbIzphAKAhrqvlf</td>\n",
       "      <td>modern country rock</td>\n",
       "      <td>...</td>\n",
       "      <td>1</td>\n",
       "      <td>-6.459</td>\n",
       "      <td>0.0600</td>\n",
       "      <td>0.1110</td>\n",
       "      <td>0.000000</td>\n",
       "      <td>0.3150</td>\n",
       "      <td>0.855</td>\n",
       "      <td>79.994</td>\n",
       "      <td>161853</td>\n",
       "      <td>United States</td>\n",
       "    </tr>\n",
       "    <tr>\n",
       "      <th>70180</th>\n",
       "      <td>2022-07-14</td>\n",
       "      <td>198</td>\n",
       "      <td>Stick Season</td>\n",
       "      <td>spotify:track:0GNVXNz7Jkicfk2mp5OyG5</td>\n",
       "      <td>2022-07-08</td>\n",
       "      <td>1583302</td>\n",
       "      <td>Noah Kahan</td>\n",
       "      <td>Noah Kahan</td>\n",
       "      <td>spotify:artist:2RQXRUsr4IW1f3mKyKsy4B</td>\n",
       "      <td>pop</td>\n",
       "      <td>...</td>\n",
       "      <td>1</td>\n",
       "      <td>-6.935</td>\n",
       "      <td>0.0651</td>\n",
       "      <td>0.7990</td>\n",
       "      <td>0.000000</td>\n",
       "      <td>0.0966</td>\n",
       "      <td>0.801</td>\n",
       "      <td>117.896</td>\n",
       "      <td>182347</td>\n",
       "      <td>United States</td>\n",
       "    </tr>\n",
       "    <tr>\n",
       "      <th>70181</th>\n",
       "      <td>2022-07-14</td>\n",
       "      <td>199</td>\n",
       "      <td>Call Out My Name</td>\n",
       "      <td>spotify:track:09mEdoA6zrmBPgTEN5qXmN</td>\n",
       "      <td>2018-03-30</td>\n",
       "      <td>1583235</td>\n",
       "      <td>The Weeknd</td>\n",
       "      <td>The Weeknd</td>\n",
       "      <td>spotify:artist:1Xyo4u8uXC1ZmMpatF05PJ</td>\n",
       "      <td>canadian contemporary r&amp;b</td>\n",
       "      <td>...</td>\n",
       "      <td>1</td>\n",
       "      <td>-4.954</td>\n",
       "      <td>0.0356</td>\n",
       "      <td>0.1700</td>\n",
       "      <td>0.000000</td>\n",
       "      <td>0.3070</td>\n",
       "      <td>0.175</td>\n",
       "      <td>134.170</td>\n",
       "      <td>228373</td>\n",
       "      <td>United States</td>\n",
       "    </tr>\n",
       "    <tr>\n",
       "      <th>70182</th>\n",
       "      <td>2022-07-14</td>\n",
       "      <td>200</td>\n",
       "      <td>Good Days</td>\n",
       "      <td>spotify:track:3YJJjQPAbDT7mGpX3WtQ9A</td>\n",
       "      <td>2020-12-25</td>\n",
       "      <td>1579212</td>\n",
       "      <td>SZA</td>\n",
       "      <td>SZA</td>\n",
       "      <td>spotify:artist:7tYKF4w9nC0nq9CsPZTHyP</td>\n",
       "      <td>r&amp;b</td>\n",
       "      <td>...</td>\n",
       "      <td>0</td>\n",
       "      <td>-8.370</td>\n",
       "      <td>0.0583</td>\n",
       "      <td>0.4990</td>\n",
       "      <td>0.000008</td>\n",
       "      <td>0.6880</td>\n",
       "      <td>0.412</td>\n",
       "      <td>121.002</td>\n",
       "      <td>279204</td>\n",
       "      <td>United States</td>\n",
       "    </tr>\n",
       "  </tbody>\n",
       "</table>\n",
       "<p>70183 rows × 24 columns</p>\n",
       "</div>"
      ],
      "text/plain": [
       "             week  rank              track_name  \\\n",
       "0      2021-02-04     1         drivers license   \n",
       "1      2021-02-04     2               Good Days   \n",
       "2      2021-02-04     3         Save Your Tears   \n",
       "3      2021-02-04     4  Mood (feat. iann dior)   \n",
       "4      2021-02-04     4  Mood (feat. iann dior)   \n",
       "...           ...   ...                     ...   \n",
       "70178  2022-07-14   196       Get Into It (Yuh)   \n",
       "70179  2022-07-14   197              Fancy Like   \n",
       "70180  2022-07-14   198            Stick Season   \n",
       "70181  2022-07-14   199        Call Out My Name   \n",
       "70182  2022-07-14   200               Good Days   \n",
       "\n",
       "                                        uri release_date  streams  \\\n",
       "0      spotify:track:7lPN2DXiMsVn7XUKtOW1CS   2021-01-08  2054319   \n",
       "1      spotify:track:3YJJjQPAbDT7mGpX3WtQ9A   2020-12-25   916516   \n",
       "2      spotify:track:5QO79kh1waicV47BqGRL3g   2020-03-20   866067   \n",
       "3      spotify:track:3tjFYV6RSFtuktYl3ZtYcq   2020-07-24   824789   \n",
       "4      spotify:track:3tjFYV6RSFtuktYl3ZtYcq   2020-07-24   824789   \n",
       "...                                     ...          ...      ...   \n",
       "70178  spotify:track:0W6I02J9xcqK8MtSeosEXb   2021-06-25  1592100   \n",
       "70179  spotify:track:58UKC45GPNTflCN6nwCUeF   2022-01-21  1590126   \n",
       "70180  spotify:track:0GNVXNz7Jkicfk2mp5OyG5   2022-07-08  1583302   \n",
       "70181  spotify:track:09mEdoA6zrmBPgTEN5qXmN   2018-03-30  1583235   \n",
       "70182  spotify:track:3YJJjQPAbDT7mGpX3WtQ9A   2020-12-25  1579212   \n",
       "\n",
       "              artist_names artist_individual  \\\n",
       "0           Olivia Rodrigo    Olivia Rodrigo   \n",
       "1                      SZA               SZA   \n",
       "2               The Weeknd        The Weeknd   \n",
       "3      24kGoldn, iann dior          24kGoldn   \n",
       "4      24kGoldn, iann dior         iann dior   \n",
       "...                    ...               ...   \n",
       "70178             Doja Cat          Doja Cat   \n",
       "70179         Walker Hayes      Walker Hayes   \n",
       "70180           Noah Kahan        Noah Kahan   \n",
       "70181           The Weeknd        The Weeknd   \n",
       "70182                  SZA               SZA   \n",
       "\n",
       "                                   artist_id               artist_genre  ...  \\\n",
       "0      spotify:artist:1McMsnEElThX1knmY4oliG                        pop  ...   \n",
       "1      spotify:artist:7tYKF4w9nC0nq9CsPZTHyP                        r&b  ...   \n",
       "2      spotify:artist:1Xyo4u8uXC1ZmMpatF05PJ  canadian contemporary r&b  ...   \n",
       "3      spotify:artist:6fWVd57NKTalqvmjRd2t8Z                   cali rap  ...   \n",
       "4      spotify:artist:6ASri4ePR7RlsvIQgWPJpS                melodic rap  ...   \n",
       "...                                      ...                        ...  ...   \n",
       "70178  spotify:artist:5cj0lLjcoR7YOSnhnX0Po5                  dance pop  ...   \n",
       "70179  spotify:artist:7sKxqpSqbIzphAKAhrqvlf        modern country rock  ...   \n",
       "70180  spotify:artist:2RQXRUsr4IW1f3mKyKsy4B                        pop  ...   \n",
       "70181  spotify:artist:1Xyo4u8uXC1ZmMpatF05PJ  canadian contemporary r&b  ...   \n",
       "70182  spotify:artist:7tYKF4w9nC0nq9CsPZTHyP                        r&b  ...   \n",
       "\n",
       "      mode  loudness  speechiness  acousticness  instrumentalness  liveness  \\\n",
       "0        1    -8.761       0.0601        0.7210          0.000013    0.1050   \n",
       "1        0    -8.370       0.0583        0.4990          0.000008    0.6880   \n",
       "2        1    -5.487       0.0309        0.0212          0.000012    0.5430   \n",
       "3        0    -3.558       0.0369        0.2210          0.000000    0.2720   \n",
       "4        0    -3.558       0.0369        0.2210          0.000000    0.2720   \n",
       "...    ...       ...          ...           ...               ...       ...   \n",
       "70178    0    -6.029       0.1620        0.3150          0.000034    0.0894   \n",
       "70179    1    -6.459       0.0600        0.1110          0.000000    0.3150   \n",
       "70180    1    -6.935       0.0651        0.7990          0.000000    0.0966   \n",
       "70181    1    -4.954       0.0356        0.1700          0.000000    0.3070   \n",
       "70182    0    -8.370       0.0583        0.4990          0.000008    0.6880   \n",
       "\n",
       "       valence    tempo  duration        country  \n",
       "0        0.132  143.874    242014         Canada  \n",
       "1        0.412  121.002    279204         Canada  \n",
       "2        0.644  118.051    215627         Canada  \n",
       "3        0.756   90.989    140526         Canada  \n",
       "4        0.756   90.989    140526         Canada  \n",
       "...        ...      ...       ...            ...  \n",
       "70178    0.793   91.942    138293  United States  \n",
       "70179    0.855   79.994    161853  United States  \n",
       "70180    0.801  117.896    182347  United States  \n",
       "70181    0.175  134.170    228373  United States  \n",
       "70182    0.412  121.002    279204  United States  \n",
       "\n",
       "[70183 rows x 24 columns]"
      ]
     },
     "execution_count": 2,
     "metadata": {},
     "output_type": "execute_result"
    }
   ],
   "source": [
    "charts = bpd.read_csv('data/weekly_charts.csv')\n",
    "charts"
   ]
  },
  {
   "cell_type": "markdown",
   "id": "7b5c73b2",
   "metadata": {},
   "source": [
    "`charts` has 24 columns."
   ]
  },
  {
   "cell_type": "code",
   "execution_count": 3,
   "id": "a04e8929",
   "metadata": {},
   "outputs": [
    {
     "data": {
      "text/plain": [
       "Index(['week', 'rank', 'track_name', 'uri', 'release_date', 'streams',\n",
       "       'artist_names', 'artist_individual', 'artist_id', 'artist_genre',\n",
       "       'artist_img', 'danceability', 'energy', 'key', 'mode', 'loudness',\n",
       "       'speechiness', 'acousticness', 'instrumentalness', 'liveness',\n",
       "       'valence', 'tempo', 'duration', 'country'],\n",
       "      dtype='object')"
      ]
     },
     "execution_count": 3,
     "metadata": {},
     "output_type": "execute_result"
    }
   ],
   "source": [
    "charts.columns"
   ]
  },
  {
   "cell_type": "markdown",
   "id": "14e5aa0f",
   "metadata": {},
   "source": [
    "Below, we describe some of the columns of `charts`.\n",
    "\n",
    "| Column | Description |\n",
    "|:---|:---|\n",
    "| `'week'` | Week during which the song was in the top 200. |\n",
    "| `'rank'` | The position of the song in the top 200, in the specified country. |\n",
    "| `'track_name'` | The name of the song. |\n",
    "| `'uri'` | The song's uniform resource indicator. This is an identfier that can be used to play the song on Spotify. |\n",
    "| `'release_date'` | The date on which the song was released. |\n",
    "| `'streams'` | The number of streams that the song received during the specified week in the specified country. |\n",
    "| `'artist_names'` | All artists on the song. |\n",
    "| `'artist_individual'` | One of the artists on the song. (If there are $n$ artists on the song, the song appears in $n$ rows of `charts` for each week and country it was in the top 200, once for each artist.) |\n",
    "| `'artist_id'` | The individual artist's uniform resource indicator. |\n",
    "| `'artist_genre'` | The individual artist's primary genre. |\n",
    "| `'artist_img'` | A URL to the image of the individual artist. |\n",
    "| `'duration'` | The length of the song, in milliseconds. |\n",
    "| `'country'` | The country in which the song was in the top 200 in the specified week. | \n",
    "\n",
    "There are several columns – namely, `'danceability'`, `'energy'`, `'key'`, `'mode'`, `'loudness'`, `'speechiness'`, `'acousticness'`, `'instrumentalness'`, `'liveness'`, `'valence'`, and `'tempo'` – that we didn't describe above. These are all _audio features_, meaning they describe the musical content of songs, as opposed to the other columns, which describe metadata. Spotify provides [documentation](https://developer.spotify.com/documentation/web-api/reference/#/operations/get-several-audio-features) that describes what each audio feature means. We'll provide you a link to this documentation again right before Section 2, when you'll actually start using these columns.\n",
    "\n",
    "As the table above mentions, we can use a song's `'uri'` to play it on Spotify. We've provided you with a function named `play_spotify` that takes in a `'uri'` and plays the song in your notebook. Run the cell below to see it in action!"
   ]
  },
  {
   "cell_type": "code",
   "execution_count": 4,
   "id": "7f956c56",
   "metadata": {},
   "outputs": [
    {
     "data": {
      "text/html": [
       "\n",
       "        <iframe\n",
       "            width=\"400\"\n",
       "            height=\"75\"\n",
       "            src=\"https://open.spotify.com/embed/track/7lPN2DXiMsVn7XUKtOW1CS\"\n",
       "            frameborder=\"0\"\n",
       "            allowfullscreen\n",
       "        ></iframe>\n",
       "        "
      ],
      "text/plain": [
       "<IPython.lib.display.IFrame at 0x7f0cbe110c40>"
      ]
     },
     "metadata": {},
     "output_type": "display_data"
    }
   ],
   "source": [
    "# URI for Olivia Rodrigo's \"drivers license\"\n",
    "play_spotify('spotify:track:7lPN2DXiMsVn7XUKtOW1CS')"
   ]
  },
  {
   "cell_type": "markdown",
   "id": "e4cfb7c6",
   "metadata": {},
   "source": [
    "<a id='section1'></a>\n",
    "## Section 1: What's a Song? 🤔\n",
    "\n",
    "<small>(<a href=\"#outline\">return to the outline</a>)</small>"
   ]
  },
  {
   "cell_type": "markdown",
   "id": "f148e228",
   "metadata": {},
   "source": [
    "Let's look at the first and last few rows of `charts` once again."
   ]
  },
  {
   "cell_type": "code",
   "execution_count": 5,
   "id": "aadfd72a",
   "metadata": {},
   "outputs": [
    {
     "data": {
      "text/html": [
       "<div>\n",
       "<style scoped>\n",
       "    .dataframe tbody tr th:only-of-type {\n",
       "        vertical-align: middle;\n",
       "    }\n",
       "\n",
       "    .dataframe tbody tr th {\n",
       "        vertical-align: top;\n",
       "    }\n",
       "\n",
       "    .dataframe thead th {\n",
       "        text-align: right;\n",
       "    }\n",
       "</style>\n",
       "<table border=\"1\" class=\"dataframe\">\n",
       "  <thead>\n",
       "    <tr style=\"text-align: right;\">\n",
       "      <th></th>\n",
       "      <th>week</th>\n",
       "      <th>rank</th>\n",
       "      <th>track_name</th>\n",
       "      <th>uri</th>\n",
       "      <th>release_date</th>\n",
       "      <th>streams</th>\n",
       "      <th>artist_names</th>\n",
       "      <th>artist_individual</th>\n",
       "      <th>artist_id</th>\n",
       "      <th>artist_genre</th>\n",
       "      <th>...</th>\n",
       "      <th>mode</th>\n",
       "      <th>loudness</th>\n",
       "      <th>speechiness</th>\n",
       "      <th>acousticness</th>\n",
       "      <th>instrumentalness</th>\n",
       "      <th>liveness</th>\n",
       "      <th>valence</th>\n",
       "      <th>tempo</th>\n",
       "      <th>duration</th>\n",
       "      <th>country</th>\n",
       "    </tr>\n",
       "  </thead>\n",
       "  <tbody>\n",
       "    <tr>\n",
       "      <th>0</th>\n",
       "      <td>2021-02-04</td>\n",
       "      <td>1</td>\n",
       "      <td>drivers license</td>\n",
       "      <td>spotify:track:7lPN2DXiMsVn7XUKtOW1CS</td>\n",
       "      <td>2021-01-08</td>\n",
       "      <td>2054319</td>\n",
       "      <td>Olivia Rodrigo</td>\n",
       "      <td>Olivia Rodrigo</td>\n",
       "      <td>spotify:artist:1McMsnEElThX1knmY4oliG</td>\n",
       "      <td>pop</td>\n",
       "      <td>...</td>\n",
       "      <td>1</td>\n",
       "      <td>-8.761</td>\n",
       "      <td>0.0601</td>\n",
       "      <td>0.7210</td>\n",
       "      <td>0.000013</td>\n",
       "      <td>0.1050</td>\n",
       "      <td>0.132</td>\n",
       "      <td>143.874</td>\n",
       "      <td>242014</td>\n",
       "      <td>Canada</td>\n",
       "    </tr>\n",
       "    <tr>\n",
       "      <th>1</th>\n",
       "      <td>2021-02-04</td>\n",
       "      <td>2</td>\n",
       "      <td>Good Days</td>\n",
       "      <td>spotify:track:3YJJjQPAbDT7mGpX3WtQ9A</td>\n",
       "      <td>2020-12-25</td>\n",
       "      <td>916516</td>\n",
       "      <td>SZA</td>\n",
       "      <td>SZA</td>\n",
       "      <td>spotify:artist:7tYKF4w9nC0nq9CsPZTHyP</td>\n",
       "      <td>r&amp;b</td>\n",
       "      <td>...</td>\n",
       "      <td>0</td>\n",
       "      <td>-8.370</td>\n",
       "      <td>0.0583</td>\n",
       "      <td>0.4990</td>\n",
       "      <td>0.000008</td>\n",
       "      <td>0.6880</td>\n",
       "      <td>0.412</td>\n",
       "      <td>121.002</td>\n",
       "      <td>279204</td>\n",
       "      <td>Canada</td>\n",
       "    </tr>\n",
       "    <tr>\n",
       "      <th>2</th>\n",
       "      <td>2021-02-04</td>\n",
       "      <td>3</td>\n",
       "      <td>Save Your Tears</td>\n",
       "      <td>spotify:track:5QO79kh1waicV47BqGRL3g</td>\n",
       "      <td>2020-03-20</td>\n",
       "      <td>866067</td>\n",
       "      <td>The Weeknd</td>\n",
       "      <td>The Weeknd</td>\n",
       "      <td>spotify:artist:1Xyo4u8uXC1ZmMpatF05PJ</td>\n",
       "      <td>canadian contemporary r&amp;b</td>\n",
       "      <td>...</td>\n",
       "      <td>1</td>\n",
       "      <td>-5.487</td>\n",
       "      <td>0.0309</td>\n",
       "      <td>0.0212</td>\n",
       "      <td>0.000012</td>\n",
       "      <td>0.5430</td>\n",
       "      <td>0.644</td>\n",
       "      <td>118.051</td>\n",
       "      <td>215627</td>\n",
       "      <td>Canada</td>\n",
       "    </tr>\n",
       "    <tr>\n",
       "      <th>3</th>\n",
       "      <td>2021-02-04</td>\n",
       "      <td>4</td>\n",
       "      <td>Mood (feat. iann dior)</td>\n",
       "      <td>spotify:track:3tjFYV6RSFtuktYl3ZtYcq</td>\n",
       "      <td>2020-07-24</td>\n",
       "      <td>824789</td>\n",
       "      <td>24kGoldn, iann dior</td>\n",
       "      <td>24kGoldn</td>\n",
       "      <td>spotify:artist:6fWVd57NKTalqvmjRd2t8Z</td>\n",
       "      <td>cali rap</td>\n",
       "      <td>...</td>\n",
       "      <td>0</td>\n",
       "      <td>-3.558</td>\n",
       "      <td>0.0369</td>\n",
       "      <td>0.2210</td>\n",
       "      <td>0.000000</td>\n",
       "      <td>0.2720</td>\n",
       "      <td>0.756</td>\n",
       "      <td>90.989</td>\n",
       "      <td>140526</td>\n",
       "      <td>Canada</td>\n",
       "    </tr>\n",
       "    <tr>\n",
       "      <th>4</th>\n",
       "      <td>2021-02-04</td>\n",
       "      <td>4</td>\n",
       "      <td>Mood (feat. iann dior)</td>\n",
       "      <td>spotify:track:3tjFYV6RSFtuktYl3ZtYcq</td>\n",
       "      <td>2020-07-24</td>\n",
       "      <td>824789</td>\n",
       "      <td>24kGoldn, iann dior</td>\n",
       "      <td>iann dior</td>\n",
       "      <td>spotify:artist:6ASri4ePR7RlsvIQgWPJpS</td>\n",
       "      <td>melodic rap</td>\n",
       "      <td>...</td>\n",
       "      <td>0</td>\n",
       "      <td>-3.558</td>\n",
       "      <td>0.0369</td>\n",
       "      <td>0.2210</td>\n",
       "      <td>0.000000</td>\n",
       "      <td>0.2720</td>\n",
       "      <td>0.756</td>\n",
       "      <td>90.989</td>\n",
       "      <td>140526</td>\n",
       "      <td>Canada</td>\n",
       "    </tr>\n",
       "    <tr>\n",
       "      <th>...</th>\n",
       "      <td>...</td>\n",
       "      <td>...</td>\n",
       "      <td>...</td>\n",
       "      <td>...</td>\n",
       "      <td>...</td>\n",
       "      <td>...</td>\n",
       "      <td>...</td>\n",
       "      <td>...</td>\n",
       "      <td>...</td>\n",
       "      <td>...</td>\n",
       "      <td>...</td>\n",
       "      <td>...</td>\n",
       "      <td>...</td>\n",
       "      <td>...</td>\n",
       "      <td>...</td>\n",
       "      <td>...</td>\n",
       "      <td>...</td>\n",
       "      <td>...</td>\n",
       "      <td>...</td>\n",
       "      <td>...</td>\n",
       "      <td>...</td>\n",
       "    </tr>\n",
       "    <tr>\n",
       "      <th>70178</th>\n",
       "      <td>2022-07-14</td>\n",
       "      <td>196</td>\n",
       "      <td>Get Into It (Yuh)</td>\n",
       "      <td>spotify:track:0W6I02J9xcqK8MtSeosEXb</td>\n",
       "      <td>2021-06-25</td>\n",
       "      <td>1592100</td>\n",
       "      <td>Doja Cat</td>\n",
       "      <td>Doja Cat</td>\n",
       "      <td>spotify:artist:5cj0lLjcoR7YOSnhnX0Po5</td>\n",
       "      <td>dance pop</td>\n",
       "      <td>...</td>\n",
       "      <td>0</td>\n",
       "      <td>-6.029</td>\n",
       "      <td>0.1620</td>\n",
       "      <td>0.3150</td>\n",
       "      <td>0.000034</td>\n",
       "      <td>0.0894</td>\n",
       "      <td>0.793</td>\n",
       "      <td>91.942</td>\n",
       "      <td>138293</td>\n",
       "      <td>United States</td>\n",
       "    </tr>\n",
       "    <tr>\n",
       "      <th>70179</th>\n",
       "      <td>2022-07-14</td>\n",
       "      <td>197</td>\n",
       "      <td>Fancy Like</td>\n",
       "      <td>spotify:track:58UKC45GPNTflCN6nwCUeF</td>\n",
       "      <td>2022-01-21</td>\n",
       "      <td>1590126</td>\n",
       "      <td>Walker Hayes</td>\n",
       "      <td>Walker Hayes</td>\n",
       "      <td>spotify:artist:7sKxqpSqbIzphAKAhrqvlf</td>\n",
       "      <td>modern country rock</td>\n",
       "      <td>...</td>\n",
       "      <td>1</td>\n",
       "      <td>-6.459</td>\n",
       "      <td>0.0600</td>\n",
       "      <td>0.1110</td>\n",
       "      <td>0.000000</td>\n",
       "      <td>0.3150</td>\n",
       "      <td>0.855</td>\n",
       "      <td>79.994</td>\n",
       "      <td>161853</td>\n",
       "      <td>United States</td>\n",
       "    </tr>\n",
       "    <tr>\n",
       "      <th>70180</th>\n",
       "      <td>2022-07-14</td>\n",
       "      <td>198</td>\n",
       "      <td>Stick Season</td>\n",
       "      <td>spotify:track:0GNVXNz7Jkicfk2mp5OyG5</td>\n",
       "      <td>2022-07-08</td>\n",
       "      <td>1583302</td>\n",
       "      <td>Noah Kahan</td>\n",
       "      <td>Noah Kahan</td>\n",
       "      <td>spotify:artist:2RQXRUsr4IW1f3mKyKsy4B</td>\n",
       "      <td>pop</td>\n",
       "      <td>...</td>\n",
       "      <td>1</td>\n",
       "      <td>-6.935</td>\n",
       "      <td>0.0651</td>\n",
       "      <td>0.7990</td>\n",
       "      <td>0.000000</td>\n",
       "      <td>0.0966</td>\n",
       "      <td>0.801</td>\n",
       "      <td>117.896</td>\n",
       "      <td>182347</td>\n",
       "      <td>United States</td>\n",
       "    </tr>\n",
       "    <tr>\n",
       "      <th>70181</th>\n",
       "      <td>2022-07-14</td>\n",
       "      <td>199</td>\n",
       "      <td>Call Out My Name</td>\n",
       "      <td>spotify:track:09mEdoA6zrmBPgTEN5qXmN</td>\n",
       "      <td>2018-03-30</td>\n",
       "      <td>1583235</td>\n",
       "      <td>The Weeknd</td>\n",
       "      <td>The Weeknd</td>\n",
       "      <td>spotify:artist:1Xyo4u8uXC1ZmMpatF05PJ</td>\n",
       "      <td>canadian contemporary r&amp;b</td>\n",
       "      <td>...</td>\n",
       "      <td>1</td>\n",
       "      <td>-4.954</td>\n",
       "      <td>0.0356</td>\n",
       "      <td>0.1700</td>\n",
       "      <td>0.000000</td>\n",
       "      <td>0.3070</td>\n",
       "      <td>0.175</td>\n",
       "      <td>134.170</td>\n",
       "      <td>228373</td>\n",
       "      <td>United States</td>\n",
       "    </tr>\n",
       "    <tr>\n",
       "      <th>70182</th>\n",
       "      <td>2022-07-14</td>\n",
       "      <td>200</td>\n",
       "      <td>Good Days</td>\n",
       "      <td>spotify:track:3YJJjQPAbDT7mGpX3WtQ9A</td>\n",
       "      <td>2020-12-25</td>\n",
       "      <td>1579212</td>\n",
       "      <td>SZA</td>\n",
       "      <td>SZA</td>\n",
       "      <td>spotify:artist:7tYKF4w9nC0nq9CsPZTHyP</td>\n",
       "      <td>r&amp;b</td>\n",
       "      <td>...</td>\n",
       "      <td>0</td>\n",
       "      <td>-8.370</td>\n",
       "      <td>0.0583</td>\n",
       "      <td>0.4990</td>\n",
       "      <td>0.000008</td>\n",
       "      <td>0.6880</td>\n",
       "      <td>0.412</td>\n",
       "      <td>121.002</td>\n",
       "      <td>279204</td>\n",
       "      <td>United States</td>\n",
       "    </tr>\n",
       "  </tbody>\n",
       "</table>\n",
       "<p>70183 rows × 24 columns</p>\n",
       "</div>"
      ],
      "text/plain": [
       "             week  rank              track_name  \\\n",
       "0      2021-02-04     1         drivers license   \n",
       "1      2021-02-04     2               Good Days   \n",
       "2      2021-02-04     3         Save Your Tears   \n",
       "3      2021-02-04     4  Mood (feat. iann dior)   \n",
       "4      2021-02-04     4  Mood (feat. iann dior)   \n",
       "...           ...   ...                     ...   \n",
       "70178  2022-07-14   196       Get Into It (Yuh)   \n",
       "70179  2022-07-14   197              Fancy Like   \n",
       "70180  2022-07-14   198            Stick Season   \n",
       "70181  2022-07-14   199        Call Out My Name   \n",
       "70182  2022-07-14   200               Good Days   \n",
       "\n",
       "                                        uri release_date  streams  \\\n",
       "0      spotify:track:7lPN2DXiMsVn7XUKtOW1CS   2021-01-08  2054319   \n",
       "1      spotify:track:3YJJjQPAbDT7mGpX3WtQ9A   2020-12-25   916516   \n",
       "2      spotify:track:5QO79kh1waicV47BqGRL3g   2020-03-20   866067   \n",
       "3      spotify:track:3tjFYV6RSFtuktYl3ZtYcq   2020-07-24   824789   \n",
       "4      spotify:track:3tjFYV6RSFtuktYl3ZtYcq   2020-07-24   824789   \n",
       "...                                     ...          ...      ...   \n",
       "70178  spotify:track:0W6I02J9xcqK8MtSeosEXb   2021-06-25  1592100   \n",
       "70179  spotify:track:58UKC45GPNTflCN6nwCUeF   2022-01-21  1590126   \n",
       "70180  spotify:track:0GNVXNz7Jkicfk2mp5OyG5   2022-07-08  1583302   \n",
       "70181  spotify:track:09mEdoA6zrmBPgTEN5qXmN   2018-03-30  1583235   \n",
       "70182  spotify:track:3YJJjQPAbDT7mGpX3WtQ9A   2020-12-25  1579212   \n",
       "\n",
       "              artist_names artist_individual  \\\n",
       "0           Olivia Rodrigo    Olivia Rodrigo   \n",
       "1                      SZA               SZA   \n",
       "2               The Weeknd        The Weeknd   \n",
       "3      24kGoldn, iann dior          24kGoldn   \n",
       "4      24kGoldn, iann dior         iann dior   \n",
       "...                    ...               ...   \n",
       "70178             Doja Cat          Doja Cat   \n",
       "70179         Walker Hayes      Walker Hayes   \n",
       "70180           Noah Kahan        Noah Kahan   \n",
       "70181           The Weeknd        The Weeknd   \n",
       "70182                  SZA               SZA   \n",
       "\n",
       "                                   artist_id               artist_genre  ...  \\\n",
       "0      spotify:artist:1McMsnEElThX1knmY4oliG                        pop  ...   \n",
       "1      spotify:artist:7tYKF4w9nC0nq9CsPZTHyP                        r&b  ...   \n",
       "2      spotify:artist:1Xyo4u8uXC1ZmMpatF05PJ  canadian contemporary r&b  ...   \n",
       "3      spotify:artist:6fWVd57NKTalqvmjRd2t8Z                   cali rap  ...   \n",
       "4      spotify:artist:6ASri4ePR7RlsvIQgWPJpS                melodic rap  ...   \n",
       "...                                      ...                        ...  ...   \n",
       "70178  spotify:artist:5cj0lLjcoR7YOSnhnX0Po5                  dance pop  ...   \n",
       "70179  spotify:artist:7sKxqpSqbIzphAKAhrqvlf        modern country rock  ...   \n",
       "70180  spotify:artist:2RQXRUsr4IW1f3mKyKsy4B                        pop  ...   \n",
       "70181  spotify:artist:1Xyo4u8uXC1ZmMpatF05PJ  canadian contemporary r&b  ...   \n",
       "70182  spotify:artist:7tYKF4w9nC0nq9CsPZTHyP                        r&b  ...   \n",
       "\n",
       "      mode  loudness  speechiness  acousticness  instrumentalness  liveness  \\\n",
       "0        1    -8.761       0.0601        0.7210          0.000013    0.1050   \n",
       "1        0    -8.370       0.0583        0.4990          0.000008    0.6880   \n",
       "2        1    -5.487       0.0309        0.0212          0.000012    0.5430   \n",
       "3        0    -3.558       0.0369        0.2210          0.000000    0.2720   \n",
       "4        0    -3.558       0.0369        0.2210          0.000000    0.2720   \n",
       "...    ...       ...          ...           ...               ...       ...   \n",
       "70178    0    -6.029       0.1620        0.3150          0.000034    0.0894   \n",
       "70179    1    -6.459       0.0600        0.1110          0.000000    0.3150   \n",
       "70180    1    -6.935       0.0651        0.7990          0.000000    0.0966   \n",
       "70181    1    -4.954       0.0356        0.1700          0.000000    0.3070   \n",
       "70182    0    -8.370       0.0583        0.4990          0.000008    0.6880   \n",
       "\n",
       "       valence    tempo  duration        country  \n",
       "0        0.132  143.874    242014         Canada  \n",
       "1        0.412  121.002    279204         Canada  \n",
       "2        0.644  118.051    215627         Canada  \n",
       "3        0.756   90.989    140526         Canada  \n",
       "4        0.756   90.989    140526         Canada  \n",
       "...        ...      ...       ...            ...  \n",
       "70178    0.793   91.942    138293  United States  \n",
       "70179    0.855   79.994    161853  United States  \n",
       "70180    0.801  117.896    182347  United States  \n",
       "70181    0.175  134.170    228373  United States  \n",
       "70182    0.412  121.002    279204  United States  \n",
       "\n",
       "[70183 rows x 24 columns]"
      ]
     },
     "execution_count": 5,
     "metadata": {},
     "output_type": "execute_result"
    }
   ],
   "source": [
    "charts"
   ]
  },
  {
   "cell_type": "markdown",
   "id": "add570c0",
   "metadata": {},
   "source": [
    "You may notice that some songs, like `'Mood (feat. iaan dior)'`, appear multiple times. This happens for a few reasons. For one, songs that appear on the top 200 for multiple weeks will have separate rows for each week. Furthermore, for each week that a song appears on the top 200, there will be a separate row for each artist included on that song. Notice that the `'artist_names'` column has **all** artists that collaborated on a song, and the `'artist_individual'` has just one. In addition, `charts` contains the top 200 for each week for each of the United States, Canada, and Mexico. There could be other reasons why a song might appear in multiple rows of `charts`, as well.\n",
    "\n",
    "In this first section of the project, we'll work towards understanding which rows of `charts` actually correspond to the same song."
   ]
  },
  {
   "cell_type": "markdown",
   "id": "ff5751f7",
   "metadata": {},
   "source": [
    "**Question 1.1.** For now, we'll think of a song as being defined by its `'uri'`. How many distinct `'uri'`s actually appear in this dataset? Store your answer in a variable called ```unique_uris```."
   ]
  },
  {
   "cell_type": "code",
   "execution_count": 6,
   "id": "70f50488",
   "metadata": {
    "scrolled": true
   },
   "outputs": [
    {
     "data": {
      "text/plain": [
       "2850"
      ]
     },
     "execution_count": 6,
     "metadata": {},
     "output_type": "execute_result"
    }
   ],
   "source": [
    "unique_uris = len(charts.get('uri').unique())\n",
    "unique_uris"
   ]
  },
  {
   "cell_type": "code",
   "execution_count": 7,
   "id": "f9cbe5d4",
   "metadata": {
    "deletable": false,
    "editable": false
   },
   "outputs": [
    {
     "data": {
      "text/html": [
       "<p><strong><pre style='display: inline;'>q1_1</pre></strong> passed!</p>"
      ],
      "text/plain": [
       "q1_1 results: All test cases passed!"
      ]
     },
     "execution_count": 7,
     "metadata": {},
     "output_type": "execute_result"
    }
   ],
   "source": [
    "grader.check(\"q1_1\")"
   ]
  },
  {
   "cell_type": "markdown",
   "id": "a3e2b282",
   "metadata": {},
   "source": [
    "Although the dataset has over 70,000 rows, it contains far fewer songs.\n",
    "\n",
    "It turns out that `'uri'` is not actually a unique indicator for each song. One song may appear on Spotify under various `'uri'`s if there are different versions of the song, such as an explicit version and a \"clean\" version, or a remix. Similarly, sometimes a song is released as a single, then as part of an album, and maybe years later as part of a \"best-of\" compilation album. \n",
    "\n",
    "**Question 1.2.** To illustrate this, let's look at the track named `'Astronaut In The Ocean'` by `'Masked Wolf'`. (You may be familiar with this song from TikTok – it starts with \"What you know about rollin' down in the deep?\") \n",
    "\n",
    "Set `astronaut_ocean_uris` to an array of all the unique `'uri'`s associated with the `'track_name'` `'Astronaut in the Ocean'`."
   ]
  },
  {
   "cell_type": "code",
   "execution_count": 8,
   "id": "a75c71e5",
   "metadata": {
    "scrolled": true
   },
   "outputs": [
    {
     "data": {
      "text/plain": [
       "array(['spotify:track:3Ofmpyhv5UAQ70mENzB277',\n",
       "       'spotify:track:3Ofmpyhv5UAQ70mENzB277',\n",
       "       'spotify:track:3VT8hOC5vuDXBsHrR53WFh',\n",
       "       'spotify:track:3VT8hOC5vuDXBsHrR53WFh',\n",
       "       'spotify:track:3VT8hOC5vuDXBsHrR53WFh',\n",
       "       'spotify:track:3VT8hOC5vuDXBsHrR53WFh',\n",
       "       'spotify:track:3VT8hOC5vuDXBsHrR53WFh',\n",
       "       'spotify:track:3VT8hOC5vuDXBsHrR53WFh',\n",
       "       'spotify:track:3VT8hOC5vuDXBsHrR53WFh',\n",
       "       'spotify:track:3VT8hOC5vuDXBsHrR53WFh',\n",
       "       'spotify:track:3VT8hOC5vuDXBsHrR53WFh',\n",
       "       'spotify:track:3VT8hOC5vuDXBsHrR53WFh',\n",
       "       'spotify:track:3VT8hOC5vuDXBsHrR53WFh',\n",
       "       'spotify:track:3VT8hOC5vuDXBsHrR53WFh',\n",
       "       'spotify:track:3VT8hOC5vuDXBsHrR53WFh',\n",
       "       'spotify:track:3VT8hOC5vuDXBsHrR53WFh',\n",
       "       'spotify:track:3VT8hOC5vuDXBsHrR53WFh',\n",
       "       'spotify:track:0BGwAKW4u8kWOhWFflZxfl',\n",
       "       'spotify:track:0BGwAKW4u8kWOhWFflZxfl',\n",
       "       'spotify:track:0BGwAKW4u8kWOhWFflZxfl',\n",
       "       'spotify:track:0BGwAKW4u8kWOhWFflZxfl',\n",
       "       'spotify:track:0BGwAKW4u8kWOhWFflZxfl',\n",
       "       'spotify:track:0BGwAKW4u8kWOhWFflZxfl',\n",
       "       'spotify:track:0BGwAKW4u8kWOhWFflZxfl',\n",
       "       'spotify:track:0BGwAKW4u8kWOhWFflZxfl',\n",
       "       'spotify:track:0BGwAKW4u8kWOhWFflZxfl',\n",
       "       'spotify:track:0BGwAKW4u8kWOhWFflZxfl',\n",
       "       'spotify:track:0BGwAKW4u8kWOhWFflZxfl',\n",
       "       'spotify:track:0BGwAKW4u8kWOhWFflZxfl',\n",
       "       'spotify:track:0BGwAKW4u8kWOhWFflZxfl',\n",
       "       'spotify:track:0BGwAKW4u8kWOhWFflZxfl',\n",
       "       'spotify:track:0BGwAKW4u8kWOhWFflZxfl',\n",
       "       'spotify:track:6E90gq0KO6FYZVOXx8kCcC',\n",
       "       'spotify:track:6E90gq0KO6FYZVOXx8kCcC',\n",
       "       'spotify:track:6E90gq0KO6FYZVOXx8kCcC',\n",
       "       'spotify:track:6E90gq0KO6FYZVOXx8kCcC',\n",
       "       'spotify:track:6E90gq0KO6FYZVOXx8kCcC',\n",
       "       'spotify:track:6E90gq0KO6FYZVOXx8kCcC',\n",
       "       'spotify:track:6E90gq0KO6FYZVOXx8kCcC',\n",
       "       'spotify:track:6E90gq0KO6FYZVOXx8kCcC',\n",
       "       'spotify:track:6E90gq0KO6FYZVOXx8kCcC',\n",
       "       'spotify:track:6E90gq0KO6FYZVOXx8kCcC',\n",
       "       'spotify:track:6E90gq0KO6FYZVOXx8kCcC',\n",
       "       'spotify:track:6E90gq0KO6FYZVOXx8kCcC',\n",
       "       'spotify:track:6E90gq0KO6FYZVOXx8kCcC',\n",
       "       'spotify:track:6E90gq0KO6FYZVOXx8kCcC',\n",
       "       'spotify:track:6E90gq0KO6FYZVOXx8kCcC',\n",
       "       'spotify:track:6E90gq0KO6FYZVOXx8kCcC',\n",
       "       'spotify:track:6E90gq0KO6FYZVOXx8kCcC',\n",
       "       'spotify:track:6E90gq0KO6FYZVOXx8kCcC',\n",
       "       'spotify:track:6E90gq0KO6FYZVOXx8kCcC',\n",
       "       'spotify:track:6E90gq0KO6FYZVOXx8kCcC',\n",
       "       'spotify:track:6E90gq0KO6FYZVOXx8kCcC',\n",
       "       'spotify:track:6E90gq0KO6FYZVOXx8kCcC',\n",
       "       'spotify:track:6E90gq0KO6FYZVOXx8kCcC',\n",
       "       'spotify:track:6E90gq0KO6FYZVOXx8kCcC',\n",
       "       'spotify:track:6E90gq0KO6FYZVOXx8kCcC',\n",
       "       'spotify:track:6E90gq0KO6FYZVOXx8kCcC',\n",
       "       'spotify:track:6E90gq0KO6FYZVOXx8kCcC',\n",
       "       'spotify:track:6E90gq0KO6FYZVOXx8kCcC',\n",
       "       'spotify:track:6E90gq0KO6FYZVOXx8kCcC',\n",
       "       'spotify:track:6E90gq0KO6FYZVOXx8kCcC',\n",
       "       'spotify:track:6E90gq0KO6FYZVOXx8kCcC',\n",
       "       'spotify:track:6E90gq0KO6FYZVOXx8kCcC',\n",
       "       'spotify:track:6E90gq0KO6FYZVOXx8kCcC',\n",
       "       'spotify:track:6E90gq0KO6FYZVOXx8kCcC',\n",
       "       'spotify:track:6E90gq0KO6FYZVOXx8kCcC',\n",
       "       'spotify:track:3VT8hOC5vuDXBsHrR53WFh',\n",
       "       'spotify:track:3VT8hOC5vuDXBsHrR53WFh',\n",
       "       'spotify:track:3VT8hOC5vuDXBsHrR53WFh',\n",
       "       'spotify:track:3VT8hOC5vuDXBsHrR53WFh',\n",
       "       'spotify:track:3VT8hOC5vuDXBsHrR53WFh',\n",
       "       'spotify:track:3VT8hOC5vuDXBsHrR53WFh',\n",
       "       'spotify:track:3VT8hOC5vuDXBsHrR53WFh',\n",
       "       'spotify:track:3VT8hOC5vuDXBsHrR53WFh',\n",
       "       'spotify:track:3VT8hOC5vuDXBsHrR53WFh',\n",
       "       'spotify:track:3VT8hOC5vuDXBsHrR53WFh',\n",
       "       'spotify:track:3VT8hOC5vuDXBsHrR53WFh',\n",
       "       'spotify:track:0BGwAKW4u8kWOhWFflZxfl',\n",
       "       'spotify:track:0BGwAKW4u8kWOhWFflZxfl',\n",
       "       'spotify:track:0BGwAKW4u8kWOhWFflZxfl',\n",
       "       'spotify:track:0BGwAKW4u8kWOhWFflZxfl',\n",
       "       'spotify:track:0BGwAKW4u8kWOhWFflZxfl',\n",
       "       'spotify:track:0BGwAKW4u8kWOhWFflZxfl',\n",
       "       'spotify:track:3Ofmpyhv5UAQ70mENzB277',\n",
       "       'spotify:track:3VT8hOC5vuDXBsHrR53WFh',\n",
       "       'spotify:track:3VT8hOC5vuDXBsHrR53WFh',\n",
       "       'spotify:track:3VT8hOC5vuDXBsHrR53WFh',\n",
       "       'spotify:track:3VT8hOC5vuDXBsHrR53WFh',\n",
       "       'spotify:track:3VT8hOC5vuDXBsHrR53WFh',\n",
       "       'spotify:track:3VT8hOC5vuDXBsHrR53WFh',\n",
       "       'spotify:track:3VT8hOC5vuDXBsHrR53WFh',\n",
       "       'spotify:track:3VT8hOC5vuDXBsHrR53WFh',\n",
       "       'spotify:track:3VT8hOC5vuDXBsHrR53WFh',\n",
       "       'spotify:track:3VT8hOC5vuDXBsHrR53WFh',\n",
       "       'spotify:track:3VT8hOC5vuDXBsHrR53WFh',\n",
       "       'spotify:track:3VT8hOC5vuDXBsHrR53WFh',\n",
       "       'spotify:track:3VT8hOC5vuDXBsHrR53WFh',\n",
       "       'spotify:track:3VT8hOC5vuDXBsHrR53WFh',\n",
       "       'spotify:track:3VT8hOC5vuDXBsHrR53WFh',\n",
       "       'spotify:track:0BGwAKW4u8kWOhWFflZxfl',\n",
       "       'spotify:track:0BGwAKW4u8kWOhWFflZxfl',\n",
       "       'spotify:track:0BGwAKW4u8kWOhWFflZxfl',\n",
       "       'spotify:track:0BGwAKW4u8kWOhWFflZxfl',\n",
       "       'spotify:track:0BGwAKW4u8kWOhWFflZxfl',\n",
       "       'spotify:track:0BGwAKW4u8kWOhWFflZxfl',\n",
       "       'spotify:track:0BGwAKW4u8kWOhWFflZxfl',\n",
       "       'spotify:track:0BGwAKW4u8kWOhWFflZxfl',\n",
       "       'spotify:track:0BGwAKW4u8kWOhWFflZxfl',\n",
       "       'spotify:track:0BGwAKW4u8kWOhWFflZxfl',\n",
       "       'spotify:track:0BGwAKW4u8kWOhWFflZxfl',\n",
       "       'spotify:track:0BGwAKW4u8kWOhWFflZxfl',\n",
       "       'spotify:track:0BGwAKW4u8kWOhWFflZxfl',\n",
       "       'spotify:track:0BGwAKW4u8kWOhWFflZxfl',\n",
       "       'spotify:track:0BGwAKW4u8kWOhWFflZxfl',\n",
       "       'spotify:track:6E90gq0KO6FYZVOXx8kCcC',\n",
       "       'spotify:track:6E90gq0KO6FYZVOXx8kCcC',\n",
       "       'spotify:track:6E90gq0KO6FYZVOXx8kCcC',\n",
       "       'spotify:track:6E90gq0KO6FYZVOXx8kCcC',\n",
       "       'spotify:track:6E90gq0KO6FYZVOXx8kCcC',\n",
       "       'spotify:track:6E90gq0KO6FYZVOXx8kCcC',\n",
       "       'spotify:track:6E90gq0KO6FYZVOXx8kCcC',\n",
       "       'spotify:track:6E90gq0KO6FYZVOXx8kCcC',\n",
       "       'spotify:track:6E90gq0KO6FYZVOXx8kCcC',\n",
       "       'spotify:track:6E90gq0KO6FYZVOXx8kCcC',\n",
       "       'spotify:track:6E90gq0KO6FYZVOXx8kCcC'], dtype=object)"
      ]
     },
     "execution_count": 8,
     "metadata": {},
     "output_type": "execute_result"
    }
   ],
   "source": [
    "# get array of all uris where track_name == 'Astronaut In The Ocean'\n",
    "astronaut_ocean_uris = np.array(charts[charts.get('track_name') == 'Astronaut In The Ocean'].get('uri'))\n",
    "astronaut_ocean_uris"
   ]
  },
  {
   "cell_type": "code",
   "execution_count": 9,
   "id": "40e9c408",
   "metadata": {
    "deletable": false,
    "editable": false
   },
   "outputs": [
    {
     "data": {
      "text/html": [
       "<p><strong><pre style='display: inline;'>q1_2</pre></strong> passed!</p>"
      ],
      "text/plain": [
       "q1_2 results: All test cases passed!"
      ]
     },
     "execution_count": 9,
     "metadata": {},
     "output_type": "execute_result"
    }
   ],
   "source": [
    "grader.check(\"q1_2\")"
   ]
  },
  {
   "cell_type": "markdown",
   "id": "d0ae379e",
   "metadata": {},
   "source": [
    "As we saw in the data description section, to play a song in our notebook, we call the function `play_spotify` on the song's `'uri'`. For example, the next cell plays a random song."
   ]
  },
  {
   "cell_type": "code",
   "execution_count": 10,
   "id": "13bfe7d1",
   "metadata": {},
   "outputs": [
    {
     "data": {
      "text/html": [
       "\n",
       "        <iframe\n",
       "            width=\"400\"\n",
       "            height=\"75\"\n",
       "            src=\"https://open.spotify.com/embed/track/1rdkLyIU3b9LTX1a6RrP5M\"\n",
       "            frameborder=\"0\"\n",
       "            allowfullscreen\n",
       "        ></iframe>\n",
       "        "
      ],
      "text/plain": [
       "<IPython.lib.display.IFrame at 0x7f0cbe114370>"
      ]
     },
     "metadata": {},
     "output_type": "display_data"
    }
   ],
   "source": [
    "random_uri = np.random.choice(charts.get('uri')) # This line randomly selects a uri.\n",
    "play_spotify(random_uri) # This line plays the song with that uri."
   ]
  },
  {
   "cell_type": "markdown",
   "id": "1e025c29",
   "metadata": {},
   "source": [
    "**Question 1.3.** Loop through all the `'uri'`s in `astronaut_ocean_uris` and play each song. Since you're using a loop, you should only have to call the function `play_spotify` one time! "
   ]
  },
  {
   "cell_type": "markdown",
   "id": "af0ff298",
   "metadata": {
    "deletable": false,
    "editable": false
   },
   "source": [
    "<!-- BEGIN QUESTION -->\n",
    "\n",
    "<!--\n",
    "BEGIN QUESTION\n",
    "name: q1_3\n",
    "manual: true\n",
    "points: 1\n",
    "-->"
   ]
  },
  {
   "cell_type": "code",
   "execution_count": 11,
   "id": "d47c9389",
   "metadata": {},
   "outputs": [
    {
     "data": {
      "text/html": [
       "\n",
       "        <iframe\n",
       "            width=\"400\"\n",
       "            height=\"75\"\n",
       "            src=\"https://open.spotify.com/embed/track/3Ofmpyhv5UAQ70mENzB277\"\n",
       "            frameborder=\"0\"\n",
       "            allowfullscreen\n",
       "        ></iframe>\n",
       "        "
      ],
      "text/plain": [
       "<IPython.lib.display.IFrame at 0x7f0cb910f700>"
      ]
     },
     "metadata": {},
     "output_type": "display_data"
    },
    {
     "data": {
      "text/html": [
       "\n",
       "        <iframe\n",
       "            width=\"400\"\n",
       "            height=\"75\"\n",
       "            src=\"https://open.spotify.com/embed/track/3Ofmpyhv5UAQ70mENzB277\"\n",
       "            frameborder=\"0\"\n",
       "            allowfullscreen\n",
       "        ></iframe>\n",
       "        "
      ],
      "text/plain": [
       "<IPython.lib.display.IFrame at 0x7f0cb910f700>"
      ]
     },
     "metadata": {},
     "output_type": "display_data"
    },
    {
     "data": {
      "text/html": [
       "\n",
       "        <iframe\n",
       "            width=\"400\"\n",
       "            height=\"75\"\n",
       "            src=\"https://open.spotify.com/embed/track/3VT8hOC5vuDXBsHrR53WFh\"\n",
       "            frameborder=\"0\"\n",
       "            allowfullscreen\n",
       "        ></iframe>\n",
       "        "
      ],
      "text/plain": [
       "<IPython.lib.display.IFrame at 0x7f0cb910f700>"
      ]
     },
     "metadata": {},
     "output_type": "display_data"
    },
    {
     "data": {
      "text/html": [
       "\n",
       "        <iframe\n",
       "            width=\"400\"\n",
       "            height=\"75\"\n",
       "            src=\"https://open.spotify.com/embed/track/3VT8hOC5vuDXBsHrR53WFh\"\n",
       "            frameborder=\"0\"\n",
       "            allowfullscreen\n",
       "        ></iframe>\n",
       "        "
      ],
      "text/plain": [
       "<IPython.lib.display.IFrame at 0x7f0cb910d3a0>"
      ]
     },
     "metadata": {},
     "output_type": "display_data"
    },
    {
     "data": {
      "text/html": [
       "\n",
       "        <iframe\n",
       "            width=\"400\"\n",
       "            height=\"75\"\n",
       "            src=\"https://open.spotify.com/embed/track/3VT8hOC5vuDXBsHrR53WFh\"\n",
       "            frameborder=\"0\"\n",
       "            allowfullscreen\n",
       "        ></iframe>\n",
       "        "
      ],
      "text/plain": [
       "<IPython.lib.display.IFrame at 0x7f0cb910d3a0>"
      ]
     },
     "metadata": {},
     "output_type": "display_data"
    },
    {
     "data": {
      "text/html": [
       "\n",
       "        <iframe\n",
       "            width=\"400\"\n",
       "            height=\"75\"\n",
       "            src=\"https://open.spotify.com/embed/track/3VT8hOC5vuDXBsHrR53WFh\"\n",
       "            frameborder=\"0\"\n",
       "            allowfullscreen\n",
       "        ></iframe>\n",
       "        "
      ],
      "text/plain": [
       "<IPython.lib.display.IFrame at 0x7f0cb910d3a0>"
      ]
     },
     "metadata": {},
     "output_type": "display_data"
    },
    {
     "data": {
      "text/html": [
       "\n",
       "        <iframe\n",
       "            width=\"400\"\n",
       "            height=\"75\"\n",
       "            src=\"https://open.spotify.com/embed/track/3VT8hOC5vuDXBsHrR53WFh\"\n",
       "            frameborder=\"0\"\n",
       "            allowfullscreen\n",
       "        ></iframe>\n",
       "        "
      ],
      "text/plain": [
       "<IPython.lib.display.IFrame at 0x7f0cb910d3a0>"
      ]
     },
     "metadata": {},
     "output_type": "display_data"
    },
    {
     "data": {
      "text/html": [
       "\n",
       "        <iframe\n",
       "            width=\"400\"\n",
       "            height=\"75\"\n",
       "            src=\"https://open.spotify.com/embed/track/3VT8hOC5vuDXBsHrR53WFh\"\n",
       "            frameborder=\"0\"\n",
       "            allowfullscreen\n",
       "        ></iframe>\n",
       "        "
      ],
      "text/plain": [
       "<IPython.lib.display.IFrame at 0x7f0cb9117700>"
      ]
     },
     "metadata": {},
     "output_type": "display_data"
    },
    {
     "data": {
      "text/html": [
       "\n",
       "        <iframe\n",
       "            width=\"400\"\n",
       "            height=\"75\"\n",
       "            src=\"https://open.spotify.com/embed/track/3VT8hOC5vuDXBsHrR53WFh\"\n",
       "            frameborder=\"0\"\n",
       "            allowfullscreen\n",
       "        ></iframe>\n",
       "        "
      ],
      "text/plain": [
       "<IPython.lib.display.IFrame at 0x7f0cb9117700>"
      ]
     },
     "metadata": {},
     "output_type": "display_data"
    },
    {
     "data": {
      "text/html": [
       "\n",
       "        <iframe\n",
       "            width=\"400\"\n",
       "            height=\"75\"\n",
       "            src=\"https://open.spotify.com/embed/track/3VT8hOC5vuDXBsHrR53WFh\"\n",
       "            frameborder=\"0\"\n",
       "            allowfullscreen\n",
       "        ></iframe>\n",
       "        "
      ],
      "text/plain": [
       "<IPython.lib.display.IFrame at 0x7f0cb9117700>"
      ]
     },
     "metadata": {},
     "output_type": "display_data"
    },
    {
     "data": {
      "text/html": [
       "\n",
       "        <iframe\n",
       "            width=\"400\"\n",
       "            height=\"75\"\n",
       "            src=\"https://open.spotify.com/embed/track/3VT8hOC5vuDXBsHrR53WFh\"\n",
       "            frameborder=\"0\"\n",
       "            allowfullscreen\n",
       "        ></iframe>\n",
       "        "
      ],
      "text/plain": [
       "<IPython.lib.display.IFrame at 0x7f0cb9117700>"
      ]
     },
     "metadata": {},
     "output_type": "display_data"
    },
    {
     "data": {
      "text/html": [
       "\n",
       "        <iframe\n",
       "            width=\"400\"\n",
       "            height=\"75\"\n",
       "            src=\"https://open.spotify.com/embed/track/3VT8hOC5vuDXBsHrR53WFh\"\n",
       "            frameborder=\"0\"\n",
       "            allowfullscreen\n",
       "        ></iframe>\n",
       "        "
      ],
      "text/plain": [
       "<IPython.lib.display.IFrame at 0x7f0cb910d2b0>"
      ]
     },
     "metadata": {},
     "output_type": "display_data"
    },
    {
     "data": {
      "text/html": [
       "\n",
       "        <iframe\n",
       "            width=\"400\"\n",
       "            height=\"75\"\n",
       "            src=\"https://open.spotify.com/embed/track/3VT8hOC5vuDXBsHrR53WFh\"\n",
       "            frameborder=\"0\"\n",
       "            allowfullscreen\n",
       "        ></iframe>\n",
       "        "
      ],
      "text/plain": [
       "<IPython.lib.display.IFrame at 0x7f0cb910d2b0>"
      ]
     },
     "metadata": {},
     "output_type": "display_data"
    },
    {
     "data": {
      "text/html": [
       "\n",
       "        <iframe\n",
       "            width=\"400\"\n",
       "            height=\"75\"\n",
       "            src=\"https://open.spotify.com/embed/track/3VT8hOC5vuDXBsHrR53WFh\"\n",
       "            frameborder=\"0\"\n",
       "            allowfullscreen\n",
       "        ></iframe>\n",
       "        "
      ],
      "text/plain": [
       "<IPython.lib.display.IFrame at 0x7f0cb910d2b0>"
      ]
     },
     "metadata": {},
     "output_type": "display_data"
    },
    {
     "data": {
      "text/html": [
       "\n",
       "        <iframe\n",
       "            width=\"400\"\n",
       "            height=\"75\"\n",
       "            src=\"https://open.spotify.com/embed/track/3VT8hOC5vuDXBsHrR53WFh\"\n",
       "            frameborder=\"0\"\n",
       "            allowfullscreen\n",
       "        ></iframe>\n",
       "        "
      ],
      "text/plain": [
       "<IPython.lib.display.IFrame at 0x7f0cb910d2b0>"
      ]
     },
     "metadata": {},
     "output_type": "display_data"
    },
    {
     "data": {
      "text/html": [
       "\n",
       "        <iframe\n",
       "            width=\"400\"\n",
       "            height=\"75\"\n",
       "            src=\"https://open.spotify.com/embed/track/3VT8hOC5vuDXBsHrR53WFh\"\n",
       "            frameborder=\"0\"\n",
       "            allowfullscreen\n",
       "        ></iframe>\n",
       "        "
      ],
      "text/plain": [
       "<IPython.lib.display.IFrame at 0x7f0cb91174f0>"
      ]
     },
     "metadata": {},
     "output_type": "display_data"
    },
    {
     "data": {
      "text/html": [
       "\n",
       "        <iframe\n",
       "            width=\"400\"\n",
       "            height=\"75\"\n",
       "            src=\"https://open.spotify.com/embed/track/3VT8hOC5vuDXBsHrR53WFh\"\n",
       "            frameborder=\"0\"\n",
       "            allowfullscreen\n",
       "        ></iframe>\n",
       "        "
      ],
      "text/plain": [
       "<IPython.lib.display.IFrame at 0x7f0cb91174f0>"
      ]
     },
     "metadata": {},
     "output_type": "display_data"
    },
    {
     "data": {
      "text/html": [
       "\n",
       "        <iframe\n",
       "            width=\"400\"\n",
       "            height=\"75\"\n",
       "            src=\"https://open.spotify.com/embed/track/0BGwAKW4u8kWOhWFflZxfl\"\n",
       "            frameborder=\"0\"\n",
       "            allowfullscreen\n",
       "        ></iframe>\n",
       "        "
      ],
      "text/plain": [
       "<IPython.lib.display.IFrame at 0x7f0cb91174f0>"
      ]
     },
     "metadata": {},
     "output_type": "display_data"
    },
    {
     "data": {
      "text/html": [
       "\n",
       "        <iframe\n",
       "            width=\"400\"\n",
       "            height=\"75\"\n",
       "            src=\"https://open.spotify.com/embed/track/0BGwAKW4u8kWOhWFflZxfl\"\n",
       "            frameborder=\"0\"\n",
       "            allowfullscreen\n",
       "        ></iframe>\n",
       "        "
      ],
      "text/plain": [
       "<IPython.lib.display.IFrame at 0x7f0cb91174f0>"
      ]
     },
     "metadata": {},
     "output_type": "display_data"
    },
    {
     "data": {
      "text/html": [
       "\n",
       "        <iframe\n",
       "            width=\"400\"\n",
       "            height=\"75\"\n",
       "            src=\"https://open.spotify.com/embed/track/0BGwAKW4u8kWOhWFflZxfl\"\n",
       "            frameborder=\"0\"\n",
       "            allowfullscreen\n",
       "        ></iframe>\n",
       "        "
      ],
      "text/plain": [
       "<IPython.lib.display.IFrame at 0x7f0cb910da00>"
      ]
     },
     "metadata": {},
     "output_type": "display_data"
    },
    {
     "data": {
      "text/html": [
       "\n",
       "        <iframe\n",
       "            width=\"400\"\n",
       "            height=\"75\"\n",
       "            src=\"https://open.spotify.com/embed/track/0BGwAKW4u8kWOhWFflZxfl\"\n",
       "            frameborder=\"0\"\n",
       "            allowfullscreen\n",
       "        ></iframe>\n",
       "        "
      ],
      "text/plain": [
       "<IPython.lib.display.IFrame at 0x7f0cb910da00>"
      ]
     },
     "metadata": {},
     "output_type": "display_data"
    },
    {
     "data": {
      "text/html": [
       "\n",
       "        <iframe\n",
       "            width=\"400\"\n",
       "            height=\"75\"\n",
       "            src=\"https://open.spotify.com/embed/track/0BGwAKW4u8kWOhWFflZxfl\"\n",
       "            frameborder=\"0\"\n",
       "            allowfullscreen\n",
       "        ></iframe>\n",
       "        "
      ],
      "text/plain": [
       "<IPython.lib.display.IFrame at 0x7f0cb910da00>"
      ]
     },
     "metadata": {},
     "output_type": "display_data"
    },
    {
     "data": {
      "text/html": [
       "\n",
       "        <iframe\n",
       "            width=\"400\"\n",
       "            height=\"75\"\n",
       "            src=\"https://open.spotify.com/embed/track/0BGwAKW4u8kWOhWFflZxfl\"\n",
       "            frameborder=\"0\"\n",
       "            allowfullscreen\n",
       "        ></iframe>\n",
       "        "
      ],
      "text/plain": [
       "<IPython.lib.display.IFrame at 0x7f0cb910da00>"
      ]
     },
     "metadata": {},
     "output_type": "display_data"
    },
    {
     "data": {
      "text/html": [
       "\n",
       "        <iframe\n",
       "            width=\"400\"\n",
       "            height=\"75\"\n",
       "            src=\"https://open.spotify.com/embed/track/0BGwAKW4u8kWOhWFflZxfl\"\n",
       "            frameborder=\"0\"\n",
       "            allowfullscreen\n",
       "        ></iframe>\n",
       "        "
      ],
      "text/plain": [
       "<IPython.lib.display.IFrame at 0x7f0cb9117820>"
      ]
     },
     "metadata": {},
     "output_type": "display_data"
    },
    {
     "data": {
      "text/html": [
       "\n",
       "        <iframe\n",
       "            width=\"400\"\n",
       "            height=\"75\"\n",
       "            src=\"https://open.spotify.com/embed/track/0BGwAKW4u8kWOhWFflZxfl\"\n",
       "            frameborder=\"0\"\n",
       "            allowfullscreen\n",
       "        ></iframe>\n",
       "        "
      ],
      "text/plain": [
       "<IPython.lib.display.IFrame at 0x7f0cb9117820>"
      ]
     },
     "metadata": {},
     "output_type": "display_data"
    },
    {
     "data": {
      "text/html": [
       "\n",
       "        <iframe\n",
       "            width=\"400\"\n",
       "            height=\"75\"\n",
       "            src=\"https://open.spotify.com/embed/track/0BGwAKW4u8kWOhWFflZxfl\"\n",
       "            frameborder=\"0\"\n",
       "            allowfullscreen\n",
       "        ></iframe>\n",
       "        "
      ],
      "text/plain": [
       "<IPython.lib.display.IFrame at 0x7f0cb9117820>"
      ]
     },
     "metadata": {},
     "output_type": "display_data"
    },
    {
     "data": {
      "text/html": [
       "\n",
       "        <iframe\n",
       "            width=\"400\"\n",
       "            height=\"75\"\n",
       "            src=\"https://open.spotify.com/embed/track/0BGwAKW4u8kWOhWFflZxfl\"\n",
       "            frameborder=\"0\"\n",
       "            allowfullscreen\n",
       "        ></iframe>\n",
       "        "
      ],
      "text/plain": [
       "<IPython.lib.display.IFrame at 0x7f0cb9117820>"
      ]
     },
     "metadata": {},
     "output_type": "display_data"
    },
    {
     "data": {
      "text/html": [
       "\n",
       "        <iframe\n",
       "            width=\"400\"\n",
       "            height=\"75\"\n",
       "            src=\"https://open.spotify.com/embed/track/0BGwAKW4u8kWOhWFflZxfl\"\n",
       "            frameborder=\"0\"\n",
       "            allowfullscreen\n",
       "        ></iframe>\n",
       "        "
      ],
      "text/plain": [
       "<IPython.lib.display.IFrame at 0x7f0cbec9e5e0>"
      ]
     },
     "metadata": {},
     "output_type": "display_data"
    },
    {
     "data": {
      "text/html": [
       "\n",
       "        <iframe\n",
       "            width=\"400\"\n",
       "            height=\"75\"\n",
       "            src=\"https://open.spotify.com/embed/track/0BGwAKW4u8kWOhWFflZxfl\"\n",
       "            frameborder=\"0\"\n",
       "            allowfullscreen\n",
       "        ></iframe>\n",
       "        "
      ],
      "text/plain": [
       "<IPython.lib.display.IFrame at 0x7f0cbec9e5e0>"
      ]
     },
     "metadata": {},
     "output_type": "display_data"
    },
    {
     "data": {
      "text/html": [
       "\n",
       "        <iframe\n",
       "            width=\"400\"\n",
       "            height=\"75\"\n",
       "            src=\"https://open.spotify.com/embed/track/0BGwAKW4u8kWOhWFflZxfl\"\n",
       "            frameborder=\"0\"\n",
       "            allowfullscreen\n",
       "        ></iframe>\n",
       "        "
      ],
      "text/plain": [
       "<IPython.lib.display.IFrame at 0x7f0cbec9e5e0>"
      ]
     },
     "metadata": {},
     "output_type": "display_data"
    },
    {
     "data": {
      "text/html": [
       "\n",
       "        <iframe\n",
       "            width=\"400\"\n",
       "            height=\"75\"\n",
       "            src=\"https://open.spotify.com/embed/track/0BGwAKW4u8kWOhWFflZxfl\"\n",
       "            frameborder=\"0\"\n",
       "            allowfullscreen\n",
       "        ></iframe>\n",
       "        "
      ],
      "text/plain": [
       "<IPython.lib.display.IFrame at 0x7f0cbec9e5e0>"
      ]
     },
     "metadata": {},
     "output_type": "display_data"
    },
    {
     "data": {
      "text/html": [
       "\n",
       "        <iframe\n",
       "            width=\"400\"\n",
       "            height=\"75\"\n",
       "            src=\"https://open.spotify.com/embed/track/0BGwAKW4u8kWOhWFflZxfl\"\n",
       "            frameborder=\"0\"\n",
       "            allowfullscreen\n",
       "        ></iframe>\n",
       "        "
      ],
      "text/plain": [
       "<IPython.lib.display.IFrame at 0x7f0cbec9e5e0>"
      ]
     },
     "metadata": {},
     "output_type": "display_data"
    },
    {
     "data": {
      "text/html": [
       "\n",
       "        <iframe\n",
       "            width=\"400\"\n",
       "            height=\"75\"\n",
       "            src=\"https://open.spotify.com/embed/track/6E90gq0KO6FYZVOXx8kCcC\"\n",
       "            frameborder=\"0\"\n",
       "            allowfullscreen\n",
       "        ></iframe>\n",
       "        "
      ],
      "text/plain": [
       "<IPython.lib.display.IFrame at 0x7f0cbec9e5e0>"
      ]
     },
     "metadata": {},
     "output_type": "display_data"
    },
    {
     "data": {
      "text/html": [
       "\n",
       "        <iframe\n",
       "            width=\"400\"\n",
       "            height=\"75\"\n",
       "            src=\"https://open.spotify.com/embed/track/6E90gq0KO6FYZVOXx8kCcC\"\n",
       "            frameborder=\"0\"\n",
       "            allowfullscreen\n",
       "        ></iframe>\n",
       "        "
      ],
      "text/plain": [
       "<IPython.lib.display.IFrame at 0x7f0cbec9e5e0>"
      ]
     },
     "metadata": {},
     "output_type": "display_data"
    },
    {
     "data": {
      "text/html": [
       "\n",
       "        <iframe\n",
       "            width=\"400\"\n",
       "            height=\"75\"\n",
       "            src=\"https://open.spotify.com/embed/track/6E90gq0KO6FYZVOXx8kCcC\"\n",
       "            frameborder=\"0\"\n",
       "            allowfullscreen\n",
       "        ></iframe>\n",
       "        "
      ],
      "text/plain": [
       "<IPython.lib.display.IFrame at 0x7f0cbec9e5e0>"
      ]
     },
     "metadata": {},
     "output_type": "display_data"
    },
    {
     "data": {
      "text/html": [
       "\n",
       "        <iframe\n",
       "            width=\"400\"\n",
       "            height=\"75\"\n",
       "            src=\"https://open.spotify.com/embed/track/6E90gq0KO6FYZVOXx8kCcC\"\n",
       "            frameborder=\"0\"\n",
       "            allowfullscreen\n",
       "        ></iframe>\n",
       "        "
      ],
      "text/plain": [
       "<IPython.lib.display.IFrame at 0x7f0cbec9e5e0>"
      ]
     },
     "metadata": {},
     "output_type": "display_data"
    },
    {
     "data": {
      "text/html": [
       "\n",
       "        <iframe\n",
       "            width=\"400\"\n",
       "            height=\"75\"\n",
       "            src=\"https://open.spotify.com/embed/track/6E90gq0KO6FYZVOXx8kCcC\"\n",
       "            frameborder=\"0\"\n",
       "            allowfullscreen\n",
       "        ></iframe>\n",
       "        "
      ],
      "text/plain": [
       "<IPython.lib.display.IFrame at 0x7f0cbec9e5e0>"
      ]
     },
     "metadata": {},
     "output_type": "display_data"
    },
    {
     "data": {
      "text/html": [
       "\n",
       "        <iframe\n",
       "            width=\"400\"\n",
       "            height=\"75\"\n",
       "            src=\"https://open.spotify.com/embed/track/6E90gq0KO6FYZVOXx8kCcC\"\n",
       "            frameborder=\"0\"\n",
       "            allowfullscreen\n",
       "        ></iframe>\n",
       "        "
      ],
      "text/plain": [
       "<IPython.lib.display.IFrame at 0x7f0cbec9e5e0>"
      ]
     },
     "metadata": {},
     "output_type": "display_data"
    },
    {
     "data": {
      "text/html": [
       "\n",
       "        <iframe\n",
       "            width=\"400\"\n",
       "            height=\"75\"\n",
       "            src=\"https://open.spotify.com/embed/track/6E90gq0KO6FYZVOXx8kCcC\"\n",
       "            frameborder=\"0\"\n",
       "            allowfullscreen\n",
       "        ></iframe>\n",
       "        "
      ],
      "text/plain": [
       "<IPython.lib.display.IFrame at 0x7f0cbec9e5e0>"
      ]
     },
     "metadata": {},
     "output_type": "display_data"
    },
    {
     "data": {
      "text/html": [
       "\n",
       "        <iframe\n",
       "            width=\"400\"\n",
       "            height=\"75\"\n",
       "            src=\"https://open.spotify.com/embed/track/6E90gq0KO6FYZVOXx8kCcC\"\n",
       "            frameborder=\"0\"\n",
       "            allowfullscreen\n",
       "        ></iframe>\n",
       "        "
      ],
      "text/plain": [
       "<IPython.lib.display.IFrame at 0x7f0cbec9e5e0>"
      ]
     },
     "metadata": {},
     "output_type": "display_data"
    },
    {
     "data": {
      "text/html": [
       "\n",
       "        <iframe\n",
       "            width=\"400\"\n",
       "            height=\"75\"\n",
       "            src=\"https://open.spotify.com/embed/track/6E90gq0KO6FYZVOXx8kCcC\"\n",
       "            frameborder=\"0\"\n",
       "            allowfullscreen\n",
       "        ></iframe>\n",
       "        "
      ],
      "text/plain": [
       "<IPython.lib.display.IFrame at 0x7f0cbec9e5e0>"
      ]
     },
     "metadata": {},
     "output_type": "display_data"
    },
    {
     "data": {
      "text/html": [
       "\n",
       "        <iframe\n",
       "            width=\"400\"\n",
       "            height=\"75\"\n",
       "            src=\"https://open.spotify.com/embed/track/6E90gq0KO6FYZVOXx8kCcC\"\n",
       "            frameborder=\"0\"\n",
       "            allowfullscreen\n",
       "        ></iframe>\n",
       "        "
      ],
      "text/plain": [
       "<IPython.lib.display.IFrame at 0x7f0cbec9e5e0>"
      ]
     },
     "metadata": {},
     "output_type": "display_data"
    },
    {
     "data": {
      "text/html": [
       "\n",
       "        <iframe\n",
       "            width=\"400\"\n",
       "            height=\"75\"\n",
       "            src=\"https://open.spotify.com/embed/track/6E90gq0KO6FYZVOXx8kCcC\"\n",
       "            frameborder=\"0\"\n",
       "            allowfullscreen\n",
       "        ></iframe>\n",
       "        "
      ],
      "text/plain": [
       "<IPython.lib.display.IFrame at 0x7f0cbec9e5e0>"
      ]
     },
     "metadata": {},
     "output_type": "display_data"
    },
    {
     "data": {
      "text/html": [
       "\n",
       "        <iframe\n",
       "            width=\"400\"\n",
       "            height=\"75\"\n",
       "            src=\"https://open.spotify.com/embed/track/6E90gq0KO6FYZVOXx8kCcC\"\n",
       "            frameborder=\"0\"\n",
       "            allowfullscreen\n",
       "        ></iframe>\n",
       "        "
      ],
      "text/plain": [
       "<IPython.lib.display.IFrame at 0x7f0cbec9e5e0>"
      ]
     },
     "metadata": {},
     "output_type": "display_data"
    },
    {
     "data": {
      "text/html": [
       "\n",
       "        <iframe\n",
       "            width=\"400\"\n",
       "            height=\"75\"\n",
       "            src=\"https://open.spotify.com/embed/track/6E90gq0KO6FYZVOXx8kCcC\"\n",
       "            frameborder=\"0\"\n",
       "            allowfullscreen\n",
       "        ></iframe>\n",
       "        "
      ],
      "text/plain": [
       "<IPython.lib.display.IFrame at 0x7f0cbec9e5e0>"
      ]
     },
     "metadata": {},
     "output_type": "display_data"
    },
    {
     "data": {
      "text/html": [
       "\n",
       "        <iframe\n",
       "            width=\"400\"\n",
       "            height=\"75\"\n",
       "            src=\"https://open.spotify.com/embed/track/6E90gq0KO6FYZVOXx8kCcC\"\n",
       "            frameborder=\"0\"\n",
       "            allowfullscreen\n",
       "        ></iframe>\n",
       "        "
      ],
      "text/plain": [
       "<IPython.lib.display.IFrame at 0x7f0cbec9e5e0>"
      ]
     },
     "metadata": {},
     "output_type": "display_data"
    },
    {
     "data": {
      "text/html": [
       "\n",
       "        <iframe\n",
       "            width=\"400\"\n",
       "            height=\"75\"\n",
       "            src=\"https://open.spotify.com/embed/track/6E90gq0KO6FYZVOXx8kCcC\"\n",
       "            frameborder=\"0\"\n",
       "            allowfullscreen\n",
       "        ></iframe>\n",
       "        "
      ],
      "text/plain": [
       "<IPython.lib.display.IFrame at 0x7f0cbec9e5e0>"
      ]
     },
     "metadata": {},
     "output_type": "display_data"
    },
    {
     "data": {
      "text/html": [
       "\n",
       "        <iframe\n",
       "            width=\"400\"\n",
       "            height=\"75\"\n",
       "            src=\"https://open.spotify.com/embed/track/6E90gq0KO6FYZVOXx8kCcC\"\n",
       "            frameborder=\"0\"\n",
       "            allowfullscreen\n",
       "        ></iframe>\n",
       "        "
      ],
      "text/plain": [
       "<IPython.lib.display.IFrame at 0x7f0cbec9e5e0>"
      ]
     },
     "metadata": {},
     "output_type": "display_data"
    },
    {
     "data": {
      "text/html": [
       "\n",
       "        <iframe\n",
       "            width=\"400\"\n",
       "            height=\"75\"\n",
       "            src=\"https://open.spotify.com/embed/track/6E90gq0KO6FYZVOXx8kCcC\"\n",
       "            frameborder=\"0\"\n",
       "            allowfullscreen\n",
       "        ></iframe>\n",
       "        "
      ],
      "text/plain": [
       "<IPython.lib.display.IFrame at 0x7f0cbec9e5e0>"
      ]
     },
     "metadata": {},
     "output_type": "display_data"
    },
    {
     "data": {
      "text/html": [
       "\n",
       "        <iframe\n",
       "            width=\"400\"\n",
       "            height=\"75\"\n",
       "            src=\"https://open.spotify.com/embed/track/6E90gq0KO6FYZVOXx8kCcC\"\n",
       "            frameborder=\"0\"\n",
       "            allowfullscreen\n",
       "        ></iframe>\n",
       "        "
      ],
      "text/plain": [
       "<IPython.lib.display.IFrame at 0x7f0cbec9e5e0>"
      ]
     },
     "metadata": {},
     "output_type": "display_data"
    },
    {
     "data": {
      "text/html": [
       "\n",
       "        <iframe\n",
       "            width=\"400\"\n",
       "            height=\"75\"\n",
       "            src=\"https://open.spotify.com/embed/track/6E90gq0KO6FYZVOXx8kCcC\"\n",
       "            frameborder=\"0\"\n",
       "            allowfullscreen\n",
       "        ></iframe>\n",
       "        "
      ],
      "text/plain": [
       "<IPython.lib.display.IFrame at 0x7f0cbec9e5e0>"
      ]
     },
     "metadata": {},
     "output_type": "display_data"
    },
    {
     "data": {
      "text/html": [
       "\n",
       "        <iframe\n",
       "            width=\"400\"\n",
       "            height=\"75\"\n",
       "            src=\"https://open.spotify.com/embed/track/6E90gq0KO6FYZVOXx8kCcC\"\n",
       "            frameborder=\"0\"\n",
       "            allowfullscreen\n",
       "        ></iframe>\n",
       "        "
      ],
      "text/plain": [
       "<IPython.lib.display.IFrame at 0x7f0cbec9e5e0>"
      ]
     },
     "metadata": {},
     "output_type": "display_data"
    },
    {
     "data": {
      "text/html": [
       "\n",
       "        <iframe\n",
       "            width=\"400\"\n",
       "            height=\"75\"\n",
       "            src=\"https://open.spotify.com/embed/track/6E90gq0KO6FYZVOXx8kCcC\"\n",
       "            frameborder=\"0\"\n",
       "            allowfullscreen\n",
       "        ></iframe>\n",
       "        "
      ],
      "text/plain": [
       "<IPython.lib.display.IFrame at 0x7f0cbec9e5e0>"
      ]
     },
     "metadata": {},
     "output_type": "display_data"
    },
    {
     "data": {
      "text/html": [
       "\n",
       "        <iframe\n",
       "            width=\"400\"\n",
       "            height=\"75\"\n",
       "            src=\"https://open.spotify.com/embed/track/6E90gq0KO6FYZVOXx8kCcC\"\n",
       "            frameborder=\"0\"\n",
       "            allowfullscreen\n",
       "        ></iframe>\n",
       "        "
      ],
      "text/plain": [
       "<IPython.lib.display.IFrame at 0x7f0cbec9e5e0>"
      ]
     },
     "metadata": {},
     "output_type": "display_data"
    },
    {
     "data": {
      "text/html": [
       "\n",
       "        <iframe\n",
       "            width=\"400\"\n",
       "            height=\"75\"\n",
       "            src=\"https://open.spotify.com/embed/track/6E90gq0KO6FYZVOXx8kCcC\"\n",
       "            frameborder=\"0\"\n",
       "            allowfullscreen\n",
       "        ></iframe>\n",
       "        "
      ],
      "text/plain": [
       "<IPython.lib.display.IFrame at 0x7f0cbec9e5e0>"
      ]
     },
     "metadata": {},
     "output_type": "display_data"
    },
    {
     "data": {
      "text/html": [
       "\n",
       "        <iframe\n",
       "            width=\"400\"\n",
       "            height=\"75\"\n",
       "            src=\"https://open.spotify.com/embed/track/6E90gq0KO6FYZVOXx8kCcC\"\n",
       "            frameborder=\"0\"\n",
       "            allowfullscreen\n",
       "        ></iframe>\n",
       "        "
      ],
      "text/plain": [
       "<IPython.lib.display.IFrame at 0x7f0cbec9e5e0>"
      ]
     },
     "metadata": {},
     "output_type": "display_data"
    },
    {
     "data": {
      "text/html": [
       "\n",
       "        <iframe\n",
       "            width=\"400\"\n",
       "            height=\"75\"\n",
       "            src=\"https://open.spotify.com/embed/track/6E90gq0KO6FYZVOXx8kCcC\"\n",
       "            frameborder=\"0\"\n",
       "            allowfullscreen\n",
       "        ></iframe>\n",
       "        "
      ],
      "text/plain": [
       "<IPython.lib.display.IFrame at 0x7f0cbec9e5e0>"
      ]
     },
     "metadata": {},
     "output_type": "display_data"
    },
    {
     "data": {
      "text/html": [
       "\n",
       "        <iframe\n",
       "            width=\"400\"\n",
       "            height=\"75\"\n",
       "            src=\"https://open.spotify.com/embed/track/6E90gq0KO6FYZVOXx8kCcC\"\n",
       "            frameborder=\"0\"\n",
       "            allowfullscreen\n",
       "        ></iframe>\n",
       "        "
      ],
      "text/plain": [
       "<IPython.lib.display.IFrame at 0x7f0cbec9e5e0>"
      ]
     },
     "metadata": {},
     "output_type": "display_data"
    },
    {
     "data": {
      "text/html": [
       "\n",
       "        <iframe\n",
       "            width=\"400\"\n",
       "            height=\"75\"\n",
       "            src=\"https://open.spotify.com/embed/track/6E90gq0KO6FYZVOXx8kCcC\"\n",
       "            frameborder=\"0\"\n",
       "            allowfullscreen\n",
       "        ></iframe>\n",
       "        "
      ],
      "text/plain": [
       "<IPython.lib.display.IFrame at 0x7f0cbec9e5e0>"
      ]
     },
     "metadata": {},
     "output_type": "display_data"
    },
    {
     "data": {
      "text/html": [
       "\n",
       "        <iframe\n",
       "            width=\"400\"\n",
       "            height=\"75\"\n",
       "            src=\"https://open.spotify.com/embed/track/6E90gq0KO6FYZVOXx8kCcC\"\n",
       "            frameborder=\"0\"\n",
       "            allowfullscreen\n",
       "        ></iframe>\n",
       "        "
      ],
      "text/plain": [
       "<IPython.lib.display.IFrame at 0x7f0cbec9e5e0>"
      ]
     },
     "metadata": {},
     "output_type": "display_data"
    },
    {
     "data": {
      "text/html": [
       "\n",
       "        <iframe\n",
       "            width=\"400\"\n",
       "            height=\"75\"\n",
       "            src=\"https://open.spotify.com/embed/track/6E90gq0KO6FYZVOXx8kCcC\"\n",
       "            frameborder=\"0\"\n",
       "            allowfullscreen\n",
       "        ></iframe>\n",
       "        "
      ],
      "text/plain": [
       "<IPython.lib.display.IFrame at 0x7f0cbec9e5e0>"
      ]
     },
     "metadata": {},
     "output_type": "display_data"
    },
    {
     "data": {
      "text/html": [
       "\n",
       "        <iframe\n",
       "            width=\"400\"\n",
       "            height=\"75\"\n",
       "            src=\"https://open.spotify.com/embed/track/6E90gq0KO6FYZVOXx8kCcC\"\n",
       "            frameborder=\"0\"\n",
       "            allowfullscreen\n",
       "        ></iframe>\n",
       "        "
      ],
      "text/plain": [
       "<IPython.lib.display.IFrame at 0x7f0cbec9e5e0>"
      ]
     },
     "metadata": {},
     "output_type": "display_data"
    },
    {
     "data": {
      "text/html": [
       "\n",
       "        <iframe\n",
       "            width=\"400\"\n",
       "            height=\"75\"\n",
       "            src=\"https://open.spotify.com/embed/track/6E90gq0KO6FYZVOXx8kCcC\"\n",
       "            frameborder=\"0\"\n",
       "            allowfullscreen\n",
       "        ></iframe>\n",
       "        "
      ],
      "text/plain": [
       "<IPython.lib.display.IFrame at 0x7f0cbec9e5e0>"
      ]
     },
     "metadata": {},
     "output_type": "display_data"
    },
    {
     "data": {
      "text/html": [
       "\n",
       "        <iframe\n",
       "            width=\"400\"\n",
       "            height=\"75\"\n",
       "            src=\"https://open.spotify.com/embed/track/6E90gq0KO6FYZVOXx8kCcC\"\n",
       "            frameborder=\"0\"\n",
       "            allowfullscreen\n",
       "        ></iframe>\n",
       "        "
      ],
      "text/plain": [
       "<IPython.lib.display.IFrame at 0x7f0cbec9e5e0>"
      ]
     },
     "metadata": {},
     "output_type": "display_data"
    },
    {
     "data": {
      "text/html": [
       "\n",
       "        <iframe\n",
       "            width=\"400\"\n",
       "            height=\"75\"\n",
       "            src=\"https://open.spotify.com/embed/track/6E90gq0KO6FYZVOXx8kCcC\"\n",
       "            frameborder=\"0\"\n",
       "            allowfullscreen\n",
       "        ></iframe>\n",
       "        "
      ],
      "text/plain": [
       "<IPython.lib.display.IFrame at 0x7f0cbec9e5e0>"
      ]
     },
     "metadata": {},
     "output_type": "display_data"
    },
    {
     "data": {
      "text/html": [
       "\n",
       "        <iframe\n",
       "            width=\"400\"\n",
       "            height=\"75\"\n",
       "            src=\"https://open.spotify.com/embed/track/6E90gq0KO6FYZVOXx8kCcC\"\n",
       "            frameborder=\"0\"\n",
       "            allowfullscreen\n",
       "        ></iframe>\n",
       "        "
      ],
      "text/plain": [
       "<IPython.lib.display.IFrame at 0x7f0cbec9e5e0>"
      ]
     },
     "metadata": {},
     "output_type": "display_data"
    },
    {
     "data": {
      "text/html": [
       "\n",
       "        <iframe\n",
       "            width=\"400\"\n",
       "            height=\"75\"\n",
       "            src=\"https://open.spotify.com/embed/track/6E90gq0KO6FYZVOXx8kCcC\"\n",
       "            frameborder=\"0\"\n",
       "            allowfullscreen\n",
       "        ></iframe>\n",
       "        "
      ],
      "text/plain": [
       "<IPython.lib.display.IFrame at 0x7f0cbec9e5e0>"
      ]
     },
     "metadata": {},
     "output_type": "display_data"
    },
    {
     "data": {
      "text/html": [
       "\n",
       "        <iframe\n",
       "            width=\"400\"\n",
       "            height=\"75\"\n",
       "            src=\"https://open.spotify.com/embed/track/3VT8hOC5vuDXBsHrR53WFh\"\n",
       "            frameborder=\"0\"\n",
       "            allowfullscreen\n",
       "        ></iframe>\n",
       "        "
      ],
      "text/plain": [
       "<IPython.lib.display.IFrame at 0x7f0cbec9e5e0>"
      ]
     },
     "metadata": {},
     "output_type": "display_data"
    },
    {
     "data": {
      "text/html": [
       "\n",
       "        <iframe\n",
       "            width=\"400\"\n",
       "            height=\"75\"\n",
       "            src=\"https://open.spotify.com/embed/track/3VT8hOC5vuDXBsHrR53WFh\"\n",
       "            frameborder=\"0\"\n",
       "            allowfullscreen\n",
       "        ></iframe>\n",
       "        "
      ],
      "text/plain": [
       "<IPython.lib.display.IFrame at 0x7f0cbec9e5e0>"
      ]
     },
     "metadata": {},
     "output_type": "display_data"
    },
    {
     "data": {
      "text/html": [
       "\n",
       "        <iframe\n",
       "            width=\"400\"\n",
       "            height=\"75\"\n",
       "            src=\"https://open.spotify.com/embed/track/3VT8hOC5vuDXBsHrR53WFh\"\n",
       "            frameborder=\"0\"\n",
       "            allowfullscreen\n",
       "        ></iframe>\n",
       "        "
      ],
      "text/plain": [
       "<IPython.lib.display.IFrame at 0x7f0cbec9e5e0>"
      ]
     },
     "metadata": {},
     "output_type": "display_data"
    },
    {
     "data": {
      "text/html": [
       "\n",
       "        <iframe\n",
       "            width=\"400\"\n",
       "            height=\"75\"\n",
       "            src=\"https://open.spotify.com/embed/track/3VT8hOC5vuDXBsHrR53WFh\"\n",
       "            frameborder=\"0\"\n",
       "            allowfullscreen\n",
       "        ></iframe>\n",
       "        "
      ],
      "text/plain": [
       "<IPython.lib.display.IFrame at 0x7f0cbec9e5e0>"
      ]
     },
     "metadata": {},
     "output_type": "display_data"
    },
    {
     "data": {
      "text/html": [
       "\n",
       "        <iframe\n",
       "            width=\"400\"\n",
       "            height=\"75\"\n",
       "            src=\"https://open.spotify.com/embed/track/3VT8hOC5vuDXBsHrR53WFh\"\n",
       "            frameborder=\"0\"\n",
       "            allowfullscreen\n",
       "        ></iframe>\n",
       "        "
      ],
      "text/plain": [
       "<IPython.lib.display.IFrame at 0x7f0cbec9e5e0>"
      ]
     },
     "metadata": {},
     "output_type": "display_data"
    },
    {
     "data": {
      "text/html": [
       "\n",
       "        <iframe\n",
       "            width=\"400\"\n",
       "            height=\"75\"\n",
       "            src=\"https://open.spotify.com/embed/track/3VT8hOC5vuDXBsHrR53WFh\"\n",
       "            frameborder=\"0\"\n",
       "            allowfullscreen\n",
       "        ></iframe>\n",
       "        "
      ],
      "text/plain": [
       "<IPython.lib.display.IFrame at 0x7f0cbec9e5e0>"
      ]
     },
     "metadata": {},
     "output_type": "display_data"
    },
    {
     "data": {
      "text/html": [
       "\n",
       "        <iframe\n",
       "            width=\"400\"\n",
       "            height=\"75\"\n",
       "            src=\"https://open.spotify.com/embed/track/3VT8hOC5vuDXBsHrR53WFh\"\n",
       "            frameborder=\"0\"\n",
       "            allowfullscreen\n",
       "        ></iframe>\n",
       "        "
      ],
      "text/plain": [
       "<IPython.lib.display.IFrame at 0x7f0cbec9e5e0>"
      ]
     },
     "metadata": {},
     "output_type": "display_data"
    },
    {
     "data": {
      "text/html": [
       "\n",
       "        <iframe\n",
       "            width=\"400\"\n",
       "            height=\"75\"\n",
       "            src=\"https://open.spotify.com/embed/track/3VT8hOC5vuDXBsHrR53WFh\"\n",
       "            frameborder=\"0\"\n",
       "            allowfullscreen\n",
       "        ></iframe>\n",
       "        "
      ],
      "text/plain": [
       "<IPython.lib.display.IFrame at 0x7f0cbec9e5e0>"
      ]
     },
     "metadata": {},
     "output_type": "display_data"
    },
    {
     "data": {
      "text/html": [
       "\n",
       "        <iframe\n",
       "            width=\"400\"\n",
       "            height=\"75\"\n",
       "            src=\"https://open.spotify.com/embed/track/3VT8hOC5vuDXBsHrR53WFh\"\n",
       "            frameborder=\"0\"\n",
       "            allowfullscreen\n",
       "        ></iframe>\n",
       "        "
      ],
      "text/plain": [
       "<IPython.lib.display.IFrame at 0x7f0cbec9e5e0>"
      ]
     },
     "metadata": {},
     "output_type": "display_data"
    },
    {
     "data": {
      "text/html": [
       "\n",
       "        <iframe\n",
       "            width=\"400\"\n",
       "            height=\"75\"\n",
       "            src=\"https://open.spotify.com/embed/track/3VT8hOC5vuDXBsHrR53WFh\"\n",
       "            frameborder=\"0\"\n",
       "            allowfullscreen\n",
       "        ></iframe>\n",
       "        "
      ],
      "text/plain": [
       "<IPython.lib.display.IFrame at 0x7f0cbec9e5e0>"
      ]
     },
     "metadata": {},
     "output_type": "display_data"
    },
    {
     "data": {
      "text/html": [
       "\n",
       "        <iframe\n",
       "            width=\"400\"\n",
       "            height=\"75\"\n",
       "            src=\"https://open.spotify.com/embed/track/3VT8hOC5vuDXBsHrR53WFh\"\n",
       "            frameborder=\"0\"\n",
       "            allowfullscreen\n",
       "        ></iframe>\n",
       "        "
      ],
      "text/plain": [
       "<IPython.lib.display.IFrame at 0x7f0cbec9e5e0>"
      ]
     },
     "metadata": {},
     "output_type": "display_data"
    },
    {
     "data": {
      "text/html": [
       "\n",
       "        <iframe\n",
       "            width=\"400\"\n",
       "            height=\"75\"\n",
       "            src=\"https://open.spotify.com/embed/track/0BGwAKW4u8kWOhWFflZxfl\"\n",
       "            frameborder=\"0\"\n",
       "            allowfullscreen\n",
       "        ></iframe>\n",
       "        "
      ],
      "text/plain": [
       "<IPython.lib.display.IFrame at 0x7f0cbec9e5e0>"
      ]
     },
     "metadata": {},
     "output_type": "display_data"
    },
    {
     "data": {
      "text/html": [
       "\n",
       "        <iframe\n",
       "            width=\"400\"\n",
       "            height=\"75\"\n",
       "            src=\"https://open.spotify.com/embed/track/0BGwAKW4u8kWOhWFflZxfl\"\n",
       "            frameborder=\"0\"\n",
       "            allowfullscreen\n",
       "        ></iframe>\n",
       "        "
      ],
      "text/plain": [
       "<IPython.lib.display.IFrame at 0x7f0cbec9e5e0>"
      ]
     },
     "metadata": {},
     "output_type": "display_data"
    },
    {
     "data": {
      "text/html": [
       "\n",
       "        <iframe\n",
       "            width=\"400\"\n",
       "            height=\"75\"\n",
       "            src=\"https://open.spotify.com/embed/track/0BGwAKW4u8kWOhWFflZxfl\"\n",
       "            frameborder=\"0\"\n",
       "            allowfullscreen\n",
       "        ></iframe>\n",
       "        "
      ],
      "text/plain": [
       "<IPython.lib.display.IFrame at 0x7f0cbec9e5e0>"
      ]
     },
     "metadata": {},
     "output_type": "display_data"
    },
    {
     "data": {
      "text/html": [
       "\n",
       "        <iframe\n",
       "            width=\"400\"\n",
       "            height=\"75\"\n",
       "            src=\"https://open.spotify.com/embed/track/0BGwAKW4u8kWOhWFflZxfl\"\n",
       "            frameborder=\"0\"\n",
       "            allowfullscreen\n",
       "        ></iframe>\n",
       "        "
      ],
      "text/plain": [
       "<IPython.lib.display.IFrame at 0x7f0cbec9e5e0>"
      ]
     },
     "metadata": {},
     "output_type": "display_data"
    },
    {
     "data": {
      "text/html": [
       "\n",
       "        <iframe\n",
       "            width=\"400\"\n",
       "            height=\"75\"\n",
       "            src=\"https://open.spotify.com/embed/track/0BGwAKW4u8kWOhWFflZxfl\"\n",
       "            frameborder=\"0\"\n",
       "            allowfullscreen\n",
       "        ></iframe>\n",
       "        "
      ],
      "text/plain": [
       "<IPython.lib.display.IFrame at 0x7f0cbec9e5e0>"
      ]
     },
     "metadata": {},
     "output_type": "display_data"
    },
    {
     "data": {
      "text/html": [
       "\n",
       "        <iframe\n",
       "            width=\"400\"\n",
       "            height=\"75\"\n",
       "            src=\"https://open.spotify.com/embed/track/0BGwAKW4u8kWOhWFflZxfl\"\n",
       "            frameborder=\"0\"\n",
       "            allowfullscreen\n",
       "        ></iframe>\n",
       "        "
      ],
      "text/plain": [
       "<IPython.lib.display.IFrame at 0x7f0cbec9e5e0>"
      ]
     },
     "metadata": {},
     "output_type": "display_data"
    },
    {
     "data": {
      "text/html": [
       "\n",
       "        <iframe\n",
       "            width=\"400\"\n",
       "            height=\"75\"\n",
       "            src=\"https://open.spotify.com/embed/track/3Ofmpyhv5UAQ70mENzB277\"\n",
       "            frameborder=\"0\"\n",
       "            allowfullscreen\n",
       "        ></iframe>\n",
       "        "
      ],
      "text/plain": [
       "<IPython.lib.display.IFrame at 0x7f0cbec9e5e0>"
      ]
     },
     "metadata": {},
     "output_type": "display_data"
    },
    {
     "data": {
      "text/html": [
       "\n",
       "        <iframe\n",
       "            width=\"400\"\n",
       "            height=\"75\"\n",
       "            src=\"https://open.spotify.com/embed/track/3VT8hOC5vuDXBsHrR53WFh\"\n",
       "            frameborder=\"0\"\n",
       "            allowfullscreen\n",
       "        ></iframe>\n",
       "        "
      ],
      "text/plain": [
       "<IPython.lib.display.IFrame at 0x7f0cbec9e5e0>"
      ]
     },
     "metadata": {},
     "output_type": "display_data"
    },
    {
     "data": {
      "text/html": [
       "\n",
       "        <iframe\n",
       "            width=\"400\"\n",
       "            height=\"75\"\n",
       "            src=\"https://open.spotify.com/embed/track/3VT8hOC5vuDXBsHrR53WFh\"\n",
       "            frameborder=\"0\"\n",
       "            allowfullscreen\n",
       "        ></iframe>\n",
       "        "
      ],
      "text/plain": [
       "<IPython.lib.display.IFrame at 0x7f0cbec9e5e0>"
      ]
     },
     "metadata": {},
     "output_type": "display_data"
    },
    {
     "data": {
      "text/html": [
       "\n",
       "        <iframe\n",
       "            width=\"400\"\n",
       "            height=\"75\"\n",
       "            src=\"https://open.spotify.com/embed/track/3VT8hOC5vuDXBsHrR53WFh\"\n",
       "            frameborder=\"0\"\n",
       "            allowfullscreen\n",
       "        ></iframe>\n",
       "        "
      ],
      "text/plain": [
       "<IPython.lib.display.IFrame at 0x7f0cbec9e5e0>"
      ]
     },
     "metadata": {},
     "output_type": "display_data"
    },
    {
     "data": {
      "text/html": [
       "\n",
       "        <iframe\n",
       "            width=\"400\"\n",
       "            height=\"75\"\n",
       "            src=\"https://open.spotify.com/embed/track/3VT8hOC5vuDXBsHrR53WFh\"\n",
       "            frameborder=\"0\"\n",
       "            allowfullscreen\n",
       "        ></iframe>\n",
       "        "
      ],
      "text/plain": [
       "<IPython.lib.display.IFrame at 0x7f0cbec9e5e0>"
      ]
     },
     "metadata": {},
     "output_type": "display_data"
    },
    {
     "data": {
      "text/html": [
       "\n",
       "        <iframe\n",
       "            width=\"400\"\n",
       "            height=\"75\"\n",
       "            src=\"https://open.spotify.com/embed/track/3VT8hOC5vuDXBsHrR53WFh\"\n",
       "            frameborder=\"0\"\n",
       "            allowfullscreen\n",
       "        ></iframe>\n",
       "        "
      ],
      "text/plain": [
       "<IPython.lib.display.IFrame at 0x7f0cbec9e5e0>"
      ]
     },
     "metadata": {},
     "output_type": "display_data"
    },
    {
     "data": {
      "text/html": [
       "\n",
       "        <iframe\n",
       "            width=\"400\"\n",
       "            height=\"75\"\n",
       "            src=\"https://open.spotify.com/embed/track/3VT8hOC5vuDXBsHrR53WFh\"\n",
       "            frameborder=\"0\"\n",
       "            allowfullscreen\n",
       "        ></iframe>\n",
       "        "
      ],
      "text/plain": [
       "<IPython.lib.display.IFrame at 0x7f0cbec9e5e0>"
      ]
     },
     "metadata": {},
     "output_type": "display_data"
    },
    {
     "data": {
      "text/html": [
       "\n",
       "        <iframe\n",
       "            width=\"400\"\n",
       "            height=\"75\"\n",
       "            src=\"https://open.spotify.com/embed/track/3VT8hOC5vuDXBsHrR53WFh\"\n",
       "            frameborder=\"0\"\n",
       "            allowfullscreen\n",
       "        ></iframe>\n",
       "        "
      ],
      "text/plain": [
       "<IPython.lib.display.IFrame at 0x7f0cbec9e5e0>"
      ]
     },
     "metadata": {},
     "output_type": "display_data"
    },
    {
     "data": {
      "text/html": [
       "\n",
       "        <iframe\n",
       "            width=\"400\"\n",
       "            height=\"75\"\n",
       "            src=\"https://open.spotify.com/embed/track/3VT8hOC5vuDXBsHrR53WFh\"\n",
       "            frameborder=\"0\"\n",
       "            allowfullscreen\n",
       "        ></iframe>\n",
       "        "
      ],
      "text/plain": [
       "<IPython.lib.display.IFrame at 0x7f0cbec9e5e0>"
      ]
     },
     "metadata": {},
     "output_type": "display_data"
    },
    {
     "data": {
      "text/html": [
       "\n",
       "        <iframe\n",
       "            width=\"400\"\n",
       "            height=\"75\"\n",
       "            src=\"https://open.spotify.com/embed/track/3VT8hOC5vuDXBsHrR53WFh\"\n",
       "            frameborder=\"0\"\n",
       "            allowfullscreen\n",
       "        ></iframe>\n",
       "        "
      ],
      "text/plain": [
       "<IPython.lib.display.IFrame at 0x7f0cbec9e5e0>"
      ]
     },
     "metadata": {},
     "output_type": "display_data"
    },
    {
     "data": {
      "text/html": [
       "\n",
       "        <iframe\n",
       "            width=\"400\"\n",
       "            height=\"75\"\n",
       "            src=\"https://open.spotify.com/embed/track/3VT8hOC5vuDXBsHrR53WFh\"\n",
       "            frameborder=\"0\"\n",
       "            allowfullscreen\n",
       "        ></iframe>\n",
       "        "
      ],
      "text/plain": [
       "<IPython.lib.display.IFrame at 0x7f0cbec9e5e0>"
      ]
     },
     "metadata": {},
     "output_type": "display_data"
    },
    {
     "data": {
      "text/html": [
       "\n",
       "        <iframe\n",
       "            width=\"400\"\n",
       "            height=\"75\"\n",
       "            src=\"https://open.spotify.com/embed/track/3VT8hOC5vuDXBsHrR53WFh\"\n",
       "            frameborder=\"0\"\n",
       "            allowfullscreen\n",
       "        ></iframe>\n",
       "        "
      ],
      "text/plain": [
       "<IPython.lib.display.IFrame at 0x7f0cbec9e5e0>"
      ]
     },
     "metadata": {},
     "output_type": "display_data"
    },
    {
     "data": {
      "text/html": [
       "\n",
       "        <iframe\n",
       "            width=\"400\"\n",
       "            height=\"75\"\n",
       "            src=\"https://open.spotify.com/embed/track/3VT8hOC5vuDXBsHrR53WFh\"\n",
       "            frameborder=\"0\"\n",
       "            allowfullscreen\n",
       "        ></iframe>\n",
       "        "
      ],
      "text/plain": [
       "<IPython.lib.display.IFrame at 0x7f0cbec9e5e0>"
      ]
     },
     "metadata": {},
     "output_type": "display_data"
    },
    {
     "data": {
      "text/html": [
       "\n",
       "        <iframe\n",
       "            width=\"400\"\n",
       "            height=\"75\"\n",
       "            src=\"https://open.spotify.com/embed/track/3VT8hOC5vuDXBsHrR53WFh\"\n",
       "            frameborder=\"0\"\n",
       "            allowfullscreen\n",
       "        ></iframe>\n",
       "        "
      ],
      "text/plain": [
       "<IPython.lib.display.IFrame at 0x7f0cbec9e5e0>"
      ]
     },
     "metadata": {},
     "output_type": "display_data"
    },
    {
     "data": {
      "text/html": [
       "\n",
       "        <iframe\n",
       "            width=\"400\"\n",
       "            height=\"75\"\n",
       "            src=\"https://open.spotify.com/embed/track/3VT8hOC5vuDXBsHrR53WFh\"\n",
       "            frameborder=\"0\"\n",
       "            allowfullscreen\n",
       "        ></iframe>\n",
       "        "
      ],
      "text/plain": [
       "<IPython.lib.display.IFrame at 0x7f0cbec9e5e0>"
      ]
     },
     "metadata": {},
     "output_type": "display_data"
    },
    {
     "data": {
      "text/html": [
       "\n",
       "        <iframe\n",
       "            width=\"400\"\n",
       "            height=\"75\"\n",
       "            src=\"https://open.spotify.com/embed/track/3VT8hOC5vuDXBsHrR53WFh\"\n",
       "            frameborder=\"0\"\n",
       "            allowfullscreen\n",
       "        ></iframe>\n",
       "        "
      ],
      "text/plain": [
       "<IPython.lib.display.IFrame at 0x7f0cbec9e5e0>"
      ]
     },
     "metadata": {},
     "output_type": "display_data"
    },
    {
     "data": {
      "text/html": [
       "\n",
       "        <iframe\n",
       "            width=\"400\"\n",
       "            height=\"75\"\n",
       "            src=\"https://open.spotify.com/embed/track/0BGwAKW4u8kWOhWFflZxfl\"\n",
       "            frameborder=\"0\"\n",
       "            allowfullscreen\n",
       "        ></iframe>\n",
       "        "
      ],
      "text/plain": [
       "<IPython.lib.display.IFrame at 0x7f0cbec9e5e0>"
      ]
     },
     "metadata": {},
     "output_type": "display_data"
    },
    {
     "data": {
      "text/html": [
       "\n",
       "        <iframe\n",
       "            width=\"400\"\n",
       "            height=\"75\"\n",
       "            src=\"https://open.spotify.com/embed/track/0BGwAKW4u8kWOhWFflZxfl\"\n",
       "            frameborder=\"0\"\n",
       "            allowfullscreen\n",
       "        ></iframe>\n",
       "        "
      ],
      "text/plain": [
       "<IPython.lib.display.IFrame at 0x7f0cbec9e5e0>"
      ]
     },
     "metadata": {},
     "output_type": "display_data"
    },
    {
     "data": {
      "text/html": [
       "\n",
       "        <iframe\n",
       "            width=\"400\"\n",
       "            height=\"75\"\n",
       "            src=\"https://open.spotify.com/embed/track/0BGwAKW4u8kWOhWFflZxfl\"\n",
       "            frameborder=\"0\"\n",
       "            allowfullscreen\n",
       "        ></iframe>\n",
       "        "
      ],
      "text/plain": [
       "<IPython.lib.display.IFrame at 0x7f0cbec9e5e0>"
      ]
     },
     "metadata": {},
     "output_type": "display_data"
    },
    {
     "data": {
      "text/html": [
       "\n",
       "        <iframe\n",
       "            width=\"400\"\n",
       "            height=\"75\"\n",
       "            src=\"https://open.spotify.com/embed/track/0BGwAKW4u8kWOhWFflZxfl\"\n",
       "            frameborder=\"0\"\n",
       "            allowfullscreen\n",
       "        ></iframe>\n",
       "        "
      ],
      "text/plain": [
       "<IPython.lib.display.IFrame at 0x7f0cbec9e5e0>"
      ]
     },
     "metadata": {},
     "output_type": "display_data"
    },
    {
     "data": {
      "text/html": [
       "\n",
       "        <iframe\n",
       "            width=\"400\"\n",
       "            height=\"75\"\n",
       "            src=\"https://open.spotify.com/embed/track/0BGwAKW4u8kWOhWFflZxfl\"\n",
       "            frameborder=\"0\"\n",
       "            allowfullscreen\n",
       "        ></iframe>\n",
       "        "
      ],
      "text/plain": [
       "<IPython.lib.display.IFrame at 0x7f0cbec9e5e0>"
      ]
     },
     "metadata": {},
     "output_type": "display_data"
    },
    {
     "data": {
      "text/html": [
       "\n",
       "        <iframe\n",
       "            width=\"400\"\n",
       "            height=\"75\"\n",
       "            src=\"https://open.spotify.com/embed/track/0BGwAKW4u8kWOhWFflZxfl\"\n",
       "            frameborder=\"0\"\n",
       "            allowfullscreen\n",
       "        ></iframe>\n",
       "        "
      ],
      "text/plain": [
       "<IPython.lib.display.IFrame at 0x7f0cbec9e5e0>"
      ]
     },
     "metadata": {},
     "output_type": "display_data"
    },
    {
     "data": {
      "text/html": [
       "\n",
       "        <iframe\n",
       "            width=\"400\"\n",
       "            height=\"75\"\n",
       "            src=\"https://open.spotify.com/embed/track/0BGwAKW4u8kWOhWFflZxfl\"\n",
       "            frameborder=\"0\"\n",
       "            allowfullscreen\n",
       "        ></iframe>\n",
       "        "
      ],
      "text/plain": [
       "<IPython.lib.display.IFrame at 0x7f0cbec9e5e0>"
      ]
     },
     "metadata": {},
     "output_type": "display_data"
    },
    {
     "data": {
      "text/html": [
       "\n",
       "        <iframe\n",
       "            width=\"400\"\n",
       "            height=\"75\"\n",
       "            src=\"https://open.spotify.com/embed/track/0BGwAKW4u8kWOhWFflZxfl\"\n",
       "            frameborder=\"0\"\n",
       "            allowfullscreen\n",
       "        ></iframe>\n",
       "        "
      ],
      "text/plain": [
       "<IPython.lib.display.IFrame at 0x7f0cbec9e5e0>"
      ]
     },
     "metadata": {},
     "output_type": "display_data"
    },
    {
     "data": {
      "text/html": [
       "\n",
       "        <iframe\n",
       "            width=\"400\"\n",
       "            height=\"75\"\n",
       "            src=\"https://open.spotify.com/embed/track/0BGwAKW4u8kWOhWFflZxfl\"\n",
       "            frameborder=\"0\"\n",
       "            allowfullscreen\n",
       "        ></iframe>\n",
       "        "
      ],
      "text/plain": [
       "<IPython.lib.display.IFrame at 0x7f0cbec9e5e0>"
      ]
     },
     "metadata": {},
     "output_type": "display_data"
    },
    {
     "data": {
      "text/html": [
       "\n",
       "        <iframe\n",
       "            width=\"400\"\n",
       "            height=\"75\"\n",
       "            src=\"https://open.spotify.com/embed/track/0BGwAKW4u8kWOhWFflZxfl\"\n",
       "            frameborder=\"0\"\n",
       "            allowfullscreen\n",
       "        ></iframe>\n",
       "        "
      ],
      "text/plain": [
       "<IPython.lib.display.IFrame at 0x7f0cbec9e5e0>"
      ]
     },
     "metadata": {},
     "output_type": "display_data"
    },
    {
     "data": {
      "text/html": [
       "\n",
       "        <iframe\n",
       "            width=\"400\"\n",
       "            height=\"75\"\n",
       "            src=\"https://open.spotify.com/embed/track/0BGwAKW4u8kWOhWFflZxfl\"\n",
       "            frameborder=\"0\"\n",
       "            allowfullscreen\n",
       "        ></iframe>\n",
       "        "
      ],
      "text/plain": [
       "<IPython.lib.display.IFrame at 0x7f0cbec9e5e0>"
      ]
     },
     "metadata": {},
     "output_type": "display_data"
    },
    {
     "data": {
      "text/html": [
       "\n",
       "        <iframe\n",
       "            width=\"400\"\n",
       "            height=\"75\"\n",
       "            src=\"https://open.spotify.com/embed/track/0BGwAKW4u8kWOhWFflZxfl\"\n",
       "            frameborder=\"0\"\n",
       "            allowfullscreen\n",
       "        ></iframe>\n",
       "        "
      ],
      "text/plain": [
       "<IPython.lib.display.IFrame at 0x7f0cbec9e5e0>"
      ]
     },
     "metadata": {},
     "output_type": "display_data"
    },
    {
     "data": {
      "text/html": [
       "\n",
       "        <iframe\n",
       "            width=\"400\"\n",
       "            height=\"75\"\n",
       "            src=\"https://open.spotify.com/embed/track/0BGwAKW4u8kWOhWFflZxfl\"\n",
       "            frameborder=\"0\"\n",
       "            allowfullscreen\n",
       "        ></iframe>\n",
       "        "
      ],
      "text/plain": [
       "<IPython.lib.display.IFrame at 0x7f0cbec9e5e0>"
      ]
     },
     "metadata": {},
     "output_type": "display_data"
    },
    {
     "data": {
      "text/html": [
       "\n",
       "        <iframe\n",
       "            width=\"400\"\n",
       "            height=\"75\"\n",
       "            src=\"https://open.spotify.com/embed/track/0BGwAKW4u8kWOhWFflZxfl\"\n",
       "            frameborder=\"0\"\n",
       "            allowfullscreen\n",
       "        ></iframe>\n",
       "        "
      ],
      "text/plain": [
       "<IPython.lib.display.IFrame at 0x7f0cbec9e5e0>"
      ]
     },
     "metadata": {},
     "output_type": "display_data"
    },
    {
     "data": {
      "text/html": [
       "\n",
       "        <iframe\n",
       "            width=\"400\"\n",
       "            height=\"75\"\n",
       "            src=\"https://open.spotify.com/embed/track/0BGwAKW4u8kWOhWFflZxfl\"\n",
       "            frameborder=\"0\"\n",
       "            allowfullscreen\n",
       "        ></iframe>\n",
       "        "
      ],
      "text/plain": [
       "<IPython.lib.display.IFrame at 0x7f0cbec9e5e0>"
      ]
     },
     "metadata": {},
     "output_type": "display_data"
    },
    {
     "data": {
      "text/html": [
       "\n",
       "        <iframe\n",
       "            width=\"400\"\n",
       "            height=\"75\"\n",
       "            src=\"https://open.spotify.com/embed/track/6E90gq0KO6FYZVOXx8kCcC\"\n",
       "            frameborder=\"0\"\n",
       "            allowfullscreen\n",
       "        ></iframe>\n",
       "        "
      ],
      "text/plain": [
       "<IPython.lib.display.IFrame at 0x7f0cbec9e5e0>"
      ]
     },
     "metadata": {},
     "output_type": "display_data"
    },
    {
     "data": {
      "text/html": [
       "\n",
       "        <iframe\n",
       "            width=\"400\"\n",
       "            height=\"75\"\n",
       "            src=\"https://open.spotify.com/embed/track/6E90gq0KO6FYZVOXx8kCcC\"\n",
       "            frameborder=\"0\"\n",
       "            allowfullscreen\n",
       "        ></iframe>\n",
       "        "
      ],
      "text/plain": [
       "<IPython.lib.display.IFrame at 0x7f0cbec9e5e0>"
      ]
     },
     "metadata": {},
     "output_type": "display_data"
    },
    {
     "data": {
      "text/html": [
       "\n",
       "        <iframe\n",
       "            width=\"400\"\n",
       "            height=\"75\"\n",
       "            src=\"https://open.spotify.com/embed/track/6E90gq0KO6FYZVOXx8kCcC\"\n",
       "            frameborder=\"0\"\n",
       "            allowfullscreen\n",
       "        ></iframe>\n",
       "        "
      ],
      "text/plain": [
       "<IPython.lib.display.IFrame at 0x7f0cbec9e5e0>"
      ]
     },
     "metadata": {},
     "output_type": "display_data"
    },
    {
     "data": {
      "text/html": [
       "\n",
       "        <iframe\n",
       "            width=\"400\"\n",
       "            height=\"75\"\n",
       "            src=\"https://open.spotify.com/embed/track/6E90gq0KO6FYZVOXx8kCcC\"\n",
       "            frameborder=\"0\"\n",
       "            allowfullscreen\n",
       "        ></iframe>\n",
       "        "
      ],
      "text/plain": [
       "<IPython.lib.display.IFrame at 0x7f0cbec9e5e0>"
      ]
     },
     "metadata": {},
     "output_type": "display_data"
    },
    {
     "data": {
      "text/html": [
       "\n",
       "        <iframe\n",
       "            width=\"400\"\n",
       "            height=\"75\"\n",
       "            src=\"https://open.spotify.com/embed/track/6E90gq0KO6FYZVOXx8kCcC\"\n",
       "            frameborder=\"0\"\n",
       "            allowfullscreen\n",
       "        ></iframe>\n",
       "        "
      ],
      "text/plain": [
       "<IPython.lib.display.IFrame at 0x7f0cbec9e5e0>"
      ]
     },
     "metadata": {},
     "output_type": "display_data"
    },
    {
     "data": {
      "text/html": [
       "\n",
       "        <iframe\n",
       "            width=\"400\"\n",
       "            height=\"75\"\n",
       "            src=\"https://open.spotify.com/embed/track/6E90gq0KO6FYZVOXx8kCcC\"\n",
       "            frameborder=\"0\"\n",
       "            allowfullscreen\n",
       "        ></iframe>\n",
       "        "
      ],
      "text/plain": [
       "<IPython.lib.display.IFrame at 0x7f0cbec9e5e0>"
      ]
     },
     "metadata": {},
     "output_type": "display_data"
    },
    {
     "data": {
      "text/html": [
       "\n",
       "        <iframe\n",
       "            width=\"400\"\n",
       "            height=\"75\"\n",
       "            src=\"https://open.spotify.com/embed/track/6E90gq0KO6FYZVOXx8kCcC\"\n",
       "            frameborder=\"0\"\n",
       "            allowfullscreen\n",
       "        ></iframe>\n",
       "        "
      ],
      "text/plain": [
       "<IPython.lib.display.IFrame at 0x7f0cbec9e5e0>"
      ]
     },
     "metadata": {},
     "output_type": "display_data"
    },
    {
     "data": {
      "text/html": [
       "\n",
       "        <iframe\n",
       "            width=\"400\"\n",
       "            height=\"75\"\n",
       "            src=\"https://open.spotify.com/embed/track/6E90gq0KO6FYZVOXx8kCcC\"\n",
       "            frameborder=\"0\"\n",
       "            allowfullscreen\n",
       "        ></iframe>\n",
       "        "
      ],
      "text/plain": [
       "<IPython.lib.display.IFrame at 0x7f0cbec9e5e0>"
      ]
     },
     "metadata": {},
     "output_type": "display_data"
    },
    {
     "data": {
      "text/html": [
       "\n",
       "        <iframe\n",
       "            width=\"400\"\n",
       "            height=\"75\"\n",
       "            src=\"https://open.spotify.com/embed/track/6E90gq0KO6FYZVOXx8kCcC\"\n",
       "            frameborder=\"0\"\n",
       "            allowfullscreen\n",
       "        ></iframe>\n",
       "        "
      ],
      "text/plain": [
       "<IPython.lib.display.IFrame at 0x7f0cbec9e5e0>"
      ]
     },
     "metadata": {},
     "output_type": "display_data"
    },
    {
     "data": {
      "text/html": [
       "\n",
       "        <iframe\n",
       "            width=\"400\"\n",
       "            height=\"75\"\n",
       "            src=\"https://open.spotify.com/embed/track/6E90gq0KO6FYZVOXx8kCcC\"\n",
       "            frameborder=\"0\"\n",
       "            allowfullscreen\n",
       "        ></iframe>\n",
       "        "
      ],
      "text/plain": [
       "<IPython.lib.display.IFrame at 0x7f0cbec9e5e0>"
      ]
     },
     "metadata": {},
     "output_type": "display_data"
    },
    {
     "data": {
      "text/html": [
       "\n",
       "        <iframe\n",
       "            width=\"400\"\n",
       "            height=\"75\"\n",
       "            src=\"https://open.spotify.com/embed/track/6E90gq0KO6FYZVOXx8kCcC\"\n",
       "            frameborder=\"0\"\n",
       "            allowfullscreen\n",
       "        ></iframe>\n",
       "        "
      ],
      "text/plain": [
       "<IPython.lib.display.IFrame at 0x7f0cbec9e5e0>"
      ]
     },
     "metadata": {},
     "output_type": "display_data"
    }
   ],
   "source": [
    "# Play the songs here.\n",
    "for uri in astronaut_ocean_uris:\n",
    "    play_spotify(uri)"
   ]
  },
  {
   "cell_type": "markdown",
   "id": "59d2e6c6",
   "metadata": {},
   "source": [
    "<!-- END QUESTION -->\n",
    "\n",
    "\n",
    "\n",
    "`'Astronaut In The Ocean'` is not the only song with multiple `'uri'`s. Let's take a look at how common it is to have multiple `'uri'`s for one `'track_name'`. "
   ]
  },
  {
   "cell_type": "markdown",
   "id": "289563cb",
   "metadata": {},
   "source": [
    "**Question 1.4. ⭐️⭐️** Create a DataFrame, indexed by `'track_name'`, with just one column called `'uri_count'` containing the number of different `'uri'`s associated with each `'track_name'`. Sort the rows in descending order of `'uri_count'` and assign the resulting DataFrame to the variable `uris_per_track`."
   ]
  },
  {
   "cell_type": "code",
   "execution_count": 12,
   "id": "2d3bdd46",
   "metadata": {},
   "outputs": [
    {
     "data": {
      "text/html": [
       "<div>\n",
       "<style scoped>\n",
       "    .dataframe tbody tr th:only-of-type {\n",
       "        vertical-align: middle;\n",
       "    }\n",
       "\n",
       "    .dataframe tbody tr th {\n",
       "        vertical-align: top;\n",
       "    }\n",
       "\n",
       "    .dataframe thead th {\n",
       "        text-align: right;\n",
       "    }\n",
       "</style>\n",
       "<table border=\"1\" class=\"dataframe\">\n",
       "  <thead>\n",
       "    <tr style=\"text-align: right;\">\n",
       "      <th></th>\n",
       "      <th>uri_count</th>\n",
       "    </tr>\n",
       "    <tr>\n",
       "      <th>track_name</th>\n",
       "      <th></th>\n",
       "    </tr>\n",
       "  </thead>\n",
       "  <tbody>\n",
       "    <tr>\n",
       "      <th>Toxic</th>\n",
       "      <td>5</td>\n",
       "    </tr>\n",
       "    <tr>\n",
       "      <th>Memories</th>\n",
       "      <td>4</td>\n",
       "    </tr>\n",
       "    <tr>\n",
       "      <th>As the World Caves In</th>\n",
       "      <td>4</td>\n",
       "    </tr>\n",
       "    <tr>\n",
       "      <th>Astronaut In The Ocean</th>\n",
       "      <td>4</td>\n",
       "    </tr>\n",
       "    <tr>\n",
       "      <th>Hold On</th>\n",
       "      <td>3</td>\n",
       "    </tr>\n",
       "    <tr>\n",
       "      <th>...</th>\n",
       "      <td>...</td>\n",
       "    </tr>\n",
       "    <tr>\n",
       "      <th>good wife</th>\n",
       "      <td>1</td>\n",
       "    </tr>\n",
       "    <tr>\n",
       "      <th>god save me</th>\n",
       "      <td>1</td>\n",
       "    </tr>\n",
       "    <tr>\n",
       "      <th>gfy (with Machine Gun Kelly)</th>\n",
       "      <td>1</td>\n",
       "    </tr>\n",
       "    <tr>\n",
       "      <th>fue mejor (feat. SZA)</th>\n",
       "      <td>1</td>\n",
       "    </tr>\n",
       "    <tr>\n",
       "      <th>Índigo</th>\n",
       "      <td>1</td>\n",
       "    </tr>\n",
       "  </tbody>\n",
       "</table>\n",
       "<p>2521 rows × 1 columns</p>\n",
       "</div>"
      ],
      "text/plain": [
       "                              uri_count\n",
       "track_name                             \n",
       "Toxic                                 5\n",
       "Memories                              4\n",
       "As the World Caves In                 4\n",
       "Astronaut In The Ocean                4\n",
       "Hold On                               3\n",
       "...                                 ...\n",
       "good wife                             1\n",
       "god save me                           1\n",
       "gfy (with Machine Gun Kelly)          1\n",
       "fue mejor (feat. SZA)                 1\n",
       "Índigo                                1\n",
       "\n",
       "[2521 rows x 1 columns]"
      ]
     },
     "execution_count": 12,
     "metadata": {},
     "output_type": "execute_result"
    }
   ],
   "source": [
    "#uris_per_track = uris_per_track.assign(uri_count = uris_per_track.get('week')).get(['uri_count']).sort_values(by='uri_count', ascending=False)\n",
    "\n",
    "uris_per_track = charts.groupby(['track_name', 'uri']).count().reset_index().get(['track_name','uri']).groupby('track_name').count().sort_values(by='uri', ascending=False)\n",
    "\n",
    "uris_per_track = uris_per_track.assign(uri_count=uris_per_track.get('uri')).get(['uri_count']).sort_values(by='uri_count', ascending=False)\n",
    "uris_per_track"
   ]
  },
  {
   "cell_type": "code",
   "execution_count": 13,
   "id": "90dba1d5",
   "metadata": {
    "deletable": false,
    "editable": false
   },
   "outputs": [
    {
     "data": {
      "text/html": [
       "<p><strong><pre style='display: inline;'>q1_4</pre></strong> passed!</p>"
      ],
      "text/plain": [
       "q1_4 results: All test cases passed!"
      ]
     },
     "execution_count": 13,
     "metadata": {},
     "output_type": "execute_result"
    }
   ],
   "source": [
    "grader.check(\"q1_4\")"
   ]
  },
  {
   "cell_type": "markdown",
   "id": "9eeac26e",
   "metadata": {},
   "source": [
    "**Question 1.5.** What's the average number of `'uri'`s per track? Store your answer in a variable called `avg_uri_count`."
   ]
  },
  {
   "cell_type": "code",
   "execution_count": 14,
   "id": "10e2be41",
   "metadata": {
    "scrolled": true
   },
   "outputs": [
    {
     "data": {
      "text/plain": [
       "1.1305037683458945"
      ]
     },
     "execution_count": 14,
     "metadata": {},
     "output_type": "execute_result"
    }
   ],
   "source": [
    "avg_uri_count = uris_per_track.get('uri_count').mean()\n",
    "avg_uri_count"
   ]
  },
  {
   "cell_type": "code",
   "execution_count": 15,
   "id": "2f434359",
   "metadata": {
    "deletable": false,
    "editable": false
   },
   "outputs": [
    {
     "data": {
      "text/html": [
       "<p><strong><pre style='display: inline;'>q1_5</pre></strong> passed!</p>"
      ],
      "text/plain": [
       "q1_5 results: All test cases passed!"
      ]
     },
     "execution_count": 15,
     "metadata": {},
     "output_type": "execute_result"
    }
   ],
   "source": [
    "grader.check(\"q1_5\")"
   ]
  },
  {
   "cell_type": "markdown",
   "id": "a363028d",
   "metadata": {},
   "source": [
    "Let's look more closely at the song `'Toxic'`, which has more `'uri'`s than any other `'track_name'` in the dataset. Part of the reason it has so many `'uri'`s is that there are actually several different songs named `'Toxic'`, by different artists. \n",
    "\n",
    "**Question 1.6.** Create an array called `toxic_artists` containing all unique `'artist_names'` that have a song named `'Toxic'`. "
   ]
  },
  {
   "cell_type": "code",
   "execution_count": 16,
   "id": "de724d63",
   "metadata": {
    "scrolled": true
   },
   "outputs": [
    {
     "data": {
      "text/plain": [
       "array(['Polo G', 'BoyWithUke', 'Britney Spears', 'BoyWithUke',\n",
       "       'BoyWithUke', 'BoyWithUke', 'BoyWithUke', 'BoyWithUke',\n",
       "       'BoyWithUke', 'BoyWithUke', 'BoyWithUke', 'BoyWithUke',\n",
       "       'BoyWithUke', 'BoyWithUke', 'BoyWithUke', 'BoyWithUke',\n",
       "       'BoyWithUke', 'BoyWithUke', 'BoyWithUke', 'BoyWithUke',\n",
       "       'BoyWithUke', 'BoyWithUke', 'BoyWithUke', 'BoyWithUke',\n",
       "       'BoyWithUke', 'BoyWithUke', 'BoyWithUke', 'BoyWithUke',\n",
       "       'BoyWithUke', 'BoyWithUke', 'BoyWithUke', 'BoyWithUke',\n",
       "       'BoyWithUke', 'BoyWithUke', 'BoyWithUke', 'BoyWithUke',\n",
       "       'BoyWithUke', 'BoyWithUke', 'BoyWithUke', 'BoyWithUke',\n",
       "       'BoyWithUke', 'BoyWithUke', 'BoyWithUke', 'BoyWithUke',\n",
       "       'BoyWithUke', 'BoyWithUke', 'BoyWithUke', 'BoyWithUke',\n",
       "       'BoyWithUke', 'BoyWithUke', 'Polo G', 'BoyWithUke',\n",
       "       'Britney Spears', 'BoyWithUke', 'BoyWithUke', 'BoyWithUke',\n",
       "       'BoyWithUke', 'BoyWithUke', 'BoyWithUke', 'BoyWithUke',\n",
       "       'BoyWithUke', 'BoyWithUke', 'BoyWithUke', 'BoyWithUke',\n",
       "       'BoyWithUke', 'BoyWithUke', 'BoyWithUke', 'BoyWithUke',\n",
       "       'BoyWithUke', 'BoyWithUke', 'BoyWithUke'], dtype=object)"
      ]
     },
     "execution_count": 16,
     "metadata": {},
     "output_type": "execute_result"
    }
   ],
   "source": [
    "toxic_artists = np.array(charts[charts.get('track_name')=='Toxic'].get('artist_names'))\n",
    "toxic_artists"
   ]
  },
  {
   "cell_type": "code",
   "execution_count": 17,
   "id": "bba48882",
   "metadata": {
    "deletable": false,
    "editable": false
   },
   "outputs": [
    {
     "data": {
      "text/html": [
       "<p><strong><pre style='display: inline;'>q1_6</pre></strong> passed!</p>"
      ],
      "text/plain": [
       "q1_6 results: All test cases passed!"
      ]
     },
     "execution_count": 17,
     "metadata": {},
     "output_type": "execute_result"
    }
   ],
   "source": [
    "grader.check(\"q1_6\")"
   ]
  },
  {
   "cell_type": "markdown",
   "id": "27e784cd",
   "metadata": {},
   "source": [
    "If you did Question 1.6 correctly, you'll see that there are 3 different `'artist_names'` who have songs named `'Toxic'`. Let's try and redo our calculation for _all_ `'track_names'` in our dataset, not just `'Toxic'`.\n",
    "\n",
    "**Question 1.7. ⭐️⭐️** Create a DataFrame of all `'track_names'` that are associated with **multiple** `'artist_names'`. Your DataFrame should have two columns:\n",
    "1. `'track_name'`, the name of a song. \n",
    "2. `'num_artists'`, the number of different artists (or groups of artists) that have songs by this name.\n",
    "\n",
    "Save your DataFrame as `repeat_titles`."
   ]
  },
  {
   "cell_type": "code",
   "execution_count": 18,
   "id": "98795b3d",
   "metadata": {},
   "outputs": [
    {
     "data": {
      "text/html": [
       "<div>\n",
       "<style scoped>\n",
       "    .dataframe tbody tr th:only-of-type {\n",
       "        vertical-align: middle;\n",
       "    }\n",
       "\n",
       "    .dataframe tbody tr th {\n",
       "        vertical-align: top;\n",
       "    }\n",
       "\n",
       "    .dataframe thead th {\n",
       "        text-align: right;\n",
       "    }\n",
       "</style>\n",
       "<table border=\"1\" class=\"dataframe\">\n",
       "  <thead>\n",
       "    <tr style=\"text-align: right;\">\n",
       "      <th></th>\n",
       "      <th>track_name</th>\n",
       "      <th>num_artists</th>\n",
       "    </tr>\n",
       "  </thead>\n",
       "  <tbody>\n",
       "    <tr>\n",
       "      <th>0</th>\n",
       "      <td>'Til You Can't</td>\n",
       "      <td>1</td>\n",
       "    </tr>\n",
       "    <tr>\n",
       "      <th>1</th>\n",
       "      <td>'Till I Collapse</td>\n",
       "      <td>1</td>\n",
       "    </tr>\n",
       "    <tr>\n",
       "      <th>2</th>\n",
       "      <td>(Don't Fear) The Reaper</td>\n",
       "      <td>1</td>\n",
       "    </tr>\n",
       "    <tr>\n",
       "      <th>3</th>\n",
       "      <td>(Everybody's Waitin' For) The Man With The Bag...</td>\n",
       "      <td>1</td>\n",
       "    </tr>\n",
       "    <tr>\n",
       "      <th>4</th>\n",
       "      <td>(There's No Place Like) Home for the Holidays ...</td>\n",
       "      <td>1</td>\n",
       "    </tr>\n",
       "    <tr>\n",
       "      <th>...</th>\n",
       "      <td>...</td>\n",
       "      <td>...</td>\n",
       "    </tr>\n",
       "    <tr>\n",
       "      <th>2516</th>\n",
       "      <td>you broke me first</td>\n",
       "      <td>1</td>\n",
       "    </tr>\n",
       "    <tr>\n",
       "      <th>2517</th>\n",
       "      <td>¿Por Qué Me Haces Llorar?</td>\n",
       "      <td>1</td>\n",
       "    </tr>\n",
       "    <tr>\n",
       "      <th>2518</th>\n",
       "      <td>¿Quién Te Crees?</td>\n",
       "      <td>1</td>\n",
       "    </tr>\n",
       "    <tr>\n",
       "      <th>2519</th>\n",
       "      <td>Éxtasis</td>\n",
       "      <td>1</td>\n",
       "    </tr>\n",
       "    <tr>\n",
       "      <th>2520</th>\n",
       "      <td>Índigo</td>\n",
       "      <td>1</td>\n",
       "    </tr>\n",
       "  </tbody>\n",
       "</table>\n",
       "<p>2521 rows × 2 columns</p>\n",
       "</div>"
      ],
      "text/plain": [
       "                                             track_name  num_artists\n",
       "0                                        'Til You Can't            1\n",
       "1                                      'Till I Collapse            1\n",
       "2                               (Don't Fear) The Reaper            1\n",
       "3     (Everybody's Waitin' For) The Man With The Bag...            1\n",
       "4     (There's No Place Like) Home for the Holidays ...            1\n",
       "...                                                 ...          ...\n",
       "2516                                 you broke me first            1\n",
       "2517                          ¿Por Qué Me Haces Llorar?            1\n",
       "2518                                   ¿Quién Te Crees?            1\n",
       "2519                                            Éxtasis            1\n",
       "2520                                             Índigo            1\n",
       "\n",
       "[2521 rows x 2 columns]"
      ]
     },
     "execution_count": 18,
     "metadata": {},
     "output_type": "execute_result"
    }
   ],
   "source": [
    "# groupby artist name , trackname\n",
    "# groupby trackname to get no unique ones\n",
    "repeat_titles = charts.groupby(['track_name', 'artist_names']).count().reset_index().groupby('track_name').count()\n",
    "repeat_titles = repeat_titles.assign(num_artists = repeat_titles.get('week')).reset_index().get(['track_name', 'num_artists'])\n",
    "#repeat_titles = repeat_titles[repeat_titles.get('num_artists') > 1]\n",
    "repeat_titles"
   ]
  },
  {
   "cell_type": "code",
   "execution_count": 19,
   "id": "e6aac6fc",
   "metadata": {
    "deletable": false,
    "editable": false
   },
   "outputs": [
    {
     "data": {
      "text/html": [
       "<p><strong><pre style='display: inline;'>q1_7</pre></strong> passed!</p>"
      ],
      "text/plain": [
       "q1_7 results: All test cases passed!"
      ]
     },
     "execution_count": 19,
     "metadata": {},
     "output_type": "execute_result"
    }
   ],
   "source": [
    "grader.check(\"q1_7\")"
   ]
  },
  {
   "cell_type": "markdown",
   "id": "1d10cd9e",
   "metadata": {},
   "source": [
    "**Question 1.8. ⭐️⭐️** Add a column to `repeat_titles` called `'all_artists'`. Each entry of this column should be a string of all the `'artist_names'` associated with a given `'track_name'`, in any order. Format each string so that `'; '` appears between each of the `'artist_names'`.\n",
    "\n",
    "For example, the `'track_name'` `'Memories'` is associated with the `'artist_names'` `'Maroon 5'`, `'dvsn, Ty Dolla $ign'`, and `'Conan Grey'`, so the value in the `'all_artists'` column for `'Memories'` could be `'Maroon 5; dvsn, Ty Dolla $ign'; Conan Grey'`.\n",
    "\n",
    "*Hint*: Start by defining a function, then `apply` this function to each `'track_name'`."
   ]
  },
  {
   "cell_type": "code",
   "execution_count": 20,
   "id": "5c67a42c",
   "metadata": {},
   "outputs": [
    {
     "data": {
      "text/html": [
       "<div>\n",
       "<style scoped>\n",
       "    .dataframe tbody tr th:only-of-type {\n",
       "        vertical-align: middle;\n",
       "    }\n",
       "\n",
       "    .dataframe tbody tr th {\n",
       "        vertical-align: top;\n",
       "    }\n",
       "\n",
       "    .dataframe thead th {\n",
       "        text-align: right;\n",
       "    }\n",
       "</style>\n",
       "<table border=\"1\" class=\"dataframe\">\n",
       "  <thead>\n",
       "    <tr style=\"text-align: right;\">\n",
       "      <th></th>\n",
       "      <th>track_name</th>\n",
       "      <th>num_artists</th>\n",
       "      <th>all_artists</th>\n",
       "    </tr>\n",
       "  </thead>\n",
       "  <tbody>\n",
       "    <tr>\n",
       "      <th>0</th>\n",
       "      <td>'Til You Can't</td>\n",
       "      <td>1</td>\n",
       "      <td>Cody Johnson</td>\n",
       "    </tr>\n",
       "    <tr>\n",
       "      <th>1</th>\n",
       "      <td>'Till I Collapse</td>\n",
       "      <td>1</td>\n",
       "      <td>Eminem, Nate Dogg</td>\n",
       "    </tr>\n",
       "    <tr>\n",
       "      <th>2</th>\n",
       "      <td>(Don't Fear) The Reaper</td>\n",
       "      <td>1</td>\n",
       "      <td>Blue Öyster Cult</td>\n",
       "    </tr>\n",
       "    <tr>\n",
       "      <th>3</th>\n",
       "      <td>(Everybody's Waitin' For) The Man With The Bag...</td>\n",
       "      <td>1</td>\n",
       "      <td>Kay Starr</td>\n",
       "    </tr>\n",
       "    <tr>\n",
       "      <th>4</th>\n",
       "      <td>(There's No Place Like) Home for the Holidays ...</td>\n",
       "      <td>1</td>\n",
       "      <td>Perry Como</td>\n",
       "    </tr>\n",
       "    <tr>\n",
       "      <th>...</th>\n",
       "      <td>...</td>\n",
       "      <td>...</td>\n",
       "      <td>...</td>\n",
       "    </tr>\n",
       "    <tr>\n",
       "      <th>2516</th>\n",
       "      <td>you broke me first</td>\n",
       "      <td>1</td>\n",
       "      <td>Tate McRae</td>\n",
       "    </tr>\n",
       "    <tr>\n",
       "      <th>2517</th>\n",
       "      <td>¿Por Qué Me Haces Llorar?</td>\n",
       "      <td>1</td>\n",
       "      <td>Juan Gabriel</td>\n",
       "    </tr>\n",
       "    <tr>\n",
       "      <th>2518</th>\n",
       "      <td>¿Quién Te Crees?</td>\n",
       "      <td>1</td>\n",
       "      <td>MC Davo, Calibre 50</td>\n",
       "    </tr>\n",
       "    <tr>\n",
       "      <th>2519</th>\n",
       "      <td>Éxtasis</td>\n",
       "      <td>1</td>\n",
       "      <td>Millonario &amp; W. Corona, Cartel De Santa</td>\n",
       "    </tr>\n",
       "    <tr>\n",
       "      <th>2520</th>\n",
       "      <td>Índigo</td>\n",
       "      <td>1</td>\n",
       "      <td>Camilo, Evaluna Montaner</td>\n",
       "    </tr>\n",
       "  </tbody>\n",
       "</table>\n",
       "<p>2521 rows × 3 columns</p>\n",
       "</div>"
      ],
      "text/plain": [
       "                                             track_name  num_artists  \\\n",
       "0                                        'Til You Can't            1   \n",
       "1                                      'Till I Collapse            1   \n",
       "2                               (Don't Fear) The Reaper            1   \n",
       "3     (Everybody's Waitin' For) The Man With The Bag...            1   \n",
       "4     (There's No Place Like) Home for the Holidays ...            1   \n",
       "...                                                 ...          ...   \n",
       "2516                                 you broke me first            1   \n",
       "2517                          ¿Por Qué Me Haces Llorar?            1   \n",
       "2518                                   ¿Quién Te Crees?            1   \n",
       "2519                                            Éxtasis            1   \n",
       "2520                                             Índigo            1   \n",
       "\n",
       "                                  all_artists  \n",
       "0                                Cody Johnson  \n",
       "1                           Eminem, Nate Dogg  \n",
       "2                            Blue Öyster Cult  \n",
       "3                                   Kay Starr  \n",
       "4                                  Perry Como  \n",
       "...                                       ...  \n",
       "2516                               Tate McRae  \n",
       "2517                             Juan Gabriel  \n",
       "2518                      MC Davo, Calibre 50  \n",
       "2519  Millonario & W. Corona, Cartel De Santa  \n",
       "2520                 Camilo, Evaluna Montaner  \n",
       "\n",
       "[2521 rows x 3 columns]"
      ]
     },
     "execution_count": 20,
     "metadata": {},
     "output_type": "execute_result"
    }
   ],
   "source": [
    "def num_artists(song):\n",
    "    return \"; \".join(charts[charts.get('track_name') == song].get('artist_names').unique())\n",
    "repeat_titles = repeat_titles.assign(all_artists =repeat_titles.get('track_name').apply(num_artists))\n",
    "repeat_titles"
   ]
  },
  {
   "cell_type": "code",
   "execution_count": 21,
   "id": "a7a54fe8",
   "metadata": {
    "deletable": false,
    "editable": false
   },
   "outputs": [
    {
     "data": {
      "text/html": [
       "<p><strong><pre style='display: inline;'>q1_8</pre></strong> passed!</p>"
      ],
      "text/plain": [
       "q1_8 results: All test cases passed!"
      ]
     },
     "execution_count": 21,
     "metadata": {},
     "output_type": "execute_result"
    }
   ],
   "source": [
    "grader.check(\"q1_8\")"
   ]
  },
  {
   "cell_type": "markdown",
   "id": "037dbfac",
   "metadata": {},
   "source": [
    "So far, we've established that we can't use `'uri'` to identify a song, because some songs have multiple versions and hence multiple `'uri'`s. We also can't use `'track_name'` to identify a song, because different artists sometimes have songs with the same name.\n",
    "\n",
    "However, it's a pretty safe assumption that no artist will have two different songs with the same name, so from here on, we will use both `'track_name'` and `'artist_names'` to identify a song. \n",
    "\n",
    "**Question 1.9.** If we define a song as a combination of `'track_name'` and `'artist_names'`, how many songs are in `charts`?  Store your answer in a variable called `num_songs`."
   ]
  },
  {
   "cell_type": "code",
   "execution_count": 22,
   "id": "59961d0f",
   "metadata": {
    "scrolled": true
   },
   "outputs": [
    {
     "data": {
      "text/plain": [
       "2521"
      ]
     },
     "execution_count": 22,
     "metadata": {},
     "output_type": "execute_result"
    }
   ],
   "source": [
    "num_songs = repeat_titles.shape[0]\n",
    "num_songs"
   ]
  },
  {
   "cell_type": "code",
   "execution_count": 23,
   "id": "69ceff7c",
   "metadata": {
    "deletable": false,
    "editable": false
   },
   "outputs": [
    {
     "data": {
      "text/html": [
       "<p><strong><pre style='display: inline;'>q1_9</pre></strong> passed!</p>"
      ],
      "text/plain": [
       "q1_9 results: All test cases passed!"
      ]
     },
     "execution_count": 23,
     "metadata": {},
     "output_type": "execute_result"
    }
   ],
   "source": [
    "grader.check(\"q1_9\")"
   ]
  },
  {
   "cell_type": "markdown",
   "id": "52d4e510",
   "metadata": {},
   "source": [
    "Defining a song in this way means that multiple rows in `charts` correspond to the same song, for a variety of reasons we have already explored. If we want to make a DataFrame of just songs, we will need a way to handle discrepancies between the rows of `charts` that correspond to the same song. In each column where it makes sense to do so, we'll just take the median of all values corresponding to the same song.\n",
    "\n",
    "**Question 1.10.** Create a DataFrame called `songs_on_charts` containing one row for each song that appears in `charts`. The first two columns should be `'track_name'` and `'artist_names'`. The remaining columns should be those listed below, and each column should contain the **median** value among all instances of the song.\n",
    "- `'danceability'`\n",
    "- `'energy'`\n",
    "- `'key'`\n",
    "- `'mode'`\n",
    "- `'loudness'`\n",
    "- `'speechiness'`\n",
    "- `'acousticness'`\n",
    "- `'instrumentalness'`\n",
    "- `'liveness'`\n",
    "- `'valence'`\n",
    "- `'tempo'`\n",
    "- `'duration'`"
   ]
  },
  {
   "cell_type": "code",
   "execution_count": 24,
   "id": "78f0dd40",
   "metadata": {
    "scrolled": false
   },
   "outputs": [
    {
     "data": {
      "text/html": [
       "<div>\n",
       "<style scoped>\n",
       "    .dataframe tbody tr th:only-of-type {\n",
       "        vertical-align: middle;\n",
       "    }\n",
       "\n",
       "    .dataframe tbody tr th {\n",
       "        vertical-align: top;\n",
       "    }\n",
       "\n",
       "    .dataframe thead th {\n",
       "        text-align: right;\n",
       "    }\n",
       "</style>\n",
       "<table border=\"1\" class=\"dataframe\">\n",
       "  <thead>\n",
       "    <tr style=\"text-align: right;\">\n",
       "      <th></th>\n",
       "      <th>track_name</th>\n",
       "      <th>artist_names</th>\n",
       "      <th>danceability</th>\n",
       "      <th>energy</th>\n",
       "      <th>key</th>\n",
       "      <th>mode</th>\n",
       "      <th>loudness</th>\n",
       "      <th>speechiness</th>\n",
       "      <th>acousticness</th>\n",
       "      <th>instrumentalness</th>\n",
       "      <th>liveness</th>\n",
       "      <th>valence</th>\n",
       "      <th>tempo</th>\n",
       "      <th>duration</th>\n",
       "    </tr>\n",
       "  </thead>\n",
       "  <tbody>\n",
       "    <tr>\n",
       "      <th>0</th>\n",
       "      <td>'Til You Can't</td>\n",
       "      <td>Cody Johnson</td>\n",
       "      <td>0.501</td>\n",
       "      <td>0.815</td>\n",
       "      <td>1.0</td>\n",
       "      <td>1.0</td>\n",
       "      <td>-4.865</td>\n",
       "      <td>0.0436</td>\n",
       "      <td>0.05130</td>\n",
       "      <td>0.000000</td>\n",
       "      <td>0.1060</td>\n",
       "      <td>0.4600</td>\n",
       "      <td>160.087</td>\n",
       "      <td>224213.0</td>\n",
       "    </tr>\n",
       "    <tr>\n",
       "      <th>1</th>\n",
       "      <td>'Till I Collapse</td>\n",
       "      <td>Eminem, Nate Dogg</td>\n",
       "      <td>0.548</td>\n",
       "      <td>0.847</td>\n",
       "      <td>1.0</td>\n",
       "      <td>1.0</td>\n",
       "      <td>-3.237</td>\n",
       "      <td>0.1860</td>\n",
       "      <td>0.06220</td>\n",
       "      <td>0.000000</td>\n",
       "      <td>0.0816</td>\n",
       "      <td>0.1000</td>\n",
       "      <td>171.447</td>\n",
       "      <td>297787.0</td>\n",
       "    </tr>\n",
       "    <tr>\n",
       "      <th>2</th>\n",
       "      <td>(Don't Fear) The Reaper</td>\n",
       "      <td>Blue Öyster Cult</td>\n",
       "      <td>0.333</td>\n",
       "      <td>0.927</td>\n",
       "      <td>9.0</td>\n",
       "      <td>0.0</td>\n",
       "      <td>-8.550</td>\n",
       "      <td>0.0733</td>\n",
       "      <td>0.00290</td>\n",
       "      <td>0.000208</td>\n",
       "      <td>0.2970</td>\n",
       "      <td>0.3850</td>\n",
       "      <td>141.466</td>\n",
       "      <td>308120.0</td>\n",
       "    </tr>\n",
       "    <tr>\n",
       "      <th>3</th>\n",
       "      <td>(Everybody's Waitin' For) The Man With The Bag...</td>\n",
       "      <td>Kay Starr</td>\n",
       "      <td>0.739</td>\n",
       "      <td>0.317</td>\n",
       "      <td>0.0</td>\n",
       "      <td>1.0</td>\n",
       "      <td>-8.668</td>\n",
       "      <td>0.0905</td>\n",
       "      <td>0.39100</td>\n",
       "      <td>0.004870</td>\n",
       "      <td>0.2430</td>\n",
       "      <td>0.8060</td>\n",
       "      <td>71.165</td>\n",
       "      <td>162373.0</td>\n",
       "    </tr>\n",
       "    <tr>\n",
       "      <th>4</th>\n",
       "      <td>(There's No Place Like) Home for the Holidays ...</td>\n",
       "      <td>Perry Como</td>\n",
       "      <td>0.478</td>\n",
       "      <td>0.341</td>\n",
       "      <td>5.0</td>\n",
       "      <td>1.0</td>\n",
       "      <td>-12.556</td>\n",
       "      <td>0.0511</td>\n",
       "      <td>0.89700</td>\n",
       "      <td>0.000000</td>\n",
       "      <td>0.2580</td>\n",
       "      <td>0.4740</td>\n",
       "      <td>143.736</td>\n",
       "      <td>175893.0</td>\n",
       "    </tr>\n",
       "    <tr>\n",
       "      <th>...</th>\n",
       "      <td>...</td>\n",
       "      <td>...</td>\n",
       "      <td>...</td>\n",
       "      <td>...</td>\n",
       "      <td>...</td>\n",
       "      <td>...</td>\n",
       "      <td>...</td>\n",
       "      <td>...</td>\n",
       "      <td>...</td>\n",
       "      <td>...</td>\n",
       "      <td>...</td>\n",
       "      <td>...</td>\n",
       "      <td>...</td>\n",
       "      <td>...</td>\n",
       "    </tr>\n",
       "    <tr>\n",
       "      <th>2549</th>\n",
       "      <td>you broke me first</td>\n",
       "      <td>Tate McRae</td>\n",
       "      <td>0.667</td>\n",
       "      <td>0.373</td>\n",
       "      <td>4.0</td>\n",
       "      <td>1.0</td>\n",
       "      <td>-9.389</td>\n",
       "      <td>0.0500</td>\n",
       "      <td>0.78500</td>\n",
       "      <td>0.000000</td>\n",
       "      <td>0.0906</td>\n",
       "      <td>0.0823</td>\n",
       "      <td>124.148</td>\n",
       "      <td>169266.0</td>\n",
       "    </tr>\n",
       "    <tr>\n",
       "      <th>2550</th>\n",
       "      <td>¿Por Qué Me Haces Llorar?</td>\n",
       "      <td>Juan Gabriel</td>\n",
       "      <td>0.647</td>\n",
       "      <td>0.477</td>\n",
       "      <td>0.0</td>\n",
       "      <td>1.0</td>\n",
       "      <td>-8.157</td>\n",
       "      <td>0.0342</td>\n",
       "      <td>0.03740</td>\n",
       "      <td>0.000010</td>\n",
       "      <td>0.1270</td>\n",
       "      <td>0.7930</td>\n",
       "      <td>112.041</td>\n",
       "      <td>182880.0</td>\n",
       "    </tr>\n",
       "    <tr>\n",
       "      <th>2551</th>\n",
       "      <td>¿Quién Te Crees?</td>\n",
       "      <td>MC Davo, Calibre 50</td>\n",
       "      <td>0.747</td>\n",
       "      <td>0.780</td>\n",
       "      <td>9.0</td>\n",
       "      <td>0.0</td>\n",
       "      <td>-5.302</td>\n",
       "      <td>0.2160</td>\n",
       "      <td>0.05830</td>\n",
       "      <td>0.000000</td>\n",
       "      <td>0.1640</td>\n",
       "      <td>0.5380</td>\n",
       "      <td>82.524</td>\n",
       "      <td>185493.0</td>\n",
       "    </tr>\n",
       "    <tr>\n",
       "      <th>2552</th>\n",
       "      <td>Éxtasis</td>\n",
       "      <td>Millonario &amp; W. Corona, Cartel De Santa</td>\n",
       "      <td>0.937</td>\n",
       "      <td>0.791</td>\n",
       "      <td>0.0</td>\n",
       "      <td>1.0</td>\n",
       "      <td>-5.242</td>\n",
       "      <td>0.0871</td>\n",
       "      <td>0.02050</td>\n",
       "      <td>0.000232</td>\n",
       "      <td>0.0433</td>\n",
       "      <td>0.9740</td>\n",
       "      <td>119.967</td>\n",
       "      <td>289013.0</td>\n",
       "    </tr>\n",
       "    <tr>\n",
       "      <th>2553</th>\n",
       "      <td>Índigo</td>\n",
       "      <td>Camilo, Evaluna Montaner</td>\n",
       "      <td>0.748</td>\n",
       "      <td>0.779</td>\n",
       "      <td>0.0</td>\n",
       "      <td>1.0</td>\n",
       "      <td>-6.659</td>\n",
       "      <td>0.0342</td>\n",
       "      <td>0.00884</td>\n",
       "      <td>0.000040</td>\n",
       "      <td>0.1130</td>\n",
       "      <td>0.9280</td>\n",
       "      <td>128.910</td>\n",
       "      <td>214933.0</td>\n",
       "    </tr>\n",
       "  </tbody>\n",
       "</table>\n",
       "<p>2554 rows × 14 columns</p>\n",
       "</div>"
      ],
      "text/plain": [
       "                                             track_name  \\\n",
       "0                                        'Til You Can't   \n",
       "1                                      'Till I Collapse   \n",
       "2                               (Don't Fear) The Reaper   \n",
       "3     (Everybody's Waitin' For) The Man With The Bag...   \n",
       "4     (There's No Place Like) Home for the Holidays ...   \n",
       "...                                                 ...   \n",
       "2549                                 you broke me first   \n",
       "2550                          ¿Por Qué Me Haces Llorar?   \n",
       "2551                                   ¿Quién Te Crees?   \n",
       "2552                                            Éxtasis   \n",
       "2553                                             Índigo   \n",
       "\n",
       "                                 artist_names  danceability  energy  key  \\\n",
       "0                                Cody Johnson         0.501   0.815  1.0   \n",
       "1                           Eminem, Nate Dogg         0.548   0.847  1.0   \n",
       "2                            Blue Öyster Cult         0.333   0.927  9.0   \n",
       "3                                   Kay Starr         0.739   0.317  0.0   \n",
       "4                                  Perry Como         0.478   0.341  5.0   \n",
       "...                                       ...           ...     ...  ...   \n",
       "2549                               Tate McRae         0.667   0.373  4.0   \n",
       "2550                             Juan Gabriel         0.647   0.477  0.0   \n",
       "2551                      MC Davo, Calibre 50         0.747   0.780  9.0   \n",
       "2552  Millonario & W. Corona, Cartel De Santa         0.937   0.791  0.0   \n",
       "2553                 Camilo, Evaluna Montaner         0.748   0.779  0.0   \n",
       "\n",
       "      mode  loudness  speechiness  acousticness  instrumentalness  liveness  \\\n",
       "0      1.0    -4.865       0.0436       0.05130          0.000000    0.1060   \n",
       "1      1.0    -3.237       0.1860       0.06220          0.000000    0.0816   \n",
       "2      0.0    -8.550       0.0733       0.00290          0.000208    0.2970   \n",
       "3      1.0    -8.668       0.0905       0.39100          0.004870    0.2430   \n",
       "4      1.0   -12.556       0.0511       0.89700          0.000000    0.2580   \n",
       "...    ...       ...          ...           ...               ...       ...   \n",
       "2549   1.0    -9.389       0.0500       0.78500          0.000000    0.0906   \n",
       "2550   1.0    -8.157       0.0342       0.03740          0.000010    0.1270   \n",
       "2551   0.0    -5.302       0.2160       0.05830          0.000000    0.1640   \n",
       "2552   1.0    -5.242       0.0871       0.02050          0.000232    0.0433   \n",
       "2553   1.0    -6.659       0.0342       0.00884          0.000040    0.1130   \n",
       "\n",
       "      valence    tempo  duration  \n",
       "0      0.4600  160.087  224213.0  \n",
       "1      0.1000  171.447  297787.0  \n",
       "2      0.3850  141.466  308120.0  \n",
       "3      0.8060   71.165  162373.0  \n",
       "4      0.4740  143.736  175893.0  \n",
       "...       ...      ...       ...  \n",
       "2549   0.0823  124.148  169266.0  \n",
       "2550   0.7930  112.041  182880.0  \n",
       "2551   0.5380   82.524  185493.0  \n",
       "2552   0.9740  119.967  289013.0  \n",
       "2553   0.9280  128.910  214933.0  \n",
       "\n",
       "[2554 rows x 14 columns]"
      ]
     },
     "execution_count": 24,
     "metadata": {},
     "output_type": "execute_result"
    }
   ],
   "source": [
    "songs_on_charts = charts.groupby(['track_name', 'artist_names']).median().get(['danceability',\n",
    "'energy',\n",
    "'key',\n",
    "'mode',\n",
    "'loudness',\n",
    "'speechiness',\n",
    "'acousticness',\n",
    "'instrumentalness',\n",
    "'liveness',\n",
    "'valence',\n",
    "'tempo',\n",
    "'duration']).reset_index()\n",
    "songs_on_charts"
   ]
  },
  {
   "cell_type": "code",
   "execution_count": 25,
   "id": "d05543da",
   "metadata": {
    "deletable": false,
    "editable": false
   },
   "outputs": [
    {
     "data": {
      "text/html": [
       "<p><strong><pre style='display: inline;'>q1_10</pre></strong> passed!</p>"
      ],
      "text/plain": [
       "q1_10 results: All test cases passed!"
      ]
     },
     "execution_count": 25,
     "metadata": {},
     "output_type": "execute_result"
    }
   ],
   "source": [
    "grader.check(\"q1_10\")"
   ]
  },
  {
   "cell_type": "markdown",
   "id": "474a7569",
   "metadata": {},
   "source": [
    "For the next few sections of the project, we'll use data from the `songs_on_charts` DataFrame to explore some of the audio features of these songs. As a reminder, Spotify provides [documentation](https://developer.spotify.com/documentation/web-api/reference/#/operations/get-several-audio-features) on what these features represent. Note that many of these features (such as `'valence'`) are defined and determined by Spotify. We have no way of knowing exactly how they determine the values of these audio features for each song, as their algorithms are proprietary."
   ]
  },
  {
   "cell_type": "markdown",
   "id": "8298e4da",
   "metadata": {},
   "source": [
    "<a id='section2'></a>\n",
    "## Section 2: The Sound of Music 🎶\n",
    "\n",
    "<small>(<a href=\"#outline\">return to the outline</a>)</small>"
   ]
  },
  {
   "cell_type": "markdown",
   "id": "92b02478",
   "metadata": {},
   "source": [
    "We'll start this section by providing you with `songs`, a correct copy of the `songs_on_charts` DataFrame you produced in the last question of Section 1. We're providing you with a fresh copy of the data to prevent any earlier mistakes from creating a snowball effect. It's a good idea to verify that your `songs_on_charts` DataFrame and the provided `songs` DataFrame have the same number of rows, otherwise you certainly made a mistake in Section 1.\n",
    "\n",
    "**And if you didn't complete Section 1, that's fine – you can start from Section 2 without using any results from Section 1.**"
   ]
  },
  {
   "cell_type": "code",
   "execution_count": 26,
   "id": "d145db65",
   "metadata": {},
   "outputs": [
    {
     "data": {
      "text/html": [
       "<div>\n",
       "<style scoped>\n",
       "    .dataframe tbody tr th:only-of-type {\n",
       "        vertical-align: middle;\n",
       "    }\n",
       "\n",
       "    .dataframe tbody tr th {\n",
       "        vertical-align: top;\n",
       "    }\n",
       "\n",
       "    .dataframe thead th {\n",
       "        text-align: right;\n",
       "    }\n",
       "</style>\n",
       "<table border=\"1\" class=\"dataframe\">\n",
       "  <thead>\n",
       "    <tr style=\"text-align: right;\">\n",
       "      <th></th>\n",
       "      <th>track_name</th>\n",
       "      <th>artist_names</th>\n",
       "      <th>danceability</th>\n",
       "      <th>energy</th>\n",
       "      <th>key</th>\n",
       "      <th>mode</th>\n",
       "      <th>loudness</th>\n",
       "      <th>speechiness</th>\n",
       "      <th>acousticness</th>\n",
       "      <th>instrumentalness</th>\n",
       "      <th>liveness</th>\n",
       "      <th>valence</th>\n",
       "      <th>tempo</th>\n",
       "      <th>duration</th>\n",
       "    </tr>\n",
       "  </thead>\n",
       "  <tbody>\n",
       "    <tr>\n",
       "      <th>0</th>\n",
       "      <td>'Til You Can't</td>\n",
       "      <td>Cody Johnson</td>\n",
       "      <td>0.501</td>\n",
       "      <td>0.815</td>\n",
       "      <td>1.0</td>\n",
       "      <td>1.0</td>\n",
       "      <td>-4.865</td>\n",
       "      <td>0.0436</td>\n",
       "      <td>0.05130</td>\n",
       "      <td>0.000000</td>\n",
       "      <td>0.1060</td>\n",
       "      <td>0.4600</td>\n",
       "      <td>160.087</td>\n",
       "      <td>224213.0</td>\n",
       "    </tr>\n",
       "    <tr>\n",
       "      <th>1</th>\n",
       "      <td>'Till I Collapse</td>\n",
       "      <td>Eminem, Nate Dogg</td>\n",
       "      <td>0.548</td>\n",
       "      <td>0.847</td>\n",
       "      <td>1.0</td>\n",
       "      <td>1.0</td>\n",
       "      <td>-3.237</td>\n",
       "      <td>0.1860</td>\n",
       "      <td>0.06220</td>\n",
       "      <td>0.000000</td>\n",
       "      <td>0.0816</td>\n",
       "      <td>0.1000</td>\n",
       "      <td>171.447</td>\n",
       "      <td>297787.0</td>\n",
       "    </tr>\n",
       "    <tr>\n",
       "      <th>2</th>\n",
       "      <td>(Don't Fear) The Reaper</td>\n",
       "      <td>Blue Öyster Cult</td>\n",
       "      <td>0.333</td>\n",
       "      <td>0.927</td>\n",
       "      <td>9.0</td>\n",
       "      <td>0.0</td>\n",
       "      <td>-8.550</td>\n",
       "      <td>0.0733</td>\n",
       "      <td>0.00290</td>\n",
       "      <td>0.000208</td>\n",
       "      <td>0.2970</td>\n",
       "      <td>0.3850</td>\n",
       "      <td>141.466</td>\n",
       "      <td>308120.0</td>\n",
       "    </tr>\n",
       "    <tr>\n",
       "      <th>3</th>\n",
       "      <td>(Everybody's Waitin' For) The Man With The Bag...</td>\n",
       "      <td>Kay Starr</td>\n",
       "      <td>0.739</td>\n",
       "      <td>0.317</td>\n",
       "      <td>0.0</td>\n",
       "      <td>1.0</td>\n",
       "      <td>-8.668</td>\n",
       "      <td>0.0905</td>\n",
       "      <td>0.39100</td>\n",
       "      <td>0.004870</td>\n",
       "      <td>0.2430</td>\n",
       "      <td>0.8060</td>\n",
       "      <td>71.165</td>\n",
       "      <td>162373.0</td>\n",
       "    </tr>\n",
       "    <tr>\n",
       "      <th>4</th>\n",
       "      <td>(There's No Place Like) Home for the Holidays ...</td>\n",
       "      <td>Perry Como</td>\n",
       "      <td>0.478</td>\n",
       "      <td>0.341</td>\n",
       "      <td>5.0</td>\n",
       "      <td>1.0</td>\n",
       "      <td>-12.556</td>\n",
       "      <td>0.0511</td>\n",
       "      <td>0.89700</td>\n",
       "      <td>0.000000</td>\n",
       "      <td>0.2580</td>\n",
       "      <td>0.4740</td>\n",
       "      <td>143.736</td>\n",
       "      <td>175893.0</td>\n",
       "    </tr>\n",
       "    <tr>\n",
       "      <th>...</th>\n",
       "      <td>...</td>\n",
       "      <td>...</td>\n",
       "      <td>...</td>\n",
       "      <td>...</td>\n",
       "      <td>...</td>\n",
       "      <td>...</td>\n",
       "      <td>...</td>\n",
       "      <td>...</td>\n",
       "      <td>...</td>\n",
       "      <td>...</td>\n",
       "      <td>...</td>\n",
       "      <td>...</td>\n",
       "      <td>...</td>\n",
       "      <td>...</td>\n",
       "    </tr>\n",
       "    <tr>\n",
       "      <th>2549</th>\n",
       "      <td>you broke me first</td>\n",
       "      <td>Tate McRae</td>\n",
       "      <td>0.667</td>\n",
       "      <td>0.373</td>\n",
       "      <td>4.0</td>\n",
       "      <td>1.0</td>\n",
       "      <td>-9.389</td>\n",
       "      <td>0.0500</td>\n",
       "      <td>0.78500</td>\n",
       "      <td>0.000000</td>\n",
       "      <td>0.0906</td>\n",
       "      <td>0.0823</td>\n",
       "      <td>124.148</td>\n",
       "      <td>169266.0</td>\n",
       "    </tr>\n",
       "    <tr>\n",
       "      <th>2550</th>\n",
       "      <td>¿Por Qué Me Haces Llorar?</td>\n",
       "      <td>Juan Gabriel</td>\n",
       "      <td>0.647</td>\n",
       "      <td>0.477</td>\n",
       "      <td>0.0</td>\n",
       "      <td>1.0</td>\n",
       "      <td>-8.157</td>\n",
       "      <td>0.0342</td>\n",
       "      <td>0.03740</td>\n",
       "      <td>0.000010</td>\n",
       "      <td>0.1270</td>\n",
       "      <td>0.7930</td>\n",
       "      <td>112.041</td>\n",
       "      <td>182880.0</td>\n",
       "    </tr>\n",
       "    <tr>\n",
       "      <th>2551</th>\n",
       "      <td>¿Quién Te Crees?</td>\n",
       "      <td>MC Davo, Calibre 50</td>\n",
       "      <td>0.747</td>\n",
       "      <td>0.780</td>\n",
       "      <td>9.0</td>\n",
       "      <td>0.0</td>\n",
       "      <td>-5.302</td>\n",
       "      <td>0.2160</td>\n",
       "      <td>0.05830</td>\n",
       "      <td>0.000000</td>\n",
       "      <td>0.1640</td>\n",
       "      <td>0.5380</td>\n",
       "      <td>82.524</td>\n",
       "      <td>185493.0</td>\n",
       "    </tr>\n",
       "    <tr>\n",
       "      <th>2552</th>\n",
       "      <td>Éxtasis</td>\n",
       "      <td>Millonario &amp; W. Corona, Cartel De Santa</td>\n",
       "      <td>0.937</td>\n",
       "      <td>0.791</td>\n",
       "      <td>0.0</td>\n",
       "      <td>1.0</td>\n",
       "      <td>-5.242</td>\n",
       "      <td>0.0871</td>\n",
       "      <td>0.02050</td>\n",
       "      <td>0.000232</td>\n",
       "      <td>0.0433</td>\n",
       "      <td>0.9740</td>\n",
       "      <td>119.967</td>\n",
       "      <td>289013.0</td>\n",
       "    </tr>\n",
       "    <tr>\n",
       "      <th>2553</th>\n",
       "      <td>Índigo</td>\n",
       "      <td>Camilo, Evaluna Montaner</td>\n",
       "      <td>0.748</td>\n",
       "      <td>0.779</td>\n",
       "      <td>0.0</td>\n",
       "      <td>1.0</td>\n",
       "      <td>-6.659</td>\n",
       "      <td>0.0342</td>\n",
       "      <td>0.00884</td>\n",
       "      <td>0.000040</td>\n",
       "      <td>0.1130</td>\n",
       "      <td>0.9280</td>\n",
       "      <td>128.910</td>\n",
       "      <td>214933.0</td>\n",
       "    </tr>\n",
       "  </tbody>\n",
       "</table>\n",
       "<p>2554 rows × 14 columns</p>\n",
       "</div>"
      ],
      "text/plain": [
       "                                             track_name  \\\n",
       "0                                        'Til You Can't   \n",
       "1                                      'Till I Collapse   \n",
       "2                               (Don't Fear) The Reaper   \n",
       "3     (Everybody's Waitin' For) The Man With The Bag...   \n",
       "4     (There's No Place Like) Home for the Holidays ...   \n",
       "...                                                 ...   \n",
       "2549                                 you broke me first   \n",
       "2550                          ¿Por Qué Me Haces Llorar?   \n",
       "2551                                   ¿Quién Te Crees?   \n",
       "2552                                            Éxtasis   \n",
       "2553                                             Índigo   \n",
       "\n",
       "                                 artist_names  danceability  energy  key  \\\n",
       "0                                Cody Johnson         0.501   0.815  1.0   \n",
       "1                           Eminem, Nate Dogg         0.548   0.847  1.0   \n",
       "2                            Blue Öyster Cult         0.333   0.927  9.0   \n",
       "3                                   Kay Starr         0.739   0.317  0.0   \n",
       "4                                  Perry Como         0.478   0.341  5.0   \n",
       "...                                       ...           ...     ...  ...   \n",
       "2549                               Tate McRae         0.667   0.373  4.0   \n",
       "2550                             Juan Gabriel         0.647   0.477  0.0   \n",
       "2551                      MC Davo, Calibre 50         0.747   0.780  9.0   \n",
       "2552  Millonario & W. Corona, Cartel De Santa         0.937   0.791  0.0   \n",
       "2553                 Camilo, Evaluna Montaner         0.748   0.779  0.0   \n",
       "\n",
       "      mode  loudness  speechiness  acousticness  instrumentalness  liveness  \\\n",
       "0      1.0    -4.865       0.0436       0.05130          0.000000    0.1060   \n",
       "1      1.0    -3.237       0.1860       0.06220          0.000000    0.0816   \n",
       "2      0.0    -8.550       0.0733       0.00290          0.000208    0.2970   \n",
       "3      1.0    -8.668       0.0905       0.39100          0.004870    0.2430   \n",
       "4      1.0   -12.556       0.0511       0.89700          0.000000    0.2580   \n",
       "...    ...       ...          ...           ...               ...       ...   \n",
       "2549   1.0    -9.389       0.0500       0.78500          0.000000    0.0906   \n",
       "2550   1.0    -8.157       0.0342       0.03740          0.000010    0.1270   \n",
       "2551   0.0    -5.302       0.2160       0.05830          0.000000    0.1640   \n",
       "2552   1.0    -5.242       0.0871       0.02050          0.000232    0.0433   \n",
       "2553   1.0    -6.659       0.0342       0.00884          0.000040    0.1130   \n",
       "\n",
       "      valence    tempo  duration  \n",
       "0      0.4600  160.087  224213.0  \n",
       "1      0.1000  171.447  297787.0  \n",
       "2      0.3850  141.466  308120.0  \n",
       "3      0.8060   71.165  162373.0  \n",
       "4      0.4740  143.736  175893.0  \n",
       "...       ...      ...       ...  \n",
       "2549   0.0823  124.148  169266.0  \n",
       "2550   0.7930  112.041  182880.0  \n",
       "2551   0.5380   82.524  185493.0  \n",
       "2552   0.9740  119.967  289013.0  \n",
       "2553   0.9280  128.910  214933.0  \n",
       "\n",
       "[2554 rows x 14 columns]"
      ]
     },
     "execution_count": 26,
     "metadata": {},
     "output_type": "execute_result"
    }
   ],
   "source": [
    "songs = bpd.read_csv('data/songs.csv')\n",
    "songs"
   ]
  },
  {
   "cell_type": "markdown",
   "id": "6320c93c",
   "metadata": {},
   "source": [
    "As a reminder, `songs` has one row for every song that appeared on the top 200 weekly charts during the period of data collection. The columns contain information about the audio features of songs, as mentioned at the end of Section 1.\n",
    "\n",
    "Let's try and make some sense of these audio features!"
   ]
  },
  {
   "cell_type": "markdown",
   "id": "3f69f06a",
   "metadata": {},
   "source": [
    "**Question 2.1.** First, let's make the `'duration'` column more readable by changing the units from milliseconds to minutes. Add a new column to `songs` called `'duration_min'` that contains the duration of each track in minutes, without rounding, and drop the `'duration'` column."
   ]
  },
  {
   "cell_type": "code",
   "execution_count": 27,
   "id": "802e5e75",
   "metadata": {
    "scrolled": true
   },
   "outputs": [
    {
     "data": {
      "text/html": [
       "<div>\n",
       "<style scoped>\n",
       "    .dataframe tbody tr th:only-of-type {\n",
       "        vertical-align: middle;\n",
       "    }\n",
       "\n",
       "    .dataframe tbody tr th {\n",
       "        vertical-align: top;\n",
       "    }\n",
       "\n",
       "    .dataframe thead th {\n",
       "        text-align: right;\n",
       "    }\n",
       "</style>\n",
       "<table border=\"1\" class=\"dataframe\">\n",
       "  <thead>\n",
       "    <tr style=\"text-align: right;\">\n",
       "      <th></th>\n",
       "      <th>track_name</th>\n",
       "      <th>artist_names</th>\n",
       "      <th>danceability</th>\n",
       "      <th>energy</th>\n",
       "      <th>key</th>\n",
       "      <th>mode</th>\n",
       "      <th>loudness</th>\n",
       "      <th>speechiness</th>\n",
       "      <th>acousticness</th>\n",
       "      <th>instrumentalness</th>\n",
       "      <th>liveness</th>\n",
       "      <th>valence</th>\n",
       "      <th>tempo</th>\n",
       "      <th>duration_min</th>\n",
       "    </tr>\n",
       "  </thead>\n",
       "  <tbody>\n",
       "    <tr>\n",
       "      <th>1053</th>\n",
       "      <td>Jesus Lord pt 2</td>\n",
       "      <td>Kanye West</td>\n",
       "      <td>0.524</td>\n",
       "      <td>0.7260</td>\n",
       "      <td>8.0</td>\n",
       "      <td>1.0</td>\n",
       "      <td>-6.628</td>\n",
       "      <td>0.0941</td>\n",
       "      <td>0.07050</td>\n",
       "      <td>0.019200</td>\n",
       "      <td>0.0877</td>\n",
       "      <td>0.146</td>\n",
       "      <td>107.400</td>\n",
       "      <td>11.512200</td>\n",
       "    </tr>\n",
       "    <tr>\n",
       "      <th>125</th>\n",
       "      <td>All Too Well (10 Minute Version) (Taylor's Ver...</td>\n",
       "      <td>Taylor Swift</td>\n",
       "      <td>0.631</td>\n",
       "      <td>0.5180</td>\n",
       "      <td>0.0</td>\n",
       "      <td>1.0</td>\n",
       "      <td>-8.771</td>\n",
       "      <td>0.0303</td>\n",
       "      <td>0.27400</td>\n",
       "      <td>0.000000</td>\n",
       "      <td>0.0880</td>\n",
       "      <td>0.205</td>\n",
       "      <td>93.023</td>\n",
       "      <td>10.217117</td>\n",
       "    </tr>\n",
       "    <tr>\n",
       "      <th>1784</th>\n",
       "      <td>SWEET / I THOUGHT YOU WANTED TO DANCE (feat. B...</td>\n",
       "      <td>Tyler, The Creator, Brent Faiyaz, Fana Hues</td>\n",
       "      <td>0.468</td>\n",
       "      <td>0.6520</td>\n",
       "      <td>0.0</td>\n",
       "      <td>1.0</td>\n",
       "      <td>-4.912</td>\n",
       "      <td>0.0722</td>\n",
       "      <td>0.33300</td>\n",
       "      <td>0.000318</td>\n",
       "      <td>0.5500</td>\n",
       "      <td>0.390</td>\n",
       "      <td>140.223</td>\n",
       "      <td>9.802317</td>\n",
       "    </tr>\n",
       "    <tr>\n",
       "      <th>1052</th>\n",
       "      <td>Jesus Lord</td>\n",
       "      <td>Kanye West</td>\n",
       "      <td>0.477</td>\n",
       "      <td>0.7130</td>\n",
       "      <td>1.0</td>\n",
       "      <td>1.0</td>\n",
       "      <td>-6.805</td>\n",
       "      <td>0.1260</td>\n",
       "      <td>0.09840</td>\n",
       "      <td>0.008440</td>\n",
       "      <td>0.0879</td>\n",
       "      <td>0.113</td>\n",
       "      <td>106.137</td>\n",
       "      <td>8.975617</td>\n",
       "    </tr>\n",
       "    <tr>\n",
       "      <th>1719</th>\n",
       "      <td>Residente: Bzrp Music Sessions, Vol. 49</td>\n",
       "      <td>Bizarrap, Residente</td>\n",
       "      <td>0.586</td>\n",
       "      <td>0.7400</td>\n",
       "      <td>1.0</td>\n",
       "      <td>0.0</td>\n",
       "      <td>-2.997</td>\n",
       "      <td>0.4040</td>\n",
       "      <td>0.55500</td>\n",
       "      <td>0.000000</td>\n",
       "      <td>0.1100</td>\n",
       "      <td>0.697</td>\n",
       "      <td>71.378</td>\n",
       "      <td>8.654817</td>\n",
       "    </tr>\n",
       "    <tr>\n",
       "      <th>...</th>\n",
       "      <td>...</td>\n",
       "      <td>...</td>\n",
       "      <td>...</td>\n",
       "      <td>...</td>\n",
       "      <td>...</td>\n",
       "      <td>...</td>\n",
       "      <td>...</td>\n",
       "      <td>...</td>\n",
       "      <td>...</td>\n",
       "      <td>...</td>\n",
       "      <td>...</td>\n",
       "      <td>...</td>\n",
       "      <td>...</td>\n",
       "      <td>...</td>\n",
       "    </tr>\n",
       "    <tr>\n",
       "      <th>253</th>\n",
       "      <td>Bezos I</td>\n",
       "      <td>Bo Burnham</td>\n",
       "      <td>0.694</td>\n",
       "      <td>0.9480</td>\n",
       "      <td>2.0</td>\n",
       "      <td>1.0</td>\n",
       "      <td>-5.307</td>\n",
       "      <td>0.0361</td>\n",
       "      <td>0.00936</td>\n",
       "      <td>0.000016</td>\n",
       "      <td>0.1390</td>\n",
       "      <td>0.705</td>\n",
       "      <td>115.044</td>\n",
       "      <td>0.969150</td>\n",
       "    </tr>\n",
       "    <tr>\n",
       "      <th>189</th>\n",
       "      <td>BLESSED</td>\n",
       "      <td>Tyler, The Creator</td>\n",
       "      <td>0.336</td>\n",
       "      <td>0.6130</td>\n",
       "      <td>8.0</td>\n",
       "      <td>1.0</td>\n",
       "      <td>-7.869</td>\n",
       "      <td>0.1230</td>\n",
       "      <td>0.38900</td>\n",
       "      <td>0.000100</td>\n",
       "      <td>0.7650</td>\n",
       "      <td>0.741</td>\n",
       "      <td>40.319</td>\n",
       "      <td>0.961117</td>\n",
       "    </tr>\n",
       "    <tr>\n",
       "      <th>575</th>\n",
       "      <td>Donda Chant</td>\n",
       "      <td>Kanye West</td>\n",
       "      <td>0.702</td>\n",
       "      <td>0.0474</td>\n",
       "      <td>3.0</td>\n",
       "      <td>0.0</td>\n",
       "      <td>-15.198</td>\n",
       "      <td>0.5260</td>\n",
       "      <td>0.00516</td>\n",
       "      <td>0.000001</td>\n",
       "      <td>0.1470</td>\n",
       "      <td>0.175</td>\n",
       "      <td>102.983</td>\n",
       "      <td>0.867700</td>\n",
       "    </tr>\n",
       "    <tr>\n",
       "      <th>836</th>\n",
       "      <td>Good News</td>\n",
       "      <td>Pop Smoke</td>\n",
       "      <td>0.573</td>\n",
       "      <td>0.5040</td>\n",
       "      <td>10.0</td>\n",
       "      <td>1.0</td>\n",
       "      <td>-8.116</td>\n",
       "      <td>0.2190</td>\n",
       "      <td>0.23600</td>\n",
       "      <td>0.000000</td>\n",
       "      <td>0.1200</td>\n",
       "      <td>0.526</td>\n",
       "      <td>126.655</td>\n",
       "      <td>0.783217</td>\n",
       "    </tr>\n",
       "    <tr>\n",
       "      <th>1026</th>\n",
       "      <td>Intro</td>\n",
       "      <td>Drake</td>\n",
       "      <td>0.193</td>\n",
       "      <td>0.0218</td>\n",
       "      <td>0.0</td>\n",
       "      <td>0.0</td>\n",
       "      <td>-31.160</td>\n",
       "      <td>0.0389</td>\n",
       "      <td>0.95500</td>\n",
       "      <td>0.880000</td>\n",
       "      <td>0.1170</td>\n",
       "      <td>0.213</td>\n",
       "      <td>125.501</td>\n",
       "      <td>0.615583</td>\n",
       "    </tr>\n",
       "  </tbody>\n",
       "</table>\n",
       "<p>2554 rows × 14 columns</p>\n",
       "</div>"
      ],
      "text/plain": [
       "                                             track_name  \\\n",
       "1053                                    Jesus Lord pt 2   \n",
       "125   All Too Well (10 Minute Version) (Taylor's Ver...   \n",
       "1784  SWEET / I THOUGHT YOU WANTED TO DANCE (feat. B...   \n",
       "1052                                         Jesus Lord   \n",
       "1719            Residente: Bzrp Music Sessions, Vol. 49   \n",
       "...                                                 ...   \n",
       "253                                             Bezos I   \n",
       "189                                             BLESSED   \n",
       "575                                         Donda Chant   \n",
       "836                                           Good News   \n",
       "1026                                              Intro   \n",
       "\n",
       "                                     artist_names  danceability  energy   key  \\\n",
       "1053                                   Kanye West         0.524  0.7260   8.0   \n",
       "125                                  Taylor Swift         0.631  0.5180   0.0   \n",
       "1784  Tyler, The Creator, Brent Faiyaz, Fana Hues         0.468  0.6520   0.0   \n",
       "1052                                   Kanye West         0.477  0.7130   1.0   \n",
       "1719                          Bizarrap, Residente         0.586  0.7400   1.0   \n",
       "...                                           ...           ...     ...   ...   \n",
       "253                                    Bo Burnham         0.694  0.9480   2.0   \n",
       "189                            Tyler, The Creator         0.336  0.6130   8.0   \n",
       "575                                    Kanye West         0.702  0.0474   3.0   \n",
       "836                                     Pop Smoke         0.573  0.5040  10.0   \n",
       "1026                                        Drake         0.193  0.0218   0.0   \n",
       "\n",
       "      mode  loudness  speechiness  acousticness  instrumentalness  liveness  \\\n",
       "1053   1.0    -6.628       0.0941       0.07050          0.019200    0.0877   \n",
       "125    1.0    -8.771       0.0303       0.27400          0.000000    0.0880   \n",
       "1784   1.0    -4.912       0.0722       0.33300          0.000318    0.5500   \n",
       "1052   1.0    -6.805       0.1260       0.09840          0.008440    0.0879   \n",
       "1719   0.0    -2.997       0.4040       0.55500          0.000000    0.1100   \n",
       "...    ...       ...          ...           ...               ...       ...   \n",
       "253    1.0    -5.307       0.0361       0.00936          0.000016    0.1390   \n",
       "189    1.0    -7.869       0.1230       0.38900          0.000100    0.7650   \n",
       "575    0.0   -15.198       0.5260       0.00516          0.000001    0.1470   \n",
       "836    1.0    -8.116       0.2190       0.23600          0.000000    0.1200   \n",
       "1026   0.0   -31.160       0.0389       0.95500          0.880000    0.1170   \n",
       "\n",
       "      valence    tempo  duration_min  \n",
       "1053    0.146  107.400     11.512200  \n",
       "125     0.205   93.023     10.217117  \n",
       "1784    0.390  140.223      9.802317  \n",
       "1052    0.113  106.137      8.975617  \n",
       "1719    0.697   71.378      8.654817  \n",
       "...       ...      ...           ...  \n",
       "253     0.705  115.044      0.969150  \n",
       "189     0.741   40.319      0.961117  \n",
       "575     0.175  102.983      0.867700  \n",
       "836     0.526  126.655      0.783217  \n",
       "1026    0.213  125.501      0.615583  \n",
       "\n",
       "[2554 rows x 14 columns]"
      ]
     },
     "execution_count": 27,
     "metadata": {},
     "output_type": "execute_result"
    }
   ],
   "source": [
    "songs = songs.assign(duration_min = songs.get('duration') / 60000).drop(columns=['duration']).sort_values(by='duration_min', ascending=False)\n",
    "songs"
   ]
  },
  {
   "cell_type": "code",
   "execution_count": 28,
   "id": "ddc8d361",
   "metadata": {
    "deletable": false,
    "editable": false
   },
   "outputs": [
    {
     "data": {
      "text/html": [
       "<p><strong><pre style='display: inline;'>q2_1</pre></strong> passed!</p>"
      ],
      "text/plain": [
       "q2_1 results: All test cases passed!"
      ]
     },
     "execution_count": 28,
     "metadata": {},
     "output_type": "execute_result"
    }
   ],
   "source": [
    "grader.check(\"q2_1\")"
   ]
  },
  {
   "cell_type": "markdown",
   "id": "4fccee0b",
   "metadata": {},
   "source": [
    "**Question 2.2.** What's the longest song, in minutes, in `songs`? Save the `'track_name'` of this song to the variable `longest_song_name`, save the `'artist_names'` of this song to the variable `longest_song_artist`, and save the length of this song (in minutes) to the variable `longest_song_minutes`."
   ]
  },
  {
   "cell_type": "code",
   "execution_count": 29,
   "id": "a25dc094",
   "metadata": {},
   "outputs": [
    {
     "name": "stdout",
     "output_type": "stream",
     "text": [
      "The longest song in the dataset is \"Jesus Lord pt 2\" by Kanye West.\n",
      "It lasts a whopping 11.5 minutes!\n"
     ]
    }
   ],
   "source": [
    "longest_song_name = songs.get('track_name').iloc[0] \n",
    "longest_song_artist = songs.get('artist_names').iloc[0]\n",
    "longest_song_minutes = songs.get('duration_min').iloc[0]\n",
    "\n",
    "print('The longest song in the dataset is \"' + longest_song_name + '\" by ' + longest_song_artist + '.')\n",
    "print('It lasts a whopping ' + str(round(longest_song_minutes, 1)) + ' minutes!')"
   ]
  },
  {
   "cell_type": "code",
   "execution_count": 30,
   "id": "7a81e635",
   "metadata": {
    "deletable": false,
    "editable": false
   },
   "outputs": [
    {
     "data": {
      "text/html": [
       "<p><strong><pre style='display: inline;'>q2_2</pre></strong> passed!</p>"
      ],
      "text/plain": [
       "q2_2 results: All test cases passed!"
      ]
     },
     "execution_count": 30,
     "metadata": {},
     "output_type": "execute_result"
    }
   ],
   "source": [
    "grader.check(\"q2_2\")"
   ]
  },
  {
   "cell_type": "markdown",
   "id": "aa346839",
   "metadata": {},
   "source": [
    "A [musical key](https://www.studybass.com/lessons/harmony/keys-in-music/) describes a certain set of pitches, and usually a song is played in a certain key. In music theory, the different keys are associated with integers from 0 to 11 using what's known as [pitch class notation](https://en.wikipedia.org/wiki/Pitch_class#Other_ways_to_label_pitch_classes). Often, the keys are represented on a clock-like diagram like the one below, which shows the pitches associated with each of the 12 different musical keys.\n",
    "\n",
    "<center>\n",
    "    <img src='./data/pitch-class.png' width=50%>\n",
    "    (<a href=\"https://davidkulma.com/musictheory/integers\">source</a>)\n",
    "</center>\n",
    "\n",
    "If you want to hear what each key sounds like, check out [this virtual piano 🎹](https://www.musicca.com/piano)."
   ]
  },
  {
   "cell_type": "markdown",
   "id": "99363799",
   "metadata": {},
   "source": [
    "**Question 2.3.** Create an array of all the unique keys in the `songs` DataFrame. Save it as `unique_keys`."
   ]
  },
  {
   "cell_type": "code",
   "execution_count": 31,
   "id": "7b141944",
   "metadata": {},
   "outputs": [
    {
     "data": {
      "text/plain": [
       "array([ 8. ,  0. ,  1. ,  4. ,  2. ,  5. ,  6. , 10. ,  3. ,  7. ,  9. ,\n",
       "       11. ,  2.5])"
      ]
     },
     "execution_count": 31,
     "metadata": {},
     "output_type": "execute_result"
    }
   ],
   "source": [
    "#unique_keys = np.array([0, 1, 2, 3, 4, 5, 6, 7, 8, 9, 10, 11])\n",
    "unique_keys = songs.get('key').unique()\n",
    "unique_keys"
   ]
  },
  {
   "cell_type": "code",
   "execution_count": 32,
   "id": "21ff9e85",
   "metadata": {
    "deletable": false,
    "editable": false
   },
   "outputs": [
    {
     "data": {
      "text/html": [
       "<p><strong><pre style='display: inline;'>q2_3</pre></strong> passed!</p>"
      ],
      "text/plain": [
       "q2_3 results: All test cases passed!"
      ]
     },
     "execution_count": 32,
     "metadata": {},
     "output_type": "execute_result"
    }
   ],
   "source": [
    "grader.check(\"q2_3\")"
   ]
  },
  {
   "cell_type": "markdown",
   "id": "3c7fd2c3",
   "metadata": {},
   "source": [
    "**Question 2.4.** If you answered Question 2.3 correctly, you'll notice that not all of the keys are integers. This doesn't quite make sense, given the explanation we provided you before Question 2.3.\n",
    "\n",
    "Below, in two sentences, explain why not all of the keys in `songs` are integers.\n",
    "    \n",
    "*Hint*: Find the unique keys in the `charts` DataFrame."
   ]
  },
  {
   "cell_type": "markdown",
   "id": "18d6ef70",
   "metadata": {
    "deletable": false,
    "editable": false
   },
   "source": [
    "<!-- BEGIN QUESTION -->\n",
    "\n",
    "<!--\n",
    "BEGIN QUESTION\n",
    "name: q2_4\n",
    "manual: true\n",
    "points: 1\n",
    "-->"
   ]
  },
  {
   "cell_type": "markdown",
   "id": "0601ec6d",
   "metadata": {},
   "source": [
    "1. The data points for keys are entered in as 'floats' rather than 'integers' ex: 8.0 instead of 8\n",
    "2. Keys that are floats that are not equal to integers such as 2.5 != 2 nor 2.0 are used to identify songs that use more than one key; in these cases, the key value is an average of the keys used; therefore 2.5 uses keys 2.0 and 3.0 because the song experiences a key change."
   ]
  },
  {
   "cell_type": "markdown",
   "id": "443bbe48",
   "metadata": {},
   "source": [
    "<!-- END QUESTION -->\n",
    "\n",
    "\n",
    "\n",
    "**Question 2.5.** Create a visualization that shows the distribution of `'key'` in the `songs` DataFrame. "
   ]
  },
  {
   "cell_type": "markdown",
   "id": "24e9990d",
   "metadata": {
    "deletable": false,
    "editable": false
   },
   "source": [
    "<!-- BEGIN QUESTION -->\n",
    "\n",
    "<!--\n",
    "BEGIN QUESTION\n",
    "name: q2_5\n",
    "manual: true\n",
    "points: 1\n",
    "-->"
   ]
  },
  {
   "cell_type": "code",
   "execution_count": 33,
   "id": "d95f4625",
   "metadata": {
    "scrolled": true
   },
   "outputs": [
    {
     "data": {
      "text/plain": [
       "<AxesSubplot:ylabel='Frequency'>"
      ]
     },
     "execution_count": 33,
     "metadata": {},
     "output_type": "execute_result"
    },
    {
     "data": {
      "image/png": "[encoded data removed]",
      "text/plain": [
       "<Figure size 432x288 with 1 Axes>"
      ]
     },
     "metadata": {},
     "output_type": "display_data"
    }
   ],
   "source": [
    "# Make your data visualization here.\n",
    "# distribution of the keys\n",
    "songs.get('key').plot(kind = 'hist', x ='key', density=True, bins = 12)"
   ]
  },
  {
   "cell_type": "markdown",
   "id": "3203c076",
   "metadata": {},
   "source": [
    "<!-- END QUESTION -->\n",
    "\n",
    "\n",
    "\n",
    "<a id='section3'></a>\n",
    "## Section 3: Slow and Steady 🐢🐇\n",
    "\n",
    "<small>(<a href=\"#outline\">return to the outline</a>)</small>"
   ]
  },
  {
   "cell_type": "markdown",
   "id": "1f3038a5",
   "metadata": {},
   "source": [
    "In music, there are Italian words that describe the tempo, or pace, of a song. In this section, we will analyze the relationship between a song's tempo and its other audio features. But before we do that, we will convert the tempo of each song to its corresponding Italian description. Use the following definitions of Italian tempo markings:\n",
    "\n",
    "| Italian name | Corresponding tempo range, in beats per minute |\n",
    "| :--- | :--- |\n",
    "| Lento | [0, 60) |\n",
    "| Adagio | [60, 90)\n",
    "| Adante | [90, 110) |\n",
    "| Moderato | [110, 120) |\n",
    "| Allegro | [120, 160) |\n",
    "| Vivace | [160, 180) |\n",
    "| Presto | 180 or more |\n"
   ]
  },
  {
   "cell_type": "markdown",
   "id": "6b02f71a",
   "metadata": {},
   "source": [
    "**Question 3.1.** Add a new column to `songs` called `'tempo_name'` that contains the Italian tempo name for each song."
   ]
  },
  {
   "cell_type": "code",
   "execution_count": 34,
   "id": "30118bc3",
   "metadata": {},
   "outputs": [
    {
     "data": {
      "text/html": [
       "<div>\n",
       "<style scoped>\n",
       "    .dataframe tbody tr th:only-of-type {\n",
       "        vertical-align: middle;\n",
       "    }\n",
       "\n",
       "    .dataframe tbody tr th {\n",
       "        vertical-align: top;\n",
       "    }\n",
       "\n",
       "    .dataframe thead th {\n",
       "        text-align: right;\n",
       "    }\n",
       "</style>\n",
       "<table border=\"1\" class=\"dataframe\">\n",
       "  <thead>\n",
       "    <tr style=\"text-align: right;\">\n",
       "      <th></th>\n",
       "      <th>track_name</th>\n",
       "      <th>artist_names</th>\n",
       "      <th>danceability</th>\n",
       "      <th>energy</th>\n",
       "      <th>key</th>\n",
       "      <th>mode</th>\n",
       "      <th>loudness</th>\n",
       "      <th>speechiness</th>\n",
       "      <th>acousticness</th>\n",
       "      <th>instrumentalness</th>\n",
       "      <th>liveness</th>\n",
       "      <th>valence</th>\n",
       "      <th>tempo</th>\n",
       "      <th>duration_min</th>\n",
       "      <th>tempo_name</th>\n",
       "    </tr>\n",
       "  </thead>\n",
       "  <tbody>\n",
       "    <tr>\n",
       "      <th>1053</th>\n",
       "      <td>Jesus Lord pt 2</td>\n",
       "      <td>Kanye West</td>\n",
       "      <td>0.524</td>\n",
       "      <td>0.7260</td>\n",
       "      <td>8.0</td>\n",
       "      <td>1.0</td>\n",
       "      <td>-6.628</td>\n",
       "      <td>0.0941</td>\n",
       "      <td>0.07050</td>\n",
       "      <td>0.019200</td>\n",
       "      <td>0.0877</td>\n",
       "      <td>0.146</td>\n",
       "      <td>107.400</td>\n",
       "      <td>11.512200</td>\n",
       "      <td>Adante</td>\n",
       "    </tr>\n",
       "    <tr>\n",
       "      <th>125</th>\n",
       "      <td>All Too Well (10 Minute Version) (Taylor's Ver...</td>\n",
       "      <td>Taylor Swift</td>\n",
       "      <td>0.631</td>\n",
       "      <td>0.5180</td>\n",
       "      <td>0.0</td>\n",
       "      <td>1.0</td>\n",
       "      <td>-8.771</td>\n",
       "      <td>0.0303</td>\n",
       "      <td>0.27400</td>\n",
       "      <td>0.000000</td>\n",
       "      <td>0.0880</td>\n",
       "      <td>0.205</td>\n",
       "      <td>93.023</td>\n",
       "      <td>10.217117</td>\n",
       "      <td>Adante</td>\n",
       "    </tr>\n",
       "    <tr>\n",
       "      <th>1784</th>\n",
       "      <td>SWEET / I THOUGHT YOU WANTED TO DANCE (feat. B...</td>\n",
       "      <td>Tyler, The Creator, Brent Faiyaz, Fana Hues</td>\n",
       "      <td>0.468</td>\n",
       "      <td>0.6520</td>\n",
       "      <td>0.0</td>\n",
       "      <td>1.0</td>\n",
       "      <td>-4.912</td>\n",
       "      <td>0.0722</td>\n",
       "      <td>0.33300</td>\n",
       "      <td>0.000318</td>\n",
       "      <td>0.5500</td>\n",
       "      <td>0.390</td>\n",
       "      <td>140.223</td>\n",
       "      <td>9.802317</td>\n",
       "      <td>Allegro</td>\n",
       "    </tr>\n",
       "    <tr>\n",
       "      <th>1052</th>\n",
       "      <td>Jesus Lord</td>\n",
       "      <td>Kanye West</td>\n",
       "      <td>0.477</td>\n",
       "      <td>0.7130</td>\n",
       "      <td>1.0</td>\n",
       "      <td>1.0</td>\n",
       "      <td>-6.805</td>\n",
       "      <td>0.1260</td>\n",
       "      <td>0.09840</td>\n",
       "      <td>0.008440</td>\n",
       "      <td>0.0879</td>\n",
       "      <td>0.113</td>\n",
       "      <td>106.137</td>\n",
       "      <td>8.975617</td>\n",
       "      <td>Adante</td>\n",
       "    </tr>\n",
       "    <tr>\n",
       "      <th>1719</th>\n",
       "      <td>Residente: Bzrp Music Sessions, Vol. 49</td>\n",
       "      <td>Bizarrap, Residente</td>\n",
       "      <td>0.586</td>\n",
       "      <td>0.7400</td>\n",
       "      <td>1.0</td>\n",
       "      <td>0.0</td>\n",
       "      <td>-2.997</td>\n",
       "      <td>0.4040</td>\n",
       "      <td>0.55500</td>\n",
       "      <td>0.000000</td>\n",
       "      <td>0.1100</td>\n",
       "      <td>0.697</td>\n",
       "      <td>71.378</td>\n",
       "      <td>8.654817</td>\n",
       "      <td>Adagio</td>\n",
       "    </tr>\n",
       "    <tr>\n",
       "      <th>...</th>\n",
       "      <td>...</td>\n",
       "      <td>...</td>\n",
       "      <td>...</td>\n",
       "      <td>...</td>\n",
       "      <td>...</td>\n",
       "      <td>...</td>\n",
       "      <td>...</td>\n",
       "      <td>...</td>\n",
       "      <td>...</td>\n",
       "      <td>...</td>\n",
       "      <td>...</td>\n",
       "      <td>...</td>\n",
       "      <td>...</td>\n",
       "      <td>...</td>\n",
       "      <td>...</td>\n",
       "    </tr>\n",
       "    <tr>\n",
       "      <th>253</th>\n",
       "      <td>Bezos I</td>\n",
       "      <td>Bo Burnham</td>\n",
       "      <td>0.694</td>\n",
       "      <td>0.9480</td>\n",
       "      <td>2.0</td>\n",
       "      <td>1.0</td>\n",
       "      <td>-5.307</td>\n",
       "      <td>0.0361</td>\n",
       "      <td>0.00936</td>\n",
       "      <td>0.000016</td>\n",
       "      <td>0.1390</td>\n",
       "      <td>0.705</td>\n",
       "      <td>115.044</td>\n",
       "      <td>0.969150</td>\n",
       "      <td>Moderato</td>\n",
       "    </tr>\n",
       "    <tr>\n",
       "      <th>189</th>\n",
       "      <td>BLESSED</td>\n",
       "      <td>Tyler, The Creator</td>\n",
       "      <td>0.336</td>\n",
       "      <td>0.6130</td>\n",
       "      <td>8.0</td>\n",
       "      <td>1.0</td>\n",
       "      <td>-7.869</td>\n",
       "      <td>0.1230</td>\n",
       "      <td>0.38900</td>\n",
       "      <td>0.000100</td>\n",
       "      <td>0.7650</td>\n",
       "      <td>0.741</td>\n",
       "      <td>40.319</td>\n",
       "      <td>0.961117</td>\n",
       "      <td>Lento</td>\n",
       "    </tr>\n",
       "    <tr>\n",
       "      <th>575</th>\n",
       "      <td>Donda Chant</td>\n",
       "      <td>Kanye West</td>\n",
       "      <td>0.702</td>\n",
       "      <td>0.0474</td>\n",
       "      <td>3.0</td>\n",
       "      <td>0.0</td>\n",
       "      <td>-15.198</td>\n",
       "      <td>0.5260</td>\n",
       "      <td>0.00516</td>\n",
       "      <td>0.000001</td>\n",
       "      <td>0.1470</td>\n",
       "      <td>0.175</td>\n",
       "      <td>102.983</td>\n",
       "      <td>0.867700</td>\n",
       "      <td>Adante</td>\n",
       "    </tr>\n",
       "    <tr>\n",
       "      <th>836</th>\n",
       "      <td>Good News</td>\n",
       "      <td>Pop Smoke</td>\n",
       "      <td>0.573</td>\n",
       "      <td>0.5040</td>\n",
       "      <td>10.0</td>\n",
       "      <td>1.0</td>\n",
       "      <td>-8.116</td>\n",
       "      <td>0.2190</td>\n",
       "      <td>0.23600</td>\n",
       "      <td>0.000000</td>\n",
       "      <td>0.1200</td>\n",
       "      <td>0.526</td>\n",
       "      <td>126.655</td>\n",
       "      <td>0.783217</td>\n",
       "      <td>Allegro</td>\n",
       "    </tr>\n",
       "    <tr>\n",
       "      <th>1026</th>\n",
       "      <td>Intro</td>\n",
       "      <td>Drake</td>\n",
       "      <td>0.193</td>\n",
       "      <td>0.0218</td>\n",
       "      <td>0.0</td>\n",
       "      <td>0.0</td>\n",
       "      <td>-31.160</td>\n",
       "      <td>0.0389</td>\n",
       "      <td>0.95500</td>\n",
       "      <td>0.880000</td>\n",
       "      <td>0.1170</td>\n",
       "      <td>0.213</td>\n",
       "      <td>125.501</td>\n",
       "      <td>0.615583</td>\n",
       "      <td>Allegro</td>\n",
       "    </tr>\n",
       "  </tbody>\n",
       "</table>\n",
       "<p>2554 rows × 15 columns</p>\n",
       "</div>"
      ],
      "text/plain": [
       "                                             track_name  \\\n",
       "1053                                    Jesus Lord pt 2   \n",
       "125   All Too Well (10 Minute Version) (Taylor's Ver...   \n",
       "1784  SWEET / I THOUGHT YOU WANTED TO DANCE (feat. B...   \n",
       "1052                                         Jesus Lord   \n",
       "1719            Residente: Bzrp Music Sessions, Vol. 49   \n",
       "...                                                 ...   \n",
       "253                                             Bezos I   \n",
       "189                                             BLESSED   \n",
       "575                                         Donda Chant   \n",
       "836                                           Good News   \n",
       "1026                                              Intro   \n",
       "\n",
       "                                     artist_names  danceability  energy   key  \\\n",
       "1053                                   Kanye West         0.524  0.7260   8.0   \n",
       "125                                  Taylor Swift         0.631  0.5180   0.0   \n",
       "1784  Tyler, The Creator, Brent Faiyaz, Fana Hues         0.468  0.6520   0.0   \n",
       "1052                                   Kanye West         0.477  0.7130   1.0   \n",
       "1719                          Bizarrap, Residente         0.586  0.7400   1.0   \n",
       "...                                           ...           ...     ...   ...   \n",
       "253                                    Bo Burnham         0.694  0.9480   2.0   \n",
       "189                            Tyler, The Creator         0.336  0.6130   8.0   \n",
       "575                                    Kanye West         0.702  0.0474   3.0   \n",
       "836                                     Pop Smoke         0.573  0.5040  10.0   \n",
       "1026                                        Drake         0.193  0.0218   0.0   \n",
       "\n",
       "      mode  loudness  speechiness  acousticness  instrumentalness  liveness  \\\n",
       "1053   1.0    -6.628       0.0941       0.07050          0.019200    0.0877   \n",
       "125    1.0    -8.771       0.0303       0.27400          0.000000    0.0880   \n",
       "1784   1.0    -4.912       0.0722       0.33300          0.000318    0.5500   \n",
       "1052   1.0    -6.805       0.1260       0.09840          0.008440    0.0879   \n",
       "1719   0.0    -2.997       0.4040       0.55500          0.000000    0.1100   \n",
       "...    ...       ...          ...           ...               ...       ...   \n",
       "253    1.0    -5.307       0.0361       0.00936          0.000016    0.1390   \n",
       "189    1.0    -7.869       0.1230       0.38900          0.000100    0.7650   \n",
       "575    0.0   -15.198       0.5260       0.00516          0.000001    0.1470   \n",
       "836    1.0    -8.116       0.2190       0.23600          0.000000    0.1200   \n",
       "1026   0.0   -31.160       0.0389       0.95500          0.880000    0.1170   \n",
       "\n",
       "      valence    tempo  duration_min tempo_name  \n",
       "1053    0.146  107.400     11.512200     Adante  \n",
       "125     0.205   93.023     10.217117     Adante  \n",
       "1784    0.390  140.223      9.802317    Allegro  \n",
       "1052    0.113  106.137      8.975617     Adante  \n",
       "1719    0.697   71.378      8.654817     Adagio  \n",
       "...       ...      ...           ...        ...  \n",
       "253     0.705  115.044      0.969150   Moderato  \n",
       "189     0.741   40.319      0.961117      Lento  \n",
       "575     0.175  102.983      0.867700     Adante  \n",
       "836     0.526  126.655      0.783217    Allegro  \n",
       "1026    0.213  125.501      0.615583    Allegro  \n",
       "\n",
       "[2554 rows x 15 columns]"
      ]
     },
     "execution_count": 34,
     "metadata": {},
     "output_type": "execute_result"
    }
   ],
   "source": [
    "def return_tempo(tempo):\n",
    "    if tempo < 60:\n",
    "        return 'Lento'\n",
    "    elif tempo < 90:\n",
    "        return 'Adagio'\n",
    "    elif tempo < 110:\n",
    "        return 'Adante'\n",
    "    elif tempo < 120:\n",
    "        return 'Moderato'\n",
    "    elif tempo < 160:\n",
    "        return 'Allegro'\n",
    "    elif tempo < 180:\n",
    "        return 'Vivace'\n",
    "    else:\n",
    "        return 'Presto'\n",
    "        \n",
    "songs = songs.assign(tempo_name = songs.get('tempo').apply(return_tempo))\n",
    "songs"
   ]
  },
  {
   "cell_type": "code",
   "execution_count": 35,
   "id": "c045842a",
   "metadata": {
    "deletable": false,
    "editable": false
   },
   "outputs": [
    {
     "data": {
      "text/html": [
       "<p><strong><pre style='display: inline;'>q3_1</pre></strong> passed!</p>"
      ],
      "text/plain": [
       "q3_1 results: All test cases passed!"
      ]
     },
     "execution_count": 35,
     "metadata": {},
     "output_type": "execute_result"
    }
   ],
   "source": [
    "grader.check(\"q3_1\")"
   ]
  },
  {
   "cell_type": "markdown",
   "id": "0f845936",
   "metadata": {},
   "source": [
    "**Question 3.2.** Find the most common combination of `'tempo_name'` and `'key'` among all songs in `songs`. Save both answers in a list named `most_common_combo`. The `'tempo_name'` in the most common combination should come first. For example, your answer might look like `['Vivace', 3.0]`.\n",
    "\n",
    "Similarly, find the least common combination of `'tempo_name'` and `'key'` among all songs in `songs` and save your answers in a `list` named `least_common_combo`, again with the `'tempo_name'` coming first.\n",
    "\n",
    "In the case of a tie for most or least common, choose any of the combinations involved in the tie."
   ]
  },
  {
   "cell_type": "code",
   "execution_count": 36,
   "id": "583ec6e7",
   "metadata": {
    "scrolled": true
   },
   "outputs": [
    {
     "name": "stdout",
     "output_type": "stream",
     "text": [
      "The most common combination is a tempo of Allegro and a key of 1.0.\n",
      "The least common combination is a tempo of Adante and a key of 2.5.\n"
     ]
    }
   ],
   "source": [
    "prelim = songs.groupby(['key', 'tempo_name']).count().reset_index()\n",
    "secondary_df = prelim.sort_values(by='track_name', ascending=False).get(['key', 'tempo_name'])\n",
    "most_common_combo = list([secondary_df.get('tempo_name').iloc[0], float(secondary_df.get('key').iloc[0])])\n",
    "least_common_combo = list([secondary_df.get('tempo_name').iloc[-1], float(secondary_df.get('key').iloc[-1])])\n",
    "\n",
    "print('The most common combination is a tempo of ' + most_common_combo[0] + ' and a key of ' + str(most_common_combo[1]) + '.')\n",
    "print('The least common combination is a tempo of ' + least_common_combo[0] + ' and a key of ' + str(least_common_combo[1]) + '.')"
   ]
  },
  {
   "cell_type": "code",
   "execution_count": 37,
   "id": "259ec31c",
   "metadata": {
    "deletable": false,
    "editable": false
   },
   "outputs": [
    {
     "data": {
      "text/html": [
       "<p><strong><pre style='display: inline;'>q3_2</pre></strong> passed!</p>"
      ],
      "text/plain": [
       "q3_2 results: All test cases passed!"
      ]
     },
     "execution_count": 37,
     "metadata": {},
     "output_type": "execute_result"
    }
   ],
   "source": [
    "grader.check(\"q3_2\")"
   ]
  },
  {
   "cell_type": "markdown",
   "id": "69a98065",
   "metadata": {},
   "source": [
    "**Question 3.3.** Let's identify which songs have the `most_common_combo` of `'tempo_name'` and `'key'`. Starting with `songs`, create a DataFrame of only the songs with this most common `'tempo_name'` and `'key'` combination. Save the result as `common_songs`."
   ]
  },
  {
   "cell_type": "code",
   "execution_count": 38,
   "id": "b40b2e39",
   "metadata": {},
   "outputs": [
    {
     "data": {
      "text/html": [
       "<div>\n",
       "<style scoped>\n",
       "    .dataframe tbody tr th:only-of-type {\n",
       "        vertical-align: middle;\n",
       "    }\n",
       "\n",
       "    .dataframe tbody tr th {\n",
       "        vertical-align: top;\n",
       "    }\n",
       "\n",
       "    .dataframe thead th {\n",
       "        text-align: right;\n",
       "    }\n",
       "</style>\n",
       "<table border=\"1\" class=\"dataframe\">\n",
       "  <thead>\n",
       "    <tr style=\"text-align: right;\">\n",
       "      <th></th>\n",
       "      <th>track_name</th>\n",
       "      <th>artist_names</th>\n",
       "      <th>danceability</th>\n",
       "      <th>energy</th>\n",
       "      <th>key</th>\n",
       "      <th>mode</th>\n",
       "      <th>loudness</th>\n",
       "      <th>speechiness</th>\n",
       "      <th>acousticness</th>\n",
       "      <th>instrumentalness</th>\n",
       "      <th>liveness</th>\n",
       "      <th>valence</th>\n",
       "      <th>tempo</th>\n",
       "      <th>duration_min</th>\n",
       "      <th>tempo_name</th>\n",
       "    </tr>\n",
       "  </thead>\n",
       "  <tbody>\n",
       "    <tr>\n",
       "      <th>1411</th>\n",
       "      <td>My Little Love</td>\n",
       "      <td>Adele</td>\n",
       "      <td>0.339</td>\n",
       "      <td>0.492</td>\n",
       "      <td>1.0</td>\n",
       "      <td>1.0</td>\n",
       "      <td>-10.661</td>\n",
       "      <td>0.0559</td>\n",
       "      <td>0.829000</td>\n",
       "      <td>0.003770</td>\n",
       "      <td>0.1470</td>\n",
       "      <td>0.102</td>\n",
       "      <td>151.865</td>\n",
       "      <td>6.485117</td>\n",
       "      <td>Allegro</td>\n",
       "    </tr>\n",
       "    <tr>\n",
       "      <th>2090</th>\n",
       "      <td>The Foundations of Decay</td>\n",
       "      <td>My Chemical Romance</td>\n",
       "      <td>0.363</td>\n",
       "      <td>0.670</td>\n",
       "      <td>1.0</td>\n",
       "      <td>0.0</td>\n",
       "      <td>-6.652</td>\n",
       "      <td>0.0552</td>\n",
       "      <td>0.000582</td>\n",
       "      <td>0.548000</td>\n",
       "      <td>0.3170</td>\n",
       "      <td>0.198</td>\n",
       "      <td>150.150</td>\n",
       "      <td>6.012667</td>\n",
       "      <td>Allegro</td>\n",
       "    </tr>\n",
       "    <tr>\n",
       "      <th>1838</th>\n",
       "      <td>Self Care</td>\n",
       "      <td>Mac Miller</td>\n",
       "      <td>0.520</td>\n",
       "      <td>0.538</td>\n",
       "      <td>1.0</td>\n",
       "      <td>1.0</td>\n",
       "      <td>-8.109</td>\n",
       "      <td>0.2060</td>\n",
       "      <td>0.367000</td>\n",
       "      <td>0.001870</td>\n",
       "      <td>0.1190</td>\n",
       "      <td>0.177</td>\n",
       "      <td>141.894</td>\n",
       "      <td>5.752217</td>\n",
       "      <td>Allegro</td>\n",
       "    </tr>\n",
       "    <tr>\n",
       "      <th>1227</th>\n",
       "      <td>Los Caminos de la Vida - Spotify Singles</td>\n",
       "      <td>Los Dos Carnales</td>\n",
       "      <td>0.827</td>\n",
       "      <td>0.693</td>\n",
       "      <td>1.0</td>\n",
       "      <td>0.0</td>\n",
       "      <td>-4.821</td>\n",
       "      <td>0.0515</td>\n",
       "      <td>0.445000</td>\n",
       "      <td>0.000000</td>\n",
       "      <td>0.0561</td>\n",
       "      <td>0.625</td>\n",
       "      <td>122.465</td>\n",
       "      <td>5.468583</td>\n",
       "      <td>Allegro</td>\n",
       "    </tr>\n",
       "    <tr>\n",
       "      <th>1897</th>\n",
       "      <td>Slatty (feat. Yak Gotti &amp; Lil Duke)</td>\n",
       "      <td>Young Stoner Life, Young Thug, Gunna, Lil Duke...</td>\n",
       "      <td>0.814</td>\n",
       "      <td>0.531</td>\n",
       "      <td>1.0</td>\n",
       "      <td>1.0</td>\n",
       "      <td>-7.560</td>\n",
       "      <td>0.0884</td>\n",
       "      <td>0.000544</td>\n",
       "      <td>0.000007</td>\n",
       "      <td>0.1030</td>\n",
       "      <td>0.180</td>\n",
       "      <td>130.020</td>\n",
       "      <td>4.838000</td>\n",
       "      <td>Allegro</td>\n",
       "    </tr>\n",
       "    <tr>\n",
       "      <th>...</th>\n",
       "      <td>...</td>\n",
       "      <td>...</td>\n",
       "      <td>...</td>\n",
       "      <td>...</td>\n",
       "      <td>...</td>\n",
       "      <td>...</td>\n",
       "      <td>...</td>\n",
       "      <td>...</td>\n",
       "      <td>...</td>\n",
       "      <td>...</td>\n",
       "      <td>...</td>\n",
       "      <td>...</td>\n",
       "      <td>...</td>\n",
       "      <td>...</td>\n",
       "      <td>...</td>\n",
       "    </tr>\n",
       "    <tr>\n",
       "      <th>1275</th>\n",
       "      <td>MASSAGING ME</td>\n",
       "      <td>Future</td>\n",
       "      <td>0.916</td>\n",
       "      <td>0.453</td>\n",
       "      <td>1.0</td>\n",
       "      <td>1.0</td>\n",
       "      <td>-4.148</td>\n",
       "      <td>0.1580</td>\n",
       "      <td>0.000189</td>\n",
       "      <td>0.000000</td>\n",
       "      <td>0.1370</td>\n",
       "      <td>0.152</td>\n",
       "      <td>145.007</td>\n",
       "      <td>1.768883</td>\n",
       "      <td>Allegro</td>\n",
       "    </tr>\n",
       "    <tr>\n",
       "      <th>1566</th>\n",
       "      <td>POLTERGEIST!</td>\n",
       "      <td>CORPSE, OmenXIII</td>\n",
       "      <td>0.766</td>\n",
       "      <td>0.658</td>\n",
       "      <td>1.0</td>\n",
       "      <td>1.0</td>\n",
       "      <td>-7.014</td>\n",
       "      <td>0.2600</td>\n",
       "      <td>0.001920</td>\n",
       "      <td>0.000000</td>\n",
       "      <td>0.0919</td>\n",
       "      <td>0.476</td>\n",
       "      <td>133.085</td>\n",
       "      <td>1.684217</td>\n",
       "      <td>Allegro</td>\n",
       "    </tr>\n",
       "    <tr>\n",
       "      <th>1578</th>\n",
       "      <td>Pain</td>\n",
       "      <td>PinkPantheress</td>\n",
       "      <td>0.829</td>\n",
       "      <td>0.617</td>\n",
       "      <td>1.0</td>\n",
       "      <td>1.0</td>\n",
       "      <td>-8.497</td>\n",
       "      <td>0.1400</td>\n",
       "      <td>0.227000</td>\n",
       "      <td>0.003060</td>\n",
       "      <td>0.0618</td>\n",
       "      <td>0.810</td>\n",
       "      <td>125.605</td>\n",
       "      <td>1.642400</td>\n",
       "      <td>Allegro</td>\n",
       "    </tr>\n",
       "    <tr>\n",
       "      <th>1740</th>\n",
       "      <td>Rocking A Cardigan in Atlanta</td>\n",
       "      <td>lil Shordie Scott</td>\n",
       "      <td>0.803</td>\n",
       "      <td>0.640</td>\n",
       "      <td>1.0</td>\n",
       "      <td>1.0</td>\n",
       "      <td>-4.721</td>\n",
       "      <td>0.1510</td>\n",
       "      <td>0.583000</td>\n",
       "      <td>0.000331</td>\n",
       "      <td>0.4370</td>\n",
       "      <td>0.816</td>\n",
       "      <td>140.073</td>\n",
       "      <td>1.613767</td>\n",
       "      <td>Allegro</td>\n",
       "    </tr>\n",
       "    <tr>\n",
       "      <th>2037</th>\n",
       "      <td>Talk Of The Town</td>\n",
       "      <td>Jack Harlow</td>\n",
       "      <td>0.577</td>\n",
       "      <td>0.448</td>\n",
       "      <td>1.0</td>\n",
       "      <td>1.0</td>\n",
       "      <td>-9.215</td>\n",
       "      <td>0.1890</td>\n",
       "      <td>0.395000</td>\n",
       "      <td>0.000000</td>\n",
       "      <td>0.6100</td>\n",
       "      <td>0.543</td>\n",
       "      <td>137.694</td>\n",
       "      <td>1.382117</td>\n",
       "      <td>Allegro</td>\n",
       "    </tr>\n",
       "  </tbody>\n",
       "</table>\n",
       "<p>126 rows × 15 columns</p>\n",
       "</div>"
      ],
      "text/plain": [
       "                                    track_name  \\\n",
       "1411                            My Little Love   \n",
       "2090                  The Foundations of Decay   \n",
       "1838                                 Self Care   \n",
       "1227  Los Caminos de la Vida - Spotify Singles   \n",
       "1897       Slatty (feat. Yak Gotti & Lil Duke)   \n",
       "...                                        ...   \n",
       "1275                              MASSAGING ME   \n",
       "1566                              POLTERGEIST!   \n",
       "1578                                      Pain   \n",
       "1740             Rocking A Cardigan in Atlanta   \n",
       "2037                          Talk Of The Town   \n",
       "\n",
       "                                           artist_names  danceability  energy  \\\n",
       "1411                                              Adele         0.339   0.492   \n",
       "2090                                My Chemical Romance         0.363   0.670   \n",
       "1838                                         Mac Miller         0.520   0.538   \n",
       "1227                                   Los Dos Carnales         0.827   0.693   \n",
       "1897  Young Stoner Life, Young Thug, Gunna, Lil Duke...         0.814   0.531   \n",
       "...                                                 ...           ...     ...   \n",
       "1275                                             Future         0.916   0.453   \n",
       "1566                                   CORPSE, OmenXIII         0.766   0.658   \n",
       "1578                                     PinkPantheress         0.829   0.617   \n",
       "1740                                  lil Shordie Scott         0.803   0.640   \n",
       "2037                                        Jack Harlow         0.577   0.448   \n",
       "\n",
       "      key  mode  loudness  speechiness  acousticness  instrumentalness  \\\n",
       "1411  1.0   1.0   -10.661       0.0559      0.829000          0.003770   \n",
       "2090  1.0   0.0    -6.652       0.0552      0.000582          0.548000   \n",
       "1838  1.0   1.0    -8.109       0.2060      0.367000          0.001870   \n",
       "1227  1.0   0.0    -4.821       0.0515      0.445000          0.000000   \n",
       "1897  1.0   1.0    -7.560       0.0884      0.000544          0.000007   \n",
       "...   ...   ...       ...          ...           ...               ...   \n",
       "1275  1.0   1.0    -4.148       0.1580      0.000189          0.000000   \n",
       "1566  1.0   1.0    -7.014       0.2600      0.001920          0.000000   \n",
       "1578  1.0   1.0    -8.497       0.1400      0.227000          0.003060   \n",
       "1740  1.0   1.0    -4.721       0.1510      0.583000          0.000331   \n",
       "2037  1.0   1.0    -9.215       0.1890      0.395000          0.000000   \n",
       "\n",
       "      liveness  valence    tempo  duration_min tempo_name  \n",
       "1411    0.1470    0.102  151.865      6.485117    Allegro  \n",
       "2090    0.3170    0.198  150.150      6.012667    Allegro  \n",
       "1838    0.1190    0.177  141.894      5.752217    Allegro  \n",
       "1227    0.0561    0.625  122.465      5.468583    Allegro  \n",
       "1897    0.1030    0.180  130.020      4.838000    Allegro  \n",
       "...        ...      ...      ...           ...        ...  \n",
       "1275    0.1370    0.152  145.007      1.768883    Allegro  \n",
       "1566    0.0919    0.476  133.085      1.684217    Allegro  \n",
       "1578    0.0618    0.810  125.605      1.642400    Allegro  \n",
       "1740    0.4370    0.816  140.073      1.613767    Allegro  \n",
       "2037    0.6100    0.543  137.694      1.382117    Allegro  \n",
       "\n",
       "[126 rows x 15 columns]"
      ]
     },
     "execution_count": 38,
     "metadata": {},
     "output_type": "execute_result"
    }
   ],
   "source": [
    "common_songs = songs[(songs.get('tempo_name') == 'Allegro') & (songs.get('key') == 1.0)]\n",
    "common_songs"
   ]
  },
  {
   "cell_type": "code",
   "execution_count": 39,
   "id": "26ac1489",
   "metadata": {
    "deletable": false,
    "editable": false
   },
   "outputs": [
    {
     "data": {
      "text/html": [
       "<p><strong><pre style='display: inline;'>q3_3</pre></strong> passed!</p>"
      ],
      "text/plain": [
       "q3_3 results: All test cases passed!"
      ]
     },
     "execution_count": 39,
     "metadata": {},
     "output_type": "execute_result"
    }
   ],
   "source": [
    "grader.check(\"q3_3\")"
   ]
  },
  {
   "cell_type": "markdown",
   "id": "d8018c18",
   "metadata": {},
   "source": [
    "We want to listen to some of these `common_songs` to see if they have a similar sound. But we have a problem. In order to play a song, we need its `'uri'`, and `common_songs` doesn't have a `'uri'` column. The `charts` DataFrame does have a `'uri'` column so we should be able to bring in that information by merging the two DataFrames. Though `charts` contains `'uri'`, it also has a ton of information that we don't need, since all of the relevant information per song is already in `songs`. As a result, before we merge, we should prepare a smaller, simpler DataFrame from `charts` with only the new information we need.\n",
    "\n",
    "**Question 3.4.** Create a DataFrame called `to_merge` from `charts`. The DataFrame `to_merge` should have one row for each song (defined as a combination of `'track_name'` and `'artist_names'`) and three columns: `'track_name'`, `'artist_names'`, and `'uri'`. For each song, the associated `'uri'` should be the **first alphabetically**, among all `'uri'`s associated with that song."
   ]
  },
  {
   "cell_type": "code",
   "execution_count": 40,
   "id": "26673dd3",
   "metadata": {},
   "outputs": [
    {
     "data": {
      "text/html": [
       "<div>\n",
       "<style scoped>\n",
       "    .dataframe tbody tr th:only-of-type {\n",
       "        vertical-align: middle;\n",
       "    }\n",
       "\n",
       "    .dataframe tbody tr th {\n",
       "        vertical-align: top;\n",
       "    }\n",
       "\n",
       "    .dataframe thead th {\n",
       "        text-align: right;\n",
       "    }\n",
       "</style>\n",
       "<table border=\"1\" class=\"dataframe\">\n",
       "  <thead>\n",
       "    <tr style=\"text-align: right;\">\n",
       "      <th></th>\n",
       "      <th>track_name</th>\n",
       "      <th>artist_names</th>\n",
       "      <th>uri</th>\n",
       "    </tr>\n",
       "  </thead>\n",
       "  <tbody>\n",
       "    <tr>\n",
       "      <th>0</th>\n",
       "      <td>'Til You Can't</td>\n",
       "      <td>Cody Johnson</td>\n",
       "      <td>spotify:track:4k3lPl8YTKuY8c1HelVnm3</td>\n",
       "    </tr>\n",
       "    <tr>\n",
       "      <th>1</th>\n",
       "      <td>'Till I Collapse</td>\n",
       "      <td>Eminem, Nate Dogg</td>\n",
       "      <td>spotify:track:4xkOaSrkexMciUUogZKVTS</td>\n",
       "    </tr>\n",
       "    <tr>\n",
       "      <th>2</th>\n",
       "      <td>(Don't Fear) The Reaper</td>\n",
       "      <td>Blue Öyster Cult</td>\n",
       "      <td>spotify:track:5QTxFnGygVM4jFQiBovmRo</td>\n",
       "    </tr>\n",
       "    <tr>\n",
       "      <th>3</th>\n",
       "      <td>(Everybody's Waitin' For) The Man With The Bag...</td>\n",
       "      <td>Kay Starr</td>\n",
       "      <td>spotify:track:2n1xrggQtAGEV1AgzvooGB</td>\n",
       "    </tr>\n",
       "    <tr>\n",
       "      <th>4</th>\n",
       "      <td>(There's No Place Like) Home for the Holidays ...</td>\n",
       "      <td>Perry Como</td>\n",
       "      <td>spotify:track:0hvN2v6fAcB6xWyW7UaooA</td>\n",
       "    </tr>\n",
       "    <tr>\n",
       "      <th>...</th>\n",
       "      <td>...</td>\n",
       "      <td>...</td>\n",
       "      <td>...</td>\n",
       "    </tr>\n",
       "    <tr>\n",
       "      <th>2549</th>\n",
       "      <td>you broke me first</td>\n",
       "      <td>Tate McRae</td>\n",
       "      <td>spotify:track:45bE4HXI0AwGZXfZtMp8JR</td>\n",
       "    </tr>\n",
       "    <tr>\n",
       "      <th>2550</th>\n",
       "      <td>¿Por Qué Me Haces Llorar?</td>\n",
       "      <td>Juan Gabriel</td>\n",
       "      <td>spotify:track:68pE8830rWrd5LSSfKcRqn</td>\n",
       "    </tr>\n",
       "    <tr>\n",
       "      <th>2551</th>\n",
       "      <td>¿Quién Te Crees?</td>\n",
       "      <td>MC Davo, Calibre 50</td>\n",
       "      <td>spotify:track:2LXOSAYiSrTfIf8smheLaz</td>\n",
       "    </tr>\n",
       "    <tr>\n",
       "      <th>2552</th>\n",
       "      <td>Éxtasis</td>\n",
       "      <td>Millonario &amp; W. Corona, Cartel De Santa</td>\n",
       "      <td>spotify:track:3NqbKUOgaU2LgIFRbu4B12</td>\n",
       "    </tr>\n",
       "    <tr>\n",
       "      <th>2553</th>\n",
       "      <td>Índigo</td>\n",
       "      <td>Camilo, Evaluna Montaner</td>\n",
       "      <td>spotify:track:4knc1Fp3kbuq8bH2byOvLu</td>\n",
       "    </tr>\n",
       "  </tbody>\n",
       "</table>\n",
       "<p>2554 rows × 3 columns</p>\n",
       "</div>"
      ],
      "text/plain": [
       "                                             track_name  \\\n",
       "0                                        'Til You Can't   \n",
       "1                                      'Till I Collapse   \n",
       "2                               (Don't Fear) The Reaper   \n",
       "3     (Everybody's Waitin' For) The Man With The Bag...   \n",
       "4     (There's No Place Like) Home for the Holidays ...   \n",
       "...                                                 ...   \n",
       "2549                                 you broke me first   \n",
       "2550                          ¿Por Qué Me Haces Llorar?   \n",
       "2551                                   ¿Quién Te Crees?   \n",
       "2552                                            Éxtasis   \n",
       "2553                                             Índigo   \n",
       "\n",
       "                                 artist_names  \\\n",
       "0                                Cody Johnson   \n",
       "1                           Eminem, Nate Dogg   \n",
       "2                            Blue Öyster Cult   \n",
       "3                                   Kay Starr   \n",
       "4                                  Perry Como   \n",
       "...                                       ...   \n",
       "2549                               Tate McRae   \n",
       "2550                             Juan Gabriel   \n",
       "2551                      MC Davo, Calibre 50   \n",
       "2552  Millonario & W. Corona, Cartel De Santa   \n",
       "2553                 Camilo, Evaluna Montaner   \n",
       "\n",
       "                                       uri  \n",
       "0     spotify:track:4k3lPl8YTKuY8c1HelVnm3  \n",
       "1     spotify:track:4xkOaSrkexMciUUogZKVTS  \n",
       "2     spotify:track:5QTxFnGygVM4jFQiBovmRo  \n",
       "3     spotify:track:2n1xrggQtAGEV1AgzvooGB  \n",
       "4     spotify:track:0hvN2v6fAcB6xWyW7UaooA  \n",
       "...                                    ...  \n",
       "2549  spotify:track:45bE4HXI0AwGZXfZtMp8JR  \n",
       "2550  spotify:track:68pE8830rWrd5LSSfKcRqn  \n",
       "2551  spotify:track:2LXOSAYiSrTfIf8smheLaz  \n",
       "2552  spotify:track:3NqbKUOgaU2LgIFRbu4B12  \n",
       "2553  spotify:track:4knc1Fp3kbuq8bH2byOvLu  \n",
       "\n",
       "[2554 rows x 3 columns]"
      ]
     },
     "execution_count": 40,
     "metadata": {},
     "output_type": "execute_result"
    }
   ],
   "source": [
    "# drop dupes based on track name\n",
    "prelim_df = charts.groupby(['track_name', 'artist_names']).min().reset_index().get(['track_name', 'uri'])\n",
    "to_merge = songs.merge(prelim_df, on = 'track_name').get(['track_name', 'artist_names', 'uri'])\n",
    "to_merge = to_merge.groupby(['track_name', 'artist_names']).min().reset_index()\n",
    "\n",
    "to_merge"
   ]
  },
  {
   "cell_type": "code",
   "execution_count": 41,
   "id": "a8a9f38c",
   "metadata": {
    "deletable": false,
    "editable": false
   },
   "outputs": [
    {
     "data": {
      "text/html": [
       "<p><strong><pre style='display: inline;'>q3_4</pre></strong> passed!</p>"
      ],
      "text/plain": [
       "q3_4 results: All test cases passed!"
      ]
     },
     "execution_count": 41,
     "metadata": {},
     "output_type": "execute_result"
    }
   ],
   "source": [
    "grader.check(\"q3_4\")"
   ]
  },
  {
   "cell_type": "markdown",
   "id": "2e33015b",
   "metadata": {},
   "source": [
    "Notice that `'track_name'` and `'artist_names'` are columns names in the `common_songs` DataFrame and in the `to_merge` DataFrame. Further, they are the *only* column names that these DataFrames have in common. \n",
    "\n",
    "It turns out that when we merge two DataFrames without specifying which columns to merge on, `babypandas` will merge them on the set of shared column names, which means it will match up rows that have the same values in *all* shared columns. \n",
    "\n",
    "**Question 3.5.** Merge `common_songs` and `to_merge` on both `'track_name'` and `'artist_names'`. Save the resulting DataFrame as `common_songs_uri`. Think about why we want to merge on both columns in this case (i.e. why we _can't_ merge on just `'track_name'` or just `'artist_names'`)."
   ]
  },
  {
   "cell_type": "code",
   "execution_count": 42,
   "id": "044adf3a",
   "metadata": {},
   "outputs": [
    {
     "data": {
      "text/html": [
       "<div>\n",
       "<style scoped>\n",
       "    .dataframe tbody tr th:only-of-type {\n",
       "        vertical-align: middle;\n",
       "    }\n",
       "\n",
       "    .dataframe tbody tr th {\n",
       "        vertical-align: top;\n",
       "    }\n",
       "\n",
       "    .dataframe thead th {\n",
       "        text-align: right;\n",
       "    }\n",
       "</style>\n",
       "<table border=\"1\" class=\"dataframe\">\n",
       "  <thead>\n",
       "    <tr style=\"text-align: right;\">\n",
       "      <th></th>\n",
       "      <th>track_name</th>\n",
       "      <th>artist_names</th>\n",
       "      <th>danceability</th>\n",
       "      <th>energy</th>\n",
       "      <th>key</th>\n",
       "      <th>mode</th>\n",
       "      <th>loudness</th>\n",
       "      <th>speechiness</th>\n",
       "      <th>acousticness</th>\n",
       "      <th>instrumentalness</th>\n",
       "      <th>liveness</th>\n",
       "      <th>valence</th>\n",
       "      <th>tempo</th>\n",
       "      <th>duration_min</th>\n",
       "      <th>tempo_name</th>\n",
       "      <th>uri</th>\n",
       "    </tr>\n",
       "  </thead>\n",
       "  <tbody>\n",
       "    <tr>\n",
       "      <th>0</th>\n",
       "      <td>My Little Love</td>\n",
       "      <td>Adele</td>\n",
       "      <td>0.339</td>\n",
       "      <td>0.492</td>\n",
       "      <td>1.0</td>\n",
       "      <td>1.0</td>\n",
       "      <td>-10.661</td>\n",
       "      <td>0.0559</td>\n",
       "      <td>0.829000</td>\n",
       "      <td>0.003770</td>\n",
       "      <td>0.1470</td>\n",
       "      <td>0.102</td>\n",
       "      <td>151.865</td>\n",
       "      <td>6.485117</td>\n",
       "      <td>Allegro</td>\n",
       "      <td>spotify:track:2DuPBbS5mIldXnh7Wum8Cy</td>\n",
       "    </tr>\n",
       "    <tr>\n",
       "      <th>1</th>\n",
       "      <td>The Foundations of Decay</td>\n",
       "      <td>My Chemical Romance</td>\n",
       "      <td>0.363</td>\n",
       "      <td>0.670</td>\n",
       "      <td>1.0</td>\n",
       "      <td>0.0</td>\n",
       "      <td>-6.652</td>\n",
       "      <td>0.0552</td>\n",
       "      <td>0.000582</td>\n",
       "      <td>0.548000</td>\n",
       "      <td>0.3170</td>\n",
       "      <td>0.198</td>\n",
       "      <td>150.150</td>\n",
       "      <td>6.012667</td>\n",
       "      <td>Allegro</td>\n",
       "      <td>spotify:track:6Pif6RkFoYzLygdqktus4Q</td>\n",
       "    </tr>\n",
       "    <tr>\n",
       "      <th>2</th>\n",
       "      <td>Self Care</td>\n",
       "      <td>Mac Miller</td>\n",
       "      <td>0.520</td>\n",
       "      <td>0.538</td>\n",
       "      <td>1.0</td>\n",
       "      <td>1.0</td>\n",
       "      <td>-8.109</td>\n",
       "      <td>0.2060</td>\n",
       "      <td>0.367000</td>\n",
       "      <td>0.001870</td>\n",
       "      <td>0.1190</td>\n",
       "      <td>0.177</td>\n",
       "      <td>141.894</td>\n",
       "      <td>5.752217</td>\n",
       "      <td>Allegro</td>\n",
       "      <td>spotify:track:5bJ1DrEM4hNCafcDd1oxHx</td>\n",
       "    </tr>\n",
       "    <tr>\n",
       "      <th>3</th>\n",
       "      <td>Los Caminos de la Vida - Spotify Singles</td>\n",
       "      <td>Los Dos Carnales</td>\n",
       "      <td>0.827</td>\n",
       "      <td>0.693</td>\n",
       "      <td>1.0</td>\n",
       "      <td>0.0</td>\n",
       "      <td>-4.821</td>\n",
       "      <td>0.0515</td>\n",
       "      <td>0.445000</td>\n",
       "      <td>0.000000</td>\n",
       "      <td>0.0561</td>\n",
       "      <td>0.625</td>\n",
       "      <td>122.465</td>\n",
       "      <td>5.468583</td>\n",
       "      <td>Allegro</td>\n",
       "      <td>spotify:track:0LPcBW66vudTxR0HcauKNy</td>\n",
       "    </tr>\n",
       "    <tr>\n",
       "      <th>4</th>\n",
       "      <td>Slatty (feat. Yak Gotti &amp; Lil Duke)</td>\n",
       "      <td>Young Stoner Life, Young Thug, Gunna, Lil Duke...</td>\n",
       "      <td>0.814</td>\n",
       "      <td>0.531</td>\n",
       "      <td>1.0</td>\n",
       "      <td>1.0</td>\n",
       "      <td>-7.560</td>\n",
       "      <td>0.0884</td>\n",
       "      <td>0.000544</td>\n",
       "      <td>0.000007</td>\n",
       "      <td>0.1030</td>\n",
       "      <td>0.180</td>\n",
       "      <td>130.020</td>\n",
       "      <td>4.838000</td>\n",
       "      <td>Allegro</td>\n",
       "      <td>spotify:track:0ky8syPEVEfD7qCxMTW49X</td>\n",
       "    </tr>\n",
       "    <tr>\n",
       "      <th>...</th>\n",
       "      <td>...</td>\n",
       "      <td>...</td>\n",
       "      <td>...</td>\n",
       "      <td>...</td>\n",
       "      <td>...</td>\n",
       "      <td>...</td>\n",
       "      <td>...</td>\n",
       "      <td>...</td>\n",
       "      <td>...</td>\n",
       "      <td>...</td>\n",
       "      <td>...</td>\n",
       "      <td>...</td>\n",
       "      <td>...</td>\n",
       "      <td>...</td>\n",
       "      <td>...</td>\n",
       "      <td>...</td>\n",
       "    </tr>\n",
       "    <tr>\n",
       "      <th>121</th>\n",
       "      <td>MASSAGING ME</td>\n",
       "      <td>Future</td>\n",
       "      <td>0.916</td>\n",
       "      <td>0.453</td>\n",
       "      <td>1.0</td>\n",
       "      <td>1.0</td>\n",
       "      <td>-4.148</td>\n",
       "      <td>0.1580</td>\n",
       "      <td>0.000189</td>\n",
       "      <td>0.000000</td>\n",
       "      <td>0.1370</td>\n",
       "      <td>0.152</td>\n",
       "      <td>145.007</td>\n",
       "      <td>1.768883</td>\n",
       "      <td>Allegro</td>\n",
       "      <td>spotify:track:2tzgSUZOUKopYbRqQOVT8X</td>\n",
       "    </tr>\n",
       "    <tr>\n",
       "      <th>122</th>\n",
       "      <td>POLTERGEIST!</td>\n",
       "      <td>CORPSE, OmenXIII</td>\n",
       "      <td>0.766</td>\n",
       "      <td>0.658</td>\n",
       "      <td>1.0</td>\n",
       "      <td>1.0</td>\n",
       "      <td>-7.014</td>\n",
       "      <td>0.2600</td>\n",
       "      <td>0.001920</td>\n",
       "      <td>0.000000</td>\n",
       "      <td>0.0919</td>\n",
       "      <td>0.476</td>\n",
       "      <td>133.085</td>\n",
       "      <td>1.684217</td>\n",
       "      <td>Allegro</td>\n",
       "      <td>spotify:track:041sluNZwBxTCOuu766eNi</td>\n",
       "    </tr>\n",
       "    <tr>\n",
       "      <th>123</th>\n",
       "      <td>Pain</td>\n",
       "      <td>PinkPantheress</td>\n",
       "      <td>0.829</td>\n",
       "      <td>0.617</td>\n",
       "      <td>1.0</td>\n",
       "      <td>1.0</td>\n",
       "      <td>-8.497</td>\n",
       "      <td>0.1400</td>\n",
       "      <td>0.227000</td>\n",
       "      <td>0.003060</td>\n",
       "      <td>0.0618</td>\n",
       "      <td>0.810</td>\n",
       "      <td>125.605</td>\n",
       "      <td>1.642400</td>\n",
       "      <td>Allegro</td>\n",
       "      <td>spotify:track:4S4QJfBGGrC8jRIjJHf1Ka</td>\n",
       "    </tr>\n",
       "    <tr>\n",
       "      <th>124</th>\n",
       "      <td>Rocking A Cardigan in Atlanta</td>\n",
       "      <td>lil Shordie Scott</td>\n",
       "      <td>0.803</td>\n",
       "      <td>0.640</td>\n",
       "      <td>1.0</td>\n",
       "      <td>1.0</td>\n",
       "      <td>-4.721</td>\n",
       "      <td>0.1510</td>\n",
       "      <td>0.583000</td>\n",
       "      <td>0.000331</td>\n",
       "      <td>0.4370</td>\n",
       "      <td>0.816</td>\n",
       "      <td>140.073</td>\n",
       "      <td>1.613767</td>\n",
       "      <td>Allegro</td>\n",
       "      <td>spotify:track:0N0h5lXc4HOiLgGb9EZi8m</td>\n",
       "    </tr>\n",
       "    <tr>\n",
       "      <th>125</th>\n",
       "      <td>Talk Of The Town</td>\n",
       "      <td>Jack Harlow</td>\n",
       "      <td>0.577</td>\n",
       "      <td>0.448</td>\n",
       "      <td>1.0</td>\n",
       "      <td>1.0</td>\n",
       "      <td>-9.215</td>\n",
       "      <td>0.1890</td>\n",
       "      <td>0.395000</td>\n",
       "      <td>0.000000</td>\n",
       "      <td>0.6100</td>\n",
       "      <td>0.543</td>\n",
       "      <td>137.694</td>\n",
       "      <td>1.382117</td>\n",
       "      <td>Allegro</td>\n",
       "      <td>spotify:track:7qFtkIa3KfhJAlWLVE1GCI</td>\n",
       "    </tr>\n",
       "  </tbody>\n",
       "</table>\n",
       "<p>126 rows × 16 columns</p>\n",
       "</div>"
      ],
      "text/plain": [
       "                                   track_name  \\\n",
       "0                              My Little Love   \n",
       "1                    The Foundations of Decay   \n",
       "2                                   Self Care   \n",
       "3    Los Caminos de la Vida - Spotify Singles   \n",
       "4         Slatty (feat. Yak Gotti & Lil Duke)   \n",
       "..                                        ...   \n",
       "121                              MASSAGING ME   \n",
       "122                              POLTERGEIST!   \n",
       "123                                      Pain   \n",
       "124             Rocking A Cardigan in Atlanta   \n",
       "125                          Talk Of The Town   \n",
       "\n",
       "                                          artist_names  danceability  energy  \\\n",
       "0                                                Adele         0.339   0.492   \n",
       "1                                  My Chemical Romance         0.363   0.670   \n",
       "2                                           Mac Miller         0.520   0.538   \n",
       "3                                     Los Dos Carnales         0.827   0.693   \n",
       "4    Young Stoner Life, Young Thug, Gunna, Lil Duke...         0.814   0.531   \n",
       "..                                                 ...           ...     ...   \n",
       "121                                             Future         0.916   0.453   \n",
       "122                                   CORPSE, OmenXIII         0.766   0.658   \n",
       "123                                     PinkPantheress         0.829   0.617   \n",
       "124                                  lil Shordie Scott         0.803   0.640   \n",
       "125                                        Jack Harlow         0.577   0.448   \n",
       "\n",
       "     key  mode  loudness  speechiness  acousticness  instrumentalness  \\\n",
       "0    1.0   1.0   -10.661       0.0559      0.829000          0.003770   \n",
       "1    1.0   0.0    -6.652       0.0552      0.000582          0.548000   \n",
       "2    1.0   1.0    -8.109       0.2060      0.367000          0.001870   \n",
       "3    1.0   0.0    -4.821       0.0515      0.445000          0.000000   \n",
       "4    1.0   1.0    -7.560       0.0884      0.000544          0.000007   \n",
       "..   ...   ...       ...          ...           ...               ...   \n",
       "121  1.0   1.0    -4.148       0.1580      0.000189          0.000000   \n",
       "122  1.0   1.0    -7.014       0.2600      0.001920          0.000000   \n",
       "123  1.0   1.0    -8.497       0.1400      0.227000          0.003060   \n",
       "124  1.0   1.0    -4.721       0.1510      0.583000          0.000331   \n",
       "125  1.0   1.0    -9.215       0.1890      0.395000          0.000000   \n",
       "\n",
       "     liveness  valence    tempo  duration_min tempo_name  \\\n",
       "0      0.1470    0.102  151.865      6.485117    Allegro   \n",
       "1      0.3170    0.198  150.150      6.012667    Allegro   \n",
       "2      0.1190    0.177  141.894      5.752217    Allegro   \n",
       "3      0.0561    0.625  122.465      5.468583    Allegro   \n",
       "4      0.1030    0.180  130.020      4.838000    Allegro   \n",
       "..        ...      ...      ...           ...        ...   \n",
       "121    0.1370    0.152  145.007      1.768883    Allegro   \n",
       "122    0.0919    0.476  133.085      1.684217    Allegro   \n",
       "123    0.0618    0.810  125.605      1.642400    Allegro   \n",
       "124    0.4370    0.816  140.073      1.613767    Allegro   \n",
       "125    0.6100    0.543  137.694      1.382117    Allegro   \n",
       "\n",
       "                                      uri  \n",
       "0    spotify:track:2DuPBbS5mIldXnh7Wum8Cy  \n",
       "1    spotify:track:6Pif6RkFoYzLygdqktus4Q  \n",
       "2    spotify:track:5bJ1DrEM4hNCafcDd1oxHx  \n",
       "3    spotify:track:0LPcBW66vudTxR0HcauKNy  \n",
       "4    spotify:track:0ky8syPEVEfD7qCxMTW49X  \n",
       "..                                    ...  \n",
       "121  spotify:track:2tzgSUZOUKopYbRqQOVT8X  \n",
       "122  spotify:track:041sluNZwBxTCOuu766eNi  \n",
       "123  spotify:track:4S4QJfBGGrC8jRIjJHf1Ka  \n",
       "124  spotify:track:0N0h5lXc4HOiLgGb9EZi8m  \n",
       "125  spotify:track:7qFtkIa3KfhJAlWLVE1GCI  \n",
       "\n",
       "[126 rows x 16 columns]"
      ]
     },
     "execution_count": 42,
     "metadata": {},
     "output_type": "execute_result"
    }
   ],
   "source": [
    "common_songs_uri = common_songs.merge(to_merge)\n",
    "common_songs_uri"
   ]
  },
  {
   "cell_type": "code",
   "execution_count": 43,
   "id": "b2ce120e",
   "metadata": {
    "deletable": false,
    "editable": false
   },
   "outputs": [
    {
     "data": {
      "text/html": [
       "<p><strong><pre style='display: inline;'>q3_5</pre></strong> passed!</p>"
      ],
      "text/plain": [
       "q3_5 results: All test cases passed!"
      ]
     },
     "execution_count": 43,
     "metadata": {},
     "output_type": "execute_result"
    }
   ],
   "source": [
    "grader.check(\"q3_5\")"
   ]
  },
  {
   "cell_type": "markdown",
   "id": "e943abb5",
   "metadata": {},
   "source": [
    "**Question 3.6.** It would be great if we could listen to the songs in `common_songs_uri` to see if they sound alike, but there are too many songs to listen to them all. In an array called `certain_uris`, store the following `'uri'`s:\n",
    "- the first alphabetical `'uri'` in `common_songs_uri`,\n",
    "- then every 40th song thereafter, when the songs are ordered alphabetically by `'uri'`. \n",
    "\n",
    "Then, play all the songs whose `'uri'`s are stored in `certain_uris`. As in Question 1.3, you should only call the function `play_spotify` one time! "
   ]
  },
  {
   "cell_type": "code",
   "execution_count": 44,
   "id": "f98bc57e",
   "metadata": {
    "scrolled": false
   },
   "outputs": [
    {
     "data": {
      "text/html": [
       "\n",
       "        <iframe\n",
       "            width=\"400\"\n",
       "            height=\"75\"\n",
       "            src=\"https://open.spotify.com/embed/track/003vvx7Niy0yvhvHt4a68B\"\n",
       "            frameborder=\"0\"\n",
       "            allowfullscreen\n",
       "        ></iframe>\n",
       "        "
      ],
      "text/plain": [
       "<IPython.lib.display.IFrame at 0x7f0cb0c6c8e0>"
      ]
     },
     "metadata": {},
     "output_type": "display_data"
    },
    {
     "data": {
      "text/html": [
       "\n",
       "        <iframe\n",
       "            width=\"400\"\n",
       "            height=\"75\"\n",
       "            src=\"https://open.spotify.com/embed/track/2G74yhtIMW8tJY5I83dS4Z\"\n",
       "            frameborder=\"0\"\n",
       "            allowfullscreen\n",
       "        ></iframe>\n",
       "        "
      ],
      "text/plain": [
       "<IPython.lib.display.IFrame at 0x7f0cb0c6c8e0>"
      ]
     },
     "metadata": {},
     "output_type": "display_data"
    },
    {
     "data": {
      "text/html": [
       "\n",
       "        <iframe\n",
       "            width=\"400\"\n",
       "            height=\"75\"\n",
       "            src=\"https://open.spotify.com/embed/track/4b1yxSdlumA8N4fEk4UOZp\"\n",
       "            frameborder=\"0\"\n",
       "            allowfullscreen\n",
       "        ></iframe>\n",
       "        "
      ],
      "text/plain": [
       "<IPython.lib.display.IFrame at 0x7f0cb8ec8d30>"
      ]
     },
     "metadata": {},
     "output_type": "display_data"
    },
    {
     "data": {
      "text/html": [
       "\n",
       "        <iframe\n",
       "            width=\"400\"\n",
       "            height=\"75\"\n",
       "            src=\"https://open.spotify.com/embed/track/7aely3H8kMj9o0gt6vXHE1\"\n",
       "            frameborder=\"0\"\n",
       "            allowfullscreen\n",
       "        ></iframe>\n",
       "        "
      ],
      "text/plain": [
       "<IPython.lib.display.IFrame at 0x7f0cb8ec8d30>"
      ]
     },
     "metadata": {},
     "output_type": "display_data"
    }
   ],
   "source": [
    "# sort uris in alphabetical\n",
    "certain_uris = np.array(common_songs_uri.get('uri').sort_values())\n",
    "certain_uris\n",
    "\n",
    "certain_uris = certain_uris.take(np.arange(0, certain_uris.size, 40))\n",
    "certain_uris\n",
    "\n",
    "# Play the songs here.\n",
    "for uri in certain_uris:\n",
    "    play_spotify(uri)"
   ]
  },
  {
   "cell_type": "code",
   "execution_count": 45,
   "id": "43c10854",
   "metadata": {
    "deletable": false,
    "editable": false
   },
   "outputs": [
    {
     "data": {
      "text/html": [
       "<p><strong><pre style='display: inline;'>q3_6</pre></strong> passed!</p>"
      ],
      "text/plain": [
       "q3_6 results: All test cases passed!"
      ]
     },
     "execution_count": 45,
     "metadata": {},
     "output_type": "execute_result"
    }
   ],
   "source": [
    "grader.check(\"q3_6\")"
   ]
  },
  {
   "cell_type": "markdown",
   "id": "7001dcdd",
   "metadata": {},
   "source": [
    "**Question 3.7.** Now, let's categorize songs by their Italian tempo names. Specifically, find the mean of each numerical variable for each `'tempo_name'`. Store these means in a DataFrame indexed by `'tempo_name'` and sorted from slowest to fastest tempos. Save your DataFrame to the variable `song_means`. "
   ]
  },
  {
   "cell_type": "code",
   "execution_count": 46,
   "id": "2ac2ff02",
   "metadata": {},
   "outputs": [
    {
     "data": {
      "text/html": [
       "<div>\n",
       "<style scoped>\n",
       "    .dataframe tbody tr th:only-of-type {\n",
       "        vertical-align: middle;\n",
       "    }\n",
       "\n",
       "    .dataframe tbody tr th {\n",
       "        vertical-align: top;\n",
       "    }\n",
       "\n",
       "    .dataframe thead th {\n",
       "        text-align: right;\n",
       "    }\n",
       "</style>\n",
       "<table border=\"1\" class=\"dataframe\">\n",
       "  <thead>\n",
       "    <tr style=\"text-align: right;\">\n",
       "      <th></th>\n",
       "      <th>danceability</th>\n",
       "      <th>energy</th>\n",
       "      <th>key</th>\n",
       "      <th>mode</th>\n",
       "      <th>loudness</th>\n",
       "      <th>speechiness</th>\n",
       "      <th>acousticness</th>\n",
       "      <th>instrumentalness</th>\n",
       "      <th>liveness</th>\n",
       "      <th>valence</th>\n",
       "      <th>tempo</th>\n",
       "      <th>duration_min</th>\n",
       "    </tr>\n",
       "    <tr>\n",
       "      <th>tempo_name</th>\n",
       "      <th></th>\n",
       "      <th></th>\n",
       "      <th></th>\n",
       "      <th></th>\n",
       "      <th></th>\n",
       "      <th></th>\n",
       "      <th></th>\n",
       "      <th></th>\n",
       "      <th></th>\n",
       "      <th></th>\n",
       "      <th></th>\n",
       "      <th></th>\n",
       "    </tr>\n",
       "  </thead>\n",
       "  <tbody>\n",
       "    <tr>\n",
       "      <th>Lento</th>\n",
       "      <td>0.382000</td>\n",
       "      <td>0.363000</td>\n",
       "      <td>8.333333</td>\n",
       "      <td>0.666667</td>\n",
       "      <td>-13.754667</td>\n",
       "      <td>0.065867</td>\n",
       "      <td>0.529333</td>\n",
       "      <td>0.012967</td>\n",
       "      <td>0.342033</td>\n",
       "      <td>0.684333</td>\n",
       "      <td>45.251667</td>\n",
       "      <td>2.423483</td>\n",
       "    </tr>\n",
       "    <tr>\n",
       "      <th>Adagio</th>\n",
       "      <td>0.621284</td>\n",
       "      <td>0.559786</td>\n",
       "      <td>5.140704</td>\n",
       "      <td>0.625628</td>\n",
       "      <td>-7.147053</td>\n",
       "      <td>0.144588</td>\n",
       "      <td>0.318340</td>\n",
       "      <td>0.012825</td>\n",
       "      <td>0.182341</td>\n",
       "      <td>0.478925</td>\n",
       "      <td>80.822819</td>\n",
       "      <td>3.381803</td>\n",
       "    </tr>\n",
       "    <tr>\n",
       "      <th>Adante</th>\n",
       "      <td>0.704633</td>\n",
       "      <td>0.634094</td>\n",
       "      <td>5.306588</td>\n",
       "      <td>0.576014</td>\n",
       "      <td>-6.452064</td>\n",
       "      <td>0.102016</td>\n",
       "      <td>0.263806</td>\n",
       "      <td>0.013010</td>\n",
       "      <td>0.171431</td>\n",
       "      <td>0.544834</td>\n",
       "      <td>98.818757</td>\n",
       "      <td>3.408258</td>\n",
       "    </tr>\n",
       "    <tr>\n",
       "      <th>Moderato</th>\n",
       "      <td>0.698731</td>\n",
       "      <td>0.616624</td>\n",
       "      <td>5.129151</td>\n",
       "      <td>0.619926</td>\n",
       "      <td>-6.774517</td>\n",
       "      <td>0.081015</td>\n",
       "      <td>0.276549</td>\n",
       "      <td>0.014388</td>\n",
       "      <td>0.187421</td>\n",
       "      <td>0.544509</td>\n",
       "      <td>115.489395</td>\n",
       "      <td>3.353159</td>\n",
       "    </tr>\n",
       "    <tr>\n",
       "      <th>Allegro</th>\n",
       "      <td>0.681836</td>\n",
       "      <td>0.613450</td>\n",
       "      <td>5.152151</td>\n",
       "      <td>0.631689</td>\n",
       "      <td>-6.842650</td>\n",
       "      <td>0.112475</td>\n",
       "      <td>0.249058</td>\n",
       "      <td>0.010604</td>\n",
       "      <td>0.180571</td>\n",
       "      <td>0.506538</td>\n",
       "      <td>136.898663</td>\n",
       "      <td>3.319493</td>\n",
       "    </tr>\n",
       "    <tr>\n",
       "      <th>Vivace</th>\n",
       "      <td>0.622379</td>\n",
       "      <td>0.637733</td>\n",
       "      <td>5.192308</td>\n",
       "      <td>0.615385</td>\n",
       "      <td>-6.232313</td>\n",
       "      <td>0.166024</td>\n",
       "      <td>0.241861</td>\n",
       "      <td>0.012375</td>\n",
       "      <td>0.185906</td>\n",
       "      <td>0.548454</td>\n",
       "      <td>170.314977</td>\n",
       "      <td>3.362829</td>\n",
       "    </tr>\n",
       "    <tr>\n",
       "      <th>Presto</th>\n",
       "      <td>0.513000</td>\n",
       "      <td>0.600714</td>\n",
       "      <td>5.116883</td>\n",
       "      <td>0.688312</td>\n",
       "      <td>-6.845909</td>\n",
       "      <td>0.139118</td>\n",
       "      <td>0.306433</td>\n",
       "      <td>0.009172</td>\n",
       "      <td>0.149688</td>\n",
       "      <td>0.526116</td>\n",
       "      <td>187.764870</td>\n",
       "      <td>3.587768</td>\n",
       "    </tr>\n",
       "  </tbody>\n",
       "</table>\n",
       "</div>"
      ],
      "text/plain": [
       "            danceability    energy       key      mode   loudness  \\\n",
       "tempo_name                                                          \n",
       "Lento           0.382000  0.363000  8.333333  0.666667 -13.754667   \n",
       "Adagio          0.621284  0.559786  5.140704  0.625628  -7.147053   \n",
       "Adante          0.704633  0.634094  5.306588  0.576014  -6.452064   \n",
       "Moderato        0.698731  0.616624  5.129151  0.619926  -6.774517   \n",
       "Allegro         0.681836  0.613450  5.152151  0.631689  -6.842650   \n",
       "Vivace          0.622379  0.637733  5.192308  0.615385  -6.232313   \n",
       "Presto          0.513000  0.600714  5.116883  0.688312  -6.845909   \n",
       "\n",
       "            speechiness  acousticness  instrumentalness  liveness   valence  \\\n",
       "tempo_name                                                                    \n",
       "Lento          0.065867      0.529333          0.012967  0.342033  0.684333   \n",
       "Adagio         0.144588      0.318340          0.012825  0.182341  0.478925   \n",
       "Adante         0.102016      0.263806          0.013010  0.171431  0.544834   \n",
       "Moderato       0.081015      0.276549          0.014388  0.187421  0.544509   \n",
       "Allegro        0.112475      0.249058          0.010604  0.180571  0.506538   \n",
       "Vivace         0.166024      0.241861          0.012375  0.185906  0.548454   \n",
       "Presto         0.139118      0.306433          0.009172  0.149688  0.526116   \n",
       "\n",
       "                 tempo  duration_min  \n",
       "tempo_name                            \n",
       "Lento        45.251667      2.423483  \n",
       "Adagio       80.822819      3.381803  \n",
       "Adante       98.818757      3.408258  \n",
       "Moderato    115.489395      3.353159  \n",
       "Allegro     136.898663      3.319493  \n",
       "Vivace      170.314977      3.362829  \n",
       "Presto      187.764870      3.587768  "
      ]
     },
     "execution_count": 46,
     "metadata": {},
     "output_type": "execute_result"
    }
   ],
   "source": [
    "# mean of each numerical variable for each tempo name\n",
    "\n",
    "# one column of mean of each tempo\n",
    "# one column of all tempos\n",
    "song_means = songs.groupby('tempo_name').mean().sort_values(by='tempo', ascending=True)\n",
    "song_means"
   ]
  },
  {
   "cell_type": "code",
   "execution_count": 47,
   "id": "c5ee309a",
   "metadata": {
    "deletable": false,
    "editable": false
   },
   "outputs": [
    {
     "data": {
      "text/html": [
       "<p><strong><pre style='display: inline;'>q3_7</pre></strong> passed!</p>"
      ],
      "text/plain": [
       "q3_7 results: All test cases passed!"
      ]
     },
     "execution_count": 47,
     "metadata": {},
     "output_type": "execute_result"
    }
   ],
   "source": [
    "grader.check(\"q3_7\")"
   ]
  },
  {
   "cell_type": "markdown",
   "id": "c6e58f6f",
   "metadata": {},
   "source": [
    "**Question 3.8.** One `'tempo_name'` category has far fewer songs than the others. Since there are too few songs of this `'tempo_name'` for us to draw any meaningful conclusions from, let's create a version of `song_means` without this row. Save the resulting DataFrame in `song_means_modified`."
   ]
  },
  {
   "cell_type": "code",
   "execution_count": 48,
   "id": "a6e2e18f",
   "metadata": {},
   "outputs": [
    {
     "data": {
      "text/html": [
       "<div>\n",
       "<style scoped>\n",
       "    .dataframe tbody tr th:only-of-type {\n",
       "        vertical-align: middle;\n",
       "    }\n",
       "\n",
       "    .dataframe tbody tr th {\n",
       "        vertical-align: top;\n",
       "    }\n",
       "\n",
       "    .dataframe thead th {\n",
       "        text-align: right;\n",
       "    }\n",
       "</style>\n",
       "<table border=\"1\" class=\"dataframe\">\n",
       "  <thead>\n",
       "    <tr style=\"text-align: right;\">\n",
       "      <th></th>\n",
       "      <th>danceability</th>\n",
       "      <th>energy</th>\n",
       "      <th>key</th>\n",
       "      <th>mode</th>\n",
       "      <th>loudness</th>\n",
       "      <th>speechiness</th>\n",
       "      <th>acousticness</th>\n",
       "      <th>instrumentalness</th>\n",
       "      <th>liveness</th>\n",
       "      <th>valence</th>\n",
       "      <th>tempo</th>\n",
       "      <th>duration_min</th>\n",
       "    </tr>\n",
       "    <tr>\n",
       "      <th>tempo_name</th>\n",
       "      <th></th>\n",
       "      <th></th>\n",
       "      <th></th>\n",
       "      <th></th>\n",
       "      <th></th>\n",
       "      <th></th>\n",
       "      <th></th>\n",
       "      <th></th>\n",
       "      <th></th>\n",
       "      <th></th>\n",
       "      <th></th>\n",
       "      <th></th>\n",
       "    </tr>\n",
       "  </thead>\n",
       "  <tbody>\n",
       "    <tr>\n",
       "      <th>Adagio</th>\n",
       "      <td>0.621284</td>\n",
       "      <td>0.559786</td>\n",
       "      <td>5.140704</td>\n",
       "      <td>0.625628</td>\n",
       "      <td>-7.147053</td>\n",
       "      <td>0.144588</td>\n",
       "      <td>0.318340</td>\n",
       "      <td>0.012825</td>\n",
       "      <td>0.182341</td>\n",
       "      <td>0.478925</td>\n",
       "      <td>80.822819</td>\n",
       "      <td>3.381803</td>\n",
       "    </tr>\n",
       "    <tr>\n",
       "      <th>Adante</th>\n",
       "      <td>0.704633</td>\n",
       "      <td>0.634094</td>\n",
       "      <td>5.306588</td>\n",
       "      <td>0.576014</td>\n",
       "      <td>-6.452064</td>\n",
       "      <td>0.102016</td>\n",
       "      <td>0.263806</td>\n",
       "      <td>0.013010</td>\n",
       "      <td>0.171431</td>\n",
       "      <td>0.544834</td>\n",
       "      <td>98.818757</td>\n",
       "      <td>3.408258</td>\n",
       "    </tr>\n",
       "    <tr>\n",
       "      <th>Moderato</th>\n",
       "      <td>0.698731</td>\n",
       "      <td>0.616624</td>\n",
       "      <td>5.129151</td>\n",
       "      <td>0.619926</td>\n",
       "      <td>-6.774517</td>\n",
       "      <td>0.081015</td>\n",
       "      <td>0.276549</td>\n",
       "      <td>0.014388</td>\n",
       "      <td>0.187421</td>\n",
       "      <td>0.544509</td>\n",
       "      <td>115.489395</td>\n",
       "      <td>3.353159</td>\n",
       "    </tr>\n",
       "    <tr>\n",
       "      <th>Allegro</th>\n",
       "      <td>0.681836</td>\n",
       "      <td>0.613450</td>\n",
       "      <td>5.152151</td>\n",
       "      <td>0.631689</td>\n",
       "      <td>-6.842650</td>\n",
       "      <td>0.112475</td>\n",
       "      <td>0.249058</td>\n",
       "      <td>0.010604</td>\n",
       "      <td>0.180571</td>\n",
       "      <td>0.506538</td>\n",
       "      <td>136.898663</td>\n",
       "      <td>3.319493</td>\n",
       "    </tr>\n",
       "    <tr>\n",
       "      <th>Vivace</th>\n",
       "      <td>0.622379</td>\n",
       "      <td>0.637733</td>\n",
       "      <td>5.192308</td>\n",
       "      <td>0.615385</td>\n",
       "      <td>-6.232313</td>\n",
       "      <td>0.166024</td>\n",
       "      <td>0.241861</td>\n",
       "      <td>0.012375</td>\n",
       "      <td>0.185906</td>\n",
       "      <td>0.548454</td>\n",
       "      <td>170.314977</td>\n",
       "      <td>3.362829</td>\n",
       "    </tr>\n",
       "    <tr>\n",
       "      <th>Presto</th>\n",
       "      <td>0.513000</td>\n",
       "      <td>0.600714</td>\n",
       "      <td>5.116883</td>\n",
       "      <td>0.688312</td>\n",
       "      <td>-6.845909</td>\n",
       "      <td>0.139118</td>\n",
       "      <td>0.306433</td>\n",
       "      <td>0.009172</td>\n",
       "      <td>0.149688</td>\n",
       "      <td>0.526116</td>\n",
       "      <td>187.764870</td>\n",
       "      <td>3.587768</td>\n",
       "    </tr>\n",
       "  </tbody>\n",
       "</table>\n",
       "</div>"
      ],
      "text/plain": [
       "            danceability    energy       key      mode  loudness  speechiness  \\\n",
       "tempo_name                                                                      \n",
       "Adagio          0.621284  0.559786  5.140704  0.625628 -7.147053     0.144588   \n",
       "Adante          0.704633  0.634094  5.306588  0.576014 -6.452064     0.102016   \n",
       "Moderato        0.698731  0.616624  5.129151  0.619926 -6.774517     0.081015   \n",
       "Allegro         0.681836  0.613450  5.152151  0.631689 -6.842650     0.112475   \n",
       "Vivace          0.622379  0.637733  5.192308  0.615385 -6.232313     0.166024   \n",
       "Presto          0.513000  0.600714  5.116883  0.688312 -6.845909     0.139118   \n",
       "\n",
       "            acousticness  instrumentalness  liveness   valence       tempo  \\\n",
       "tempo_name                                                                   \n",
       "Adagio          0.318340          0.012825  0.182341  0.478925   80.822819   \n",
       "Adante          0.263806          0.013010  0.171431  0.544834   98.818757   \n",
       "Moderato        0.276549          0.014388  0.187421  0.544509  115.489395   \n",
       "Allegro         0.249058          0.010604  0.180571  0.506538  136.898663   \n",
       "Vivace          0.241861          0.012375  0.185906  0.548454  170.314977   \n",
       "Presto          0.306433          0.009172  0.149688  0.526116  187.764870   \n",
       "\n",
       "            duration_min  \n",
       "tempo_name                \n",
       "Adagio          3.381803  \n",
       "Adante          3.408258  \n",
       "Moderato        3.353159  \n",
       "Allegro         3.319493  \n",
       "Vivace          3.362829  \n",
       "Presto          3.587768  "
      ]
     },
     "execution_count": 48,
     "metadata": {},
     "output_type": "execute_result"
    }
   ],
   "source": [
    "song_means_modified = song_means.reset_index()#\n",
    "song_means_modified = song_means_modified[song_means_modified.get('tempo_name') != 'Lento'].set_index('tempo_name')\n",
    "song_means_modified"
   ]
  },
  {
   "cell_type": "code",
   "execution_count": 49,
   "id": "02ff3004",
   "metadata": {
    "deletable": false,
    "editable": false
   },
   "outputs": [
    {
     "data": {
      "text/html": [
       "<p><strong><pre style='display: inline;'>q3_8</pre></strong> passed!</p>"
      ],
      "text/plain": [
       "q3_8 results: All test cases passed!"
      ]
     },
     "execution_count": 49,
     "metadata": {},
     "output_type": "execute_result"
    }
   ],
   "source": [
    "grader.check(\"q3_8\")"
   ]
  },
  {
   "cell_type": "markdown",
   "id": "a8f52fd0",
   "metadata": {},
   "source": [
    "**Question 3.9.** Using `song_means_modified`, create a line plot that portrays how `'danceability'`, `'energy'`, `'acousticness'`, and `'valence'` change according to `'tempo_name'`. Make sure your plot arranges songs from slowest to fastest tempos."
   ]
  },
  {
   "cell_type": "markdown",
   "id": "8c09d460",
   "metadata": {
    "deletable": false,
    "editable": false
   },
   "source": [
    "<!-- BEGIN QUESTION -->\n",
    "\n",
    "<!--\n",
    "BEGIN QUESTION\n",
    "name: q3_9\n",
    "manual: true\n",
    "points: 1\n",
    "-->"
   ]
  },
  {
   "cell_type": "code",
   "execution_count": 50,
   "id": "e93f06f6",
   "metadata": {},
   "outputs": [
    {
     "data": {
      "text/plain": [
       "<AxesSubplot:xlabel='tempo_name'>"
      ]
     },
     "execution_count": 50,
     "metadata": {},
     "output_type": "execute_result"
    },
    {
     "data": {
      "image/png": "[encoded data removed]",
      "text/plain": [
       "<Figure size 432x288 with 1 Axes>"
      ]
     },
     "metadata": {},
     "output_type": "display_data"
    }
   ],
   "source": [
    "# Make your line plot here.\n",
    "song_means_modified.get(['danceability', 'energy', 'acousticness', 'valence']).plot(kind='line')"
   ]
  },
  {
   "cell_type": "markdown",
   "id": "c8c082bb",
   "metadata": {},
   "source": [
    "<!-- END QUESTION -->\n",
    "\n",
    "\n",
    "\n",
    "**Question 3.10.** You may have noticed from the plot in the previous question that `'energy'` and `'valence'` seem to move together. This means these variables are _associated_.\n",
    "\n",
    "In the cell below, answer the following questions.\n",
    "- Can we use the `'energy'` of a song to predict its `'valence'`?\n",
    "- If so, does this mean that high `'energy'` causes high `'valence'`? Why or why not?"
   ]
  },
  {
   "cell_type": "markdown",
   "id": "d09ea4d4",
   "metadata": {
    "deletable": false,
    "editable": false
   },
   "source": [
    "<!-- BEGIN QUESTION -->\n",
    "\n",
    "<!--\n",
    "BEGIN QUESTION\n",
    "name: q3_10\n",
    "manual: true\n",
    "points: 1\n",
    "-->"
   ]
  },
  {
   "cell_type": "markdown",
   "id": "65ccad08",
   "metadata": {},
   "source": [
    "There is an association between energy and valence because the positive and negative trends of the lines are very similar, so the visual impression is that they are associated with one another; since the lines move together, we can use energy to predict valence. However, we do not have enough information to know whether higher energy causes higher valence. There is association, but not confounding evidence towards causation."
   ]
  },
  {
   "cell_type": "markdown",
   "id": "dc6711f1",
   "metadata": {},
   "source": [
    "<!-- END QUESTION -->\n",
    "\n",
    "\n",
    "\n",
    "<a id='section4'></a>\n",
    "\n",
    "## Section 4: Crazy in Love 💕\n",
    "\n",
    "<small>(<a href=\"#outline\">return to the outline</a>)</small>"
   ]
  },
  {
   "cell_type": "markdown",
   "id": "782e9ffc",
   "metadata": {},
   "source": [
    "Now that we've developed an understanding of how a song's `'tempo_name'` relates to its audio features, let's turn our attention to the relationship between a song's `'track_name'` and its audio features. We'll start by looking at songs that contain `'love'` in the `'track_name'` and learning about what makes them special relative to other songs."
   ]
  },
  {
   "cell_type": "markdown",
   "id": "ba7c7f44",
   "metadata": {},
   "source": [
    "**Question 4.1.** Create a DataFrame called `love_and_not` that has all the same rows and columns as `songs`, plus one extra column, called `'has_love'`. This column should contain either the **string** `'True'` or `'False'`, corresponding to whether or not  the string `'love'` is part of the song's `'track_name'`. \n",
    "\n",
    "We consider `'love'` to be a part of a song's `'track_name'` even in the following scenarios:\n",
    "- `'love'` is part of another word, e.g. `'track_name'` contains `'lovely'`.\n",
    "- The capitalization is different, e.g. the `'track_name'` contains `'LoVE'`.\n",
    "\n",
    "_Note_: It may seem strange that we're asking you to use the strings `'True'` and `'False'` rather than the Boolean values `True` and `False` directly; this will make more sense in the coming questions."
   ]
  },
  {
   "cell_type": "code",
   "execution_count": 51,
   "id": "f9ddc833",
   "metadata": {},
   "outputs": [
    {
     "data": {
      "text/html": [
       "<div>\n",
       "<style scoped>\n",
       "    .dataframe tbody tr th:only-of-type {\n",
       "        vertical-align: middle;\n",
       "    }\n",
       "\n",
       "    .dataframe tbody tr th {\n",
       "        vertical-align: top;\n",
       "    }\n",
       "\n",
       "    .dataframe thead th {\n",
       "        text-align: right;\n",
       "    }\n",
       "</style>\n",
       "<table border=\"1\" class=\"dataframe\">\n",
       "  <thead>\n",
       "    <tr style=\"text-align: right;\">\n",
       "      <th></th>\n",
       "      <th>track_name</th>\n",
       "      <th>artist_names</th>\n",
       "      <th>danceability</th>\n",
       "      <th>energy</th>\n",
       "      <th>key</th>\n",
       "      <th>mode</th>\n",
       "      <th>loudness</th>\n",
       "      <th>speechiness</th>\n",
       "      <th>acousticness</th>\n",
       "      <th>instrumentalness</th>\n",
       "      <th>liveness</th>\n",
       "      <th>valence</th>\n",
       "      <th>tempo</th>\n",
       "      <th>duration_min</th>\n",
       "      <th>tempo_name</th>\n",
       "      <th>has_love</th>\n",
       "    </tr>\n",
       "  </thead>\n",
       "  <tbody>\n",
       "    <tr>\n",
       "      <th>1053</th>\n",
       "      <td>Jesus Lord pt 2</td>\n",
       "      <td>Kanye West</td>\n",
       "      <td>0.524</td>\n",
       "      <td>0.7260</td>\n",
       "      <td>8.0</td>\n",
       "      <td>1.0</td>\n",
       "      <td>-6.628</td>\n",
       "      <td>0.0941</td>\n",
       "      <td>0.07050</td>\n",
       "      <td>0.019200</td>\n",
       "      <td>0.0877</td>\n",
       "      <td>0.146</td>\n",
       "      <td>107.400</td>\n",
       "      <td>11.512200</td>\n",
       "      <td>Adante</td>\n",
       "      <td>False</td>\n",
       "    </tr>\n",
       "    <tr>\n",
       "      <th>125</th>\n",
       "      <td>All Too Well (10 Minute Version) (Taylor's Ver...</td>\n",
       "      <td>Taylor Swift</td>\n",
       "      <td>0.631</td>\n",
       "      <td>0.5180</td>\n",
       "      <td>0.0</td>\n",
       "      <td>1.0</td>\n",
       "      <td>-8.771</td>\n",
       "      <td>0.0303</td>\n",
       "      <td>0.27400</td>\n",
       "      <td>0.000000</td>\n",
       "      <td>0.0880</td>\n",
       "      <td>0.205</td>\n",
       "      <td>93.023</td>\n",
       "      <td>10.217117</td>\n",
       "      <td>Adante</td>\n",
       "      <td>False</td>\n",
       "    </tr>\n",
       "    <tr>\n",
       "      <th>1784</th>\n",
       "      <td>SWEET / I THOUGHT YOU WANTED TO DANCE (feat. B...</td>\n",
       "      <td>Tyler, The Creator, Brent Faiyaz, Fana Hues</td>\n",
       "      <td>0.468</td>\n",
       "      <td>0.6520</td>\n",
       "      <td>0.0</td>\n",
       "      <td>1.0</td>\n",
       "      <td>-4.912</td>\n",
       "      <td>0.0722</td>\n",
       "      <td>0.33300</td>\n",
       "      <td>0.000318</td>\n",
       "      <td>0.5500</td>\n",
       "      <td>0.390</td>\n",
       "      <td>140.223</td>\n",
       "      <td>9.802317</td>\n",
       "      <td>Allegro</td>\n",
       "      <td>False</td>\n",
       "    </tr>\n",
       "    <tr>\n",
       "      <th>1052</th>\n",
       "      <td>Jesus Lord</td>\n",
       "      <td>Kanye West</td>\n",
       "      <td>0.477</td>\n",
       "      <td>0.7130</td>\n",
       "      <td>1.0</td>\n",
       "      <td>1.0</td>\n",
       "      <td>-6.805</td>\n",
       "      <td>0.1260</td>\n",
       "      <td>0.09840</td>\n",
       "      <td>0.008440</td>\n",
       "      <td>0.0879</td>\n",
       "      <td>0.113</td>\n",
       "      <td>106.137</td>\n",
       "      <td>8.975617</td>\n",
       "      <td>Adante</td>\n",
       "      <td>False</td>\n",
       "    </tr>\n",
       "    <tr>\n",
       "      <th>1719</th>\n",
       "      <td>Residente: Bzrp Music Sessions, Vol. 49</td>\n",
       "      <td>Bizarrap, Residente</td>\n",
       "      <td>0.586</td>\n",
       "      <td>0.7400</td>\n",
       "      <td>1.0</td>\n",
       "      <td>0.0</td>\n",
       "      <td>-2.997</td>\n",
       "      <td>0.4040</td>\n",
       "      <td>0.55500</td>\n",
       "      <td>0.000000</td>\n",
       "      <td>0.1100</td>\n",
       "      <td>0.697</td>\n",
       "      <td>71.378</td>\n",
       "      <td>8.654817</td>\n",
       "      <td>Adagio</td>\n",
       "      <td>False</td>\n",
       "    </tr>\n",
       "    <tr>\n",
       "      <th>...</th>\n",
       "      <td>...</td>\n",
       "      <td>...</td>\n",
       "      <td>...</td>\n",
       "      <td>...</td>\n",
       "      <td>...</td>\n",
       "      <td>...</td>\n",
       "      <td>...</td>\n",
       "      <td>...</td>\n",
       "      <td>...</td>\n",
       "      <td>...</td>\n",
       "      <td>...</td>\n",
       "      <td>...</td>\n",
       "      <td>...</td>\n",
       "      <td>...</td>\n",
       "      <td>...</td>\n",
       "      <td>...</td>\n",
       "    </tr>\n",
       "    <tr>\n",
       "      <th>253</th>\n",
       "      <td>Bezos I</td>\n",
       "      <td>Bo Burnham</td>\n",
       "      <td>0.694</td>\n",
       "      <td>0.9480</td>\n",
       "      <td>2.0</td>\n",
       "      <td>1.0</td>\n",
       "      <td>-5.307</td>\n",
       "      <td>0.0361</td>\n",
       "      <td>0.00936</td>\n",
       "      <td>0.000016</td>\n",
       "      <td>0.1390</td>\n",
       "      <td>0.705</td>\n",
       "      <td>115.044</td>\n",
       "      <td>0.969150</td>\n",
       "      <td>Moderato</td>\n",
       "      <td>False</td>\n",
       "    </tr>\n",
       "    <tr>\n",
       "      <th>189</th>\n",
       "      <td>BLESSED</td>\n",
       "      <td>Tyler, The Creator</td>\n",
       "      <td>0.336</td>\n",
       "      <td>0.6130</td>\n",
       "      <td>8.0</td>\n",
       "      <td>1.0</td>\n",
       "      <td>-7.869</td>\n",
       "      <td>0.1230</td>\n",
       "      <td>0.38900</td>\n",
       "      <td>0.000100</td>\n",
       "      <td>0.7650</td>\n",
       "      <td>0.741</td>\n",
       "      <td>40.319</td>\n",
       "      <td>0.961117</td>\n",
       "      <td>Lento</td>\n",
       "      <td>False</td>\n",
       "    </tr>\n",
       "    <tr>\n",
       "      <th>575</th>\n",
       "      <td>Donda Chant</td>\n",
       "      <td>Kanye West</td>\n",
       "      <td>0.702</td>\n",
       "      <td>0.0474</td>\n",
       "      <td>3.0</td>\n",
       "      <td>0.0</td>\n",
       "      <td>-15.198</td>\n",
       "      <td>0.5260</td>\n",
       "      <td>0.00516</td>\n",
       "      <td>0.000001</td>\n",
       "      <td>0.1470</td>\n",
       "      <td>0.175</td>\n",
       "      <td>102.983</td>\n",
       "      <td>0.867700</td>\n",
       "      <td>Adante</td>\n",
       "      <td>False</td>\n",
       "    </tr>\n",
       "    <tr>\n",
       "      <th>836</th>\n",
       "      <td>Good News</td>\n",
       "      <td>Pop Smoke</td>\n",
       "      <td>0.573</td>\n",
       "      <td>0.5040</td>\n",
       "      <td>10.0</td>\n",
       "      <td>1.0</td>\n",
       "      <td>-8.116</td>\n",
       "      <td>0.2190</td>\n",
       "      <td>0.23600</td>\n",
       "      <td>0.000000</td>\n",
       "      <td>0.1200</td>\n",
       "      <td>0.526</td>\n",
       "      <td>126.655</td>\n",
       "      <td>0.783217</td>\n",
       "      <td>Allegro</td>\n",
       "      <td>False</td>\n",
       "    </tr>\n",
       "    <tr>\n",
       "      <th>1026</th>\n",
       "      <td>Intro</td>\n",
       "      <td>Drake</td>\n",
       "      <td>0.193</td>\n",
       "      <td>0.0218</td>\n",
       "      <td>0.0</td>\n",
       "      <td>0.0</td>\n",
       "      <td>-31.160</td>\n",
       "      <td>0.0389</td>\n",
       "      <td>0.95500</td>\n",
       "      <td>0.880000</td>\n",
       "      <td>0.1170</td>\n",
       "      <td>0.213</td>\n",
       "      <td>125.501</td>\n",
       "      <td>0.615583</td>\n",
       "      <td>Allegro</td>\n",
       "      <td>False</td>\n",
       "    </tr>\n",
       "  </tbody>\n",
       "</table>\n",
       "<p>2554 rows × 16 columns</p>\n",
       "</div>"
      ],
      "text/plain": [
       "                                             track_name  \\\n",
       "1053                                    Jesus Lord pt 2   \n",
       "125   All Too Well (10 Minute Version) (Taylor's Ver...   \n",
       "1784  SWEET / I THOUGHT YOU WANTED TO DANCE (feat. B...   \n",
       "1052                                         Jesus Lord   \n",
       "1719            Residente: Bzrp Music Sessions, Vol. 49   \n",
       "...                                                 ...   \n",
       "253                                             Bezos I   \n",
       "189                                             BLESSED   \n",
       "575                                         Donda Chant   \n",
       "836                                           Good News   \n",
       "1026                                              Intro   \n",
       "\n",
       "                                     artist_names  danceability  energy   key  \\\n",
       "1053                                   Kanye West         0.524  0.7260   8.0   \n",
       "125                                  Taylor Swift         0.631  0.5180   0.0   \n",
       "1784  Tyler, The Creator, Brent Faiyaz, Fana Hues         0.468  0.6520   0.0   \n",
       "1052                                   Kanye West         0.477  0.7130   1.0   \n",
       "1719                          Bizarrap, Residente         0.586  0.7400   1.0   \n",
       "...                                           ...           ...     ...   ...   \n",
       "253                                    Bo Burnham         0.694  0.9480   2.0   \n",
       "189                            Tyler, The Creator         0.336  0.6130   8.0   \n",
       "575                                    Kanye West         0.702  0.0474   3.0   \n",
       "836                                     Pop Smoke         0.573  0.5040  10.0   \n",
       "1026                                        Drake         0.193  0.0218   0.0   \n",
       "\n",
       "      mode  loudness  speechiness  acousticness  instrumentalness  liveness  \\\n",
       "1053   1.0    -6.628       0.0941       0.07050          0.019200    0.0877   \n",
       "125    1.0    -8.771       0.0303       0.27400          0.000000    0.0880   \n",
       "1784   1.0    -4.912       0.0722       0.33300          0.000318    0.5500   \n",
       "1052   1.0    -6.805       0.1260       0.09840          0.008440    0.0879   \n",
       "1719   0.0    -2.997       0.4040       0.55500          0.000000    0.1100   \n",
       "...    ...       ...          ...           ...               ...       ...   \n",
       "253    1.0    -5.307       0.0361       0.00936          0.000016    0.1390   \n",
       "189    1.0    -7.869       0.1230       0.38900          0.000100    0.7650   \n",
       "575    0.0   -15.198       0.5260       0.00516          0.000001    0.1470   \n",
       "836    1.0    -8.116       0.2190       0.23600          0.000000    0.1200   \n",
       "1026   0.0   -31.160       0.0389       0.95500          0.880000    0.1170   \n",
       "\n",
       "      valence    tempo  duration_min tempo_name has_love  \n",
       "1053    0.146  107.400     11.512200     Adante    False  \n",
       "125     0.205   93.023     10.217117     Adante    False  \n",
       "1784    0.390  140.223      9.802317    Allegro    False  \n",
       "1052    0.113  106.137      8.975617     Adante    False  \n",
       "1719    0.697   71.378      8.654817     Adagio    False  \n",
       "...       ...      ...           ...        ...      ...  \n",
       "253     0.705  115.044      0.969150   Moderato    False  \n",
       "189     0.741   40.319      0.961117      Lento    False  \n",
       "575     0.175  102.983      0.867700     Adante    False  \n",
       "836     0.526  126.655      0.783217    Allegro    False  \n",
       "1026    0.213  125.501      0.615583    Allegro    False  \n",
       "\n",
       "[2554 rows x 16 columns]"
      ]
     },
     "execution_count": 51,
     "metadata": {},
     "output_type": "execute_result"
    }
   ],
   "source": [
    "def love_or_not(track_name):\n",
    "    track_name = track_name.lower()\n",
    "    \n",
    "    if 'love' in track_name:\n",
    "        track_name = 'True'\n",
    "        return track_name\n",
    "    else:\n",
    "        track_name = 'False'\n",
    "        return track_name\n",
    "    \n",
    "love_and_not = songs.assign(has_love = songs.get('track_name').apply(love_or_not))\n",
    "love_and_not "
   ]
  },
  {
   "cell_type": "code",
   "execution_count": 52,
   "id": "10431c66",
   "metadata": {
    "deletable": false,
    "editable": false
   },
   "outputs": [
    {
     "data": {
      "text/html": [
       "<p><strong><pre style='display: inline;'>q4_1</pre></strong> passed!</p>"
      ],
      "text/plain": [
       "q4_1 results: All test cases passed!"
      ]
     },
     "execution_count": 52,
     "metadata": {},
     "output_type": "execute_result"
    }
   ],
   "source": [
    "grader.check(\"q4_1\")"
   ]
  },
  {
   "cell_type": "markdown",
   "id": "d8f731c2",
   "metadata": {},
   "source": [
    "**Question 4.2.** Let's compare the `'loudness'` of songs whose `'track_name'`s include `'love'` with the songs whose `'track_name'`s don't include `'love'`. Calculate the mean `'loudness'` of all songs containing the word `'love'` and store that in `average_love_song_loudness`. Similarly, calculate the mean `'loudness'` of all songs not containing the word `'love'` and store that in `average_non_love_song_loudness`.\n",
    "\n",
    "_Note_: `'loudness'` is represented as a negative number; smaller numbers correspond to quieter songs."
   ]
  },
  {
   "cell_type": "code",
   "execution_count": 53,
   "id": "b06726d9",
   "metadata": {},
   "outputs": [
    {
     "name": "stdout",
     "output_type": "stream",
     "text": [
      "The average loudness of songs whose titles include \"love\" is -6.49.\n",
      "The average loudness of songs whose titles don't include \"love\" is -6.75.\n"
     ]
    }
   ],
   "source": [
    "# get all track names where has_love == 'True'\n",
    "# get loudness for those songs\n",
    "# create sep df of all songs containing love\n",
    "# create sep df of all songs not containing love\n",
    "# compute mean of those dfs\n",
    "\n",
    "love_df = love_and_not[love_and_not.get('has_love') == 'True']\n",
    "not_love_df = love_and_not[love_and_not.get('has_love') == 'False']\n",
    "\n",
    "average_love_song_loudness = love_df.get('loudness').mean()\n",
    "average_non_love_song_loudness = not_love_df.get('loudness').mean()\n",
    "\n",
    "print('The average loudness of songs whose titles include \"love\" is ' + str(round(average_love_song_loudness, 2)) + '.')\n",
    "print('The average loudness of songs whose titles don\\'t include \"love\" is ' + str(round(average_non_love_song_loudness, 2)) + '.')"
   ]
  },
  {
   "cell_type": "code",
   "execution_count": 54,
   "id": "042f8ec4",
   "metadata": {
    "deletable": false,
    "editable": false
   },
   "outputs": [
    {
     "data": {
      "text/html": [
       "<p><strong><pre style='display: inline;'>q4_2</pre></strong> passed!</p>"
      ],
      "text/plain": [
       "q4_2 results: All test cases passed!"
      ]
     },
     "execution_count": 54,
     "metadata": {},
     "output_type": "execute_result"
    }
   ],
   "source": [
    "grader.check(\"q4_2\")"
   ]
  },
  {
   "cell_type": "markdown",
   "id": "5f9fa12f",
   "metadata": {},
   "source": [
    "**Question 4.3.** The audio features listed below are all measured on a 0 to 1 scale.\n",
    "- `'danceability'`\n",
    "- `'energy'`\n",
    "- `'speechiness'`\n",
    "- `'acousticness'`\n",
    "- `'instrumentalness'`\n",
    "- `'liveness'`\n",
    "- `'valence'`\n",
    "\n",
    "Let's try and understand how these features differ between songs with and without `'love'` in the `'track_name'`.\n",
    "\n",
    "Create a DataFrame called `love_means`, indexed by `'has_love'`, that contains the mean value of each of the 7 features above, separately for songs with `'love'` in the `'track_name'` and songs without `'love'` in the `'track_name'`. `love_means` should have 2 rows – one where `'has_love'` is `'False'` and one where `'has_love'` is `'True'` – and 7 columns. \n",
    "\n",
    "For instance, `love_means.get('energy').loc['False']` should be the mean `'energy'` among songs that don't have `'love'` in the `'track_name'`."
   ]
  },
  {
   "cell_type": "code",
   "execution_count": 55,
   "id": "81190f1e",
   "metadata": {
    "scrolled": true
   },
   "outputs": [
    {
     "data": {
      "text/html": [
       "<div>\n",
       "<style scoped>\n",
       "    .dataframe tbody tr th:only-of-type {\n",
       "        vertical-align: middle;\n",
       "    }\n",
       "\n",
       "    .dataframe tbody tr th {\n",
       "        vertical-align: top;\n",
       "    }\n",
       "\n",
       "    .dataframe thead th {\n",
       "        text-align: right;\n",
       "    }\n",
       "</style>\n",
       "<table border=\"1\" class=\"dataframe\">\n",
       "  <thead>\n",
       "    <tr style=\"text-align: right;\">\n",
       "      <th></th>\n",
       "      <th>danceability</th>\n",
       "      <th>energy</th>\n",
       "      <th>speechiness</th>\n",
       "      <th>acousticness</th>\n",
       "      <th>instrumentalness</th>\n",
       "      <th>liveness</th>\n",
       "      <th>valence</th>\n",
       "    </tr>\n",
       "    <tr>\n",
       "      <th>has_love</th>\n",
       "      <th></th>\n",
       "      <th></th>\n",
       "      <th></th>\n",
       "      <th></th>\n",
       "      <th></th>\n",
       "      <th></th>\n",
       "      <th></th>\n",
       "    </tr>\n",
       "  </thead>\n",
       "  <tbody>\n",
       "    <tr>\n",
       "      <th>False</th>\n",
       "      <td>0.669461</td>\n",
       "      <td>0.612243</td>\n",
       "      <td>0.119282</td>\n",
       "      <td>0.266987</td>\n",
       "      <td>0.012123</td>\n",
       "      <td>0.179766</td>\n",
       "      <td>0.522467</td>\n",
       "    </tr>\n",
       "    <tr>\n",
       "      <th>True</th>\n",
       "      <td>0.616239</td>\n",
       "      <td>0.603620</td>\n",
       "      <td>0.070163</td>\n",
       "      <td>0.286026</td>\n",
       "      <td>0.009477</td>\n",
       "      <td>0.161449</td>\n",
       "      <td>0.441172</td>\n",
       "    </tr>\n",
       "  </tbody>\n",
       "</table>\n",
       "</div>"
      ],
      "text/plain": [
       "          danceability    energy  speechiness  acousticness  instrumentalness  \\\n",
       "has_love                                                                        \n",
       "False         0.669461  0.612243     0.119282      0.266987          0.012123   \n",
       "True          0.616239  0.603620     0.070163      0.286026          0.009477   \n",
       "\n",
       "          liveness   valence  \n",
       "has_love                      \n",
       "False     0.179766  0.522467  \n",
       "True      0.161449  0.441172  "
      ]
     },
     "execution_count": 55,
     "metadata": {},
     "output_type": "execute_result"
    }
   ],
   "source": [
    "# separate by love and not_love\n",
    "# index by 'has_love'\n",
    "# mean of each of the seven features\n",
    "love_means = love_and_not.groupby('has_love').mean().get(['danceability','energy','speechiness','acousticness','instrumentalness','liveness','valence'])\n",
    "love_means"
   ]
  },
  {
   "cell_type": "code",
   "execution_count": 56,
   "id": "271c3e94",
   "metadata": {
    "deletable": false,
    "editable": false
   },
   "outputs": [
    {
     "data": {
      "text/html": [
       "<p><strong><pre style='display: inline;'>q4_3</pre></strong> passed!</p>"
      ],
      "text/plain": [
       "q4_3 results: All test cases passed!"
      ]
     },
     "execution_count": 56,
     "metadata": {},
     "output_type": "execute_result"
    }
   ],
   "source": [
    "grader.check(\"q4_3\")"
   ]
  },
  {
   "cell_type": "markdown",
   "id": "d2ec2c48",
   "metadata": {},
   "source": [
    "`love_means` has all the information we need. However, for the purposes of creating visualizations, we need to change its format so that the columns become the rows and the rows become the columns. This is called *transposing* the DataFrame, and it's very easy to accomplish in `babypandas` by typing `.T` after the name of a DataFrame. Run the next cell to see what happens when we transpose `love_means`."
   ]
  },
  {
   "cell_type": "code",
   "execution_count": 57,
   "id": "fe1b1b8a",
   "metadata": {},
   "outputs": [
    {
     "data": {
      "text/html": [
       "<div>\n",
       "<style scoped>\n",
       "    .dataframe tbody tr th:only-of-type {\n",
       "        vertical-align: middle;\n",
       "    }\n",
       "\n",
       "    .dataframe tbody tr th {\n",
       "        vertical-align: top;\n",
       "    }\n",
       "\n",
       "    .dataframe thead th {\n",
       "        text-align: right;\n",
       "    }\n",
       "</style>\n",
       "<table border=\"1\" class=\"dataframe\">\n",
       "  <thead>\n",
       "    <tr style=\"text-align: right;\">\n",
       "      <th>has_love</th>\n",
       "      <th>False</th>\n",
       "      <th>True</th>\n",
       "    </tr>\n",
       "  </thead>\n",
       "  <tbody>\n",
       "    <tr>\n",
       "      <th>danceability</th>\n",
       "      <td>0.669461</td>\n",
       "      <td>0.616239</td>\n",
       "    </tr>\n",
       "    <tr>\n",
       "      <th>energy</th>\n",
       "      <td>0.612243</td>\n",
       "      <td>0.603620</td>\n",
       "    </tr>\n",
       "    <tr>\n",
       "      <th>speechiness</th>\n",
       "      <td>0.119282</td>\n",
       "      <td>0.070163</td>\n",
       "    </tr>\n",
       "    <tr>\n",
       "      <th>acousticness</th>\n",
       "      <td>0.266987</td>\n",
       "      <td>0.286026</td>\n",
       "    </tr>\n",
       "    <tr>\n",
       "      <th>instrumentalness</th>\n",
       "      <td>0.012123</td>\n",
       "      <td>0.009477</td>\n",
       "    </tr>\n",
       "    <tr>\n",
       "      <th>liveness</th>\n",
       "      <td>0.179766</td>\n",
       "      <td>0.161449</td>\n",
       "    </tr>\n",
       "    <tr>\n",
       "      <th>valence</th>\n",
       "      <td>0.522467</td>\n",
       "      <td>0.441172</td>\n",
       "    </tr>\n",
       "  </tbody>\n",
       "</table>\n",
       "</div>"
      ],
      "text/plain": [
       "has_love             False      True\n",
       "danceability      0.669461  0.616239\n",
       "energy            0.612243  0.603620\n",
       "speechiness       0.119282  0.070163\n",
       "acousticness      0.266987  0.286026\n",
       "instrumentalness  0.012123  0.009477\n",
       "liveness          0.179766  0.161449\n",
       "valence           0.522467  0.441172"
      ]
     },
     "execution_count": 57,
     "metadata": {},
     "output_type": "execute_result"
    }
   ],
   "source": [
    "transposed_love = love_means.T \n",
    "transposed_love"
   ]
  },
  {
   "cell_type": "markdown",
   "id": "a224317c",
   "metadata": {},
   "source": [
    "`transposed_love` has the same information that `love_means` does, it's just presented differently.\n",
    "\n",
    "**Question 4.4.** Add a column called `'AbsDiff'` to `transposed_love` containing the absolute difference between the `'False'` and `'True'` columns."
   ]
  },
  {
   "cell_type": "code",
   "execution_count": 58,
   "id": "3f61c2cc",
   "metadata": {
    "scrolled": true
   },
   "outputs": [
    {
     "data": {
      "text/html": [
       "<div>\n",
       "<style scoped>\n",
       "    .dataframe tbody tr th:only-of-type {\n",
       "        vertical-align: middle;\n",
       "    }\n",
       "\n",
       "    .dataframe tbody tr th {\n",
       "        vertical-align: top;\n",
       "    }\n",
       "\n",
       "    .dataframe thead th {\n",
       "        text-align: right;\n",
       "    }\n",
       "</style>\n",
       "<table border=\"1\" class=\"dataframe\">\n",
       "  <thead>\n",
       "    <tr style=\"text-align: right;\">\n",
       "      <th>has_love</th>\n",
       "      <th>False</th>\n",
       "      <th>True</th>\n",
       "      <th>AbsDiff</th>\n",
       "    </tr>\n",
       "  </thead>\n",
       "  <tbody>\n",
       "    <tr>\n",
       "      <th>danceability</th>\n",
       "      <td>0.669461</td>\n",
       "      <td>0.616239</td>\n",
       "      <td>0.053222</td>\n",
       "    </tr>\n",
       "    <tr>\n",
       "      <th>energy</th>\n",
       "      <td>0.612243</td>\n",
       "      <td>0.603620</td>\n",
       "      <td>0.008623</td>\n",
       "    </tr>\n",
       "    <tr>\n",
       "      <th>speechiness</th>\n",
       "      <td>0.119282</td>\n",
       "      <td>0.070163</td>\n",
       "      <td>0.049119</td>\n",
       "    </tr>\n",
       "    <tr>\n",
       "      <th>acousticness</th>\n",
       "      <td>0.266987</td>\n",
       "      <td>0.286026</td>\n",
       "      <td>0.019039</td>\n",
       "    </tr>\n",
       "    <tr>\n",
       "      <th>instrumentalness</th>\n",
       "      <td>0.012123</td>\n",
       "      <td>0.009477</td>\n",
       "      <td>0.002645</td>\n",
       "    </tr>\n",
       "    <tr>\n",
       "      <th>liveness</th>\n",
       "      <td>0.179766</td>\n",
       "      <td>0.161449</td>\n",
       "      <td>0.018317</td>\n",
       "    </tr>\n",
       "    <tr>\n",
       "      <th>valence</th>\n",
       "      <td>0.522467</td>\n",
       "      <td>0.441172</td>\n",
       "      <td>0.081295</td>\n",
       "    </tr>\n",
       "  </tbody>\n",
       "</table>\n",
       "</div>"
      ],
      "text/plain": [
       "has_love             False      True   AbsDiff\n",
       "danceability      0.669461  0.616239  0.053222\n",
       "energy            0.612243  0.603620  0.008623\n",
       "speechiness       0.119282  0.070163  0.049119\n",
       "acousticness      0.266987  0.286026  0.019039\n",
       "instrumentalness  0.012123  0.009477  0.002645\n",
       "liveness          0.179766  0.161449  0.018317\n",
       "valence           0.522467  0.441172  0.081295"
      ]
     },
     "execution_count": 58,
     "metadata": {},
     "output_type": "execute_result"
    }
   ],
   "source": [
    "transposed_love = transposed_love.assign(AbsDiff = np.abs(transposed_love.get('False') - transposed_love.get('True')))\n",
    "transposed_love"
   ]
  },
  {
   "cell_type": "code",
   "execution_count": 59,
   "id": "d543e5b6",
   "metadata": {
    "deletable": false,
    "editable": false
   },
   "outputs": [
    {
     "data": {
      "text/html": [
       "<p><strong><pre style='display: inline;'>q4_4</pre></strong> passed!</p>"
      ],
      "text/plain": [
       "q4_4 results: All test cases passed!"
      ]
     },
     "execution_count": 59,
     "metadata": {},
     "output_type": "execute_result"
    }
   ],
   "source": [
    "grader.check(\"q4_4\")"
   ]
  },
  {
   "cell_type": "markdown",
   "id": "43dd07cf",
   "metadata": {},
   "source": [
    "**Question 4.5.** Using `transposed_love`, create a horizontal bar chart comparing the mean values of each of the 7 audio features for songs with and without `'love'` in the `'track_name'`. Your bar chart should have 14 bars total, 7 for songs with `'love'` and 7 for songs without `'love'`.\n",
    "\n",
    "Use the `'AbsDiff'` column to arrange the bars in the chart such that the audio feature which is most affected by the presence of the word `'love'` appears at the top and the one that's least affected is at the bottom.\n",
    "\n",
    "Title your chart `'Comparison of Songs Containing Love in the Title vs. Not'`."
   ]
  },
  {
   "cell_type": "markdown",
   "id": "1e2cf542",
   "metadata": {
    "deletable": false,
    "editable": false
   },
   "source": [
    "<!-- BEGIN QUESTION -->\n",
    "\n",
    "<!--\n",
    "BEGIN QUESTION\n",
    "name: q4_5\n",
    "manual: true\n",
    "-->"
   ]
  },
  {
   "cell_type": "code",
   "execution_count": 60,
   "id": "c0feede3",
   "metadata": {
    "scrolled": true
   },
   "outputs": [
    {
     "data": {
      "text/plain": [
       "<AxesSubplot:ylabel='index'>"
      ]
     },
     "execution_count": 60,
     "metadata": {},
     "output_type": "execute_result"
    },
    {
     "data": {
      "image/png": "[encoded data removed]",
      "text/plain": [
       "<Figure size 432x288 with 1 Axes>"
      ]
     },
     "metadata": {},
     "output_type": "display_data"
    }
   ],
   "source": [
    "# Make your horizontal bar chart here.\n",
    "transposed_love.reset_index().drop(columns=['AbsDiff']).plot(kind='barh', x = 'index')"
   ]
  },
  {
   "cell_type": "markdown",
   "id": "9dc002d2",
   "metadata": {},
   "source": [
    "<!-- END QUESTION -->\n",
    "\n",
    "\n",
    "\n",
    "**Question 4.6. ⭐️⭐️** Let's generalize this analysis to any word, not just `'love'`. Define a function called `word_analysis` that takes two arguments:\n",
    "- `word`, which can be any word that appears in at least one `'track_name'`. The input word can be capitalized any way; the function should not be case sensitive.\n",
    "- `draw_plot`, which should be a Boolean value corresponding to whether or not a bar chart should be drawn. By setting `draw_plot=False` in the parameter list in the function definition, we make `draw_plot` an optional argument whose default value is `False`. If not `draw_plot` is not specified by the caller of the function, the function will not draw the plot.\n",
    "\n",
    "If `draw_plot` is `True`, this function should produce a horizontal bar chart similar to the one you produced in the last question, except it will group songs based on whether or not their `'track_name'` contains the input word (as opposed to `'love'`). The bars should be ordered in the same way as described in the previous question, and the title of the plot should be of the same format, with just the first letter of the input word capitalized.\n",
    "\n",
    "In all cases, `word_analysis` should return a DataFrame with 7 rows, in any order, representing the 7 audio features, and 3 columns:\n",
    "- The `'False'` column should contain the mean values of all audio features, among songs that do not contain the given word in the `'track_name'`.\n",
    "- The `'True'` column should contain the mean values of all audio features, among songs that do contain the given word in the `'track_name'`.\n",
    "- `'AbsDiff'` should contain the absolute difference between the `'False'` and `'True'` columns.\n",
    "\n",
    "For example, `word_analysis('CaliforNiA', True)` should return the following DataFrame:\n",
    "\n",
    "<table border=\"1\" class=\"dataframe\">\n",
    "  <thead>\n",
    "    <tr style=\"text-align: right;\">\n",
    "      <th>has_word</th>\n",
    "      <th>False</th>\n",
    "      <th>True</th>\n",
    "      <th>AbsDiff</th>\n",
    "    </tr>\n",
    "  </thead>\n",
    "  <tbody>\n",
    "    <tr>\n",
    "      <th>acousticness</th>\n",
    "      <td>0.267513</td>\n",
    "      <td>0.269535</td>\n",
    "      <td>0.002022</td>\n",
    "    </tr>\n",
    "    <tr>\n",
    "      <th>valence</th>\n",
    "      <td>0.520189</td>\n",
    "      <td>0.532000</td>\n",
    "      <td>0.011811</td>\n",
    "    </tr>\n",
    "    <tr>\n",
    "      <th>instrumentalness</th>\n",
    "      <td>0.012068</td>\n",
    "      <td>0.000125</td>\n",
    "      <td>0.011943</td>\n",
    "    </tr>\n",
    "    <tr>\n",
    "      <th>energy</th>\n",
    "      <td>0.612034</td>\n",
    "      <td>0.592500</td>\n",
    "      <td>0.019534</td>\n",
    "    </tr>\n",
    "    <tr>\n",
    "      <th>liveness</th>\n",
    "      <td>0.179226</td>\n",
    "      <td>0.199125</td>\n",
    "      <td>0.019899</td>\n",
    "    </tr>\n",
    "    <tr>\n",
    "      <th>danceability</th>\n",
    "      <td>0.668027</td>\n",
    "      <td>0.638750</td>\n",
    "      <td>0.029277</td>\n",
    "    </tr>\n",
    "    <tr>\n",
    "      <th>speechiness</th>\n",
    "      <td>0.118015</td>\n",
    "      <td>0.055175</td>\n",
    "      <td>0.062840</td>\n",
    "    </tr>\n",
    "  </tbody>\n",
    "</table>\n",
    "\n",
    "and display the following plot:\n",
    "\n",
    "<img src='data/cali-example.png'>\n",
    "\n",
    "\n",
    "*Note*: Your function does not need to work on input words not in the title of some song in `songs`. For example, it's okay if `word_analysis('znvlox')` errors.\n",
    "\n",
    "*Hint*: To make sure that the first letter of the input word is capitalized when setting the title of your plot, use one of the string methods [detailed here](https://docs.python.org/3/library/stdtypes.html#string-methods)."
   ]
  },
  {
   "cell_type": "code",
   "execution_count": 61,
   "id": "c60ffb28",
   "metadata": {
    "scrolled": true
   },
   "outputs": [
    {
     "data": {
      "text/plain": [
       "(<AxesSubplot:title={'center':'Comparison of Songs Containing Jesus in the Title vs. Not'}>,\n",
       " has_word             False      True\n",
       " danceability      0.668148  0.526333\n",
       " energy            0.611990  0.623333\n",
       " speechiness       0.117959  0.082333\n",
       " acousticness      0.267581  0.212633\n",
       " instrumentalness  0.012052  0.009213\n",
       " liveness          0.179345  0.104200\n",
       " valence           0.520635  0.156333)"
      ]
     },
     "execution_count": 61,
     "metadata": {},
     "output_type": "execute_result"
    },
    {
     "data": {
      "image/png": "[encoded data removed]",
      "text/plain": [
       "<Figure size 432x288 with 1 Axes>"
      ]
     },
     "metadata": {},
     "output_type": "display_data"
    }
   ],
   "source": [
    "def str_bool(word):\n",
    "    return str(word)\n",
    "\n",
    "def word_analysis(word, draw_plot=False):\n",
    "    # make it lowercase\n",
    "    word = word.lower()\n",
    "    \n",
    "    prelim_df = songs.assign(has_word = songs.get('track_name').str.lower().str.contains(word, case=False).apply(str_bool))\n",
    "    prelim_df2 = prelim_df.assign(has_word = prelim_df.get('has_word'))#.apply(str))\n",
    "\n",
    "    # groupby mean, get columns, transpose\n",
    "    filtered_df = prelim_df.groupby('has_word').mean().get(['danceability','energy','speechiness','acousticness','instrumentalness','liveness','valence']).T\n",
    "    final_df = filtered_df\n",
    "\n",
    "    if draw_plot:\n",
    "        return final_df.assign(AbsDiff = abs(final_df.get('False') - final_df.get('True'))).plot(kind='barh', y = ['True', 'False'], title= 'Comparison of Songs Containing ' + word.capitalize() + ' in the Title vs. Not'), final_df  \n",
    "    else:\n",
    "        return final_df.assign(AbsDiff = abs(final_df.get('False') - final_df.get('True')))\n",
    "        \n",
    "# Test out your function. Feel free to change these inputs.\n",
    "word_analysis('Jesus', draw_plot = True) "
   ]
  },
  {
   "cell_type": "code",
   "execution_count": 62,
   "id": "2a0996ae",
   "metadata": {
    "deletable": false,
    "editable": false
   },
   "outputs": [
    {
     "data": {
      "text/html": [
       "<p><strong><pre style='display: inline;'>q4_6</pre></strong> passed!</p>"
      ],
      "text/plain": [
       "q4_6 results: All test cases passed!"
      ]
     },
     "execution_count": 62,
     "metadata": {},
     "output_type": "execute_result"
    }
   ],
   "source": [
    "grader.check(\"q4_6\")"
   ]
  },
  {
   "cell_type": "markdown",
   "id": "b9a5a1d1",
   "metadata": {
    "deletable": false,
    "editable": false
   },
   "source": [
    "<!-- BEGIN QUESTION -->\n",
    "\n",
    "Make sure to run the cell below before submitting. **Do not edit or delete it**.\n",
    "\n",
    "<!--\n",
    "BEGIN QUESTION\n",
    "name: q4_6_manual\n",
    "points: 1\n",
    "manual: true\n",
    "-->"
   ]
  },
  {
   "cell_type": "code",
   "execution_count": 63,
   "id": "766630d4",
   "metadata": {
    "deletable": false,
    "editable": false
   },
   "outputs": [
    {
     "data": {
      "text/plain": [
       "(<AxesSubplot:title={'center':'Comparison of Songs Containing Hurt in the Title vs. Not'}>,\n",
       " has_word             False    True\n",
       " danceability      0.668022  0.5660\n",
       " energy            0.611896  0.8850\n",
       " speechiness       0.117931  0.0818\n",
       " acousticness      0.267583  0.0958\n",
       " instrumentalness  0.012054  0.0001\n",
       " liveness          0.179196  0.3340\n",
       " valence           0.520292  0.3040)"
      ]
     },
     "execution_count": 63,
     "metadata": {},
     "output_type": "execute_result"
    },
    {
     "data": {
      "image/png": "[encoded data removed]",
      "text/plain": [
       "<Figure size 432x288 with 1 Axes>"
      ]
     },
     "metadata": {},
     "output_type": "display_data"
    }
   ],
   "source": [
    "word_analysis('huRt', True)"
   ]
  },
  {
   "cell_type": "markdown",
   "id": "a3bd2d3e",
   "metadata": {},
   "source": [
    "<!-- END QUESTION -->\n",
    "\n",
    "\n",
    "\n",
    "Let's define the *polarity* of a word as the total absolute difference between the `'True'` and `'False'` columns, across all 7 audio features. If a word has high polarity, it means songs containing that word in the `'track_name'` are very musically different from songs without that word in the `'track_name'`. If a word has low polarity, it means songs containing that word and not containing that word in the `'track_name'` are musically similar.\n",
    "\n",
    "**Question 4.7.** Define a function `polarity` that takes one input, a string representing a word that that appears in at least one `'track_name'` in `songs`, and returns the polarity of that word."
   ]
  },
  {
   "cell_type": "code",
   "execution_count": 64,
   "id": "d63c6721",
   "metadata": {},
   "outputs": [
    {
     "data": {
      "text/plain": [
       "0.5100413712521734"
      ]
     },
     "execution_count": 64,
     "metadata": {},
     "output_type": "execute_result"
    }
   ],
   "source": [
    "def polarity(word):\n",
    "    # polarity is abs diff of all 7  columns\n",
    "    prelim_df = songs.assign(has_word = songs.get('track_name').str.lower().str.contains(word).apply(str_bool))\n",
    "    filtered_df = prelim_df.groupby('has_word').mean().get(['danceability','energy','speechiness','acousticness','instrumentalness','liveness','valence']).T\n",
    "    final_df = filtered_df\n",
    "    final_df = final_df.assign(AbsDiff = abs(final_df.get('False') - final_df.get('True'))).sum().get('AbsDiff')\n",
    "    return final_df\n",
    "    \n",
    "\n",
    "# Test out your function. Feel free to change the input.\n",
    "polarity('hate')"
   ]
  },
  {
   "cell_type": "code",
   "execution_count": 65,
   "id": "f8bb1ac2",
   "metadata": {
    "deletable": false,
    "editable": false
   },
   "outputs": [
    {
     "data": {
      "text/html": [
       "<p><strong><pre style='display: inline;'>q4_7</pre></strong> passed!</p>"
      ],
      "text/plain": [
       "q4_7 results: All test cases passed!"
      ]
     },
     "execution_count": 65,
     "metadata": {},
     "output_type": "execute_result"
    }
   ],
   "source": [
    "grader.check(\"q4_7\")"
   ]
  },
  {
   "cell_type": "markdown",
   "id": "f1f1dcef",
   "metadata": {},
   "source": [
    "On its own, the polarity of a single word doesn't tell us much. Instead, we need to look at the polarities of several words and compare them, to see which words are more polarizing than others.\n",
    "\n",
    "Run the cell below to load in an array of words."
   ]
  },
  {
   "cell_type": "code",
   "execution_count": 66,
   "id": "e2cd60ea",
   "metadata": {},
   "outputs": [],
   "source": [
    "polarity_words = np.array(['love', 'hate', 'miracle', 'dead', 'feel', 'hold', 'about', 'and', 'christmas',\n",
    "                           'you', 'wonder', 'hello', 'work', 'hurt', 'where', 'quiero', 'shake', 'was'])"
   ]
  },
  {
   "cell_type": "markdown",
   "id": "3e123a2e",
   "metadata": {},
   "source": [
    "**Question 4.8.** Create an array called `polarity_words_ranked` containing the same words as `polarity_words` but ordered in descending order of polarity."
   ]
  },
  {
   "cell_type": "code",
   "execution_count": 67,
   "id": "0b2f5da8",
   "metadata": {},
   "outputs": [
    {
     "data": {
      "text/plain": [
       "array(['quiero', 'shake', 'miracle', 'hurt', 'wonder', 'work',\n",
       "       'christmas', 'hate', 'dead', 'about', 'where', 'hold', 'was',\n",
       "       'feel', 'hello', 'love', 'you', 'and'], dtype=object)"
      ]
     },
     "execution_count": 67,
     "metadata": {},
     "output_type": "execute_result"
    }
   ],
   "source": [
    "polarity_words_ranked = np.array([])\n",
    "for word in polarity_words:\n",
    "    polarity_words_ranked = np.append(polarity_words_ranked, polarity(word))\n",
    "    \n",
    "temp_df = bpd.DataFrame().assign(words = polarity_words, polarity=polarity_words_ranked).sort_values(by='polarity', ascending=False)\n",
    "polarity_words_ranked = temp_df.get('words').to_numpy()\n",
    "polarity_words_ranked"
   ]
  },
  {
   "cell_type": "code",
   "execution_count": 68,
   "id": "a805183f",
   "metadata": {
    "deletable": false,
    "editable": false
   },
   "outputs": [
    {
     "data": {
      "text/html": [
       "<p><strong><pre style='display: inline;'>q4_8</pre></strong> passed!</p>"
      ],
      "text/plain": [
       "q4_8 results: All test cases passed!"
      ]
     },
     "execution_count": 68,
     "metadata": {},
     "output_type": "execute_result"
    }
   ],
   "source": [
    "grader.check(\"q4_8\")"
   ]
  },
  {
   "cell_type": "markdown",
   "id": "f57c64c7",
   "metadata": {},
   "source": [
    "You may notice that very common words, like `'and'` and `'was'`, aren't very polarizing. See if you can come up with other words that are either very polarizing or very \"neutral,\" relative to the words in the array above.\n",
    "\n",
    "Before we conclude this section, let's stop and notice something we did inadvertently. It turns out we can use some of the analysis we've done here to see how individual songs compare to the rest of the songs in the dataset. For example, let's see how `'The Weeknd'`'s song `'A Tale By Quincy'` stacks up against the rest of the songs in the weekly top 200. Our `word_analysis` function should work even if we pass in phrases, so we can use it to compare songs with `'A Tale By Quincy'` in the title to songs without that string in the title. As you might expect, the only song in the dataset with `'A Tale By Quincy'` as part of the title is `'A Tale By Quincy'` itself. "
   ]
  },
  {
   "cell_type": "code",
   "execution_count": 69,
   "id": "a0d0df5b",
   "metadata": {},
   "outputs": [
    {
     "data": {
      "text/plain": [
       "(<AxesSubplot:title={'center':'Comparison of Songs Containing A tale by quincy in the Title vs. Not'}>,\n",
       " has_word             False     True\n",
       " danceability      0.668068  0.44700\n",
       " energy            0.612042  0.51300\n",
       " speechiness       0.117913  0.12700\n",
       " acousticness      0.267355  0.67900\n",
       " instrumentalness  0.012054  0.00003\n",
       " liveness          0.179289  0.09600\n",
       " valence           0.520187  0.57200)"
      ]
     },
     "execution_count": 69,
     "metadata": {},
     "output_type": "execute_result"
    },
    {
     "data": {
      "image/png": "[encoded data removed]",
      "text/plain": [
       "<Figure size 432x288 with 1 Axes>"
      ]
     },
     "metadata": {},
     "output_type": "display_data"
    }
   ],
   "source": [
    "word_analysis('A Tale By Quincy', True)"
   ]
  },
  {
   "cell_type": "markdown",
   "id": "957667c5",
   "metadata": {},
   "source": [
    "The resulting analysis shows, for example, that `'A Tale By Quincy'` is much more acoustic than a typical song on the weekly top 200. Run the cell below to listen for yourself and see if you agree."
   ]
  },
  {
   "cell_type": "code",
   "execution_count": 70,
   "id": "06859a85",
   "metadata": {},
   "outputs": [
    {
     "data": {
      "text/html": [
       "\n",
       "        <iframe\n",
       "            width=\"400\"\n",
       "            height=\"75\"\n",
       "            src=\"https://open.spotify.com/embed/track/759ndr57jb0URg4j9YSWml\"\n",
       "            frameborder=\"0\"\n",
       "            allowfullscreen\n",
       "        ></iframe>\n",
       "        "
      ],
      "text/plain": [
       "<IPython.lib.display.IFrame at 0x7f0cb03cc5b0>"
      ]
     },
     "metadata": {},
     "output_type": "display_data"
    }
   ],
   "source": [
    "play_spotify('spotify:track:759ndr57jb0URg4j9YSWml')"
   ]
  },
  {
   "cell_type": "markdown",
   "id": "909e48ab",
   "metadata": {},
   "source": [
    "Of course, we wouldn't be able to isolate specific songs by name like this if multiple artists have a song by the same name, or if the full song title is included in other song titles. But for most songs, this does work! Try it out on one of your favorite songs below to see what makes that song so special."
   ]
  },
  {
   "cell_type": "code",
   "execution_count": 71,
   "id": "aaf72775",
   "metadata": {},
   "outputs": [
    {
     "data": {
      "text/plain": [
       "(<AxesSubplot:title={'center':'Comparison of Songs Containing Heat waves in the Title vs. Not'}>,\n",
       " has_word             False      True\n",
       " danceability      0.667945  0.761000\n",
       " energy            0.612037  0.525000\n",
       " speechiness       0.117926  0.094400\n",
       " acousticness      0.267448  0.440000\n",
       " instrumentalness  0.012054  0.000007\n",
       " liveness          0.179291  0.092100\n",
       " valence           0.520203  0.531000)"
      ]
     },
     "execution_count": 71,
     "metadata": {},
     "output_type": "execute_result"
    },
    {
     "data": {
      "image/png": "[encoded data removed]",
      "text/plain": [
       "<Figure size 432x288 with 1 Axes>"
      ]
     },
     "metadata": {},
     "output_type": "display_data"
    }
   ],
   "source": [
    "word_analysis('Heat Waves', True)"
   ]
  },
  {
   "cell_type": "markdown",
   "id": "6073b23d",
   "metadata": {},
   "source": [
    "<a id='section5'></a>\n",
    "## Section 5: The Test of Time ⌛️\n",
    "\n",
    "<small>(<a href=\"#outline\">return to the outline</a>)</small>"
   ]
  },
  {
   "cell_type": "markdown",
   "id": "b87046c9",
   "metadata": {},
   "source": [
    "In the last three sections, we've worked with the audio features of songs. We haven't yet used any of the date information we have available – that is, we haven't looked at the `'week'` or `'release_date'` columns in `charts`.  In this section, we'll switch our attention to these columns, to study how the \"age\" of top songs in `charts` has changed over time.\n",
    "\n",
    "Run the cell below to load in the `charts` DataFrame again. "
   ]
  },
  {
   "cell_type": "code",
   "execution_count": 72,
   "id": "93c6a01c",
   "metadata": {},
   "outputs": [
    {
     "data": {
      "text/html": [
       "<div>\n",
       "<style scoped>\n",
       "    .dataframe tbody tr th:only-of-type {\n",
       "        vertical-align: middle;\n",
       "    }\n",
       "\n",
       "    .dataframe tbody tr th {\n",
       "        vertical-align: top;\n",
       "    }\n",
       "\n",
       "    .dataframe thead th {\n",
       "        text-align: right;\n",
       "    }\n",
       "</style>\n",
       "<table border=\"1\" class=\"dataframe\">\n",
       "  <thead>\n",
       "    <tr style=\"text-align: right;\">\n",
       "      <th></th>\n",
       "      <th>week</th>\n",
       "      <th>rank</th>\n",
       "      <th>track_name</th>\n",
       "      <th>uri</th>\n",
       "      <th>release_date</th>\n",
       "      <th>streams</th>\n",
       "      <th>artist_names</th>\n",
       "      <th>artist_individual</th>\n",
       "      <th>artist_id</th>\n",
       "      <th>artist_genre</th>\n",
       "      <th>...</th>\n",
       "      <th>mode</th>\n",
       "      <th>loudness</th>\n",
       "      <th>speechiness</th>\n",
       "      <th>acousticness</th>\n",
       "      <th>instrumentalness</th>\n",
       "      <th>liveness</th>\n",
       "      <th>valence</th>\n",
       "      <th>tempo</th>\n",
       "      <th>duration</th>\n",
       "      <th>country</th>\n",
       "    </tr>\n",
       "  </thead>\n",
       "  <tbody>\n",
       "    <tr>\n",
       "      <th>0</th>\n",
       "      <td>2021-02-04</td>\n",
       "      <td>1</td>\n",
       "      <td>drivers license</td>\n",
       "      <td>spotify:track:7lPN2DXiMsVn7XUKtOW1CS</td>\n",
       "      <td>2021-01-08</td>\n",
       "      <td>2054319</td>\n",
       "      <td>Olivia Rodrigo</td>\n",
       "      <td>Olivia Rodrigo</td>\n",
       "      <td>spotify:artist:1McMsnEElThX1knmY4oliG</td>\n",
       "      <td>pop</td>\n",
       "      <td>...</td>\n",
       "      <td>1</td>\n",
       "      <td>-8.761</td>\n",
       "      <td>0.0601</td>\n",
       "      <td>0.7210</td>\n",
       "      <td>0.000013</td>\n",
       "      <td>0.1050</td>\n",
       "      <td>0.132</td>\n",
       "      <td>143.874</td>\n",
       "      <td>242014</td>\n",
       "      <td>Canada</td>\n",
       "    </tr>\n",
       "    <tr>\n",
       "      <th>1</th>\n",
       "      <td>2021-02-04</td>\n",
       "      <td>2</td>\n",
       "      <td>Good Days</td>\n",
       "      <td>spotify:track:3YJJjQPAbDT7mGpX3WtQ9A</td>\n",
       "      <td>2020-12-25</td>\n",
       "      <td>916516</td>\n",
       "      <td>SZA</td>\n",
       "      <td>SZA</td>\n",
       "      <td>spotify:artist:7tYKF4w9nC0nq9CsPZTHyP</td>\n",
       "      <td>r&amp;b</td>\n",
       "      <td>...</td>\n",
       "      <td>0</td>\n",
       "      <td>-8.370</td>\n",
       "      <td>0.0583</td>\n",
       "      <td>0.4990</td>\n",
       "      <td>0.000008</td>\n",
       "      <td>0.6880</td>\n",
       "      <td>0.412</td>\n",
       "      <td>121.002</td>\n",
       "      <td>279204</td>\n",
       "      <td>Canada</td>\n",
       "    </tr>\n",
       "    <tr>\n",
       "      <th>2</th>\n",
       "      <td>2021-02-04</td>\n",
       "      <td>3</td>\n",
       "      <td>Save Your Tears</td>\n",
       "      <td>spotify:track:5QO79kh1waicV47BqGRL3g</td>\n",
       "      <td>2020-03-20</td>\n",
       "      <td>866067</td>\n",
       "      <td>The Weeknd</td>\n",
       "      <td>The Weeknd</td>\n",
       "      <td>spotify:artist:1Xyo4u8uXC1ZmMpatF05PJ</td>\n",
       "      <td>canadian contemporary r&amp;b</td>\n",
       "      <td>...</td>\n",
       "      <td>1</td>\n",
       "      <td>-5.487</td>\n",
       "      <td>0.0309</td>\n",
       "      <td>0.0212</td>\n",
       "      <td>0.000012</td>\n",
       "      <td>0.5430</td>\n",
       "      <td>0.644</td>\n",
       "      <td>118.051</td>\n",
       "      <td>215627</td>\n",
       "      <td>Canada</td>\n",
       "    </tr>\n",
       "    <tr>\n",
       "      <th>3</th>\n",
       "      <td>2021-02-04</td>\n",
       "      <td>4</td>\n",
       "      <td>Mood (feat. iann dior)</td>\n",
       "      <td>spotify:track:3tjFYV6RSFtuktYl3ZtYcq</td>\n",
       "      <td>2020-07-24</td>\n",
       "      <td>824789</td>\n",
       "      <td>24kGoldn, iann dior</td>\n",
       "      <td>24kGoldn</td>\n",
       "      <td>spotify:artist:6fWVd57NKTalqvmjRd2t8Z</td>\n",
       "      <td>cali rap</td>\n",
       "      <td>...</td>\n",
       "      <td>0</td>\n",
       "      <td>-3.558</td>\n",
       "      <td>0.0369</td>\n",
       "      <td>0.2210</td>\n",
       "      <td>0.000000</td>\n",
       "      <td>0.2720</td>\n",
       "      <td>0.756</td>\n",
       "      <td>90.989</td>\n",
       "      <td>140526</td>\n",
       "      <td>Canada</td>\n",
       "    </tr>\n",
       "    <tr>\n",
       "      <th>4</th>\n",
       "      <td>2021-02-04</td>\n",
       "      <td>4</td>\n",
       "      <td>Mood (feat. iann dior)</td>\n",
       "      <td>spotify:track:3tjFYV6RSFtuktYl3ZtYcq</td>\n",
       "      <td>2020-07-24</td>\n",
       "      <td>824789</td>\n",
       "      <td>24kGoldn, iann dior</td>\n",
       "      <td>iann dior</td>\n",
       "      <td>spotify:artist:6ASri4ePR7RlsvIQgWPJpS</td>\n",
       "      <td>melodic rap</td>\n",
       "      <td>...</td>\n",
       "      <td>0</td>\n",
       "      <td>-3.558</td>\n",
       "      <td>0.0369</td>\n",
       "      <td>0.2210</td>\n",
       "      <td>0.000000</td>\n",
       "      <td>0.2720</td>\n",
       "      <td>0.756</td>\n",
       "      <td>90.989</td>\n",
       "      <td>140526</td>\n",
       "      <td>Canada</td>\n",
       "    </tr>\n",
       "    <tr>\n",
       "      <th>...</th>\n",
       "      <td>...</td>\n",
       "      <td>...</td>\n",
       "      <td>...</td>\n",
       "      <td>...</td>\n",
       "      <td>...</td>\n",
       "      <td>...</td>\n",
       "      <td>...</td>\n",
       "      <td>...</td>\n",
       "      <td>...</td>\n",
       "      <td>...</td>\n",
       "      <td>...</td>\n",
       "      <td>...</td>\n",
       "      <td>...</td>\n",
       "      <td>...</td>\n",
       "      <td>...</td>\n",
       "      <td>...</td>\n",
       "      <td>...</td>\n",
       "      <td>...</td>\n",
       "      <td>...</td>\n",
       "      <td>...</td>\n",
       "      <td>...</td>\n",
       "    </tr>\n",
       "    <tr>\n",
       "      <th>70178</th>\n",
       "      <td>2022-07-14</td>\n",
       "      <td>196</td>\n",
       "      <td>Get Into It (Yuh)</td>\n",
       "      <td>spotify:track:0W6I02J9xcqK8MtSeosEXb</td>\n",
       "      <td>2021-06-25</td>\n",
       "      <td>1592100</td>\n",
       "      <td>Doja Cat</td>\n",
       "      <td>Doja Cat</td>\n",
       "      <td>spotify:artist:5cj0lLjcoR7YOSnhnX0Po5</td>\n",
       "      <td>dance pop</td>\n",
       "      <td>...</td>\n",
       "      <td>0</td>\n",
       "      <td>-6.029</td>\n",
       "      <td>0.1620</td>\n",
       "      <td>0.3150</td>\n",
       "      <td>0.000034</td>\n",
       "      <td>0.0894</td>\n",
       "      <td>0.793</td>\n",
       "      <td>91.942</td>\n",
       "      <td>138293</td>\n",
       "      <td>United States</td>\n",
       "    </tr>\n",
       "    <tr>\n",
       "      <th>70179</th>\n",
       "      <td>2022-07-14</td>\n",
       "      <td>197</td>\n",
       "      <td>Fancy Like</td>\n",
       "      <td>spotify:track:58UKC45GPNTflCN6nwCUeF</td>\n",
       "      <td>2022-01-21</td>\n",
       "      <td>1590126</td>\n",
       "      <td>Walker Hayes</td>\n",
       "      <td>Walker Hayes</td>\n",
       "      <td>spotify:artist:7sKxqpSqbIzphAKAhrqvlf</td>\n",
       "      <td>modern country rock</td>\n",
       "      <td>...</td>\n",
       "      <td>1</td>\n",
       "      <td>-6.459</td>\n",
       "      <td>0.0600</td>\n",
       "      <td>0.1110</td>\n",
       "      <td>0.000000</td>\n",
       "      <td>0.3150</td>\n",
       "      <td>0.855</td>\n",
       "      <td>79.994</td>\n",
       "      <td>161853</td>\n",
       "      <td>United States</td>\n",
       "    </tr>\n",
       "    <tr>\n",
       "      <th>70180</th>\n",
       "      <td>2022-07-14</td>\n",
       "      <td>198</td>\n",
       "      <td>Stick Season</td>\n",
       "      <td>spotify:track:0GNVXNz7Jkicfk2mp5OyG5</td>\n",
       "      <td>2022-07-08</td>\n",
       "      <td>1583302</td>\n",
       "      <td>Noah Kahan</td>\n",
       "      <td>Noah Kahan</td>\n",
       "      <td>spotify:artist:2RQXRUsr4IW1f3mKyKsy4B</td>\n",
       "      <td>pop</td>\n",
       "      <td>...</td>\n",
       "      <td>1</td>\n",
       "      <td>-6.935</td>\n",
       "      <td>0.0651</td>\n",
       "      <td>0.7990</td>\n",
       "      <td>0.000000</td>\n",
       "      <td>0.0966</td>\n",
       "      <td>0.801</td>\n",
       "      <td>117.896</td>\n",
       "      <td>182347</td>\n",
       "      <td>United States</td>\n",
       "    </tr>\n",
       "    <tr>\n",
       "      <th>70181</th>\n",
       "      <td>2022-07-14</td>\n",
       "      <td>199</td>\n",
       "      <td>Call Out My Name</td>\n",
       "      <td>spotify:track:09mEdoA6zrmBPgTEN5qXmN</td>\n",
       "      <td>2018-03-30</td>\n",
       "      <td>1583235</td>\n",
       "      <td>The Weeknd</td>\n",
       "      <td>The Weeknd</td>\n",
       "      <td>spotify:artist:1Xyo4u8uXC1ZmMpatF05PJ</td>\n",
       "      <td>canadian contemporary r&amp;b</td>\n",
       "      <td>...</td>\n",
       "      <td>1</td>\n",
       "      <td>-4.954</td>\n",
       "      <td>0.0356</td>\n",
       "      <td>0.1700</td>\n",
       "      <td>0.000000</td>\n",
       "      <td>0.3070</td>\n",
       "      <td>0.175</td>\n",
       "      <td>134.170</td>\n",
       "      <td>228373</td>\n",
       "      <td>United States</td>\n",
       "    </tr>\n",
       "    <tr>\n",
       "      <th>70182</th>\n",
       "      <td>2022-07-14</td>\n",
       "      <td>200</td>\n",
       "      <td>Good Days</td>\n",
       "      <td>spotify:track:3YJJjQPAbDT7mGpX3WtQ9A</td>\n",
       "      <td>2020-12-25</td>\n",
       "      <td>1579212</td>\n",
       "      <td>SZA</td>\n",
       "      <td>SZA</td>\n",
       "      <td>spotify:artist:7tYKF4w9nC0nq9CsPZTHyP</td>\n",
       "      <td>r&amp;b</td>\n",
       "      <td>...</td>\n",
       "      <td>0</td>\n",
       "      <td>-8.370</td>\n",
       "      <td>0.0583</td>\n",
       "      <td>0.4990</td>\n",
       "      <td>0.000008</td>\n",
       "      <td>0.6880</td>\n",
       "      <td>0.412</td>\n",
       "      <td>121.002</td>\n",
       "      <td>279204</td>\n",
       "      <td>United States</td>\n",
       "    </tr>\n",
       "  </tbody>\n",
       "</table>\n",
       "<p>70183 rows × 24 columns</p>\n",
       "</div>"
      ],
      "text/plain": [
       "             week  rank              track_name  \\\n",
       "0      2021-02-04     1         drivers license   \n",
       "1      2021-02-04     2               Good Days   \n",
       "2      2021-02-04     3         Save Your Tears   \n",
       "3      2021-02-04     4  Mood (feat. iann dior)   \n",
       "4      2021-02-04     4  Mood (feat. iann dior)   \n",
       "...           ...   ...                     ...   \n",
       "70178  2022-07-14   196       Get Into It (Yuh)   \n",
       "70179  2022-07-14   197              Fancy Like   \n",
       "70180  2022-07-14   198            Stick Season   \n",
       "70181  2022-07-14   199        Call Out My Name   \n",
       "70182  2022-07-14   200               Good Days   \n",
       "\n",
       "                                        uri release_date  streams  \\\n",
       "0      spotify:track:7lPN2DXiMsVn7XUKtOW1CS   2021-01-08  2054319   \n",
       "1      spotify:track:3YJJjQPAbDT7mGpX3WtQ9A   2020-12-25   916516   \n",
       "2      spotify:track:5QO79kh1waicV47BqGRL3g   2020-03-20   866067   \n",
       "3      spotify:track:3tjFYV6RSFtuktYl3ZtYcq   2020-07-24   824789   \n",
       "4      spotify:track:3tjFYV6RSFtuktYl3ZtYcq   2020-07-24   824789   \n",
       "...                                     ...          ...      ...   \n",
       "70178  spotify:track:0W6I02J9xcqK8MtSeosEXb   2021-06-25  1592100   \n",
       "70179  spotify:track:58UKC45GPNTflCN6nwCUeF   2022-01-21  1590126   \n",
       "70180  spotify:track:0GNVXNz7Jkicfk2mp5OyG5   2022-07-08  1583302   \n",
       "70181  spotify:track:09mEdoA6zrmBPgTEN5qXmN   2018-03-30  1583235   \n",
       "70182  spotify:track:3YJJjQPAbDT7mGpX3WtQ9A   2020-12-25  1579212   \n",
       "\n",
       "              artist_names artist_individual  \\\n",
       "0           Olivia Rodrigo    Olivia Rodrigo   \n",
       "1                      SZA               SZA   \n",
       "2               The Weeknd        The Weeknd   \n",
       "3      24kGoldn, iann dior          24kGoldn   \n",
       "4      24kGoldn, iann dior         iann dior   \n",
       "...                    ...               ...   \n",
       "70178             Doja Cat          Doja Cat   \n",
       "70179         Walker Hayes      Walker Hayes   \n",
       "70180           Noah Kahan        Noah Kahan   \n",
       "70181           The Weeknd        The Weeknd   \n",
       "70182                  SZA               SZA   \n",
       "\n",
       "                                   artist_id               artist_genre  ...  \\\n",
       "0      spotify:artist:1McMsnEElThX1knmY4oliG                        pop  ...   \n",
       "1      spotify:artist:7tYKF4w9nC0nq9CsPZTHyP                        r&b  ...   \n",
       "2      spotify:artist:1Xyo4u8uXC1ZmMpatF05PJ  canadian contemporary r&b  ...   \n",
       "3      spotify:artist:6fWVd57NKTalqvmjRd2t8Z                   cali rap  ...   \n",
       "4      spotify:artist:6ASri4ePR7RlsvIQgWPJpS                melodic rap  ...   \n",
       "...                                      ...                        ...  ...   \n",
       "70178  spotify:artist:5cj0lLjcoR7YOSnhnX0Po5                  dance pop  ...   \n",
       "70179  spotify:artist:7sKxqpSqbIzphAKAhrqvlf        modern country rock  ...   \n",
       "70180  spotify:artist:2RQXRUsr4IW1f3mKyKsy4B                        pop  ...   \n",
       "70181  spotify:artist:1Xyo4u8uXC1ZmMpatF05PJ  canadian contemporary r&b  ...   \n",
       "70182  spotify:artist:7tYKF4w9nC0nq9CsPZTHyP                        r&b  ...   \n",
       "\n",
       "      mode  loudness  speechiness  acousticness  instrumentalness  liveness  \\\n",
       "0        1    -8.761       0.0601        0.7210          0.000013    0.1050   \n",
       "1        0    -8.370       0.0583        0.4990          0.000008    0.6880   \n",
       "2        1    -5.487       0.0309        0.0212          0.000012    0.5430   \n",
       "3        0    -3.558       0.0369        0.2210          0.000000    0.2720   \n",
       "4        0    -3.558       0.0369        0.2210          0.000000    0.2720   \n",
       "...    ...       ...          ...           ...               ...       ...   \n",
       "70178    0    -6.029       0.1620        0.3150          0.000034    0.0894   \n",
       "70179    1    -6.459       0.0600        0.1110          0.000000    0.3150   \n",
       "70180    1    -6.935       0.0651        0.7990          0.000000    0.0966   \n",
       "70181    1    -4.954       0.0356        0.1700          0.000000    0.3070   \n",
       "70182    0    -8.370       0.0583        0.4990          0.000008    0.6880   \n",
       "\n",
       "       valence    tempo  duration        country  \n",
       "0        0.132  143.874    242014         Canada  \n",
       "1        0.412  121.002    279204         Canada  \n",
       "2        0.644  118.051    215627         Canada  \n",
       "3        0.756   90.989    140526         Canada  \n",
       "4        0.756   90.989    140526         Canada  \n",
       "...        ...      ...       ...            ...  \n",
       "70178    0.793   91.942    138293  United States  \n",
       "70179    0.855   79.994    161853  United States  \n",
       "70180    0.801  117.896    182347  United States  \n",
       "70181    0.175  134.170    228373  United States  \n",
       "70182    0.412  121.002    279204  United States  \n",
       "\n",
       "[70183 rows x 24 columns]"
      ]
     },
     "execution_count": 72,
     "metadata": {},
     "output_type": "execute_result"
    }
   ],
   "source": [
    "charts = bpd.read_csv('data/weekly_charts.csv')\n",
    "charts"
   ]
  },
  {
   "cell_type": "markdown",
   "id": "0b27cbbb",
   "metadata": {},
   "source": [
    "From the DataFrame preview, it looks like `'week'` and `'release_date'` are given as strings in `'YYYY-MM-DD'` format. Unfortunately, some tracks have an incomplete `'release_date'`, in the form `'YYYY'` or `'YYYY-MM'`. \n",
    "\n",
    "**Question 5.1.** What proportion of the rows of `charts` have a `'release_date'` of the form `'YYYY'`, with just a year? Save your result as `year_only`. Similarly, what proportion of the rows of `charts` have a `'release_date'` of the form `'YYYY-MM'`, with just a year and month? Save your result as `year_month_only`."
   ]
  },
  {
   "cell_type": "code",
   "execution_count": 73,
   "id": "d2b0d806",
   "metadata": {},
   "outputs": [
    {
     "name": "stdout",
     "output_type": "stream",
     "text": [
      "The proportion of songs in `charts` that have a release_date in the form 'YYYY' is 0.0143909.\n",
      "The proportion of songs in `charts` that have a release_date in the form 'YYYY-MM' is 0.0004844.\n"
     ]
    }
   ],
   "source": [
    "total_length = charts.shape[0]\n",
    "\n",
    "year_only = charts[charts.get('release_date').apply(len) == 4].shape[0] / total_length\n",
    "year_month_only = charts[charts.get('release_date').apply(len) == 7].shape[0] / total_length\n",
    "\n",
    "print(\"The proportion of songs in `charts` that have a release_date in the form 'YYYY' is \" + str(round(year_only, 7)) + \".\")\n",
    "print(\"The proportion of songs in `charts` that have a release_date in the form 'YYYY-MM' is \" + str(round(year_month_only, 7)) + \".\")"
   ]
  },
  {
   "cell_type": "code",
   "execution_count": 74,
   "id": "c9e2d947",
   "metadata": {
    "deletable": false,
    "editable": false
   },
   "outputs": [
    {
     "data": {
      "text/html": [
       "<p><strong><pre style='display: inline;'>q5_1</pre></strong> passed!</p>"
      ],
      "text/plain": [
       "q5_1 results: All test cases passed!"
      ]
     },
     "execution_count": 74,
     "metadata": {},
     "output_type": "execute_result"
    }
   ],
   "source": [
    "grader.check(\"q5_1\")"
   ]
  },
  {
   "cell_type": "markdown",
   "id": "c366541b",
   "metadata": {},
   "source": [
    "For consistency, let's input the missing months and days where necessary, so that all dates in `charts` will be in the same format. We don't actually know when these songs were released, so we'll just choose to handle the missing months and days by replacing them with `'01'`. That is, if a song has just a year listed for its `'release_date'`, we'll assume it was released on January 1st of that year. Similarly, if a song has just a year and month listed, we'll assume it was released on the first of that month.\n",
    "\n",
    "**Question 5.2.** Replace the missing months and days in the `'release_date'` column of `charts` with `'01'` as described."
   ]
  },
  {
   "cell_type": "code",
   "execution_count": 75,
   "id": "72c50f61",
   "metadata": {},
   "outputs": [
    {
     "data": {
      "text/html": [
       "<div>\n",
       "<style scoped>\n",
       "    .dataframe tbody tr th:only-of-type {\n",
       "        vertical-align: middle;\n",
       "    }\n",
       "\n",
       "    .dataframe tbody tr th {\n",
       "        vertical-align: top;\n",
       "    }\n",
       "\n",
       "    .dataframe thead th {\n",
       "        text-align: right;\n",
       "    }\n",
       "</style>\n",
       "<table border=\"1\" class=\"dataframe\">\n",
       "  <thead>\n",
       "    <tr style=\"text-align: right;\">\n",
       "      <th></th>\n",
       "      <th>week</th>\n",
       "      <th>rank</th>\n",
       "      <th>track_name</th>\n",
       "      <th>uri</th>\n",
       "      <th>release_date</th>\n",
       "      <th>streams</th>\n",
       "      <th>artist_names</th>\n",
       "      <th>artist_individual</th>\n",
       "      <th>artist_id</th>\n",
       "      <th>artist_genre</th>\n",
       "      <th>...</th>\n",
       "      <th>mode</th>\n",
       "      <th>loudness</th>\n",
       "      <th>speechiness</th>\n",
       "      <th>acousticness</th>\n",
       "      <th>instrumentalness</th>\n",
       "      <th>liveness</th>\n",
       "      <th>valence</th>\n",
       "      <th>tempo</th>\n",
       "      <th>duration</th>\n",
       "      <th>country</th>\n",
       "    </tr>\n",
       "  </thead>\n",
       "  <tbody>\n",
       "    <tr>\n",
       "      <th>0</th>\n",
       "      <td>2021-02-04</td>\n",
       "      <td>1</td>\n",
       "      <td>drivers license</td>\n",
       "      <td>spotify:track:7lPN2DXiMsVn7XUKtOW1CS</td>\n",
       "      <td>2021-01-08</td>\n",
       "      <td>2054319</td>\n",
       "      <td>Olivia Rodrigo</td>\n",
       "      <td>Olivia Rodrigo</td>\n",
       "      <td>spotify:artist:1McMsnEElThX1knmY4oliG</td>\n",
       "      <td>pop</td>\n",
       "      <td>...</td>\n",
       "      <td>1</td>\n",
       "      <td>-8.761</td>\n",
       "      <td>0.0601</td>\n",
       "      <td>0.7210</td>\n",
       "      <td>0.000013</td>\n",
       "      <td>0.1050</td>\n",
       "      <td>0.132</td>\n",
       "      <td>143.874</td>\n",
       "      <td>242014</td>\n",
       "      <td>Canada</td>\n",
       "    </tr>\n",
       "    <tr>\n",
       "      <th>1</th>\n",
       "      <td>2021-02-04</td>\n",
       "      <td>2</td>\n",
       "      <td>Good Days</td>\n",
       "      <td>spotify:track:3YJJjQPAbDT7mGpX3WtQ9A</td>\n",
       "      <td>2020-12-25</td>\n",
       "      <td>916516</td>\n",
       "      <td>SZA</td>\n",
       "      <td>SZA</td>\n",
       "      <td>spotify:artist:7tYKF4w9nC0nq9CsPZTHyP</td>\n",
       "      <td>r&amp;b</td>\n",
       "      <td>...</td>\n",
       "      <td>0</td>\n",
       "      <td>-8.370</td>\n",
       "      <td>0.0583</td>\n",
       "      <td>0.4990</td>\n",
       "      <td>0.000008</td>\n",
       "      <td>0.6880</td>\n",
       "      <td>0.412</td>\n",
       "      <td>121.002</td>\n",
       "      <td>279204</td>\n",
       "      <td>Canada</td>\n",
       "    </tr>\n",
       "    <tr>\n",
       "      <th>2</th>\n",
       "      <td>2021-02-04</td>\n",
       "      <td>3</td>\n",
       "      <td>Save Your Tears</td>\n",
       "      <td>spotify:track:5QO79kh1waicV47BqGRL3g</td>\n",
       "      <td>2020-03-20</td>\n",
       "      <td>866067</td>\n",
       "      <td>The Weeknd</td>\n",
       "      <td>The Weeknd</td>\n",
       "      <td>spotify:artist:1Xyo4u8uXC1ZmMpatF05PJ</td>\n",
       "      <td>canadian contemporary r&amp;b</td>\n",
       "      <td>...</td>\n",
       "      <td>1</td>\n",
       "      <td>-5.487</td>\n",
       "      <td>0.0309</td>\n",
       "      <td>0.0212</td>\n",
       "      <td>0.000012</td>\n",
       "      <td>0.5430</td>\n",
       "      <td>0.644</td>\n",
       "      <td>118.051</td>\n",
       "      <td>215627</td>\n",
       "      <td>Canada</td>\n",
       "    </tr>\n",
       "    <tr>\n",
       "      <th>3</th>\n",
       "      <td>2021-02-04</td>\n",
       "      <td>4</td>\n",
       "      <td>Mood (feat. iann dior)</td>\n",
       "      <td>spotify:track:3tjFYV6RSFtuktYl3ZtYcq</td>\n",
       "      <td>2020-07-24</td>\n",
       "      <td>824789</td>\n",
       "      <td>24kGoldn, iann dior</td>\n",
       "      <td>24kGoldn</td>\n",
       "      <td>spotify:artist:6fWVd57NKTalqvmjRd2t8Z</td>\n",
       "      <td>cali rap</td>\n",
       "      <td>...</td>\n",
       "      <td>0</td>\n",
       "      <td>-3.558</td>\n",
       "      <td>0.0369</td>\n",
       "      <td>0.2210</td>\n",
       "      <td>0.000000</td>\n",
       "      <td>0.2720</td>\n",
       "      <td>0.756</td>\n",
       "      <td>90.989</td>\n",
       "      <td>140526</td>\n",
       "      <td>Canada</td>\n",
       "    </tr>\n",
       "    <tr>\n",
       "      <th>4</th>\n",
       "      <td>2021-02-04</td>\n",
       "      <td>4</td>\n",
       "      <td>Mood (feat. iann dior)</td>\n",
       "      <td>spotify:track:3tjFYV6RSFtuktYl3ZtYcq</td>\n",
       "      <td>2020-07-24</td>\n",
       "      <td>824789</td>\n",
       "      <td>24kGoldn, iann dior</td>\n",
       "      <td>iann dior</td>\n",
       "      <td>spotify:artist:6ASri4ePR7RlsvIQgWPJpS</td>\n",
       "      <td>melodic rap</td>\n",
       "      <td>...</td>\n",
       "      <td>0</td>\n",
       "      <td>-3.558</td>\n",
       "      <td>0.0369</td>\n",
       "      <td>0.2210</td>\n",
       "      <td>0.000000</td>\n",
       "      <td>0.2720</td>\n",
       "      <td>0.756</td>\n",
       "      <td>90.989</td>\n",
       "      <td>140526</td>\n",
       "      <td>Canada</td>\n",
       "    </tr>\n",
       "    <tr>\n",
       "      <th>...</th>\n",
       "      <td>...</td>\n",
       "      <td>...</td>\n",
       "      <td>...</td>\n",
       "      <td>...</td>\n",
       "      <td>...</td>\n",
       "      <td>...</td>\n",
       "      <td>...</td>\n",
       "      <td>...</td>\n",
       "      <td>...</td>\n",
       "      <td>...</td>\n",
       "      <td>...</td>\n",
       "      <td>...</td>\n",
       "      <td>...</td>\n",
       "      <td>...</td>\n",
       "      <td>...</td>\n",
       "      <td>...</td>\n",
       "      <td>...</td>\n",
       "      <td>...</td>\n",
       "      <td>...</td>\n",
       "      <td>...</td>\n",
       "      <td>...</td>\n",
       "    </tr>\n",
       "    <tr>\n",
       "      <th>70178</th>\n",
       "      <td>2022-07-14</td>\n",
       "      <td>196</td>\n",
       "      <td>Get Into It (Yuh)</td>\n",
       "      <td>spotify:track:0W6I02J9xcqK8MtSeosEXb</td>\n",
       "      <td>2021-06-25</td>\n",
       "      <td>1592100</td>\n",
       "      <td>Doja Cat</td>\n",
       "      <td>Doja Cat</td>\n",
       "      <td>spotify:artist:5cj0lLjcoR7YOSnhnX0Po5</td>\n",
       "      <td>dance pop</td>\n",
       "      <td>...</td>\n",
       "      <td>0</td>\n",
       "      <td>-6.029</td>\n",
       "      <td>0.1620</td>\n",
       "      <td>0.3150</td>\n",
       "      <td>0.000034</td>\n",
       "      <td>0.0894</td>\n",
       "      <td>0.793</td>\n",
       "      <td>91.942</td>\n",
       "      <td>138293</td>\n",
       "      <td>United States</td>\n",
       "    </tr>\n",
       "    <tr>\n",
       "      <th>70179</th>\n",
       "      <td>2022-07-14</td>\n",
       "      <td>197</td>\n",
       "      <td>Fancy Like</td>\n",
       "      <td>spotify:track:58UKC45GPNTflCN6nwCUeF</td>\n",
       "      <td>2022-01-21</td>\n",
       "      <td>1590126</td>\n",
       "      <td>Walker Hayes</td>\n",
       "      <td>Walker Hayes</td>\n",
       "      <td>spotify:artist:7sKxqpSqbIzphAKAhrqvlf</td>\n",
       "      <td>modern country rock</td>\n",
       "      <td>...</td>\n",
       "      <td>1</td>\n",
       "      <td>-6.459</td>\n",
       "      <td>0.0600</td>\n",
       "      <td>0.1110</td>\n",
       "      <td>0.000000</td>\n",
       "      <td>0.3150</td>\n",
       "      <td>0.855</td>\n",
       "      <td>79.994</td>\n",
       "      <td>161853</td>\n",
       "      <td>United States</td>\n",
       "    </tr>\n",
       "    <tr>\n",
       "      <th>70180</th>\n",
       "      <td>2022-07-14</td>\n",
       "      <td>198</td>\n",
       "      <td>Stick Season</td>\n",
       "      <td>spotify:track:0GNVXNz7Jkicfk2mp5OyG5</td>\n",
       "      <td>2022-07-08</td>\n",
       "      <td>1583302</td>\n",
       "      <td>Noah Kahan</td>\n",
       "      <td>Noah Kahan</td>\n",
       "      <td>spotify:artist:2RQXRUsr4IW1f3mKyKsy4B</td>\n",
       "      <td>pop</td>\n",
       "      <td>...</td>\n",
       "      <td>1</td>\n",
       "      <td>-6.935</td>\n",
       "      <td>0.0651</td>\n",
       "      <td>0.7990</td>\n",
       "      <td>0.000000</td>\n",
       "      <td>0.0966</td>\n",
       "      <td>0.801</td>\n",
       "      <td>117.896</td>\n",
       "      <td>182347</td>\n",
       "      <td>United States</td>\n",
       "    </tr>\n",
       "    <tr>\n",
       "      <th>70181</th>\n",
       "      <td>2022-07-14</td>\n",
       "      <td>199</td>\n",
       "      <td>Call Out My Name</td>\n",
       "      <td>spotify:track:09mEdoA6zrmBPgTEN5qXmN</td>\n",
       "      <td>2018-03-30</td>\n",
       "      <td>1583235</td>\n",
       "      <td>The Weeknd</td>\n",
       "      <td>The Weeknd</td>\n",
       "      <td>spotify:artist:1Xyo4u8uXC1ZmMpatF05PJ</td>\n",
       "      <td>canadian contemporary r&amp;b</td>\n",
       "      <td>...</td>\n",
       "      <td>1</td>\n",
       "      <td>-4.954</td>\n",
       "      <td>0.0356</td>\n",
       "      <td>0.1700</td>\n",
       "      <td>0.000000</td>\n",
       "      <td>0.3070</td>\n",
       "      <td>0.175</td>\n",
       "      <td>134.170</td>\n",
       "      <td>228373</td>\n",
       "      <td>United States</td>\n",
       "    </tr>\n",
       "    <tr>\n",
       "      <th>70182</th>\n",
       "      <td>2022-07-14</td>\n",
       "      <td>200</td>\n",
       "      <td>Good Days</td>\n",
       "      <td>spotify:track:3YJJjQPAbDT7mGpX3WtQ9A</td>\n",
       "      <td>2020-12-25</td>\n",
       "      <td>1579212</td>\n",
       "      <td>SZA</td>\n",
       "      <td>SZA</td>\n",
       "      <td>spotify:artist:7tYKF4w9nC0nq9CsPZTHyP</td>\n",
       "      <td>r&amp;b</td>\n",
       "      <td>...</td>\n",
       "      <td>0</td>\n",
       "      <td>-8.370</td>\n",
       "      <td>0.0583</td>\n",
       "      <td>0.4990</td>\n",
       "      <td>0.000008</td>\n",
       "      <td>0.6880</td>\n",
       "      <td>0.412</td>\n",
       "      <td>121.002</td>\n",
       "      <td>279204</td>\n",
       "      <td>United States</td>\n",
       "    </tr>\n",
       "  </tbody>\n",
       "</table>\n",
       "<p>70183 rows × 24 columns</p>\n",
       "</div>"
      ],
      "text/plain": [
       "             week  rank              track_name  \\\n",
       "0      2021-02-04     1         drivers license   \n",
       "1      2021-02-04     2               Good Days   \n",
       "2      2021-02-04     3         Save Your Tears   \n",
       "3      2021-02-04     4  Mood (feat. iann dior)   \n",
       "4      2021-02-04     4  Mood (feat. iann dior)   \n",
       "...           ...   ...                     ...   \n",
       "70178  2022-07-14   196       Get Into It (Yuh)   \n",
       "70179  2022-07-14   197              Fancy Like   \n",
       "70180  2022-07-14   198            Stick Season   \n",
       "70181  2022-07-14   199        Call Out My Name   \n",
       "70182  2022-07-14   200               Good Days   \n",
       "\n",
       "                                        uri release_date  streams  \\\n",
       "0      spotify:track:7lPN2DXiMsVn7XUKtOW1CS   2021-01-08  2054319   \n",
       "1      spotify:track:3YJJjQPAbDT7mGpX3WtQ9A   2020-12-25   916516   \n",
       "2      spotify:track:5QO79kh1waicV47BqGRL3g   2020-03-20   866067   \n",
       "3      spotify:track:3tjFYV6RSFtuktYl3ZtYcq   2020-07-24   824789   \n",
       "4      spotify:track:3tjFYV6RSFtuktYl3ZtYcq   2020-07-24   824789   \n",
       "...                                     ...          ...      ...   \n",
       "70178  spotify:track:0W6I02J9xcqK8MtSeosEXb   2021-06-25  1592100   \n",
       "70179  spotify:track:58UKC45GPNTflCN6nwCUeF   2022-01-21  1590126   \n",
       "70180  spotify:track:0GNVXNz7Jkicfk2mp5OyG5   2022-07-08  1583302   \n",
       "70181  spotify:track:09mEdoA6zrmBPgTEN5qXmN   2018-03-30  1583235   \n",
       "70182  spotify:track:3YJJjQPAbDT7mGpX3WtQ9A   2020-12-25  1579212   \n",
       "\n",
       "              artist_names artist_individual  \\\n",
       "0           Olivia Rodrigo    Olivia Rodrigo   \n",
       "1                      SZA               SZA   \n",
       "2               The Weeknd        The Weeknd   \n",
       "3      24kGoldn, iann dior          24kGoldn   \n",
       "4      24kGoldn, iann dior         iann dior   \n",
       "...                    ...               ...   \n",
       "70178             Doja Cat          Doja Cat   \n",
       "70179         Walker Hayes      Walker Hayes   \n",
       "70180           Noah Kahan        Noah Kahan   \n",
       "70181           The Weeknd        The Weeknd   \n",
       "70182                  SZA               SZA   \n",
       "\n",
       "                                   artist_id               artist_genre  ...  \\\n",
       "0      spotify:artist:1McMsnEElThX1knmY4oliG                        pop  ...   \n",
       "1      spotify:artist:7tYKF4w9nC0nq9CsPZTHyP                        r&b  ...   \n",
       "2      spotify:artist:1Xyo4u8uXC1ZmMpatF05PJ  canadian contemporary r&b  ...   \n",
       "3      spotify:artist:6fWVd57NKTalqvmjRd2t8Z                   cali rap  ...   \n",
       "4      spotify:artist:6ASri4ePR7RlsvIQgWPJpS                melodic rap  ...   \n",
       "...                                      ...                        ...  ...   \n",
       "70178  spotify:artist:5cj0lLjcoR7YOSnhnX0Po5                  dance pop  ...   \n",
       "70179  spotify:artist:7sKxqpSqbIzphAKAhrqvlf        modern country rock  ...   \n",
       "70180  spotify:artist:2RQXRUsr4IW1f3mKyKsy4B                        pop  ...   \n",
       "70181  spotify:artist:1Xyo4u8uXC1ZmMpatF05PJ  canadian contemporary r&b  ...   \n",
       "70182  spotify:artist:7tYKF4w9nC0nq9CsPZTHyP                        r&b  ...   \n",
       "\n",
       "      mode  loudness  speechiness  acousticness  instrumentalness  liveness  \\\n",
       "0        1    -8.761       0.0601        0.7210          0.000013    0.1050   \n",
       "1        0    -8.370       0.0583        0.4990          0.000008    0.6880   \n",
       "2        1    -5.487       0.0309        0.0212          0.000012    0.5430   \n",
       "3        0    -3.558       0.0369        0.2210          0.000000    0.2720   \n",
       "4        0    -3.558       0.0369        0.2210          0.000000    0.2720   \n",
       "...    ...       ...          ...           ...               ...       ...   \n",
       "70178    0    -6.029       0.1620        0.3150          0.000034    0.0894   \n",
       "70179    1    -6.459       0.0600        0.1110          0.000000    0.3150   \n",
       "70180    1    -6.935       0.0651        0.7990          0.000000    0.0966   \n",
       "70181    1    -4.954       0.0356        0.1700          0.000000    0.3070   \n",
       "70182    0    -8.370       0.0583        0.4990          0.000008    0.6880   \n",
       "\n",
       "       valence    tempo  duration        country  \n",
       "0        0.132  143.874    242014         Canada  \n",
       "1        0.412  121.002    279204         Canada  \n",
       "2        0.644  118.051    215627         Canada  \n",
       "3        0.756   90.989    140526         Canada  \n",
       "4        0.756   90.989    140526         Canada  \n",
       "...        ...      ...       ...            ...  \n",
       "70178    0.793   91.942    138293  United States  \n",
       "70179    0.855   79.994    161853  United States  \n",
       "70180    0.801  117.896    182347  United States  \n",
       "70181    0.175  134.170    228373  United States  \n",
       "70182    0.412  121.002    279204  United States  \n",
       "\n",
       "[70183 rows x 24 columns]"
      ]
     },
     "execution_count": 75,
     "metadata": {},
     "output_type": "execute_result"
    }
   ],
   "source": [
    "# 'YYYY-01-01'\n",
    "def alter_date(date):\n",
    "    if len(date) == 4:\n",
    "        return date + '-01-01'\n",
    "    elif len(date) == 7:\n",
    "        return date + '-01'\n",
    "    else:\n",
    "        return date\n",
    "    \n",
    "charts = charts.assign(release_date = charts.get('release_date').apply(alter_date))\n",
    "charts    "
   ]
  },
  {
   "cell_type": "code",
   "execution_count": 76,
   "id": "2ec0973c",
   "metadata": {
    "deletable": false,
    "editable": false
   },
   "outputs": [
    {
     "data": {
      "text/html": [
       "<p><strong><pre style='display: inline;'>q5_2</pre></strong> passed!</p>"
      ],
      "text/plain": [
       "q5_2 results: All test cases passed!"
      ]
     },
     "execution_count": 76,
     "metadata": {},
     "output_type": "execute_result"
    }
   ],
   "source": [
    "grader.check(\"q5_2\")"
   ]
  },
  {
   "cell_type": "markdown",
   "id": "7d44958c",
   "metadata": {},
   "source": [
    "**Question 5.3.** Find the song in `charts` with the earliest `'release_date'`. Save the name of this song to `oldest_song` and save the `'artist_names'` associated with this song to `oldest_song_artists`.\n",
    "\n",
    "This song has stood the test of time – you'll see why!"
   ]
  },
  {
   "cell_type": "code",
   "execution_count": 77,
   "id": "4bc6d912",
   "metadata": {},
   "outputs": [
    {
     "name": "stdout",
     "output_type": "stream",
     "text": [
      "The oldest song in `charts` is White Christmas by Bing Crosby, Ken Darby Singers, John Scott Trotter & His Orchestra\n"
     ]
    }
   ],
   "source": [
    "# earliest release date \n",
    "# sort by year -> month -> day\n",
    "\n",
    "oldest_song = charts.sort_values(by = 'release_date', ascending=True).get('track_name').iloc[0]\n",
    "oldest_song_artists = charts.sort_values(by = 'release_date', ascending=True).get('artist_names').iloc[0]\n",
    "print('The oldest song in `charts` is ' + oldest_song + ' by ' + oldest_song_artists)"
   ]
  },
  {
   "cell_type": "code",
   "execution_count": 78,
   "id": "96ec0a9a",
   "metadata": {
    "deletable": false,
    "editable": false
   },
   "outputs": [
    {
     "data": {
      "text/html": [
       "<p><strong><pre style='display: inline;'>q5_3</pre></strong> passed!</p>"
      ],
      "text/plain": [
       "q5_3 results: All test cases passed!"
      ]
     },
     "execution_count": 78,
     "metadata": {},
     "output_type": "execute_result"
    }
   ],
   "source": [
    "grader.check(\"q5_3\")"
   ]
  },
  {
   "cell_type": "markdown",
   "id": "700b5153",
   "metadata": {},
   "source": [
    "Let’s try to calculate the time between when this song was first released and when this song was in the weekly top 200 most recently. To tackle this problem and others like it, we'll write a general function to calculate the time between any two dates.\n",
    "\n",
    "**Question 5.4. ⭐️⭐️** Complete the implementation of the function `weeks_between`, which takes in two dates as lists in the form `[year, month, day]` and returns the number of **full weeks** between the two dates. You may assume the second date comes after the first.\n",
    "\n",
    "Here, we'll define a full week as 7 days. For example, if there are 200 days between two dates, we'd say there are 28 *full* weeks between the two dates, since $\\frac{200}{7} = 28.571$. \n",
    "\n",
    "Example behavior is given below.\n",
    "\n",
    "```py\n",
    "# There are 11 days between March 14th, 2022 and March 25th, 2022.\n",
    "# This corresponds to 1 full week.\n",
    ">>> weeks_between([2022, 3, 14], [2022, 3, 25])\n",
    "1\n",
    "\n",
    "# There are 805 days between November 26th, 1998 and February 9th, 2001, not counting leap year days.\n",
    "# This corresponds to 115 full weeks.\n",
    ">>> weeks_between([1998, 11, 26], [2001, 2, 9])\n",
    "115\n",
    "```\n",
    "\n",
    "To help you, we've provided a function called `days_between` and a [video walkthrough of how it works](https://www.youtube.com/watch?v=6HOAk0GAqKU). Make sure you understand what this function does and how it works, because you'll want to make use of it inside `weeks_between`.\n",
    "\n",
    "_Note_: **Don't factor in leap years** for the purposes of this question. We'll assume that every year has 365 days."
   ]
  },
  {
   "cell_type": "code",
   "execution_count": 79,
   "id": "38229c71",
   "metadata": {},
   "outputs": [
    {
     "data": {
      "image/jpeg": "[encoded data removed]",
      "text/html": [
       "\n",
       "        <iframe\n",
       "            width=\"400\"\n",
       "            height=\"300\"\n",
       "            src=\"https://www.youtube.com/embed/6HOAk0GAqKU\"\n",
       "            frameborder=\"0\"\n",
       "            allowfullscreen\n",
       "        ></iframe>\n",
       "        "
      ],
      "text/plain": [
       "<IPython.lib.display.YouTubeVideo at 0x7f0cac666670>"
      ]
     },
     "execution_count": 79,
     "metadata": {},
     "output_type": "execute_result"
    }
   ],
   "source": [
    "# Run this cell to view the walkthrough video.\n",
    "YouTubeVideo('6HOAk0GAqKU')"
   ]
  },
  {
   "cell_type": "code",
   "execution_count": 80,
   "id": "c09b73eb",
   "metadata": {},
   "outputs": [],
   "source": [
    "# This function is provided. Watch the walkthrough video to understand what it does and how it works.\n",
    "def days_between(month1, day1, month2, day2):\n",
    "    \n",
    "    # days_per_month[1] is the number of days in January, days_per_month[8] is the number of days in August, etc.\n",
    "    days_per_month = np.array([0, 31, 28, 31, 30, 31, 30, 31, 31, 30, 31, 30, 31])\n",
    "    \n",
    "    # Case where both months are the same.\n",
    "    if month1 == month2:\n",
    "        return day2 - day1\n",
    "    \n",
    "    else:\n",
    "        total_days = 0\n",
    "        \n",
    "        # First, figure out the number of days left in month1.\n",
    "        total_days = total_days + days_per_month[month1] - day1\n",
    "        \n",
    "        # Then, add the number of days in the full months between month1 and month2.\n",
    "        for full_month in np.arange(month1 + 1, month2):\n",
    "            total_days = total_days + days_per_month[full_month]\n",
    "            \n",
    "        # Then, add the number of days so far in month2.\n",
    "        total_days = total_days + day2\n",
    "        \n",
    "        return total_days"
   ]
  },
  {
   "cell_type": "markdown",
   "id": "4dcf2a3b",
   "metadata": {
    "deletable": false,
    "editable": false
   },
   "source": [
    "We've already provided an outline for what you need to do in `weeks_between`; your job is to fill in the missing pieces.\n",
    "\n",
    "<!--\n",
    "BEGIN QUESTION\n",
    "name: q5_4\n",
    "points: 2\n",
    "-->"
   ]
  },
  {
   "cell_type": "code",
   "execution_count": 81,
   "id": "be315cec",
   "metadata": {},
   "outputs": [
    {
     "data": {
      "text/plain": [
       "4168"
      ]
     },
     "execution_count": 81,
     "metadata": {},
     "output_type": "execute_result"
    }
   ],
   "source": [
    "def weeks_between(date1, date2):\n",
    "    # Store the year, day, and month for each date separately as ints.\n",
    "    year1 = date1[0]\n",
    "    month1 = date1[1]\n",
    "    day1 = date1[2]\n",
    "    year2 = date2[0]\n",
    "    month2 = date2[1]\n",
    "    day2 = date2[2]\n",
    "    \n",
    "    # Main idea: Find the total number of days between the two dates, then divide that by 7 and round down.\n",
    "    total_days = 0\n",
    "    \n",
    "    # Case 1: The dates are in the same year. \n",
    "    if year1 == year2:\n",
    "        # Calculate the number of days between them.\n",
    "        total_days = days_between(month1, day1, month2, day2)\n",
    "        \n",
    "    # Case 2: The dates are in different years.\n",
    "    else:\n",
    "        # Add 365 for each FULL year between the dates.\n",
    "        for year in np.arange(int(year1)+1, year2):\n",
    "            total_days = total_days + 365 \n",
    "        # Add the number of days between date1 and the end of year1.\n",
    "        total_days = total_days + days_between(month1, day1, 12, 31)\n",
    "\n",
    "        # Add the number of days between the start of year2 and date2.\n",
    "        total_days = total_days + days_between(1, 1, month2, day2)\n",
    "\n",
    "        # Add the number of days between December 31st and January 1st (1).\n",
    "        total_days = total_days + 1\n",
    "    \n",
    "            \n",
    "    # Convert to weeks and round down\n",
    "    return int(total_days / 7)\n",
    "\n",
    "#weeks_between([2022, 3, 14], [2022, 3, 25]), weeks_between([1998, 11, 26], [2001, 2, 9])\n",
    "weeks_between([1942, 1, 1], [2021, 12, 9])"
   ]
  },
  {
   "cell_type": "code",
   "execution_count": 82,
   "id": "903df358",
   "metadata": {
    "deletable": false,
    "editable": false
   },
   "outputs": [
    {
     "data": {
      "text/html": [
       "<p><strong><pre style='display: inline;'>q5_4</pre></strong> passed!</p>"
      ],
      "text/plain": [
       "q5_4 results: All test cases passed!"
      ]
     },
     "execution_count": 82,
     "metadata": {},
     "output_type": "execute_result"
    }
   ],
   "source": [
    "grader.check(\"q5_4\")"
   ]
  },
  {
   "cell_type": "markdown",
   "id": "debe38b8",
   "metadata": {},
   "source": [
    "Now that we have a function that can compute the number of weeks between any two dates, we can calculate the time between when `oldest_song` was first released and when it was in the weekly top 200 most recently.\n",
    "\n",
    "Unfortunately, the dates in the `'release_date'` and `'week'` columns of `charts` are not lists in the form `[year, month, day]`, but are strings of the form `'YYYY-MM-DD'`. They need to be transformed before they can be used as input to `weeks_between`.  \n",
    "\n",
    "We've done that work for you in the `convert_date_to_list` function below. It converts an input `date_str` of the form `'1998-11-26'` to a list of the form `[1998, 11, 26]`. Step by step, here's what it does:\n",
    "\n",
    "1. Splits `date_str` by `'-'`. \n",
    "    - This takes `'1998-11-26'` and turns it into the list of strings `['1998', '11', '26']`.\n",
    "    \n",
    "2. Converts the list of strings into an array, and converts the data type of each element to an `int`. \n",
    "    - This takes `['1998', '11', '26']` and turns it into `np.array([1998, 11, 26])`.\n",
    "    \n",
    "3. Converts the array to a list and returns it.\n",
    "    - The function returns the list `[1998, 11, 26]`."
   ]
  },
  {
   "cell_type": "code",
   "execution_count": 83,
   "id": "d8d7a0eb",
   "metadata": {},
   "outputs": [
    {
     "data": {
      "text/plain": [
       "[1998, 11, 26]"
      ]
     },
     "execution_count": 83,
     "metadata": {},
     "output_type": "execute_result"
    }
   ],
   "source": [
    "def convert_date_to_list(date_str):\n",
    "    return list(np.array(date_str.split('-')).astype(int))\n",
    "\n",
    "convert_date_to_list('1998-11-26')"
   ]
  },
  {
   "cell_type": "markdown",
   "id": "a559e7bf",
   "metadata": {},
   "source": [
    "**Question 5.5.** Calculate the time between the following two dates, in weeks: \n",
    "1. The release date of `oldest_song` by `oldest_song_artists`.\n",
    "2. The most recent time in our dataset that `oldest_song` by `oldest_song_artists` was in the weekly top 200. \n",
    "\n",
    "Store the result in `weeks_since_release`. \n",
    "\n",
    "*Hint*: It's a good idea to check if your answer makes sense given the `'release_date'` of `oldest_song`."
   ]
  },
  {
   "cell_type": "code",
   "execution_count": 84,
   "id": "9b6ee24f",
   "metadata": {
    "scrolled": true
   },
   "outputs": [
    {
     "data": {
      "text/plain": [
       "4171"
      ]
     },
     "execution_count": 84,
     "metadata": {},
     "output_type": "execute_result"
    }
   ],
   "source": [
    "release_dayArray = convert_date_to_list(charts.groupby('track_name').min().loc['White Christmas'].get('release_date'))\n",
    "                        \n",
    "chart_weekArray = convert_date_to_list(charts[charts.get('track_name')=='White Christmas'].sort_values(by='week', ascending=False).iloc[1].get('week'))\n",
    "\n",
    "weeks_since_release = weeks_between(release_dayArray, chart_weekArray)\n",
    "weeks_since_release"
   ]
  },
  {
   "cell_type": "code",
   "execution_count": 85,
   "id": "77d28fce",
   "metadata": {
    "deletable": false,
    "editable": false
   },
   "outputs": [
    {
     "data": {
      "text/html": [
       "<p><strong><pre style='display: inline;'>q5_5</pre></strong> passed!</p>"
      ],
      "text/plain": [
       "q5_5 results: All test cases passed!"
      ]
     },
     "execution_count": 85,
     "metadata": {},
     "output_type": "execute_result"
    }
   ],
   "source": [
    "grader.check(\"q5_5\")"
   ]
  },
  {
   "cell_type": "markdown",
   "id": "1c4b4b54",
   "metadata": {},
   "source": [
    "Since `weeks_between` is general enough to compute the number of weeks between any two dates, let's use it on the full `'release_date'` and `'week'` columns of `charts`, so that we can see how old each song was every time it was in the weekly top 200.\n",
    "\n",
    "Unfortunately, the `.apply` method [as we learned it in class](https://dsc10.com/resources/lectures/lec09/lec09.html#.apply)  is a **Series** method, and it only works with functions of one argument. Here, `weeks_between` takes two arguments – specifically, two lists.\n",
    "\n",
    "It turns out there's another version of `.apply` that works for **DataFrames**, and it works with functions of multiple arguments. Today is really your lucky day - we have implemented all the necessary code below!\n",
    "\n",
    "The function `weeks_between_wrapper` takes in a single row of a DataFrame, and calls `'weeks_between'` on the `'release_date'` and `'week'` entries of the row. We haven't worked too much with rows of DataFrames, so you don't need to understand how this code works."
   ]
  },
  {
   "cell_type": "code",
   "execution_count": 86,
   "id": "c5906d5d",
   "metadata": {},
   "outputs": [],
   "source": [
    "def weeks_between_wrapper(row):\n",
    "    \n",
    "    release_date = row.get('release_date')\n",
    "    current_week = row.get('week')\n",
    "    \n",
    "    date1 = convert_date_to_list(release_date)\n",
    "    date2 = convert_date_to_list(current_week)\n",
    "    \n",
    "    return weeks_between(date1, date2)"
   ]
  },
  {
   "cell_type": "markdown",
   "id": "53c1e3dd",
   "metadata": {},
   "source": [
    "Now, we'll use `.apply` with the `weeks_between_wrapper` function to determine how old each song on the charts was, at each time it was on the charts! The `axis=1` keyword argument in the line below is telling Python to use `weeks_between_wrapper` on each **row** of `charts`."
   ]
  },
  {
   "cell_type": "code",
   "execution_count": 87,
   "id": "3c63d9ea",
   "metadata": {},
   "outputs": [
    {
     "data": {
      "text/plain": [
       "61827    4171\n",
       "14318    4171\n",
       "61826    4171\n",
       "14317    4171\n",
       "61825    4171\n",
       "         ... \n",
       "51198       0\n",
       "51199       0\n",
       "67750       0\n",
       "67751       0\n",
       "8535        0\n",
       "Length: 70183, dtype: int64"
      ]
     },
     "execution_count": 87,
     "metadata": {},
     "output_type": "execute_result"
    }
   ],
   "source": [
    "weeks_old = charts.apply(weeks_between_wrapper, axis=1).sort_values(ascending=False)\n",
    "weeks_old"
   ]
  },
  {
   "cell_type": "markdown",
   "id": "14432aef",
   "metadata": {},
   "source": [
    "Let's assign this Series back to the `charts` DataFrame. We'll call the resulting DataFrame `charts_with_ages`."
   ]
  },
  {
   "cell_type": "code",
   "execution_count": 88,
   "id": "617cd70f",
   "metadata": {},
   "outputs": [
    {
     "data": {
      "text/html": [
       "<div>\n",
       "<style scoped>\n",
       "    .dataframe tbody tr th:only-of-type {\n",
       "        vertical-align: middle;\n",
       "    }\n",
       "\n",
       "    .dataframe tbody tr th {\n",
       "        vertical-align: top;\n",
       "    }\n",
       "\n",
       "    .dataframe thead th {\n",
       "        text-align: right;\n",
       "    }\n",
       "</style>\n",
       "<table border=\"1\" class=\"dataframe\">\n",
       "  <thead>\n",
       "    <tr style=\"text-align: right;\">\n",
       "      <th></th>\n",
       "      <th>week</th>\n",
       "      <th>rank</th>\n",
       "      <th>track_name</th>\n",
       "      <th>uri</th>\n",
       "      <th>release_date</th>\n",
       "      <th>streams</th>\n",
       "      <th>artist_names</th>\n",
       "      <th>artist_individual</th>\n",
       "      <th>artist_id</th>\n",
       "      <th>artist_genre</th>\n",
       "      <th>...</th>\n",
       "      <th>loudness</th>\n",
       "      <th>speechiness</th>\n",
       "      <th>acousticness</th>\n",
       "      <th>instrumentalness</th>\n",
       "      <th>liveness</th>\n",
       "      <th>valence</th>\n",
       "      <th>tempo</th>\n",
       "      <th>duration</th>\n",
       "      <th>country</th>\n",
       "      <th>weeks_old</th>\n",
       "    </tr>\n",
       "  </thead>\n",
       "  <tbody>\n",
       "    <tr>\n",
       "      <th>0</th>\n",
       "      <td>2021-02-04</td>\n",
       "      <td>1</td>\n",
       "      <td>drivers license</td>\n",
       "      <td>spotify:track:7lPN2DXiMsVn7XUKtOW1CS</td>\n",
       "      <td>2021-01-08</td>\n",
       "      <td>2054319</td>\n",
       "      <td>Olivia Rodrigo</td>\n",
       "      <td>Olivia Rodrigo</td>\n",
       "      <td>spotify:artist:1McMsnEElThX1knmY4oliG</td>\n",
       "      <td>pop</td>\n",
       "      <td>...</td>\n",
       "      <td>-8.761</td>\n",
       "      <td>0.0601</td>\n",
       "      <td>0.7210</td>\n",
       "      <td>0.000013</td>\n",
       "      <td>0.1050</td>\n",
       "      <td>0.132</td>\n",
       "      <td>143.874</td>\n",
       "      <td>242014</td>\n",
       "      <td>Canada</td>\n",
       "      <td>3</td>\n",
       "    </tr>\n",
       "    <tr>\n",
       "      <th>1</th>\n",
       "      <td>2021-02-04</td>\n",
       "      <td>2</td>\n",
       "      <td>Good Days</td>\n",
       "      <td>spotify:track:3YJJjQPAbDT7mGpX3WtQ9A</td>\n",
       "      <td>2020-12-25</td>\n",
       "      <td>916516</td>\n",
       "      <td>SZA</td>\n",
       "      <td>SZA</td>\n",
       "      <td>spotify:artist:7tYKF4w9nC0nq9CsPZTHyP</td>\n",
       "      <td>r&amp;b</td>\n",
       "      <td>...</td>\n",
       "      <td>-8.370</td>\n",
       "      <td>0.0583</td>\n",
       "      <td>0.4990</td>\n",
       "      <td>0.000008</td>\n",
       "      <td>0.6880</td>\n",
       "      <td>0.412</td>\n",
       "      <td>121.002</td>\n",
       "      <td>279204</td>\n",
       "      <td>Canada</td>\n",
       "      <td>5</td>\n",
       "    </tr>\n",
       "    <tr>\n",
       "      <th>2</th>\n",
       "      <td>2021-02-04</td>\n",
       "      <td>3</td>\n",
       "      <td>Save Your Tears</td>\n",
       "      <td>spotify:track:5QO79kh1waicV47BqGRL3g</td>\n",
       "      <td>2020-03-20</td>\n",
       "      <td>866067</td>\n",
       "      <td>The Weeknd</td>\n",
       "      <td>The Weeknd</td>\n",
       "      <td>spotify:artist:1Xyo4u8uXC1ZmMpatF05PJ</td>\n",
       "      <td>canadian contemporary r&amp;b</td>\n",
       "      <td>...</td>\n",
       "      <td>-5.487</td>\n",
       "      <td>0.0309</td>\n",
       "      <td>0.0212</td>\n",
       "      <td>0.000012</td>\n",
       "      <td>0.5430</td>\n",
       "      <td>0.644</td>\n",
       "      <td>118.051</td>\n",
       "      <td>215627</td>\n",
       "      <td>Canada</td>\n",
       "      <td>45</td>\n",
       "    </tr>\n",
       "    <tr>\n",
       "      <th>3</th>\n",
       "      <td>2021-02-04</td>\n",
       "      <td>4</td>\n",
       "      <td>Mood (feat. iann dior)</td>\n",
       "      <td>spotify:track:3tjFYV6RSFtuktYl3ZtYcq</td>\n",
       "      <td>2020-07-24</td>\n",
       "      <td>824789</td>\n",
       "      <td>24kGoldn, iann dior</td>\n",
       "      <td>24kGoldn</td>\n",
       "      <td>spotify:artist:6fWVd57NKTalqvmjRd2t8Z</td>\n",
       "      <td>cali rap</td>\n",
       "      <td>...</td>\n",
       "      <td>-3.558</td>\n",
       "      <td>0.0369</td>\n",
       "      <td>0.2210</td>\n",
       "      <td>0.000000</td>\n",
       "      <td>0.2720</td>\n",
       "      <td>0.756</td>\n",
       "      <td>90.989</td>\n",
       "      <td>140526</td>\n",
       "      <td>Canada</td>\n",
       "      <td>27</td>\n",
       "    </tr>\n",
       "    <tr>\n",
       "      <th>4</th>\n",
       "      <td>2021-02-04</td>\n",
       "      <td>4</td>\n",
       "      <td>Mood (feat. iann dior)</td>\n",
       "      <td>spotify:track:3tjFYV6RSFtuktYl3ZtYcq</td>\n",
       "      <td>2020-07-24</td>\n",
       "      <td>824789</td>\n",
       "      <td>24kGoldn, iann dior</td>\n",
       "      <td>iann dior</td>\n",
       "      <td>spotify:artist:6ASri4ePR7RlsvIQgWPJpS</td>\n",
       "      <td>melodic rap</td>\n",
       "      <td>...</td>\n",
       "      <td>-3.558</td>\n",
       "      <td>0.0369</td>\n",
       "      <td>0.2210</td>\n",
       "      <td>0.000000</td>\n",
       "      <td>0.2720</td>\n",
       "      <td>0.756</td>\n",
       "      <td>90.989</td>\n",
       "      <td>140526</td>\n",
       "      <td>Canada</td>\n",
       "      <td>27</td>\n",
       "    </tr>\n",
       "    <tr>\n",
       "      <th>...</th>\n",
       "      <td>...</td>\n",
       "      <td>...</td>\n",
       "      <td>...</td>\n",
       "      <td>...</td>\n",
       "      <td>...</td>\n",
       "      <td>...</td>\n",
       "      <td>...</td>\n",
       "      <td>...</td>\n",
       "      <td>...</td>\n",
       "      <td>...</td>\n",
       "      <td>...</td>\n",
       "      <td>...</td>\n",
       "      <td>...</td>\n",
       "      <td>...</td>\n",
       "      <td>...</td>\n",
       "      <td>...</td>\n",
       "      <td>...</td>\n",
       "      <td>...</td>\n",
       "      <td>...</td>\n",
       "      <td>...</td>\n",
       "      <td>...</td>\n",
       "    </tr>\n",
       "    <tr>\n",
       "      <th>70178</th>\n",
       "      <td>2022-07-14</td>\n",
       "      <td>196</td>\n",
       "      <td>Get Into It (Yuh)</td>\n",
       "      <td>spotify:track:0W6I02J9xcqK8MtSeosEXb</td>\n",
       "      <td>2021-06-25</td>\n",
       "      <td>1592100</td>\n",
       "      <td>Doja Cat</td>\n",
       "      <td>Doja Cat</td>\n",
       "      <td>spotify:artist:5cj0lLjcoR7YOSnhnX0Po5</td>\n",
       "      <td>dance pop</td>\n",
       "      <td>...</td>\n",
       "      <td>-6.029</td>\n",
       "      <td>0.1620</td>\n",
       "      <td>0.3150</td>\n",
       "      <td>0.000034</td>\n",
       "      <td>0.0894</td>\n",
       "      <td>0.793</td>\n",
       "      <td>91.942</td>\n",
       "      <td>138293</td>\n",
       "      <td>United States</td>\n",
       "      <td>54</td>\n",
       "    </tr>\n",
       "    <tr>\n",
       "      <th>70179</th>\n",
       "      <td>2022-07-14</td>\n",
       "      <td>197</td>\n",
       "      <td>Fancy Like</td>\n",
       "      <td>spotify:track:58UKC45GPNTflCN6nwCUeF</td>\n",
       "      <td>2022-01-21</td>\n",
       "      <td>1590126</td>\n",
       "      <td>Walker Hayes</td>\n",
       "      <td>Walker Hayes</td>\n",
       "      <td>spotify:artist:7sKxqpSqbIzphAKAhrqvlf</td>\n",
       "      <td>modern country rock</td>\n",
       "      <td>...</td>\n",
       "      <td>-6.459</td>\n",
       "      <td>0.0600</td>\n",
       "      <td>0.1110</td>\n",
       "      <td>0.000000</td>\n",
       "      <td>0.3150</td>\n",
       "      <td>0.855</td>\n",
       "      <td>79.994</td>\n",
       "      <td>161853</td>\n",
       "      <td>United States</td>\n",
       "      <td>24</td>\n",
       "    </tr>\n",
       "    <tr>\n",
       "      <th>70180</th>\n",
       "      <td>2022-07-14</td>\n",
       "      <td>198</td>\n",
       "      <td>Stick Season</td>\n",
       "      <td>spotify:track:0GNVXNz7Jkicfk2mp5OyG5</td>\n",
       "      <td>2022-07-08</td>\n",
       "      <td>1583302</td>\n",
       "      <td>Noah Kahan</td>\n",
       "      <td>Noah Kahan</td>\n",
       "      <td>spotify:artist:2RQXRUsr4IW1f3mKyKsy4B</td>\n",
       "      <td>pop</td>\n",
       "      <td>...</td>\n",
       "      <td>-6.935</td>\n",
       "      <td>0.0651</td>\n",
       "      <td>0.7990</td>\n",
       "      <td>0.000000</td>\n",
       "      <td>0.0966</td>\n",
       "      <td>0.801</td>\n",
       "      <td>117.896</td>\n",
       "      <td>182347</td>\n",
       "      <td>United States</td>\n",
       "      <td>0</td>\n",
       "    </tr>\n",
       "    <tr>\n",
       "      <th>70181</th>\n",
       "      <td>2022-07-14</td>\n",
       "      <td>199</td>\n",
       "      <td>Call Out My Name</td>\n",
       "      <td>spotify:track:09mEdoA6zrmBPgTEN5qXmN</td>\n",
       "      <td>2018-03-30</td>\n",
       "      <td>1583235</td>\n",
       "      <td>The Weeknd</td>\n",
       "      <td>The Weeknd</td>\n",
       "      <td>spotify:artist:1Xyo4u8uXC1ZmMpatF05PJ</td>\n",
       "      <td>canadian contemporary r&amp;b</td>\n",
       "      <td>...</td>\n",
       "      <td>-4.954</td>\n",
       "      <td>0.0356</td>\n",
       "      <td>0.1700</td>\n",
       "      <td>0.000000</td>\n",
       "      <td>0.3070</td>\n",
       "      <td>0.175</td>\n",
       "      <td>134.170</td>\n",
       "      <td>228373</td>\n",
       "      <td>United States</td>\n",
       "      <td>223</td>\n",
       "    </tr>\n",
       "    <tr>\n",
       "      <th>70182</th>\n",
       "      <td>2022-07-14</td>\n",
       "      <td>200</td>\n",
       "      <td>Good Days</td>\n",
       "      <td>spotify:track:3YJJjQPAbDT7mGpX3WtQ9A</td>\n",
       "      <td>2020-12-25</td>\n",
       "      <td>1579212</td>\n",
       "      <td>SZA</td>\n",
       "      <td>SZA</td>\n",
       "      <td>spotify:artist:7tYKF4w9nC0nq9CsPZTHyP</td>\n",
       "      <td>r&amp;b</td>\n",
       "      <td>...</td>\n",
       "      <td>-8.370</td>\n",
       "      <td>0.0583</td>\n",
       "      <td>0.4990</td>\n",
       "      <td>0.000008</td>\n",
       "      <td>0.6880</td>\n",
       "      <td>0.412</td>\n",
       "      <td>121.002</td>\n",
       "      <td>279204</td>\n",
       "      <td>United States</td>\n",
       "      <td>80</td>\n",
       "    </tr>\n",
       "  </tbody>\n",
       "</table>\n",
       "<p>70183 rows × 25 columns</p>\n",
       "</div>"
      ],
      "text/plain": [
       "             week  rank              track_name  \\\n",
       "0      2021-02-04     1         drivers license   \n",
       "1      2021-02-04     2               Good Days   \n",
       "2      2021-02-04     3         Save Your Tears   \n",
       "3      2021-02-04     4  Mood (feat. iann dior)   \n",
       "4      2021-02-04     4  Mood (feat. iann dior)   \n",
       "...           ...   ...                     ...   \n",
       "70178  2022-07-14   196       Get Into It (Yuh)   \n",
       "70179  2022-07-14   197              Fancy Like   \n",
       "70180  2022-07-14   198            Stick Season   \n",
       "70181  2022-07-14   199        Call Out My Name   \n",
       "70182  2022-07-14   200               Good Days   \n",
       "\n",
       "                                        uri release_date  streams  \\\n",
       "0      spotify:track:7lPN2DXiMsVn7XUKtOW1CS   2021-01-08  2054319   \n",
       "1      spotify:track:3YJJjQPAbDT7mGpX3WtQ9A   2020-12-25   916516   \n",
       "2      spotify:track:5QO79kh1waicV47BqGRL3g   2020-03-20   866067   \n",
       "3      spotify:track:3tjFYV6RSFtuktYl3ZtYcq   2020-07-24   824789   \n",
       "4      spotify:track:3tjFYV6RSFtuktYl3ZtYcq   2020-07-24   824789   \n",
       "...                                     ...          ...      ...   \n",
       "70178  spotify:track:0W6I02J9xcqK8MtSeosEXb   2021-06-25  1592100   \n",
       "70179  spotify:track:58UKC45GPNTflCN6nwCUeF   2022-01-21  1590126   \n",
       "70180  spotify:track:0GNVXNz7Jkicfk2mp5OyG5   2022-07-08  1583302   \n",
       "70181  spotify:track:09mEdoA6zrmBPgTEN5qXmN   2018-03-30  1583235   \n",
       "70182  spotify:track:3YJJjQPAbDT7mGpX3WtQ9A   2020-12-25  1579212   \n",
       "\n",
       "              artist_names artist_individual  \\\n",
       "0           Olivia Rodrigo    Olivia Rodrigo   \n",
       "1                      SZA               SZA   \n",
       "2               The Weeknd        The Weeknd   \n",
       "3      24kGoldn, iann dior          24kGoldn   \n",
       "4      24kGoldn, iann dior         iann dior   \n",
       "...                    ...               ...   \n",
       "70178             Doja Cat          Doja Cat   \n",
       "70179         Walker Hayes      Walker Hayes   \n",
       "70180           Noah Kahan        Noah Kahan   \n",
       "70181           The Weeknd        The Weeknd   \n",
       "70182                  SZA               SZA   \n",
       "\n",
       "                                   artist_id               artist_genre  ...  \\\n",
       "0      spotify:artist:1McMsnEElThX1knmY4oliG                        pop  ...   \n",
       "1      spotify:artist:7tYKF4w9nC0nq9CsPZTHyP                        r&b  ...   \n",
       "2      spotify:artist:1Xyo4u8uXC1ZmMpatF05PJ  canadian contemporary r&b  ...   \n",
       "3      spotify:artist:6fWVd57NKTalqvmjRd2t8Z                   cali rap  ...   \n",
       "4      spotify:artist:6ASri4ePR7RlsvIQgWPJpS                melodic rap  ...   \n",
       "...                                      ...                        ...  ...   \n",
       "70178  spotify:artist:5cj0lLjcoR7YOSnhnX0Po5                  dance pop  ...   \n",
       "70179  spotify:artist:7sKxqpSqbIzphAKAhrqvlf        modern country rock  ...   \n",
       "70180  spotify:artist:2RQXRUsr4IW1f3mKyKsy4B                        pop  ...   \n",
       "70181  spotify:artist:1Xyo4u8uXC1ZmMpatF05PJ  canadian contemporary r&b  ...   \n",
       "70182  spotify:artist:7tYKF4w9nC0nq9CsPZTHyP                        r&b  ...   \n",
       "\n",
       "      loudness  speechiness  acousticness  instrumentalness  liveness  \\\n",
       "0       -8.761       0.0601        0.7210          0.000013    0.1050   \n",
       "1       -8.370       0.0583        0.4990          0.000008    0.6880   \n",
       "2       -5.487       0.0309        0.0212          0.000012    0.5430   \n",
       "3       -3.558       0.0369        0.2210          0.000000    0.2720   \n",
       "4       -3.558       0.0369        0.2210          0.000000    0.2720   \n",
       "...        ...          ...           ...               ...       ...   \n",
       "70178   -6.029       0.1620        0.3150          0.000034    0.0894   \n",
       "70179   -6.459       0.0600        0.1110          0.000000    0.3150   \n",
       "70180   -6.935       0.0651        0.7990          0.000000    0.0966   \n",
       "70181   -4.954       0.0356        0.1700          0.000000    0.3070   \n",
       "70182   -8.370       0.0583        0.4990          0.000008    0.6880   \n",
       "\n",
       "       valence    tempo  duration        country  weeks_old  \n",
       "0        0.132  143.874    242014         Canada          3  \n",
       "1        0.412  121.002    279204         Canada          5  \n",
       "2        0.644  118.051    215627         Canada         45  \n",
       "3        0.756   90.989    140526         Canada         27  \n",
       "4        0.756   90.989    140526         Canada         27  \n",
       "...        ...      ...       ...            ...        ...  \n",
       "70178    0.793   91.942    138293  United States         54  \n",
       "70179    0.855   79.994    161853  United States         24  \n",
       "70180    0.801  117.896    182347  United States          0  \n",
       "70181    0.175  134.170    228373  United States        223  \n",
       "70182    0.412  121.002    279204  United States         80  \n",
       "\n",
       "[70183 rows x 25 columns]"
      ]
     },
     "execution_count": 88,
     "metadata": {},
     "output_type": "execute_result"
    }
   ],
   "source": [
    "charts_with_ages = charts.assign(weeks_old=weeks_old)\n",
    "charts_with_ages"
   ]
  },
  {
   "cell_type": "markdown",
   "id": "b63346b9",
   "metadata": {},
   "source": [
    "**Question 5.6.** Create a DataFrame named `top_us`, with one row for each week of data collection, indexed and sorted by `'week'`. The `top_us` DataFrame should have columns called `'track_name'`, `'artist_names'`, and `'release_date'`, containing the relevant information for the **top-ranked (number 1) song each week in the United States**, along with a column called `'weeks_old'` that contains the **age of the song in weeks at that time**.\n",
    "\n",
    "For instance, the song  `'drivers license'` by `'Olivia Rodrigo'` was the top song in the US for the first two weeks of data collection, `'2021-02-04'` and `'2021-02-11'`, so this song should appear in the first two rows of `top_us`. The only difference between the first two rows, other than their indexes, is their values in the `'weeks_old'` column. Since `'drivers license'` was 3 weeks old on `'2021-02-04'` and 4 weeks old on `'2021-02-11'`, `top_us.get('weeks_old').iloc[0]` should be 3 and `top_us.get('weeks_old').iloc[1]` should be 4."
   ]
  },
  {
   "cell_type": "code",
   "execution_count": 89,
   "id": "dd5335fa",
   "metadata": {
    "scrolled": true
   },
   "outputs": [
    {
     "data": {
      "text/html": [
       "<div>\n",
       "<style scoped>\n",
       "    .dataframe tbody tr th:only-of-type {\n",
       "        vertical-align: middle;\n",
       "    }\n",
       "\n",
       "    .dataframe tbody tr th {\n",
       "        vertical-align: top;\n",
       "    }\n",
       "\n",
       "    .dataframe thead th {\n",
       "        text-align: right;\n",
       "    }\n",
       "</style>\n",
       "<table border=\"1\" class=\"dataframe\">\n",
       "  <thead>\n",
       "    <tr style=\"text-align: right;\">\n",
       "      <th></th>\n",
       "      <th>track_name</th>\n",
       "      <th>artist_names</th>\n",
       "      <th>release_date</th>\n",
       "      <th>weeks_old</th>\n",
       "    </tr>\n",
       "    <tr>\n",
       "      <th>week</th>\n",
       "      <th></th>\n",
       "      <th></th>\n",
       "      <th></th>\n",
       "      <th></th>\n",
       "    </tr>\n",
       "  </thead>\n",
       "  <tbody>\n",
       "    <tr>\n",
       "      <th>2021-02-04</th>\n",
       "      <td>drivers license</td>\n",
       "      <td>Olivia Rodrigo</td>\n",
       "      <td>2021-01-08</td>\n",
       "      <td>3</td>\n",
       "    </tr>\n",
       "    <tr>\n",
       "      <th>2021-02-11</th>\n",
       "      <td>drivers license</td>\n",
       "      <td>Olivia Rodrigo</td>\n",
       "      <td>2021-01-08</td>\n",
       "      <td>4</td>\n",
       "    </tr>\n",
       "    <tr>\n",
       "      <th>2021-02-18</th>\n",
       "      <td>Calling My Phone</td>\n",
       "      <td>Lil Tjay, 6LACK</td>\n",
       "      <td>2021-02-12</td>\n",
       "      <td>0</td>\n",
       "    </tr>\n",
       "    <tr>\n",
       "      <th>2021-02-25</th>\n",
       "      <td>drivers license</td>\n",
       "      <td>Olivia Rodrigo</td>\n",
       "      <td>2021-01-08</td>\n",
       "      <td>6</td>\n",
       "    </tr>\n",
       "    <tr>\n",
       "      <th>2021-03-04</th>\n",
       "      <td>drivers license</td>\n",
       "      <td>Olivia Rodrigo</td>\n",
       "      <td>2021-01-08</td>\n",
       "      <td>7</td>\n",
       "    </tr>\n",
       "    <tr>\n",
       "      <th>...</th>\n",
       "      <td>...</td>\n",
       "      <td>...</td>\n",
       "      <td>...</td>\n",
       "      <td>...</td>\n",
       "    </tr>\n",
       "    <tr>\n",
       "      <th>2022-06-16</th>\n",
       "      <td>Running Up That Hill (A Deal With God) - 2018 ...</td>\n",
       "      <td>Kate Bush</td>\n",
       "      <td>1985-01-01</td>\n",
       "      <td>1953</td>\n",
       "    </tr>\n",
       "    <tr>\n",
       "      <th>2022-06-23</th>\n",
       "      <td>Glimpse of Us</td>\n",
       "      <td>Joji</td>\n",
       "      <td>2022-06-10</td>\n",
       "      <td>1</td>\n",
       "    </tr>\n",
       "    <tr>\n",
       "      <th>2022-06-30</th>\n",
       "      <td>Glimpse of Us</td>\n",
       "      <td>Joji</td>\n",
       "      <td>2022-06-10</td>\n",
       "      <td>2</td>\n",
       "    </tr>\n",
       "    <tr>\n",
       "      <th>2022-07-07</th>\n",
       "      <td>Running Up That Hill (A Deal With God) - 2018 ...</td>\n",
       "      <td>Kate Bush</td>\n",
       "      <td>1985-01-01</td>\n",
       "      <td>1956</td>\n",
       "    </tr>\n",
       "    <tr>\n",
       "      <th>2022-07-14</th>\n",
       "      <td>Running Up That Hill (A Deal With God) - 2018 ...</td>\n",
       "      <td>Kate Bush</td>\n",
       "      <td>1985-01-01</td>\n",
       "      <td>1957</td>\n",
       "    </tr>\n",
       "  </tbody>\n",
       "</table>\n",
       "<p>76 rows × 4 columns</p>\n",
       "</div>"
      ],
      "text/plain": [
       "                                                   track_name  \\\n",
       "week                                                            \n",
       "2021-02-04                                    drivers license   \n",
       "2021-02-11                                    drivers license   \n",
       "2021-02-18                                   Calling My Phone   \n",
       "2021-02-25                                    drivers license   \n",
       "2021-03-04                                    drivers license   \n",
       "...                                                       ...   \n",
       "2022-06-16  Running Up That Hill (A Deal With God) - 2018 ...   \n",
       "2022-06-23                                      Glimpse of Us   \n",
       "2022-06-30                                      Glimpse of Us   \n",
       "2022-07-07  Running Up That Hill (A Deal With God) - 2018 ...   \n",
       "2022-07-14  Running Up That Hill (A Deal With God) - 2018 ...   \n",
       "\n",
       "               artist_names release_date  weeks_old  \n",
       "week                                                 \n",
       "2021-02-04   Olivia Rodrigo   2021-01-08          3  \n",
       "2021-02-11   Olivia Rodrigo   2021-01-08          4  \n",
       "2021-02-18  Lil Tjay, 6LACK   2021-02-12          0  \n",
       "2021-02-25   Olivia Rodrigo   2021-01-08          6  \n",
       "2021-03-04   Olivia Rodrigo   2021-01-08          7  \n",
       "...                     ...          ...        ...  \n",
       "2022-06-16        Kate Bush   1985-01-01       1953  \n",
       "2022-06-23             Joji   2022-06-10          1  \n",
       "2022-06-30             Joji   2022-06-10          2  \n",
       "2022-07-07        Kate Bush   1985-01-01       1956  \n",
       "2022-07-14        Kate Bush   1985-01-01       1957  \n",
       "\n",
       "[76 rows x 4 columns]"
      ]
     },
     "execution_count": 89,
     "metadata": {},
     "output_type": "execute_result"
    }
   ],
   "source": [
    "top_us = charts_with_ages[(charts_with_ages.get('rank')==1) & (charts_with_ages.get('country') == 'United States')].sort_values(by='weeks_old', ascending=True)\n",
    "top_us = top_us.sort_values(by='week', ascending=True).groupby('week').max().get(['track_name','artist_names', 'release_date', 'weeks_old'])\n",
    "top_us"
   ]
  },
  {
   "cell_type": "code",
   "execution_count": 90,
   "id": "185f74ef",
   "metadata": {
    "deletable": false,
    "editable": false
   },
   "outputs": [
    {
     "data": {
      "text/html": [
       "<p><strong><pre style='display: inline;'>q5_6</pre></strong> passed!</p>"
      ],
      "text/plain": [
       "q5_6 results: All test cases passed!"
      ]
     },
     "execution_count": 90,
     "metadata": {},
     "output_type": "execute_result"
    }
   ],
   "source": [
    "grader.check(\"q5_6\")"
   ]
  },
  {
   "cell_type": "markdown",
   "id": "7c427ec4",
   "metadata": {},
   "source": [
    "Let's try to visualize the age of the number 1 song on the US charts each week. However, before we start plotting, there's something we should take into consideration: look at the values in the `'weeks_old'` column in the preview above. Some are relatively small, like 3 or 4, but some are really large, like 1957! Let's see what happens when we plot such a wide range of values together on the same axes.\n",
    "\n",
    "**Question 5.7.** Make a line plot that shows the age of the top song on the US charts over time, throughout the period of data collection. Use the argument `figsize=(10, 5)` so you can read the horizontal axis."
   ]
  },
  {
   "cell_type": "markdown",
   "id": "bace4a73",
   "metadata": {
    "deletable": false,
    "editable": false
   },
   "source": [
    "<!-- BEGIN QUESTION -->\n",
    "\n",
    "<!--\n",
    "BEGIN QUESTION\n",
    "name: q5_7\n",
    "manual: true\n",
    "-->"
   ]
  },
  {
   "cell_type": "code",
   "execution_count": 91,
   "id": "c8b216f3",
   "metadata": {},
   "outputs": [
    {
     "data": {
      "text/plain": [
       "<AxesSubplot:xlabel='week'>"
      ]
     },
     "execution_count": 91,
     "metadata": {},
     "output_type": "execute_result"
    },
    {
     "data": {
      "image/png": "[encoded data removed]",
      "text/plain": [
       "<Figure size 720x360 with 1 Axes>"
      ]
     },
     "metadata": {},
     "output_type": "display_data"
    }
   ],
   "source": [
    "# Make your line plot here.\n",
    "top_us.reset_index().plot(kind='line', x = 'week', y = 'weeks_old', figsize=(10, 5))"
   ]
  },
  {
   "cell_type": "markdown",
   "id": "64df316b",
   "metadata": {},
   "source": [
    "<!-- END QUESTION -->\n",
    "\n",
    "\n",
    "\n",
    "Since some songs are thousands of weeks old, plotting all the data together makes it hard to tell what the trends are for newer songs. To better see what's going on near 0 on the y-axis, we'll \"clip\", or chop off, the y-axis so that the oldest songs appear to only be 26 weeks (half a year) old.\n",
    "\n",
    "We've done this for you. The plot we created is interactive, meaning that you can hover over any point on the line to see various pieces of information for each song. Try hovering over the line plot produced to see which songs were at the top of the charts each week, and how old they were when they got usurped by the next best thing.\n",
    "\n",
    "<center><h3><a href=\"https://dsc-courses.github.io/dsc10-2022-fa/resources/midterm_project/q5-age-number-1.html\">Access the plot by clicking here.</a></h3></center>"
   ]
  },
  {
   "cell_type": "markdown",
   "id": "57a7f972",
   "metadata": {},
   "source": [
    "To test your understanding, see if you can answer these questions from the interactive plot:\n",
    " 1. Why does the line plot shows a bunch of diagonal line segments? \n",
    " 2. Why do some diagonal line segments start at the horizontal axis, and others don't?\n",
    " 3. Why does the line plot you made in Question 5.7 have three large spikes, while this one has four?\n",
    " 4. How many different #1 songs were over 26 weeks old? Why did these songs become super popular? (You may have to do some research.)\n",
    "\n",
    "You don't have to turn in your answers to the questions above, but you should figure out how to answer them."
   ]
  },
  {
   "cell_type": "markdown",
   "id": "5ef244b1",
   "metadata": {},
   "source": [
    "<a id='section6'></a>\n",
    "\n",
    "## Section 6: Party in the USA 💃\n",
    "\n",
    "<small>(<a href=\"#outline\">return to the outline</a>)</small>"
   ]
  },
  {
   "cell_type": "markdown",
   "id": "a1f409af",
   "metadata": {},
   "source": [
    "We concluded Section 5 by looking at the age of the #1 song each week in the US. Let's continue our analysis of the songs that became extremely popular in the US.\n",
    "\n",
    "Define a **US megahit** to be a song that has met all of the following criteria **in the US**:\n",
    "- Has been at position 1 or 2 in the top 200 at some point.\n",
    "- Spent at least 20 weeks in the top 200.\n",
    "- Had a streak of at least 5 consecutive weeks of being in the top 10.\n",
    "\n",
    "In this section, we'll work towards determining which songs fit this criteria, and in the next (and final!) section, we'll see how these songs stand apart from the rest musically.\n",
    "\n",
    "**Question 6.1.** To start, create a DataFrame called `us_charts` with only one row for each week and each rank. That is, remove duplicate entries for songs with multiple artists. Keep only the `'track_name'`, `'artist_names'`, `'rank'`, and `'week'` columns, in that order.\n",
    "\n",
    "Arrange the rows chronologically by week, and within each week, in ascending order of rank. Don't forget that we're only using data from the US.\n",
    "\n",
    "*Hint*: `us_charts` should have a multiple of 200 rows, since there are 200 songs on the top 200 each week."
   ]
  },
  {
   "cell_type": "code",
   "execution_count": 92,
   "id": "39a9cbfd",
   "metadata": {},
   "outputs": [
    {
     "data": {
      "text/html": [
       "<div>\n",
       "<style scoped>\n",
       "    .dataframe tbody tr th:only-of-type {\n",
       "        vertical-align: middle;\n",
       "    }\n",
       "\n",
       "    .dataframe tbody tr th {\n",
       "        vertical-align: top;\n",
       "    }\n",
       "\n",
       "    .dataframe thead th {\n",
       "        text-align: right;\n",
       "    }\n",
       "</style>\n",
       "<table border=\"1\" class=\"dataframe\">\n",
       "  <thead>\n",
       "    <tr style=\"text-align: right;\">\n",
       "      <th></th>\n",
       "      <th>track_name</th>\n",
       "      <th>artist_names</th>\n",
       "      <th>rank</th>\n",
       "      <th>week</th>\n",
       "    </tr>\n",
       "  </thead>\n",
       "  <tbody>\n",
       "    <tr>\n",
       "      <th>0</th>\n",
       "      <td>drivers license</td>\n",
       "      <td>Olivia Rodrigo</td>\n",
       "      <td>1</td>\n",
       "      <td>2021-02-04</td>\n",
       "    </tr>\n",
       "    <tr>\n",
       "      <th>1</th>\n",
       "      <td>Good Days</td>\n",
       "      <td>SZA</td>\n",
       "      <td>2</td>\n",
       "      <td>2021-02-04</td>\n",
       "    </tr>\n",
       "    <tr>\n",
       "      <th>2</th>\n",
       "      <td>Streets</td>\n",
       "      <td>Doja Cat</td>\n",
       "      <td>3</td>\n",
       "      <td>2021-02-04</td>\n",
       "    </tr>\n",
       "    <tr>\n",
       "      <th>3</th>\n",
       "      <td>Save Your Tears</td>\n",
       "      <td>The Weeknd</td>\n",
       "      <td>4</td>\n",
       "      <td>2021-02-04</td>\n",
       "    </tr>\n",
       "    <tr>\n",
       "      <th>4</th>\n",
       "      <td>Whoopty</td>\n",
       "      <td>CJ</td>\n",
       "      <td>5</td>\n",
       "      <td>2021-02-04</td>\n",
       "    </tr>\n",
       "    <tr>\n",
       "      <th>...</th>\n",
       "      <td>...</td>\n",
       "      <td>...</td>\n",
       "      <td>...</td>\n",
       "      <td>...</td>\n",
       "    </tr>\n",
       "    <tr>\n",
       "      <th>15195</th>\n",
       "      <td>Get Into It (Yuh)</td>\n",
       "      <td>Doja Cat</td>\n",
       "      <td>196</td>\n",
       "      <td>2022-07-14</td>\n",
       "    </tr>\n",
       "    <tr>\n",
       "      <th>15196</th>\n",
       "      <td>Fancy Like</td>\n",
       "      <td>Walker Hayes</td>\n",
       "      <td>197</td>\n",
       "      <td>2022-07-14</td>\n",
       "    </tr>\n",
       "    <tr>\n",
       "      <th>15197</th>\n",
       "      <td>Stick Season</td>\n",
       "      <td>Noah Kahan</td>\n",
       "      <td>198</td>\n",
       "      <td>2022-07-14</td>\n",
       "    </tr>\n",
       "    <tr>\n",
       "      <th>15198</th>\n",
       "      <td>Call Out My Name</td>\n",
       "      <td>The Weeknd</td>\n",
       "      <td>199</td>\n",
       "      <td>2022-07-14</td>\n",
       "    </tr>\n",
       "    <tr>\n",
       "      <th>15199</th>\n",
       "      <td>Good Days</td>\n",
       "      <td>SZA</td>\n",
       "      <td>200</td>\n",
       "      <td>2022-07-14</td>\n",
       "    </tr>\n",
       "  </tbody>\n",
       "</table>\n",
       "<p>15200 rows × 4 columns</p>\n",
       "</div>"
      ],
      "text/plain": [
       "              track_name    artist_names  rank        week\n",
       "0        drivers license  Olivia Rodrigo     1  2021-02-04\n",
       "1              Good Days             SZA     2  2021-02-04\n",
       "2                Streets        Doja Cat     3  2021-02-04\n",
       "3        Save Your Tears      The Weeknd     4  2021-02-04\n",
       "4                Whoopty              CJ     5  2021-02-04\n",
       "...                  ...             ...   ...         ...\n",
       "15195  Get Into It (Yuh)        Doja Cat   196  2022-07-14\n",
       "15196         Fancy Like    Walker Hayes   197  2022-07-14\n",
       "15197       Stick Season      Noah Kahan   198  2022-07-14\n",
       "15198   Call Out My Name      The Weeknd   199  2022-07-14\n",
       "15199          Good Days             SZA   200  2022-07-14\n",
       "\n",
       "[15200 rows x 4 columns]"
      ]
     },
     "execution_count": 92,
     "metadata": {},
     "output_type": "execute_result"
    }
   ],
   "source": [
    "us_charts = charts[charts.get('country') == 'United States']\n",
    "# only one row for each week and each rank\n",
    "us_charts = us_charts.groupby(['week', 'rank']).max().reset_index()\n",
    "us_charts = us_charts.get(['track_name', 'artist_names', 'rank', 'week'])\n",
    "# remove duplicate rows of songs with multiple artists\n",
    "us_charts"
   ]
  },
  {
   "cell_type": "code",
   "execution_count": 93,
   "id": "a87768c4",
   "metadata": {
    "deletable": false,
    "editable": false
   },
   "outputs": [
    {
     "data": {
      "text/html": [
       "<p><strong><pre style='display: inline;'>q6_1</pre></strong> passed!</p>"
      ],
      "text/plain": [
       "q6_1 results: All test cases passed!"
      ]
     },
     "execution_count": 93,
     "metadata": {},
     "output_type": "execute_result"
    }
   ],
   "source": [
    "grader.check(\"q6_1\")"
   ]
  },
  {
   "cell_type": "markdown",
   "id": "734361c0",
   "metadata": {},
   "source": [
    "**Question 6.2.** How many distinct weeks was data collected for? Store your answer as an `int` in the variable `num_weeks`."
   ]
  },
  {
   "cell_type": "code",
   "execution_count": 94,
   "id": "fe602c70",
   "metadata": {},
   "outputs": [
    {
     "data": {
      "text/plain": [
       "76"
      ]
     },
     "execution_count": 94,
     "metadata": {},
     "output_type": "execute_result"
    }
   ],
   "source": [
    "num_weeks = len(us_charts.get('week').unique())\n",
    "num_weeks"
   ]
  },
  {
   "cell_type": "code",
   "execution_count": 95,
   "id": "ee850fc4",
   "metadata": {
    "deletable": false,
    "editable": false
   },
   "outputs": [
    {
     "data": {
      "text/html": [
       "<p><strong><pre style='display: inline;'>q6_2</pre></strong> passed!</p>"
      ],
      "text/plain": [
       "q6_2 results: All test cases passed!"
      ]
     },
     "execution_count": 95,
     "metadata": {},
     "output_type": "execute_result"
    }
   ],
   "source": [
    "grader.check(\"q6_2\")"
   ]
  },
  {
   "cell_type": "markdown",
   "id": "daacc414",
   "metadata": {},
   "source": [
    "**Question 6.3.** Rather than have the week listed as a date, we'd like to simply record it as a week number, between 1 and `num_weeks` (inclusive). For instance, since `'2021-02-18'` is the third week for which we have charts data, it is week number 3. \n",
    "\n",
    "Add a column called `'week_num'` to `us_charts` that contains the week number for each week.\n",
    "\n",
    "*Hint*: With the functions [`np.repeat`](https://numpy.org/doc/stable/reference/generated/numpy.repeat.html) and `np.arange`, you can do this in one line of code."
   ]
  },
  {
   "cell_type": "code",
   "execution_count": 96,
   "id": "06e12393",
   "metadata": {},
   "outputs": [
    {
     "data": {
      "text/html": [
       "<div>\n",
       "<style scoped>\n",
       "    .dataframe tbody tr th:only-of-type {\n",
       "        vertical-align: middle;\n",
       "    }\n",
       "\n",
       "    .dataframe tbody tr th {\n",
       "        vertical-align: top;\n",
       "    }\n",
       "\n",
       "    .dataframe thead th {\n",
       "        text-align: right;\n",
       "    }\n",
       "</style>\n",
       "<table border=\"1\" class=\"dataframe\">\n",
       "  <thead>\n",
       "    <tr style=\"text-align: right;\">\n",
       "      <th></th>\n",
       "      <th>track_name</th>\n",
       "      <th>artist_names</th>\n",
       "      <th>rank</th>\n",
       "      <th>week</th>\n",
       "      <th>week_num</th>\n",
       "    </tr>\n",
       "  </thead>\n",
       "  <tbody>\n",
       "    <tr>\n",
       "      <th>0</th>\n",
       "      <td>drivers license</td>\n",
       "      <td>Olivia Rodrigo</td>\n",
       "      <td>1</td>\n",
       "      <td>2021-02-04</td>\n",
       "      <td>1</td>\n",
       "    </tr>\n",
       "    <tr>\n",
       "      <th>1</th>\n",
       "      <td>Good Days</td>\n",
       "      <td>SZA</td>\n",
       "      <td>2</td>\n",
       "      <td>2021-02-04</td>\n",
       "      <td>1</td>\n",
       "    </tr>\n",
       "    <tr>\n",
       "      <th>2</th>\n",
       "      <td>Streets</td>\n",
       "      <td>Doja Cat</td>\n",
       "      <td>3</td>\n",
       "      <td>2021-02-04</td>\n",
       "      <td>1</td>\n",
       "    </tr>\n",
       "    <tr>\n",
       "      <th>3</th>\n",
       "      <td>Save Your Tears</td>\n",
       "      <td>The Weeknd</td>\n",
       "      <td>4</td>\n",
       "      <td>2021-02-04</td>\n",
       "      <td>1</td>\n",
       "    </tr>\n",
       "    <tr>\n",
       "      <th>4</th>\n",
       "      <td>Whoopty</td>\n",
       "      <td>CJ</td>\n",
       "      <td>5</td>\n",
       "      <td>2021-02-04</td>\n",
       "      <td>1</td>\n",
       "    </tr>\n",
       "    <tr>\n",
       "      <th>...</th>\n",
       "      <td>...</td>\n",
       "      <td>...</td>\n",
       "      <td>...</td>\n",
       "      <td>...</td>\n",
       "      <td>...</td>\n",
       "    </tr>\n",
       "    <tr>\n",
       "      <th>15195</th>\n",
       "      <td>Get Into It (Yuh)</td>\n",
       "      <td>Doja Cat</td>\n",
       "      <td>196</td>\n",
       "      <td>2022-07-14</td>\n",
       "      <td>76</td>\n",
       "    </tr>\n",
       "    <tr>\n",
       "      <th>15196</th>\n",
       "      <td>Fancy Like</td>\n",
       "      <td>Walker Hayes</td>\n",
       "      <td>197</td>\n",
       "      <td>2022-07-14</td>\n",
       "      <td>76</td>\n",
       "    </tr>\n",
       "    <tr>\n",
       "      <th>15197</th>\n",
       "      <td>Stick Season</td>\n",
       "      <td>Noah Kahan</td>\n",
       "      <td>198</td>\n",
       "      <td>2022-07-14</td>\n",
       "      <td>76</td>\n",
       "    </tr>\n",
       "    <tr>\n",
       "      <th>15198</th>\n",
       "      <td>Call Out My Name</td>\n",
       "      <td>The Weeknd</td>\n",
       "      <td>199</td>\n",
       "      <td>2022-07-14</td>\n",
       "      <td>76</td>\n",
       "    </tr>\n",
       "    <tr>\n",
       "      <th>15199</th>\n",
       "      <td>Good Days</td>\n",
       "      <td>SZA</td>\n",
       "      <td>200</td>\n",
       "      <td>2022-07-14</td>\n",
       "      <td>76</td>\n",
       "    </tr>\n",
       "  </tbody>\n",
       "</table>\n",
       "<p>15200 rows × 5 columns</p>\n",
       "</div>"
      ],
      "text/plain": [
       "              track_name    artist_names  rank        week  week_num\n",
       "0        drivers license  Olivia Rodrigo     1  2021-02-04         1\n",
       "1              Good Days             SZA     2  2021-02-04         1\n",
       "2                Streets        Doja Cat     3  2021-02-04         1\n",
       "3        Save Your Tears      The Weeknd     4  2021-02-04         1\n",
       "4                Whoopty              CJ     5  2021-02-04         1\n",
       "...                  ...             ...   ...         ...       ...\n",
       "15195  Get Into It (Yuh)        Doja Cat   196  2022-07-14        76\n",
       "15196         Fancy Like    Walker Hayes   197  2022-07-14        76\n",
       "15197       Stick Season      Noah Kahan   198  2022-07-14        76\n",
       "15198   Call Out My Name      The Weeknd   199  2022-07-14        76\n",
       "15199          Good Days             SZA   200  2022-07-14        76\n",
       "\n",
       "[15200 rows x 5 columns]"
      ]
     },
     "execution_count": 96,
     "metadata": {},
     "output_type": "execute_result"
    }
   ],
   "source": [
    "weeks_series = np.array(us_charts.get('week').unique())\n",
    "array_of_weeks = np.arange(1, num_weeks+1)\n",
    "week_numbers = np.repeat(array_of_weeks, 200)\n",
    "us_charts = us_charts.assign(week_num = week_numbers)\n",
    "us_charts\n",
    "#weeks_series, array_of_weeks, week_num"
   ]
  },
  {
   "cell_type": "code",
   "execution_count": 97,
   "id": "eac854a5",
   "metadata": {
    "deletable": false,
    "editable": false
   },
   "outputs": [
    {
     "data": {
      "text/html": [
       "<p><strong><pre style='display: inline;'>q6_3</pre></strong> passed!</p>"
      ],
      "text/plain": [
       "q6_3 results: All test cases passed!"
      ]
     },
     "execution_count": 97,
     "metadata": {},
     "output_type": "execute_result"
    }
   ],
   "source": [
    "grader.check(\"q6_3\")"
   ]
  },
  {
   "cell_type": "markdown",
   "id": "0ed94a7d",
   "metadata": {},
   "source": [
    "**Question 6.4.** Our first criteria for a US megahit was that the song has been at position 1 or 2 in the top 200 in the United States at some point. Create an array of the `'track_name'`s of all such songs, without duplicates, and save it as `been_top_two`."
   ]
  },
  {
   "cell_type": "code",
   "execution_count": 98,
   "id": "c931a08b",
   "metadata": {},
   "outputs": [
    {
     "data": {
      "text/plain": [
       "array(['All I Want for Christmas Is You',\n",
       "       \"All Too Well (10 Minute Version) (Taylor's Version) (From The Vault)\",\n",
       "       'As I Am (feat. Khalid)', 'As It Was', 'Calling My Phone',\n",
       "       'Die Hard', 'Easy On Me', 'First Class',\n",
       "       'Girls Want Girls (with Lil Baby)', 'Glimpse of Us', 'Good Days',\n",
       "       'Heat Waves', 'Hurricane', 'I Hate U',\n",
       "       'INDUSTRY BABY (feat. Jack Harlow)',\n",
       "       'Jimmy Cooks (feat. 21 Savage)', 'Jingle Bell Rock',\n",
       "       'Kiss Me More (feat. SZA)',\n",
       "       'Knife Talk (with 21 Savage ft. Project Pat)',\n",
       "       'Late Night Talking', 'MONTERO (Call Me By Your Name)',\n",
       "       'Moscow Mule', 'N95', 'One Right Now (with The Weeknd)',\n",
       "       'Peaches (feat. Daniel Caesar & Giveon)', 'RAPSTAR',\n",
       "       \"Rockin' Around The Christmas Tree\",\n",
       "       'Running Up That Hill (A Deal With God) - 2018 Remaster',\n",
       "       'STAY (with Justin Bieber)', 'Sacrifice', 'Save Your Tears',\n",
       "       'Smokin Out The Window', 'Super Gremlin',\n",
       "       'Wants and Needs (feat. Lil Baby)',\n",
       "       'Way 2 Sexy (with Future & Young Thug)',\n",
       "       \"We Don't Talk About Bruno\", 'What’s Next', 'deja vu',\n",
       "       'drivers license', 'good 4 u',\n",
       "       'm y . l i f e (with 21 Savage & Morray)',\n",
       "       'pushin P (feat. Young Thug)'], dtype=object)"
      ]
     },
     "execution_count": 98,
     "metadata": {},
     "output_type": "execute_result"
    }
   ],
   "source": [
    "top_2_unique = us_charts[(us_charts.get('rank') == 1) | (us_charts.get('rank') == 2)].get('track_name')\n",
    "\n",
    "been_top_two = np.unique(np.array([top_2_unique]))\n",
    "been_top_two"
   ]
  },
  {
   "cell_type": "code",
   "execution_count": 99,
   "id": "4e4055a5",
   "metadata": {
    "deletable": false,
    "editable": false
   },
   "outputs": [
    {
     "data": {
      "text/html": [
       "<p><strong><pre style='display: inline;'>q6_4</pre></strong> passed!</p>"
      ],
      "text/plain": [
       "q6_4 results: All test cases passed!"
      ]
     },
     "execution_count": 99,
     "metadata": {},
     "output_type": "execute_result"
    }
   ],
   "source": [
    "grader.check(\"q6_4\")"
   ]
  },
  {
   "cell_type": "markdown",
   "id": "a29d8647",
   "metadata": {},
   "source": [
    "Below, we check that none of the songs in `been_top_two` have the same `'track_name'` but different `'artist_names'` as another song in `us_charts`. "
   ]
  },
  {
   "cell_type": "code",
   "execution_count": 100,
   "id": "cbb251e2",
   "metadata": {},
   "outputs": [
    {
     "data": {
      "text/plain": [
       "1.0"
      ]
     },
     "execution_count": 100,
     "metadata": {},
     "output_type": "execute_result"
    }
   ],
   "source": [
    "# You don't need to edit this code, but you should understand how it works.\n",
    "def diff_artists(track_name):\n",
    "    '''Return the number of distinct 'artist_names' associated with a given track_name in us_charts.'''\n",
    "    song_only = us_charts[us_charts.get('track_name') == track_name]\n",
    "    return song_only.groupby('artist_names').count().shape[0]\n",
    "\n",
    "num_diff_artists = np.array([])\n",
    "for song in been_top_two:\n",
    "    num_diff_artists = np.append(num_diff_artists, diff_artists(song))\n",
    "max(num_diff_artists)"
   ]
  },
  {
   "cell_type": "markdown",
   "id": "40d0321a",
   "metadata": {},
   "source": [
    "Since this set of songs doesn't have the potential for confusion with other songs with the same `'track_name'`, we can safely refer to these songs by their `'track_name'` for the remainder of this section (instead of having to also worry about their `'artist_names'`)."
   ]
  },
  {
   "cell_type": "markdown",
   "id": "422f0b2c",
   "metadata": {},
   "source": [
    "**Question 6.5.** Create a DataFrame called `possibly_mega` with the same columns as `us_charts`, but with only the rows of `us_charts` where the `'track_name'` is in `been_top_two`.\n",
    "\n",
    "*Hints*: \n",
    "- Add a new column to filter by, then drop it after filtering (i.e. after Boolean indexing).\n",
    "- Use the Python keyword `in` to determine whether a specific song name is in `been_top_two`."
   ]
  },
  {
   "cell_type": "code",
   "execution_count": 101,
   "id": "3ee034db",
   "metadata": {},
   "outputs": [
    {
     "data": {
      "text/html": [
       "<div>\n",
       "<style scoped>\n",
       "    .dataframe tbody tr th:only-of-type {\n",
       "        vertical-align: middle;\n",
       "    }\n",
       "\n",
       "    .dataframe tbody tr th {\n",
       "        vertical-align: top;\n",
       "    }\n",
       "\n",
       "    .dataframe thead th {\n",
       "        text-align: right;\n",
       "    }\n",
       "</style>\n",
       "<table border=\"1\" class=\"dataframe\">\n",
       "  <thead>\n",
       "    <tr style=\"text-align: right;\">\n",
       "      <th></th>\n",
       "      <th>track_name</th>\n",
       "      <th>artist_names</th>\n",
       "      <th>rank</th>\n",
       "      <th>week</th>\n",
       "      <th>week_num</th>\n",
       "    </tr>\n",
       "  </thead>\n",
       "  <tbody>\n",
       "    <tr>\n",
       "      <th>0</th>\n",
       "      <td>drivers license</td>\n",
       "      <td>Olivia Rodrigo</td>\n",
       "      <td>1</td>\n",
       "      <td>2021-02-04</td>\n",
       "      <td>1</td>\n",
       "    </tr>\n",
       "    <tr>\n",
       "      <th>1</th>\n",
       "      <td>Good Days</td>\n",
       "      <td>SZA</td>\n",
       "      <td>2</td>\n",
       "      <td>2021-02-04</td>\n",
       "      <td>1</td>\n",
       "    </tr>\n",
       "    <tr>\n",
       "      <th>3</th>\n",
       "      <td>Save Your Tears</td>\n",
       "      <td>The Weeknd</td>\n",
       "      <td>4</td>\n",
       "      <td>2021-02-04</td>\n",
       "      <td>1</td>\n",
       "    </tr>\n",
       "    <tr>\n",
       "      <th>25</th>\n",
       "      <td>Heat Waves</td>\n",
       "      <td>Glass Animals</td>\n",
       "      <td>26</td>\n",
       "      <td>2021-02-04</td>\n",
       "      <td>1</td>\n",
       "    </tr>\n",
       "    <tr>\n",
       "      <th>200</th>\n",
       "      <td>drivers license</td>\n",
       "      <td>Olivia Rodrigo</td>\n",
       "      <td>1</td>\n",
       "      <td>2021-02-11</td>\n",
       "      <td>2</td>\n",
       "    </tr>\n",
       "    <tr>\n",
       "      <th>...</th>\n",
       "      <td>...</td>\n",
       "      <td>...</td>\n",
       "      <td>...</td>\n",
       "      <td>...</td>\n",
       "      <td>...</td>\n",
       "    </tr>\n",
       "    <tr>\n",
       "      <th>15137</th>\n",
       "      <td>drivers license</td>\n",
       "      <td>Olivia Rodrigo</td>\n",
       "      <td>138</td>\n",
       "      <td>2022-07-14</td>\n",
       "      <td>76</td>\n",
       "    </tr>\n",
       "    <tr>\n",
       "      <th>15151</th>\n",
       "      <td>RAPSTAR</td>\n",
       "      <td>Polo G</td>\n",
       "      <td>152</td>\n",
       "      <td>2022-07-14</td>\n",
       "      <td>76</td>\n",
       "    </tr>\n",
       "    <tr>\n",
       "      <th>15163</th>\n",
       "      <td>One Right Now (with The Weeknd)</td>\n",
       "      <td>Post Malone, The Weeknd</td>\n",
       "      <td>164</td>\n",
       "      <td>2022-07-14</td>\n",
       "      <td>76</td>\n",
       "    </tr>\n",
       "    <tr>\n",
       "      <th>15170</th>\n",
       "      <td>Save Your Tears</td>\n",
       "      <td>The Weeknd</td>\n",
       "      <td>171</td>\n",
       "      <td>2022-07-14</td>\n",
       "      <td>76</td>\n",
       "    </tr>\n",
       "    <tr>\n",
       "      <th>15199</th>\n",
       "      <td>Good Days</td>\n",
       "      <td>SZA</td>\n",
       "      <td>200</td>\n",
       "      <td>2022-07-14</td>\n",
       "      <td>76</td>\n",
       "    </tr>\n",
       "  </tbody>\n",
       "</table>\n",
       "<p>1395 rows × 5 columns</p>\n",
       "</div>"
      ],
      "text/plain": [
       "                            track_name             artist_names  rank  \\\n",
       "0                      drivers license           Olivia Rodrigo     1   \n",
       "1                            Good Days                      SZA     2   \n",
       "3                      Save Your Tears               The Weeknd     4   \n",
       "25                          Heat Waves            Glass Animals    26   \n",
       "200                    drivers license           Olivia Rodrigo     1   \n",
       "...                                ...                      ...   ...   \n",
       "15137                  drivers license           Olivia Rodrigo   138   \n",
       "15151                          RAPSTAR                   Polo G   152   \n",
       "15163  One Right Now (with The Weeknd)  Post Malone, The Weeknd   164   \n",
       "15170                  Save Your Tears               The Weeknd   171   \n",
       "15199                        Good Days                      SZA   200   \n",
       "\n",
       "             week  week_num  \n",
       "0      2021-02-04         1  \n",
       "1      2021-02-04         1  \n",
       "3      2021-02-04         1  \n",
       "25     2021-02-04         1  \n",
       "200    2021-02-11         2  \n",
       "...           ...       ...  \n",
       "15137  2022-07-14        76  \n",
       "15151  2022-07-14        76  \n",
       "15163  2022-07-14        76  \n",
       "15170  2022-07-14        76  \n",
       "15199  2022-07-14        76  \n",
       "\n",
       "[1395 rows x 5 columns]"
      ]
     },
     "execution_count": 101,
     "metadata": {},
     "output_type": "execute_result"
    }
   ],
   "source": [
    "def in_charts(track):\n",
    "    if track in been_top_two:\n",
    "        return True\n",
    "    else:\n",
    "        return False\n",
    "\n",
    "possibly_mega = us_charts.assign(new_col = us_charts.get('track_name').apply(in_charts))\n",
    "possibly_mega = possibly_mega[possibly_mega.get('new_col') == True].drop(columns=['new_col'])\n",
    "possibly_mega"
   ]
  },
  {
   "cell_type": "code",
   "execution_count": 102,
   "id": "758765c8",
   "metadata": {
    "deletable": false,
    "editable": false
   },
   "outputs": [
    {
     "data": {
      "text/html": [
       "<p><strong><pre style='display: inline;'>q6_5</pre></strong> passed!</p>"
      ],
      "text/plain": [
       "q6_5 results: All test cases passed!"
      ]
     },
     "execution_count": 102,
     "metadata": {},
     "output_type": "execute_result"
    }
   ],
   "source": [
    "grader.check(\"q6_5\")"
   ]
  },
  {
   "cell_type": "markdown",
   "id": "1f0e3e0e",
   "metadata": {},
   "source": [
    "**Question 6.6.** Our second criteria for a US megahit was that the song spent at least 20 weeks on the top 200 in the US.\n",
    "\n",
    "Create a function called `calculate_weeks` that takes as input the `'track_name'` of a song in `possibly_mega` and returns the number of weeks the song spent on the top 200 charts in the US (during the period of data collection). Then `apply` the function to the `possibly_mega` DataFrame and add a column to `possibly_mega` called `'weeks_on_charts'` with this information. "
   ]
  },
  {
   "cell_type": "code",
   "execution_count": 103,
   "id": "09139304",
   "metadata": {},
   "outputs": [
    {
     "data": {
      "text/html": [
       "<div>\n",
       "<style scoped>\n",
       "    .dataframe tbody tr th:only-of-type {\n",
       "        vertical-align: middle;\n",
       "    }\n",
       "\n",
       "    .dataframe tbody tr th {\n",
       "        vertical-align: top;\n",
       "    }\n",
       "\n",
       "    .dataframe thead th {\n",
       "        text-align: right;\n",
       "    }\n",
       "</style>\n",
       "<table border=\"1\" class=\"dataframe\">\n",
       "  <thead>\n",
       "    <tr style=\"text-align: right;\">\n",
       "      <th></th>\n",
       "      <th>track_name</th>\n",
       "      <th>artist_names</th>\n",
       "      <th>rank</th>\n",
       "      <th>week</th>\n",
       "      <th>week_num</th>\n",
       "      <th>weeks_on_charts</th>\n",
       "    </tr>\n",
       "  </thead>\n",
       "  <tbody>\n",
       "    <tr>\n",
       "      <th>0</th>\n",
       "      <td>drivers license</td>\n",
       "      <td>Olivia Rodrigo</td>\n",
       "      <td>1</td>\n",
       "      <td>2021-02-04</td>\n",
       "      <td>1</td>\n",
       "      <td>76</td>\n",
       "    </tr>\n",
       "    <tr>\n",
       "      <th>1</th>\n",
       "      <td>Good Days</td>\n",
       "      <td>SZA</td>\n",
       "      <td>2</td>\n",
       "      <td>2021-02-04</td>\n",
       "      <td>1</td>\n",
       "      <td>71</td>\n",
       "    </tr>\n",
       "    <tr>\n",
       "      <th>3</th>\n",
       "      <td>Save Your Tears</td>\n",
       "      <td>The Weeknd</td>\n",
       "      <td>4</td>\n",
       "      <td>2021-02-04</td>\n",
       "      <td>1</td>\n",
       "      <td>74</td>\n",
       "    </tr>\n",
       "    <tr>\n",
       "      <th>25</th>\n",
       "      <td>Heat Waves</td>\n",
       "      <td>Glass Animals</td>\n",
       "      <td>26</td>\n",
       "      <td>2021-02-04</td>\n",
       "      <td>1</td>\n",
       "      <td>76</td>\n",
       "    </tr>\n",
       "    <tr>\n",
       "      <th>200</th>\n",
       "      <td>drivers license</td>\n",
       "      <td>Olivia Rodrigo</td>\n",
       "      <td>1</td>\n",
       "      <td>2021-02-11</td>\n",
       "      <td>2</td>\n",
       "      <td>76</td>\n",
       "    </tr>\n",
       "    <tr>\n",
       "      <th>...</th>\n",
       "      <td>...</td>\n",
       "      <td>...</td>\n",
       "      <td>...</td>\n",
       "      <td>...</td>\n",
       "      <td>...</td>\n",
       "      <td>...</td>\n",
       "    </tr>\n",
       "    <tr>\n",
       "      <th>15137</th>\n",
       "      <td>drivers license</td>\n",
       "      <td>Olivia Rodrigo</td>\n",
       "      <td>138</td>\n",
       "      <td>2022-07-14</td>\n",
       "      <td>76</td>\n",
       "      <td>76</td>\n",
       "    </tr>\n",
       "    <tr>\n",
       "      <th>15151</th>\n",
       "      <td>RAPSTAR</td>\n",
       "      <td>Polo G</td>\n",
       "      <td>152</td>\n",
       "      <td>2022-07-14</td>\n",
       "      <td>76</td>\n",
       "      <td>66</td>\n",
       "    </tr>\n",
       "    <tr>\n",
       "      <th>15163</th>\n",
       "      <td>One Right Now (with The Weeknd)</td>\n",
       "      <td>Post Malone, The Weeknd</td>\n",
       "      <td>164</td>\n",
       "      <td>2022-07-14</td>\n",
       "      <td>76</td>\n",
       "      <td>36</td>\n",
       "    </tr>\n",
       "    <tr>\n",
       "      <th>15170</th>\n",
       "      <td>Save Your Tears</td>\n",
       "      <td>The Weeknd</td>\n",
       "      <td>171</td>\n",
       "      <td>2022-07-14</td>\n",
       "      <td>76</td>\n",
       "      <td>74</td>\n",
       "    </tr>\n",
       "    <tr>\n",
       "      <th>15199</th>\n",
       "      <td>Good Days</td>\n",
       "      <td>SZA</td>\n",
       "      <td>200</td>\n",
       "      <td>2022-07-14</td>\n",
       "      <td>76</td>\n",
       "      <td>71</td>\n",
       "    </tr>\n",
       "  </tbody>\n",
       "</table>\n",
       "<p>1395 rows × 6 columns</p>\n",
       "</div>"
      ],
      "text/plain": [
       "                            track_name             artist_names  rank  \\\n",
       "0                      drivers license           Olivia Rodrigo     1   \n",
       "1                            Good Days                      SZA     2   \n",
       "3                      Save Your Tears               The Weeknd     4   \n",
       "25                          Heat Waves            Glass Animals    26   \n",
       "200                    drivers license           Olivia Rodrigo     1   \n",
       "...                                ...                      ...   ...   \n",
       "15137                  drivers license           Olivia Rodrigo   138   \n",
       "15151                          RAPSTAR                   Polo G   152   \n",
       "15163  One Right Now (with The Weeknd)  Post Malone, The Weeknd   164   \n",
       "15170                  Save Your Tears               The Weeknd   171   \n",
       "15199                        Good Days                      SZA   200   \n",
       "\n",
       "             week  week_num  weeks_on_charts  \n",
       "0      2021-02-04         1               76  \n",
       "1      2021-02-04         1               71  \n",
       "3      2021-02-04         1               74  \n",
       "25     2021-02-04         1               76  \n",
       "200    2021-02-11         2               76  \n",
       "...           ...       ...              ...  \n",
       "15137  2022-07-14        76               76  \n",
       "15151  2022-07-14        76               66  \n",
       "15163  2022-07-14        76               36  \n",
       "15170  2022-07-14        76               74  \n",
       "15199  2022-07-14        76               71  \n",
       "\n",
       "[1395 rows x 6 columns]"
      ]
     },
     "execution_count": 103,
     "metadata": {},
     "output_type": "execute_result"
    }
   ],
   "source": [
    "def calculate_weeks(track_name):\n",
    "    # count number of instances for a song\n",
    "    num_instances = possibly_mega[possibly_mega.get('track_name') == track_name].shape[0]\n",
    "    return num_instances\n",
    "\n",
    "possibly_mega = possibly_mega.assign(weeks_on_charts = possibly_mega.get('track_name').apply(calculate_weeks))\n",
    "possibly_mega"
   ]
  },
  {
   "cell_type": "code",
   "execution_count": 104,
   "id": "00321b08",
   "metadata": {
    "deletable": false,
    "editable": false
   },
   "outputs": [
    {
     "data": {
      "text/html": [
       "<p><strong><pre style='display: inline;'>q6_6</pre></strong> passed!</p>"
      ],
      "text/plain": [
       "q6_6 results: All test cases passed!"
      ]
     },
     "execution_count": 104,
     "metadata": {},
     "output_type": "execute_result"
    }
   ],
   "source": [
    "grader.check(\"q6_6\")"
   ]
  },
  {
   "cell_type": "markdown",
   "id": "6cd385e9",
   "metadata": {},
   "source": [
    "Our third second criteria for a US megahit was that the song had a streak of at least 5 consecutive weeks of being in the top 10 on the charts in the US.\n",
    "\n",
    "In order to identify these songs, we'll need to be able to calculate, for a given song, the longest streak of consecutive weeks spent in the top 10. The next few questions will help us get there.\n",
    "\n",
    "**Question 6.7. ⭐️⭐️** Write a function called `calculate_rank_array` that takes as input the `'track_name'` of a song in `possibly_mega` and returns an array of that song's ranks for each week of data collection. The array should be of length `num_weeks` for every possible input song, regardless of whether the song actually appeared in the top 200 for all weeks. If the song is not on the chart in a given week, substitute 201 for its rank that week.\n",
    "\n",
    "For example, `'As It Was'` by `'Harry Styles'` first appeared in the top 200 in week 62. As a result, the first 61 elements of `calculate_rank_array('As It Was')` should be 201. In weeks 62 through 65, it was at positions 1, 2, 1, and 1, so those should be the next four elements in `calculate_rank_array('As It Was')`. The full expected output of `calculate_rank_array('As It Was')` is given below.\n",
    "\n",
    "```py\n",
    ">>> calculate_rank_array('As It Was')\n",
    "array([201., 201., 201., 201., 201., 201., 201., 201., 201., 201., 201.,\n",
    "       201., 201., 201., 201., 201., 201., 201., 201., 201., 201., 201.,\n",
    "       201., 201., 201., 201., 201., 201., 201., 201., 201., 201., 201.,\n",
    "       201., 201., 201., 201., 201., 201., 201., 201., 201., 201., 201.,\n",
    "       201., 201., 201., 201., 201., 201., 201., 201., 201., 201., 201.,\n",
    "       201., 201., 201., 201., 201., 201.,   1.,   2.,   1.,   1.,   1.,\n",
    "         3.,   5.,   1.,   1.,   2.,   3.,   3.,   4.,   3.,   3.])\n",
    "```\n",
    "\n",
    "*Hint*: Our solution uses a `for`-loop and the `in` keyword."
   ]
  },
  {
   "cell_type": "code",
   "execution_count": 105,
   "id": "6d104750",
   "metadata": {},
   "outputs": [
    {
     "data": {
      "text/plain": [
       "(array([  2.,   3.,   4.,   4.,   5.,   9.,   9.,  14.,  14.,  14.,  19.,\n",
       "         20.,  19.,  21.,  22.,  35.,  40.,  38.,  42.,  49.,  47.,  75.,\n",
       "         62.,  57.,  58.,  60.,  81.,  67.,  70.,  81., 100., 113.,  96.,\n",
       "         97.,  74.,  82.,  87.,  96.,  85.,  85.,  84., 132., 132.,  95.,\n",
       "         65., 102., 122., 118.,  74.,  92.,  81.,  78.,  90.,  93., 109.,\n",
       "        104.,  92., 101., 120., 124., 134., 113., 123., 135., 141., 160.,\n",
       "        201., 201., 201., 201., 201., 176., 188., 184., 188., 200.]),\n",
       " array([  1.,   1.,   2.,   1.,   1.,   5.,   3.,   9.,   8.,  11.,  14.,\n",
       "         14.,  17.,  17.,  17.,  26.,   7.,   8.,  11.,  13.,  16.,  32.,\n",
       "         22.,  24.,  21.,  25.,  35.,  27.,  28.,  33.,  57.,  66.,  54.,\n",
       "         55.,  50.,  47.,  51.,  62.,  60.,  61.,  69., 117.,  92.,  66.,\n",
       "         45.,  69.,  95.,  90.,  51.,  77.,  75.,  81.,  81.,  87., 101.,\n",
       "         95.,  98.,  96.,  99., 102.,  76.,  45.,  50.,  56.,  69.,  81.,\n",
       "        114., 128., 127., 135., 145., 147., 153., 147., 139., 138.]))"
      ]
     },
     "execution_count": 105,
     "metadata": {},
     "output_type": "execute_result"
    }
   ],
   "source": [
    "def calculate_rank_array(track_name):\n",
    "    rank_array = np.array([])\n",
    "    weeks = possibly_mega[possibly_mega.get('track_name') == track_name].get(['track_name', 'rank', 'week_num'])\n",
    "    \n",
    "    for week in range(1, 77):\n",
    "        # get the rank of the week if its charted\n",
    "        if week in np.array(weeks.get('week_num')):\n",
    "            rank_array = np.append(rank_array, weeks.set_index('week_num').get('rank').loc[week])\n",
    "        else:\n",
    "            # otherwise append 201\n",
    "            rank_array = np.append(rank_array, 201)\n",
    "            \n",
    "    return rank_array\n",
    "\n",
    "calculate_rank_array('Good Days'), calculate_rank_array('drivers license')"
   ]
  },
  {
   "cell_type": "code",
   "execution_count": 106,
   "id": "01c78179",
   "metadata": {
    "deletable": false,
    "editable": false
   },
   "outputs": [
    {
     "data": {
      "text/html": [
       "<p><strong><pre style='display: inline;'>q6_7</pre></strong> passed!</p>"
      ],
      "text/plain": [
       "q6_7 results: All test cases passed!"
      ]
     },
     "execution_count": 106,
     "metadata": {},
     "output_type": "execute_result"
    }
   ],
   "source": [
    "grader.check(\"q6_7\")"
   ]
  },
  {
   "cell_type": "markdown",
   "id": "31b3f129",
   "metadata": {},
   "source": [
    "**Question 6.8.** Now, write a function called `longest_streak` that takes two inputs:\n",
    "- `track_name`, the `'track_name'` of a song in `possibly_mega`.\n",
    "- `n`, an integer between 1 and 200 (inclusive). By setting `n=10` in the parameter list, we make `n` an optional argument with 10 as its default value if omitted.\n",
    "\n",
    "The function should return the largest number of consecutive weeks for which the given song ranked in the top `n` songs in the US.\n",
    "\n",
    "For example, `longest_streak('As It Was', 3)` should evaluate to 6 because the song `'As It Was'` had a 6-week streak of being in the top 3 in the US, and no longer streak.\n",
    "\n",
    "*Note*: We've completed a good chunk of the implementation of `longest_streak` for you. A big part of your job is to understand what the role of each variable is. You only need to add the body of the `for`-loop; our solution only adds 5 lines to what is below."
   ]
  },
  {
   "cell_type": "code",
   "execution_count": 107,
   "id": "bfd17643",
   "metadata": {},
   "outputs": [
    {
     "data": {
      "text/plain": [
       "(6, 9)"
      ]
     },
     "execution_count": 107,
     "metadata": {},
     "output_type": "execute_result"
    }
   ],
   "source": [
    "def longest_streak(track_name, n=10):\n",
    "    rank_array = calculate_rank_array(track_name)\n",
    "    longest = 0 \n",
    "    current = 0 \n",
    "    for num in rank_array:\n",
    "        if (num <= n) & (current >= longest):\n",
    "            current += 1\n",
    "            longest += 1\n",
    "        else:\n",
    "            current = 0\n",
    "    return max(longest, current)\n",
    "\n",
    "# Test out your function. Feel free to change these inputs.\n",
    "longest_streak('As It Was', 3), longest_streak('drivers license')"
   ]
  },
  {
   "cell_type": "code",
   "execution_count": 108,
   "id": "9b43b6c0",
   "metadata": {
    "deletable": false,
    "editable": false
   },
   "outputs": [
    {
     "data": {
      "text/html": [
       "<p><strong><pre style='display: inline;'>q6_8</pre></strong> passed!</p>"
      ],
      "text/plain": [
       "q6_8 results: All test cases passed!"
      ]
     },
     "execution_count": 108,
     "metadata": {},
     "output_type": "execute_result"
    }
   ],
   "source": [
    "grader.check(\"q6_8\")"
   ]
  },
  {
   "cell_type": "markdown",
   "id": "32b693a0",
   "metadata": {},
   "source": [
    "**Question 6.9.** Add a column called `'longest_streak_top_ten'` to `possibly_mega` that contains, for each song, the longest number of consecutive weeks that the song spent in the top 10 in the US."
   ]
  },
  {
   "cell_type": "code",
   "execution_count": 109,
   "id": "99aca33b",
   "metadata": {},
   "outputs": [
    {
     "data": {
      "text/html": [
       "<div>\n",
       "<style scoped>\n",
       "    .dataframe tbody tr th:only-of-type {\n",
       "        vertical-align: middle;\n",
       "    }\n",
       "\n",
       "    .dataframe tbody tr th {\n",
       "        vertical-align: top;\n",
       "    }\n",
       "\n",
       "    .dataframe thead th {\n",
       "        text-align: right;\n",
       "    }\n",
       "</style>\n",
       "<table border=\"1\" class=\"dataframe\">\n",
       "  <thead>\n",
       "    <tr style=\"text-align: right;\">\n",
       "      <th></th>\n",
       "      <th>track_name</th>\n",
       "      <th>artist_names</th>\n",
       "      <th>rank</th>\n",
       "      <th>week</th>\n",
       "      <th>week_num</th>\n",
       "      <th>weeks_on_charts</th>\n",
       "      <th>longest_streak_top_ten</th>\n",
       "    </tr>\n",
       "  </thead>\n",
       "  <tbody>\n",
       "    <tr>\n",
       "      <th>0</th>\n",
       "      <td>drivers license</td>\n",
       "      <td>Olivia Rodrigo</td>\n",
       "      <td>1</td>\n",
       "      <td>2021-02-04</td>\n",
       "      <td>1</td>\n",
       "      <td>76</td>\n",
       "      <td>9</td>\n",
       "    </tr>\n",
       "    <tr>\n",
       "      <th>1</th>\n",
       "      <td>Good Days</td>\n",
       "      <td>SZA</td>\n",
       "      <td>2</td>\n",
       "      <td>2021-02-04</td>\n",
       "      <td>1</td>\n",
       "      <td>71</td>\n",
       "      <td>7</td>\n",
       "    </tr>\n",
       "    <tr>\n",
       "      <th>3</th>\n",
       "      <td>Save Your Tears</td>\n",
       "      <td>The Weeknd</td>\n",
       "      <td>4</td>\n",
       "      <td>2021-02-04</td>\n",
       "      <td>1</td>\n",
       "      <td>74</td>\n",
       "      <td>5</td>\n",
       "    </tr>\n",
       "    <tr>\n",
       "      <th>25</th>\n",
       "      <td>Heat Waves</td>\n",
       "      <td>Glass Animals</td>\n",
       "      <td>26</td>\n",
       "      <td>2021-02-04</td>\n",
       "      <td>1</td>\n",
       "      <td>76</td>\n",
       "      <td>3</td>\n",
       "    </tr>\n",
       "    <tr>\n",
       "      <th>200</th>\n",
       "      <td>drivers license</td>\n",
       "      <td>Olivia Rodrigo</td>\n",
       "      <td>1</td>\n",
       "      <td>2021-02-11</td>\n",
       "      <td>2</td>\n",
       "      <td>76</td>\n",
       "      <td>9</td>\n",
       "    </tr>\n",
       "    <tr>\n",
       "      <th>...</th>\n",
       "      <td>...</td>\n",
       "      <td>...</td>\n",
       "      <td>...</td>\n",
       "      <td>...</td>\n",
       "      <td>...</td>\n",
       "      <td>...</td>\n",
       "      <td>...</td>\n",
       "    </tr>\n",
       "    <tr>\n",
       "      <th>15137</th>\n",
       "      <td>drivers license</td>\n",
       "      <td>Olivia Rodrigo</td>\n",
       "      <td>138</td>\n",
       "      <td>2022-07-14</td>\n",
       "      <td>76</td>\n",
       "      <td>76</td>\n",
       "      <td>9</td>\n",
       "    </tr>\n",
       "    <tr>\n",
       "      <th>15151</th>\n",
       "      <td>RAPSTAR</td>\n",
       "      <td>Polo G</td>\n",
       "      <td>152</td>\n",
       "      <td>2022-07-14</td>\n",
       "      <td>76</td>\n",
       "      <td>66</td>\n",
       "      <td>6</td>\n",
       "    </tr>\n",
       "    <tr>\n",
       "      <th>15163</th>\n",
       "      <td>One Right Now (with The Weeknd)</td>\n",
       "      <td>Post Malone, The Weeknd</td>\n",
       "      <td>164</td>\n",
       "      <td>2022-07-14</td>\n",
       "      <td>76</td>\n",
       "      <td>36</td>\n",
       "      <td>1</td>\n",
       "    </tr>\n",
       "    <tr>\n",
       "      <th>15170</th>\n",
       "      <td>Save Your Tears</td>\n",
       "      <td>The Weeknd</td>\n",
       "      <td>171</td>\n",
       "      <td>2022-07-14</td>\n",
       "      <td>76</td>\n",
       "      <td>74</td>\n",
       "      <td>5</td>\n",
       "    </tr>\n",
       "    <tr>\n",
       "      <th>15199</th>\n",
       "      <td>Good Days</td>\n",
       "      <td>SZA</td>\n",
       "      <td>200</td>\n",
       "      <td>2022-07-14</td>\n",
       "      <td>76</td>\n",
       "      <td>71</td>\n",
       "      <td>7</td>\n",
       "    </tr>\n",
       "  </tbody>\n",
       "</table>\n",
       "<p>1395 rows × 7 columns</p>\n",
       "</div>"
      ],
      "text/plain": [
       "                            track_name             artist_names  rank  \\\n",
       "0                      drivers license           Olivia Rodrigo     1   \n",
       "1                            Good Days                      SZA     2   \n",
       "3                      Save Your Tears               The Weeknd     4   \n",
       "25                          Heat Waves            Glass Animals    26   \n",
       "200                    drivers license           Olivia Rodrigo     1   \n",
       "...                                ...                      ...   ...   \n",
       "15137                  drivers license           Olivia Rodrigo   138   \n",
       "15151                          RAPSTAR                   Polo G   152   \n",
       "15163  One Right Now (with The Weeknd)  Post Malone, The Weeknd   164   \n",
       "15170                  Save Your Tears               The Weeknd   171   \n",
       "15199                        Good Days                      SZA   200   \n",
       "\n",
       "             week  week_num  weeks_on_charts  longest_streak_top_ten  \n",
       "0      2021-02-04         1               76                       9  \n",
       "1      2021-02-04         1               71                       7  \n",
       "3      2021-02-04         1               74                       5  \n",
       "25     2021-02-04         1               76                       3  \n",
       "200    2021-02-11         2               76                       9  \n",
       "...           ...       ...              ...                     ...  \n",
       "15137  2022-07-14        76               76                       9  \n",
       "15151  2022-07-14        76               66                       6  \n",
       "15163  2022-07-14        76               36                       1  \n",
       "15170  2022-07-14        76               74                       5  \n",
       "15199  2022-07-14        76               71                       7  \n",
       "\n",
       "[1395 rows x 7 columns]"
      ]
     },
     "execution_count": 109,
     "metadata": {},
     "output_type": "execute_result"
    }
   ],
   "source": [
    "possibly_mega = possibly_mega.assign(longest_streak_top_ten = possibly_mega.get('track_name').apply(longest_streak))\n",
    "possibly_mega"
   ]
  },
  {
   "cell_type": "code",
   "execution_count": 110,
   "id": "f4c4ccf7",
   "metadata": {
    "deletable": false,
    "editable": false
   },
   "outputs": [
    {
     "data": {
      "text/html": [
       "<p><strong><pre style='display: inline;'>q6_9</pre></strong> passed!</p>"
      ],
      "text/plain": [
       "q6_9 results: All test cases passed!"
      ]
     },
     "execution_count": 110,
     "metadata": {},
     "output_type": "execute_result"
    }
   ],
   "source": [
    "grader.check(\"q6_9\")"
   ]
  },
  {
   "cell_type": "markdown",
   "id": "eda63dfc",
   "metadata": {},
   "source": [
    "It took a lot of preparation, but now we can finally identify the songs that qualify as US megahits! As a reminder, we say a song is a US megahit if it has met all of the following criteria **in the US**:\n",
    "- Has been at position 1 or 2 in the top 200 at some point.\n",
    "- Spent at least 20 weeks in the top 200.\n",
    "- Had a streak of at least 5 consecutive weeks of being in the top 10.\n",
    "\n",
    "**Question 6.10.** Create a DataFrame called `us_megahits` that is indexed by `'track_name'`, has a single row for each song that qualifies as a US megahit, and has columns `'artist_names'`, `'weeks_on_charts'`, and `'longest_streak_top_ten'`."
   ]
  },
  {
   "cell_type": "code",
   "execution_count": 111,
   "id": "0189dc21",
   "metadata": {},
   "outputs": [
    {
     "data": {
      "text/html": [
       "<div>\n",
       "<style scoped>\n",
       "    .dataframe tbody tr th:only-of-type {\n",
       "        vertical-align: middle;\n",
       "    }\n",
       "\n",
       "    .dataframe tbody tr th {\n",
       "        vertical-align: top;\n",
       "    }\n",
       "\n",
       "    .dataframe thead th {\n",
       "        text-align: right;\n",
       "    }\n",
       "</style>\n",
       "<table border=\"1\" class=\"dataframe\">\n",
       "  <thead>\n",
       "    <tr style=\"text-align: right;\">\n",
       "      <th></th>\n",
       "      <th>artist_names</th>\n",
       "      <th>weeks_on_charts</th>\n",
       "      <th>longest_streak_top_ten</th>\n",
       "    </tr>\n",
       "    <tr>\n",
       "      <th>track_name</th>\n",
       "      <th></th>\n",
       "      <th></th>\n",
       "      <th></th>\n",
       "    </tr>\n",
       "  </thead>\n",
       "  <tbody>\n",
       "    <tr>\n",
       "      <th>Calling My Phone</th>\n",
       "      <td>Lil Tjay, 6LACK</td>\n",
       "      <td>43</td>\n",
       "      <td>9</td>\n",
       "    </tr>\n",
       "    <tr>\n",
       "      <th>Easy On Me</th>\n",
       "      <td>Adele</td>\n",
       "      <td>35</td>\n",
       "      <td>8</td>\n",
       "    </tr>\n",
       "    <tr>\n",
       "      <th>Good Days</th>\n",
       "      <td>SZA</td>\n",
       "      <td>71</td>\n",
       "      <td>7</td>\n",
       "    </tr>\n",
       "    <tr>\n",
       "      <th>INDUSTRY BABY (feat. Jack Harlow)</th>\n",
       "      <td>Lil Nas X, Jack Harlow</td>\n",
       "      <td>51</td>\n",
       "      <td>6</td>\n",
       "    </tr>\n",
       "    <tr>\n",
       "      <th>Kiss Me More (feat. SZA)</th>\n",
       "      <td>Doja Cat, SZA</td>\n",
       "      <td>66</td>\n",
       "      <td>6</td>\n",
       "    </tr>\n",
       "    <tr>\n",
       "      <th>...</th>\n",
       "      <td>...</td>\n",
       "      <td>...</td>\n",
       "      <td>...</td>\n",
       "    </tr>\n",
       "    <tr>\n",
       "      <th>We Don't Talk About Bruno</th>\n",
       "      <td>Carolina Gaitán - La Gaita, Mauro Castillo, Ad...</td>\n",
       "      <td>28</td>\n",
       "      <td>14</td>\n",
       "    </tr>\n",
       "    <tr>\n",
       "      <th>deja vu</th>\n",
       "      <td>Olivia Rodrigo</td>\n",
       "      <td>67</td>\n",
       "      <td>6</td>\n",
       "    </tr>\n",
       "    <tr>\n",
       "      <th>drivers license</th>\n",
       "      <td>Olivia Rodrigo</td>\n",
       "      <td>76</td>\n",
       "      <td>9</td>\n",
       "    </tr>\n",
       "    <tr>\n",
       "      <th>good 4 u</th>\n",
       "      <td>Olivia Rodrigo</td>\n",
       "      <td>61</td>\n",
       "      <td>16</td>\n",
       "    </tr>\n",
       "    <tr>\n",
       "      <th>pushin P (feat. Young Thug)</th>\n",
       "      <td>Gunna, Future, Young Thug</td>\n",
       "      <td>22</td>\n",
       "      <td>10</td>\n",
       "    </tr>\n",
       "  </tbody>\n",
       "</table>\n",
       "<p>18 rows × 3 columns</p>\n",
       "</div>"
      ],
      "text/plain": [
       "                                                                        artist_names  \\\n",
       "track_name                                                                             \n",
       "Calling My Phone                                                     Lil Tjay, 6LACK   \n",
       "Easy On Me                                                                     Adele   \n",
       "Good Days                                                                        SZA   \n",
       "INDUSTRY BABY (feat. Jack Harlow)                             Lil Nas X, Jack Harlow   \n",
       "Kiss Me More (feat. SZA)                                               Doja Cat, SZA   \n",
       "...                                                                              ...   \n",
       "We Don't Talk About Bruno          Carolina Gaitán - La Gaita, Mauro Castillo, Ad...   \n",
       "deja vu                                                               Olivia Rodrigo   \n",
       "drivers license                                                       Olivia Rodrigo   \n",
       "good 4 u                                                              Olivia Rodrigo   \n",
       "pushin P (feat. Young Thug)                                Gunna, Future, Young Thug   \n",
       "\n",
       "                                   weeks_on_charts  longest_streak_top_ten  \n",
       "track_name                                                                  \n",
       "Calling My Phone                                43                       9  \n",
       "Easy On Me                                      35                       8  \n",
       "Good Days                                       71                       7  \n",
       "INDUSTRY BABY (feat. Jack Harlow)               51                       6  \n",
       "Kiss Me More (feat. SZA)                        66                       6  \n",
       "...                                            ...                     ...  \n",
       "We Don't Talk About Bruno                       28                      14  \n",
       "deja vu                                         67                       6  \n",
       "drivers license                                 76                       9  \n",
       "good 4 u                                        61                      16  \n",
       "pushin P (feat. Young Thug)                     22                      10  \n",
       "\n",
       "[18 rows x 3 columns]"
      ]
     },
     "execution_count": 111,
     "metadata": {},
     "output_type": "execute_result"
    }
   ],
   "source": [
    "us_megahits = possibly_mega[(possibly_mega.get('longest_streak_top_ten') >= 5) & (possibly_mega.get('weeks_on_charts') >= 20)].get(['track_name','artist_names', 'weeks_on_charts', 'longest_streak_top_ten']).groupby('track_name').min()\n",
    "us_megahits"
   ]
  },
  {
   "cell_type": "code",
   "execution_count": 112,
   "id": "1f6d3fbd",
   "metadata": {
    "deletable": false,
    "editable": false
   },
   "outputs": [
    {
     "data": {
      "text/html": [
       "<p><strong><pre style='display: inline;'>q6_10</pre></strong> passed!</p>"
      ],
      "text/plain": [
       "q6_10 results: All test cases passed!"
      ]
     },
     "execution_count": 112,
     "metadata": {},
     "output_type": "execute_result"
    }
   ],
   "source": [
    "grader.check(\"q6_10\")"
   ]
  },
  {
   "cell_type": "markdown",
   "id": "96899532",
   "metadata": {},
   "source": [
    "<a id='section7'></a>\n",
    "## Section 7: Encore 🔂\n",
    "\n",
    "<small>(<a href=\"#outline\">return to the outline</a>)</small>"
   ]
  },
  {
   "cell_type": "markdown",
   "id": "4db6ff25",
   "metadata": {},
   "source": [
    "In this final section of the project, we'll analyze some of the audio features of US megahits. There's an issue, though: `us_megahits` doesn't contain any audio features. Fortunately, that information is available in `songs`, as we see below."
   ]
  },
  {
   "cell_type": "code",
   "execution_count": 113,
   "id": "c608b663",
   "metadata": {
    "scrolled": true
   },
   "outputs": [
    {
     "data": {
      "text/html": [
       "<div>\n",
       "<style scoped>\n",
       "    .dataframe tbody tr th:only-of-type {\n",
       "        vertical-align: middle;\n",
       "    }\n",
       "\n",
       "    .dataframe tbody tr th {\n",
       "        vertical-align: top;\n",
       "    }\n",
       "\n",
       "    .dataframe thead th {\n",
       "        text-align: right;\n",
       "    }\n",
       "</style>\n",
       "<table border=\"1\" class=\"dataframe\">\n",
       "  <thead>\n",
       "    <tr style=\"text-align: right;\">\n",
       "      <th></th>\n",
       "      <th>track_name</th>\n",
       "      <th>artist_names</th>\n",
       "      <th>danceability</th>\n",
       "      <th>energy</th>\n",
       "      <th>key</th>\n",
       "      <th>mode</th>\n",
       "      <th>loudness</th>\n",
       "      <th>speechiness</th>\n",
       "      <th>acousticness</th>\n",
       "      <th>instrumentalness</th>\n",
       "      <th>liveness</th>\n",
       "      <th>valence</th>\n",
       "      <th>tempo</th>\n",
       "      <th>duration_min</th>\n",
       "      <th>tempo_name</th>\n",
       "    </tr>\n",
       "  </thead>\n",
       "  <tbody>\n",
       "    <tr>\n",
       "      <th>1053</th>\n",
       "      <td>Jesus Lord pt 2</td>\n",
       "      <td>Kanye West</td>\n",
       "      <td>0.524</td>\n",
       "      <td>0.7260</td>\n",
       "      <td>8.0</td>\n",
       "      <td>1.0</td>\n",
       "      <td>-6.628</td>\n",
       "      <td>0.0941</td>\n",
       "      <td>0.07050</td>\n",
       "      <td>0.019200</td>\n",
       "      <td>0.0877</td>\n",
       "      <td>0.146</td>\n",
       "      <td>107.400</td>\n",
       "      <td>11.512200</td>\n",
       "      <td>Adante</td>\n",
       "    </tr>\n",
       "    <tr>\n",
       "      <th>125</th>\n",
       "      <td>All Too Well (10 Minute Version) (Taylor's Ver...</td>\n",
       "      <td>Taylor Swift</td>\n",
       "      <td>0.631</td>\n",
       "      <td>0.5180</td>\n",
       "      <td>0.0</td>\n",
       "      <td>1.0</td>\n",
       "      <td>-8.771</td>\n",
       "      <td>0.0303</td>\n",
       "      <td>0.27400</td>\n",
       "      <td>0.000000</td>\n",
       "      <td>0.0880</td>\n",
       "      <td>0.205</td>\n",
       "      <td>93.023</td>\n",
       "      <td>10.217117</td>\n",
       "      <td>Adante</td>\n",
       "    </tr>\n",
       "    <tr>\n",
       "      <th>1784</th>\n",
       "      <td>SWEET / I THOUGHT YOU WANTED TO DANCE (feat. B...</td>\n",
       "      <td>Tyler, The Creator, Brent Faiyaz, Fana Hues</td>\n",
       "      <td>0.468</td>\n",
       "      <td>0.6520</td>\n",
       "      <td>0.0</td>\n",
       "      <td>1.0</td>\n",
       "      <td>-4.912</td>\n",
       "      <td>0.0722</td>\n",
       "      <td>0.33300</td>\n",
       "      <td>0.000318</td>\n",
       "      <td>0.5500</td>\n",
       "      <td>0.390</td>\n",
       "      <td>140.223</td>\n",
       "      <td>9.802317</td>\n",
       "      <td>Allegro</td>\n",
       "    </tr>\n",
       "    <tr>\n",
       "      <th>1052</th>\n",
       "      <td>Jesus Lord</td>\n",
       "      <td>Kanye West</td>\n",
       "      <td>0.477</td>\n",
       "      <td>0.7130</td>\n",
       "      <td>1.0</td>\n",
       "      <td>1.0</td>\n",
       "      <td>-6.805</td>\n",
       "      <td>0.1260</td>\n",
       "      <td>0.09840</td>\n",
       "      <td>0.008440</td>\n",
       "      <td>0.0879</td>\n",
       "      <td>0.113</td>\n",
       "      <td>106.137</td>\n",
       "      <td>8.975617</td>\n",
       "      <td>Adante</td>\n",
       "    </tr>\n",
       "    <tr>\n",
       "      <th>1719</th>\n",
       "      <td>Residente: Bzrp Music Sessions, Vol. 49</td>\n",
       "      <td>Bizarrap, Residente</td>\n",
       "      <td>0.586</td>\n",
       "      <td>0.7400</td>\n",
       "      <td>1.0</td>\n",
       "      <td>0.0</td>\n",
       "      <td>-2.997</td>\n",
       "      <td>0.4040</td>\n",
       "      <td>0.55500</td>\n",
       "      <td>0.000000</td>\n",
       "      <td>0.1100</td>\n",
       "      <td>0.697</td>\n",
       "      <td>71.378</td>\n",
       "      <td>8.654817</td>\n",
       "      <td>Adagio</td>\n",
       "    </tr>\n",
       "    <tr>\n",
       "      <th>...</th>\n",
       "      <td>...</td>\n",
       "      <td>...</td>\n",
       "      <td>...</td>\n",
       "      <td>...</td>\n",
       "      <td>...</td>\n",
       "      <td>...</td>\n",
       "      <td>...</td>\n",
       "      <td>...</td>\n",
       "      <td>...</td>\n",
       "      <td>...</td>\n",
       "      <td>...</td>\n",
       "      <td>...</td>\n",
       "      <td>...</td>\n",
       "      <td>...</td>\n",
       "      <td>...</td>\n",
       "    </tr>\n",
       "    <tr>\n",
       "      <th>253</th>\n",
       "      <td>Bezos I</td>\n",
       "      <td>Bo Burnham</td>\n",
       "      <td>0.694</td>\n",
       "      <td>0.9480</td>\n",
       "      <td>2.0</td>\n",
       "      <td>1.0</td>\n",
       "      <td>-5.307</td>\n",
       "      <td>0.0361</td>\n",
       "      <td>0.00936</td>\n",
       "      <td>0.000016</td>\n",
       "      <td>0.1390</td>\n",
       "      <td>0.705</td>\n",
       "      <td>115.044</td>\n",
       "      <td>0.969150</td>\n",
       "      <td>Moderato</td>\n",
       "    </tr>\n",
       "    <tr>\n",
       "      <th>189</th>\n",
       "      <td>BLESSED</td>\n",
       "      <td>Tyler, The Creator</td>\n",
       "      <td>0.336</td>\n",
       "      <td>0.6130</td>\n",
       "      <td>8.0</td>\n",
       "      <td>1.0</td>\n",
       "      <td>-7.869</td>\n",
       "      <td>0.1230</td>\n",
       "      <td>0.38900</td>\n",
       "      <td>0.000100</td>\n",
       "      <td>0.7650</td>\n",
       "      <td>0.741</td>\n",
       "      <td>40.319</td>\n",
       "      <td>0.961117</td>\n",
       "      <td>Lento</td>\n",
       "    </tr>\n",
       "    <tr>\n",
       "      <th>575</th>\n",
       "      <td>Donda Chant</td>\n",
       "      <td>Kanye West</td>\n",
       "      <td>0.702</td>\n",
       "      <td>0.0474</td>\n",
       "      <td>3.0</td>\n",
       "      <td>0.0</td>\n",
       "      <td>-15.198</td>\n",
       "      <td>0.5260</td>\n",
       "      <td>0.00516</td>\n",
       "      <td>0.000001</td>\n",
       "      <td>0.1470</td>\n",
       "      <td>0.175</td>\n",
       "      <td>102.983</td>\n",
       "      <td>0.867700</td>\n",
       "      <td>Adante</td>\n",
       "    </tr>\n",
       "    <tr>\n",
       "      <th>836</th>\n",
       "      <td>Good News</td>\n",
       "      <td>Pop Smoke</td>\n",
       "      <td>0.573</td>\n",
       "      <td>0.5040</td>\n",
       "      <td>10.0</td>\n",
       "      <td>1.0</td>\n",
       "      <td>-8.116</td>\n",
       "      <td>0.2190</td>\n",
       "      <td>0.23600</td>\n",
       "      <td>0.000000</td>\n",
       "      <td>0.1200</td>\n",
       "      <td>0.526</td>\n",
       "      <td>126.655</td>\n",
       "      <td>0.783217</td>\n",
       "      <td>Allegro</td>\n",
       "    </tr>\n",
       "    <tr>\n",
       "      <th>1026</th>\n",
       "      <td>Intro</td>\n",
       "      <td>Drake</td>\n",
       "      <td>0.193</td>\n",
       "      <td>0.0218</td>\n",
       "      <td>0.0</td>\n",
       "      <td>0.0</td>\n",
       "      <td>-31.160</td>\n",
       "      <td>0.0389</td>\n",
       "      <td>0.95500</td>\n",
       "      <td>0.880000</td>\n",
       "      <td>0.1170</td>\n",
       "      <td>0.213</td>\n",
       "      <td>125.501</td>\n",
       "      <td>0.615583</td>\n",
       "      <td>Allegro</td>\n",
       "    </tr>\n",
       "  </tbody>\n",
       "</table>\n",
       "<p>2554 rows × 15 columns</p>\n",
       "</div>"
      ],
      "text/plain": [
       "                                             track_name  \\\n",
       "1053                                    Jesus Lord pt 2   \n",
       "125   All Too Well (10 Minute Version) (Taylor's Ver...   \n",
       "1784  SWEET / I THOUGHT YOU WANTED TO DANCE (feat. B...   \n",
       "1052                                         Jesus Lord   \n",
       "1719            Residente: Bzrp Music Sessions, Vol. 49   \n",
       "...                                                 ...   \n",
       "253                                             Bezos I   \n",
       "189                                             BLESSED   \n",
       "575                                         Donda Chant   \n",
       "836                                           Good News   \n",
       "1026                                              Intro   \n",
       "\n",
       "                                     artist_names  danceability  energy   key  \\\n",
       "1053                                   Kanye West         0.524  0.7260   8.0   \n",
       "125                                  Taylor Swift         0.631  0.5180   0.0   \n",
       "1784  Tyler, The Creator, Brent Faiyaz, Fana Hues         0.468  0.6520   0.0   \n",
       "1052                                   Kanye West         0.477  0.7130   1.0   \n",
       "1719                          Bizarrap, Residente         0.586  0.7400   1.0   \n",
       "...                                           ...           ...     ...   ...   \n",
       "253                                    Bo Burnham         0.694  0.9480   2.0   \n",
       "189                            Tyler, The Creator         0.336  0.6130   8.0   \n",
       "575                                    Kanye West         0.702  0.0474   3.0   \n",
       "836                                     Pop Smoke         0.573  0.5040  10.0   \n",
       "1026                                        Drake         0.193  0.0218   0.0   \n",
       "\n",
       "      mode  loudness  speechiness  acousticness  instrumentalness  liveness  \\\n",
       "1053   1.0    -6.628       0.0941       0.07050          0.019200    0.0877   \n",
       "125    1.0    -8.771       0.0303       0.27400          0.000000    0.0880   \n",
       "1784   1.0    -4.912       0.0722       0.33300          0.000318    0.5500   \n",
       "1052   1.0    -6.805       0.1260       0.09840          0.008440    0.0879   \n",
       "1719   0.0    -2.997       0.4040       0.55500          0.000000    0.1100   \n",
       "...    ...       ...          ...           ...               ...       ...   \n",
       "253    1.0    -5.307       0.0361       0.00936          0.000016    0.1390   \n",
       "189    1.0    -7.869       0.1230       0.38900          0.000100    0.7650   \n",
       "575    0.0   -15.198       0.5260       0.00516          0.000001    0.1470   \n",
       "836    1.0    -8.116       0.2190       0.23600          0.000000    0.1200   \n",
       "1026   0.0   -31.160       0.0389       0.95500          0.880000    0.1170   \n",
       "\n",
       "      valence    tempo  duration_min tempo_name  \n",
       "1053    0.146  107.400     11.512200     Adante  \n",
       "125     0.205   93.023     10.217117     Adante  \n",
       "1784    0.390  140.223      9.802317    Allegro  \n",
       "1052    0.113  106.137      8.975617     Adante  \n",
       "1719    0.697   71.378      8.654817     Adagio  \n",
       "...       ...      ...           ...        ...  \n",
       "253     0.705  115.044      0.969150   Moderato  \n",
       "189     0.741   40.319      0.961117      Lento  \n",
       "575     0.175  102.983      0.867700     Adante  \n",
       "836     0.526  126.655      0.783217    Allegro  \n",
       "1026    0.213  125.501      0.615583    Allegro  \n",
       "\n",
       "[2554 rows x 15 columns]"
      ]
     },
     "execution_count": 113,
     "metadata": {},
     "output_type": "execute_result"
    }
   ],
   "source": [
    "songs"
   ]
  },
  {
   "cell_type": "markdown",
   "id": "0b87903e",
   "metadata": {},
   "source": [
    "**Question 7.1.** Create a DataFrame called `megahits` that contains the same rows and columns as `us_megahits`, plus the additional columns below.\n",
    "- `'danceability'`\n",
    "- `'energy'`\n",
    "- `'key'`\n",
    "- `'mode'`\n",
    "- `'loudness'`\n",
    "- `'speechiness'`\n",
    "- `'acousticness'`\n",
    "- `'instrumentalness'`\n",
    "- `'liveness'`\n",
    "- `'valence'`\n",
    "- `'tempo'`\n",
    "- `'duration_min'`\n",
    "\n",
    "`megahits`, like `us_megahits`, should be indexed by `'track_name'`."
   ]
  },
  {
   "cell_type": "code",
   "execution_count": 114,
   "id": "64fa5f81",
   "metadata": {},
   "outputs": [
    {
     "data": {
      "text/html": [
       "<div>\n",
       "<style scoped>\n",
       "    .dataframe tbody tr th:only-of-type {\n",
       "        vertical-align: middle;\n",
       "    }\n",
       "\n",
       "    .dataframe tbody tr th {\n",
       "        vertical-align: top;\n",
       "    }\n",
       "\n",
       "    .dataframe thead th {\n",
       "        text-align: right;\n",
       "    }\n",
       "</style>\n",
       "<table border=\"1\" class=\"dataframe\">\n",
       "  <thead>\n",
       "    <tr style=\"text-align: right;\">\n",
       "      <th></th>\n",
       "      <th>artist_names</th>\n",
       "      <th>weeks_on_charts</th>\n",
       "      <th>longest_streak_top_ten</th>\n",
       "      <th>danceability</th>\n",
       "      <th>energy</th>\n",
       "      <th>key</th>\n",
       "      <th>mode</th>\n",
       "      <th>loudness</th>\n",
       "      <th>speechiness</th>\n",
       "      <th>acousticness</th>\n",
       "      <th>instrumentalness</th>\n",
       "      <th>liveness</th>\n",
       "      <th>valence</th>\n",
       "      <th>tempo</th>\n",
       "      <th>duration_min</th>\n",
       "    </tr>\n",
       "    <tr>\n",
       "      <th>track_name</th>\n",
       "      <th></th>\n",
       "      <th></th>\n",
       "      <th></th>\n",
       "      <th></th>\n",
       "      <th></th>\n",
       "      <th></th>\n",
       "      <th></th>\n",
       "      <th></th>\n",
       "      <th></th>\n",
       "      <th></th>\n",
       "      <th></th>\n",
       "      <th></th>\n",
       "      <th></th>\n",
       "      <th></th>\n",
       "      <th></th>\n",
       "    </tr>\n",
       "  </thead>\n",
       "  <tbody>\n",
       "    <tr>\n",
       "      <th>1 step forward, 3 steps back</th>\n",
       "      <td>Olivia Rodrigo</td>\n",
       "      <td>61</td>\n",
       "      <td>6</td>\n",
       "      <td>0.473</td>\n",
       "      <td>0.203</td>\n",
       "      <td>2.0</td>\n",
       "      <td>1.0</td>\n",
       "      <td>-12.627</td>\n",
       "      <td>0.1020</td>\n",
       "      <td>0.94100</td>\n",
       "      <td>0.000000</td>\n",
       "      <td>0.1260</td>\n",
       "      <td>0.4190</td>\n",
       "      <td>168.884</td>\n",
       "      <td>2.726450</td>\n",
       "    </tr>\n",
       "    <tr>\n",
       "      <th>21</th>\n",
       "      <td>Polo G</td>\n",
       "      <td>66</td>\n",
       "      <td>6</td>\n",
       "      <td>0.783</td>\n",
       "      <td>0.479</td>\n",
       "      <td>7.0</td>\n",
       "      <td>1.0</td>\n",
       "      <td>-10.646</td>\n",
       "      <td>0.5410</td>\n",
       "      <td>0.14900</td>\n",
       "      <td>0.000000</td>\n",
       "      <td>0.1010</td>\n",
       "      <td>0.5330</td>\n",
       "      <td>176.027</td>\n",
       "      <td>2.729967</td>\n",
       "    </tr>\n",
       "    <tr>\n",
       "      <th>A Tale By Quincy</th>\n",
       "      <td>The Weeknd</td>\n",
       "      <td>74</td>\n",
       "      <td>5</td>\n",
       "      <td>0.447</td>\n",
       "      <td>0.513</td>\n",
       "      <td>5.0</td>\n",
       "      <td>0.0</td>\n",
       "      <td>-8.670</td>\n",
       "      <td>0.1270</td>\n",
       "      <td>0.67900</td>\n",
       "      <td>0.000030</td>\n",
       "      <td>0.0960</td>\n",
       "      <td>0.5720</td>\n",
       "      <td>67.289</td>\n",
       "      <td>1.603867</td>\n",
       "    </tr>\n",
       "    <tr>\n",
       "      <th>All I Ask</th>\n",
       "      <td>Adele</td>\n",
       "      <td>35</td>\n",
       "      <td>8</td>\n",
       "      <td>0.591</td>\n",
       "      <td>0.280</td>\n",
       "      <td>4.0</td>\n",
       "      <td>1.0</td>\n",
       "      <td>-5.494</td>\n",
       "      <td>0.0283</td>\n",
       "      <td>0.88900</td>\n",
       "      <td>0.000000</td>\n",
       "      <td>0.1240</td>\n",
       "      <td>0.3480</td>\n",
       "      <td>141.916</td>\n",
       "      <td>4.530000</td>\n",
       "    </tr>\n",
       "    <tr>\n",
       "      <th>All Night Parking (with Erroll Garner) Interlude</th>\n",
       "      <td>Adele</td>\n",
       "      <td>35</td>\n",
       "      <td>8</td>\n",
       "      <td>0.734</td>\n",
       "      <td>0.497</td>\n",
       "      <td>8.0</td>\n",
       "      <td>1.0</td>\n",
       "      <td>-9.666</td>\n",
       "      <td>0.1660</td>\n",
       "      <td>0.67000</td>\n",
       "      <td>0.000023</td>\n",
       "      <td>0.1940</td>\n",
       "      <td>0.3070</td>\n",
       "      <td>127.989</td>\n",
       "      <td>2.697150</td>\n",
       "    </tr>\n",
       "    <tr>\n",
       "      <th>...</th>\n",
       "      <td>...</td>\n",
       "      <td>...</td>\n",
       "      <td>...</td>\n",
       "      <td>...</td>\n",
       "      <td>...</td>\n",
       "      <td>...</td>\n",
       "      <td>...</td>\n",
       "      <td>...</td>\n",
       "      <td>...</td>\n",
       "      <td>...</td>\n",
       "      <td>...</td>\n",
       "      <td>...</td>\n",
       "      <td>...</td>\n",
       "      <td>...</td>\n",
       "      <td>...</td>\n",
       "    </tr>\n",
       "    <tr>\n",
       "      <th>happier</th>\n",
       "      <td>Olivia Rodrigo</td>\n",
       "      <td>61</td>\n",
       "      <td>6</td>\n",
       "      <td>0.395</td>\n",
       "      <td>0.443</td>\n",
       "      <td>6.0</td>\n",
       "      <td>1.0</td>\n",
       "      <td>-9.720</td>\n",
       "      <td>0.1330</td>\n",
       "      <td>0.76500</td>\n",
       "      <td>0.000010</td>\n",
       "      <td>0.0839</td>\n",
       "      <td>0.3380</td>\n",
       "      <td>168.924</td>\n",
       "      <td>2.932217</td>\n",
       "    </tr>\n",
       "    <tr>\n",
       "      <th>hope ur ok</th>\n",
       "      <td>Olivia Rodrigo</td>\n",
       "      <td>61</td>\n",
       "      <td>6</td>\n",
       "      <td>0.443</td>\n",
       "      <td>0.298</td>\n",
       "      <td>0.0</td>\n",
       "      <td>1.0</td>\n",
       "      <td>-12.181</td>\n",
       "      <td>0.0644</td>\n",
       "      <td>0.38800</td>\n",
       "      <td>0.000010</td>\n",
       "      <td>0.1030</td>\n",
       "      <td>0.1720</td>\n",
       "      <td>77.253</td>\n",
       "      <td>3.492667</td>\n",
       "    </tr>\n",
       "    <tr>\n",
       "      <th>jealousy, jealousy</th>\n",
       "      <td>Olivia Rodrigo</td>\n",
       "      <td>61</td>\n",
       "      <td>6</td>\n",
       "      <td>0.695</td>\n",
       "      <td>0.575</td>\n",
       "      <td>10.0</td>\n",
       "      <td>0.0</td>\n",
       "      <td>-6.334</td>\n",
       "      <td>0.1160</td>\n",
       "      <td>0.19800</td>\n",
       "      <td>0.000000</td>\n",
       "      <td>0.0614</td>\n",
       "      <td>0.6990</td>\n",
       "      <td>163.929</td>\n",
       "      <td>2.886000</td>\n",
       "    </tr>\n",
       "    <tr>\n",
       "      <th>pushin P (feat. Young Thug)</th>\n",
       "      <td>Gunna, Future, Young Thug</td>\n",
       "      <td>22</td>\n",
       "      <td>10</td>\n",
       "      <td>0.773</td>\n",
       "      <td>0.422</td>\n",
       "      <td>1.0</td>\n",
       "      <td>0.0</td>\n",
       "      <td>-4.572</td>\n",
       "      <td>0.1870</td>\n",
       "      <td>0.00783</td>\n",
       "      <td>0.006930</td>\n",
       "      <td>0.1290</td>\n",
       "      <td>0.4880</td>\n",
       "      <td>77.502</td>\n",
       "      <td>2.271117</td>\n",
       "    </tr>\n",
       "    <tr>\n",
       "      <th>traitor</th>\n",
       "      <td>Olivia Rodrigo</td>\n",
       "      <td>61</td>\n",
       "      <td>6</td>\n",
       "      <td>0.380</td>\n",
       "      <td>0.339</td>\n",
       "      <td>3.0</td>\n",
       "      <td>1.0</td>\n",
       "      <td>-7.885</td>\n",
       "      <td>0.0338</td>\n",
       "      <td>0.69100</td>\n",
       "      <td>0.000000</td>\n",
       "      <td>0.1200</td>\n",
       "      <td>0.0849</td>\n",
       "      <td>100.607</td>\n",
       "      <td>3.820450</td>\n",
       "    </tr>\n",
       "  </tbody>\n",
       "</table>\n",
       "<p>97 rows × 15 columns</p>\n",
       "</div>"
      ],
      "text/plain": [
       "                                                               artist_names  \\\n",
       "track_name                                                                    \n",
       "1 step forward, 3 steps back                                 Olivia Rodrigo   \n",
       "21                                                                   Polo G   \n",
       "A Tale By Quincy                                                 The Weeknd   \n",
       "All I Ask                                                             Adele   \n",
       "All Night Parking (with Erroll Garner) Interlude                      Adele   \n",
       "...                                                                     ...   \n",
       "happier                                                      Olivia Rodrigo   \n",
       "hope ur ok                                                   Olivia Rodrigo   \n",
       "jealousy, jealousy                                           Olivia Rodrigo   \n",
       "pushin P (feat. Young Thug)                       Gunna, Future, Young Thug   \n",
       "traitor                                                      Olivia Rodrigo   \n",
       "\n",
       "                                                  weeks_on_charts  \\\n",
       "track_name                                                          \n",
       "1 step forward, 3 steps back                                   61   \n",
       "21                                                             66   \n",
       "A Tale By Quincy                                               74   \n",
       "All I Ask                                                      35   \n",
       "All Night Parking (with Erroll Garner) Interlude               35   \n",
       "...                                                           ...   \n",
       "happier                                                        61   \n",
       "hope ur ok                                                     61   \n",
       "jealousy, jealousy                                             61   \n",
       "pushin P (feat. Young Thug)                                    22   \n",
       "traitor                                                        61   \n",
       "\n",
       "                                                  longest_streak_top_ten  \\\n",
       "track_name                                                                 \n",
       "1 step forward, 3 steps back                                           6   \n",
       "21                                                                     6   \n",
       "A Tale By Quincy                                                       5   \n",
       "All I Ask                                                              8   \n",
       "All Night Parking (with Erroll Garner) Interlude                       8   \n",
       "...                                                                  ...   \n",
       "happier                                                                6   \n",
       "hope ur ok                                                             6   \n",
       "jealousy, jealousy                                                     6   \n",
       "pushin P (feat. Young Thug)                                           10   \n",
       "traitor                                                                6   \n",
       "\n",
       "                                                  danceability  energy   key  \\\n",
       "track_name                                                                     \n",
       "1 step forward, 3 steps back                             0.473   0.203   2.0   \n",
       "21                                                       0.783   0.479   7.0   \n",
       "A Tale By Quincy                                         0.447   0.513   5.0   \n",
       "All I Ask                                                0.591   0.280   4.0   \n",
       "All Night Parking (with Erroll Garner) Interlude         0.734   0.497   8.0   \n",
       "...                                                        ...     ...   ...   \n",
       "happier                                                  0.395   0.443   6.0   \n",
       "hope ur ok                                               0.443   0.298   0.0   \n",
       "jealousy, jealousy                                       0.695   0.575  10.0   \n",
       "pushin P (feat. Young Thug)                              0.773   0.422   1.0   \n",
       "traitor                                                  0.380   0.339   3.0   \n",
       "\n",
       "                                                  mode  loudness  speechiness  \\\n",
       "track_name                                                                      \n",
       "1 step forward, 3 steps back                       1.0   -12.627       0.1020   \n",
       "21                                                 1.0   -10.646       0.5410   \n",
       "A Tale By Quincy                                   0.0    -8.670       0.1270   \n",
       "All I Ask                                          1.0    -5.494       0.0283   \n",
       "All Night Parking (with Erroll Garner) Interlude   1.0    -9.666       0.1660   \n",
       "...                                                ...       ...          ...   \n",
       "happier                                            1.0    -9.720       0.1330   \n",
       "hope ur ok                                         1.0   -12.181       0.0644   \n",
       "jealousy, jealousy                                 0.0    -6.334       0.1160   \n",
       "pushin P (feat. Young Thug)                        0.0    -4.572       0.1870   \n",
       "traitor                                            1.0    -7.885       0.0338   \n",
       "\n",
       "                                                  acousticness  \\\n",
       "track_name                                                       \n",
       "1 step forward, 3 steps back                           0.94100   \n",
       "21                                                     0.14900   \n",
       "A Tale By Quincy                                       0.67900   \n",
       "All I Ask                                              0.88900   \n",
       "All Night Parking (with Erroll Garner) Interlude       0.67000   \n",
       "...                                                        ...   \n",
       "happier                                                0.76500   \n",
       "hope ur ok                                             0.38800   \n",
       "jealousy, jealousy                                     0.19800   \n",
       "pushin P (feat. Young Thug)                            0.00783   \n",
       "traitor                                                0.69100   \n",
       "\n",
       "                                                  instrumentalness  liveness  \\\n",
       "track_name                                                                     \n",
       "1 step forward, 3 steps back                              0.000000    0.1260   \n",
       "21                                                        0.000000    0.1010   \n",
       "A Tale By Quincy                                          0.000030    0.0960   \n",
       "All I Ask                                                 0.000000    0.1240   \n",
       "All Night Parking (with Erroll Garner) Interlude          0.000023    0.1940   \n",
       "...                                                            ...       ...   \n",
       "happier                                                   0.000010    0.0839   \n",
       "hope ur ok                                                0.000010    0.1030   \n",
       "jealousy, jealousy                                        0.000000    0.0614   \n",
       "pushin P (feat. Young Thug)                               0.006930    0.1290   \n",
       "traitor                                                   0.000000    0.1200   \n",
       "\n",
       "                                                  valence    tempo  \\\n",
       "track_name                                                           \n",
       "1 step forward, 3 steps back                       0.4190  168.884   \n",
       "21                                                 0.5330  176.027   \n",
       "A Tale By Quincy                                   0.5720   67.289   \n",
       "All I Ask                                          0.3480  141.916   \n",
       "All Night Parking (with Erroll Garner) Interlude   0.3070  127.989   \n",
       "...                                                   ...      ...   \n",
       "happier                                            0.3380  168.924   \n",
       "hope ur ok                                         0.1720   77.253   \n",
       "jealousy, jealousy                                 0.6990  163.929   \n",
       "pushin P (feat. Young Thug)                        0.4880   77.502   \n",
       "traitor                                            0.0849  100.607   \n",
       "\n",
       "                                                  duration_min  \n",
       "track_name                                                      \n",
       "1 step forward, 3 steps back                          2.726450  \n",
       "21                                                    2.729967  \n",
       "A Tale By Quincy                                      1.603867  \n",
       "All I Ask                                             4.530000  \n",
       "All Night Parking (with Erroll Garner) Interlude      2.697150  \n",
       "...                                                        ...  \n",
       "happier                                               2.932217  \n",
       "hope ur ok                                            3.492667  \n",
       "jealousy, jealousy                                    2.886000  \n",
       "pushin P (feat. Young Thug)                           2.271117  \n",
       "traitor                                               3.820450  \n",
       "\n",
       "[97 rows x 15 columns]"
      ]
     },
     "execution_count": 114,
     "metadata": {},
     "output_type": "execute_result"
    }
   ],
   "source": [
    "megahits = us_megahits.merge(songs, on = 'artist_names').groupby('track_name').min().drop(columns=['tempo_name'])\n",
    "megahits"
   ]
  },
  {
   "cell_type": "code",
   "execution_count": 115,
   "id": "707deb76",
   "metadata": {
    "deletable": false,
    "editable": false
   },
   "outputs": [
    {
     "data": {
      "text/html": [
       "<p><strong><pre style='display: inline;'>q7_1</pre></strong> passed!</p>"
      ],
      "text/plain": [
       "q7_1 results: All test cases passed!"
      ]
     },
     "execution_count": 115,
     "metadata": {},
     "output_type": "execute_result"
    }
   ],
   "source": [
    "grader.check(\"q7_1\")"
   ]
  },
  {
   "cell_type": "markdown",
   "id": "ff03a42c",
   "metadata": {},
   "source": [
    "**Question 7.2. ⭐️⭐️** Create a DataFrame named `megahit_comparison` that is indexed by `'audio_feature'` and contains the values given in the `audio_features` array below. Each row of `megahit_comparison` will therefore correspond to a different audio feature. `megahit_comparison` should have two columns:\n",
    "- `'every_song_mean'` should contain the mean value of each feature, among all songs in `songs`.\n",
    "- `'megahit_mean'` should contain the mean value of each feature, among all songs in `megahits`."
   ]
  },
  {
   "cell_type": "code",
   "execution_count": 116,
   "id": "2f866ac9",
   "metadata": {
    "scrolled": true
   },
   "outputs": [
    {
     "data": {
      "text/html": [
       "<div>\n",
       "<style scoped>\n",
       "    .dataframe tbody tr th:only-of-type {\n",
       "        vertical-align: middle;\n",
       "    }\n",
       "\n",
       "    .dataframe tbody tr th {\n",
       "        vertical-align: top;\n",
       "    }\n",
       "\n",
       "    .dataframe thead th {\n",
       "        text-align: right;\n",
       "    }\n",
       "</style>\n",
       "<table border=\"1\" class=\"dataframe\">\n",
       "  <thead>\n",
       "    <tr style=\"text-align: right;\">\n",
       "      <th></th>\n",
       "      <th>every_song_mean</th>\n",
       "      <th>megahit_mean</th>\n",
       "    </tr>\n",
       "    <tr>\n",
       "      <th>audio_feature</th>\n",
       "      <th></th>\n",
       "      <th></th>\n",
       "    </tr>\n",
       "  </thead>\n",
       "  <tbody>\n",
       "    <tr>\n",
       "      <th>danceability</th>\n",
       "      <td>0.667982</td>\n",
       "      <td>0.605309</td>\n",
       "    </tr>\n",
       "    <tr>\n",
       "      <th>energy</th>\n",
       "      <td>0.612003</td>\n",
       "      <td>0.556278</td>\n",
       "    </tr>\n",
       "    <tr>\n",
       "      <th>speechiness</th>\n",
       "      <td>0.117917</td>\n",
       "      <td>0.117380</td>\n",
       "    </tr>\n",
       "    <tr>\n",
       "      <th>acousticness</th>\n",
       "      <td>0.267516</td>\n",
       "      <td>0.321491</td>\n",
       "    </tr>\n",
       "    <tr>\n",
       "      <th>instrumentalness</th>\n",
       "      <td>0.012049</td>\n",
       "      <td>0.002216</td>\n",
       "    </tr>\n",
       "    <tr>\n",
       "      <th>liveness</th>\n",
       "      <td>0.179257</td>\n",
       "      <td>0.161547</td>\n",
       "    </tr>\n",
       "    <tr>\n",
       "      <th>valence</th>\n",
       "      <td>0.520207</td>\n",
       "      <td>0.404648</td>\n",
       "    </tr>\n",
       "    <tr>\n",
       "      <th>loudness</th>\n",
       "      <td>-6.738406</td>\n",
       "      <td>-7.378485</td>\n",
       "    </tr>\n",
       "    <tr>\n",
       "      <th>tempo</th>\n",
       "      <td>121.889499</td>\n",
       "      <td>125.313320</td>\n",
       "    </tr>\n",
       "    <tr>\n",
       "      <th>duration_min</th>\n",
       "      <td>3.364798</td>\n",
       "      <td>3.484971</td>\n",
       "    </tr>\n",
       "  </tbody>\n",
       "</table>\n",
       "</div>"
      ],
      "text/plain": [
       "                  every_song_mean  megahit_mean\n",
       "audio_feature                                  \n",
       "danceability             0.667982      0.605309\n",
       "energy                   0.612003      0.556278\n",
       "speechiness              0.117917      0.117380\n",
       "acousticness             0.267516      0.321491\n",
       "instrumentalness         0.012049      0.002216\n",
       "liveness                 0.179257      0.161547\n",
       "valence                  0.520207      0.404648\n",
       "loudness                -6.738406     -7.378485\n",
       "tempo                  121.889499    125.313320\n",
       "duration_min             3.364798      3.484971"
      ]
     },
     "execution_count": 116,
     "metadata": {},
     "output_type": "execute_result"
    }
   ],
   "source": [
    "audio_features = np.array(['danceability', 'energy', 'speechiness', 'acousticness',\n",
    "                      'instrumentalness', 'liveness', 'valence', 'loudness', 'tempo', 'duration_min'])\n",
    "\n",
    "megahits_iterator = np.repeat(0.0, 10)\n",
    "songs_iterator = np.repeat(0.0, 10)\n",
    "\n",
    "for i in np.arange(10):\n",
    "    megahits_iterator[i] = megahits.get(audio_features[i]).mean()\n",
    "    songs_iterator[i] = songs.get(audio_features[i]).mean()\n",
    "    \n",
    "megahit_comparison = bpd.DataFrame().assign(audio_feature=audio_features).assign(every_song_mean=songs_iterator, megahit_mean=megahits_iterator).set_index('audio_feature')\n",
    "megahit_comparison\n"
   ]
  },
  {
   "cell_type": "code",
   "execution_count": 117,
   "id": "a2d3576e",
   "metadata": {
    "deletable": false,
    "editable": false
   },
   "outputs": [
    {
     "data": {
      "text/html": [
       "<p><strong><pre style='display: inline;'>q7_2</pre></strong> passed!</p>"
      ],
      "text/plain": [
       "q7_2 results: All test cases passed!"
      ]
     },
     "execution_count": 117,
     "metadata": {},
     "output_type": "execute_result"
    }
   ],
   "source": [
    "grader.check(\"q7_2\")"
   ]
  },
  {
   "cell_type": "markdown",
   "id": "6dcd0b8f",
   "metadata": {},
   "source": [
    "**Question 7.3.** Finally, draw a horizontal bar chart showing the differences between megahits and all songs in each of the **first 7 features** in `audio_features`. These are the audio features that are measured on a 0 to 1 scale. As with the bar charts you made in Section 4, arrange the bars so that the top bar represents the audio feature which most distinguishes megahits from the rest of the songs on the top 200 charts. Make sure to give your plot an appropriate title.\n",
    "\n",
    "*Hint*: Adapt the code you wrote in the `word_analysis` function."
   ]
  },
  {
   "cell_type": "markdown",
   "id": "3bcf41c0",
   "metadata": {
    "deletable": false,
    "editable": false
   },
   "source": [
    "<!-- BEGIN QUESTION -->\n",
    "\n",
    "<!--\n",
    "BEGIN QUESTION\n",
    "name: q7_3\n",
    "manual: true\n",
    "-->"
   ]
  },
  {
   "cell_type": "code",
   "execution_count": 118,
   "id": "f9804327",
   "metadata": {},
   "outputs": [
    {
     "data": {
      "text/plain": [
       "<AxesSubplot:title={'center':'Audio Feature Comparison of US Megahits vs Rest of Songs on Spotify Top 200'}, ylabel='audio_feature'>"
      ]
     },
     "execution_count": 118,
     "metadata": {},
     "output_type": "execute_result"
    },
    {
     "data": {
      "image/png": "[encoded data removed]",
      "text/plain": [
       "<Figure size 432x288 with 1 Axes>"
      ]
     },
     "metadata": {},
     "output_type": "display_data"
    }
   ],
   "source": [
    "# Make your horizontal bar chart here.\n",
    "megahit_comparison.take(np.arange(7)).plot(kind='barh', title='Audio Feature Comparison of US Megahits vs Rest of Songs on Spotify Top 200' )"
   ]
  },
  {
   "cell_type": "markdown",
   "id": "217af187",
   "metadata": {},
   "source": [
    "<!-- END QUESTION -->\n",
    "\n",
    "\n",
    "\n",
    "Were these results what you expected to see? Of course, with music trends changing over time, the characteristics of a megahit are likely to change as well. It would be interesting to repeat this analysis with weekly top 200 charts from other time periods, or in other countries.\n",
    "\n",
    "Keep in mind that we're also comparing megahits to other popular songs, as all of our data comes from the top 200 charts. Given a broader dataset of songs, we'd likely see a stronger characterization of a megahit, as megahits would likely have a more pronounced difference from all songs when more \"unpopular\" songs are included."
   ]
  },
  {
   "cell_type": "markdown",
   "id": "36c08c29",
   "metadata": {},
   "source": [
    "## Parting Thoughts 💭\n",
    "\n",
    "While you've made it to the end of the project, we've only just scratched the surface in analyzing the `charts` dataset. We encourage you to explore the dataset further by asking and answering your own questions about the Spotify charts. For instance, we didn't use the `'streams'` column in `charts` at all. Maybe you're interested in looking at the number of streams per week for your favorite song. Or maybe you're interested in recreating the interactive plot from the end of Section 5, but instead of looking at the age of each weekly #1 song, you want to look at the number of streams of each week #1 song. Explore, and let us know what you find!"
   ]
  },
  {
   "cell_type": "markdown",
   "id": "ba656941",
   "metadata": {},
   "source": [
    "<a id='emojiquiz'></a>\n",
    "\n",
    "## Emoji Quiz 💯\n",
    "\n",
    "Just for fun, here are some emojis that describe particular songs or artists. See how many you can identify! You may have come across some of these songs or artists while completing this project. \n",
    "\n",
    "We'll post the answers on EdStem after the project is due. \n",
    "\n",
    "### Songs\n",
    "\n",
    "1. 🚘🆔\n",
    "2. ✋🐕‍🦺\n",
    "3. 👨‍🚀➡🌊\n",
    "4. 👵👴🏽💭👧👦🏽\n",
    "5. 💍💍💍💍💍💍💍\n",
    "6. 📷🖼️\n",
    "7. 🏃‍♀️⬆️⛰️\n",
    "8. 🕺🐵\n",
    "9. 🧨🎆\n",
    "10. 🍉🍭\n",
    "11. ⚠️☠️\n",
    "\n",
    "### Artists\n",
    "\n",
    "1. 🥛🐘🦓🦎\n",
    "2. 🤿🐺\n",
    "3. 🔴🕔\n",
    "4. 🌶️🌶️🌶️\n",
    "5. 2️⃣👄\n",
    "6. 👎🐇\n",
    "7. Ⓜ️➕Ⓜ️\n",
    "8. 🥶▶️\n",
    "9. ♂️ 🦆\n",
    "10. ⚫🐻\n",
    "11. ‼️🕺🎶"
   ]
  },
  {
   "cell_type": "markdown",
   "id": "4c13c4f8",
   "metadata": {},
   "source": [
    "## Congratulations! You've completed the Midterm Project!\n",
    "\n",
    "As usual, follow these steps to submit your assignment:\n",
    "\n",
    "1. Select Kernel -> Restart & Run All to ensure that you have executed all cells, including the test cells.\n",
    "2. Read through the notebook to make sure everything is fine and all tests passed.\n",
    "3. Run the cell below to run all tests, and make sure that they all pass.\n",
    "4. Download your notebook using File -> Download as -> Notebook (.ipynb), then upload your notebook to Gradescope. Don't forget to add your partner to your group on Gradescope!\n",
    "\n",
    "If running all the tests at once causes a test to fail that didn't fail when you ran the notebook in order, check to see if you changed a variable's value later in your code. Make sure to use new variable names instead of reusing ones that are used in the tests. \n",
    "\n",
    "Remember, the tests here and on Gradescope just check the format of your answers. We will run correctness tests after the due date has passed."
   ]
  },
  {
   "cell_type": "code",
   "execution_count": 119,
   "id": "9ec25e9e",
   "metadata": {},
   "outputs": [
    {
     "data": {
      "text/plain": [
       "q1_1 results: All test cases passed!\n",
       "\n",
       "q1_10 results: All test cases passed!\n",
       "\n",
       "q1_2 results: All test cases passed!\n",
       "\n",
       "q1_4 results: All test cases passed!\n",
       "\n",
       "q1_5 results: All test cases passed!\n",
       "\n",
       "q1_6 results: All test cases passed!\n",
       "\n",
       "q1_7 results: All test cases passed!\n",
       "\n",
       "q1_8 results: All test cases passed!\n",
       "\n",
       "q1_9 results: All test cases passed!\n",
       "\n",
       "q2_1 results: All test cases passed!\n",
       "\n",
       "q2_2 results: All test cases passed!\n",
       "\n",
       "q2_3 results: All test cases passed!\n",
       "\n",
       "q3_1 results: All test cases passed!\n",
       "\n",
       "q3_2 results: All test cases passed!\n",
       "\n",
       "q3_3 results: All test cases passed!\n",
       "\n",
       "q3_4 results: All test cases passed!\n",
       "\n",
       "q3_5 results: All test cases passed!\n",
       "\n",
       "q3_6 results: All test cases passed!\n",
       "\n",
       "q3_7 results: All test cases passed!\n",
       "\n",
       "q3_8 results: All test cases passed!\n",
       "\n",
       "q4_1 results: All test cases passed!\n",
       "\n",
       "q4_2 results: All test cases passed!\n",
       "\n",
       "q4_3 results: All test cases passed!\n",
       "\n",
       "q4_4 results: All test cases passed!\n",
       "\n",
       "q4_6 results: All test cases passed!\n",
       "\n",
       "q4_7 results: All test cases passed!\n",
       "\n",
       "q4_8 results: All test cases passed!\n",
       "\n",
       "q5_1 results: All test cases passed!\n",
       "\n",
       "q5_2 results: All test cases passed!\n",
       "\n",
       "q5_3 results: All test cases passed!\n",
       "\n",
       "q5_4 results: All test cases passed!\n",
       "\n",
       "q5_5 results: All test cases passed!\n",
       "\n",
       "q5_6 results: All test cases passed!\n",
       "\n",
       "q6_1 results: All test cases passed!\n",
       "\n",
       "q6_10 results: All test cases passed!\n",
       "\n",
       "q6_2 results: All test cases passed!\n",
       "\n",
       "q6_3 results: All test cases passed!\n",
       "\n",
       "q6_4 results: All test cases passed!\n",
       "\n",
       "q6_5 results: All test cases passed!\n",
       "\n",
       "q6_6 results: All test cases passed!\n",
       "\n",
       "q6_7 results: All test cases passed!\n",
       "\n",
       "q6_8 results: All test cases passed!\n",
       "\n",
       "q6_9 results: All test cases passed!\n",
       "\n",
       "q7_1 results: All test cases passed!\n",
       "\n",
       "q7_2 results: All test cases passed!"
      ]
     },
     "execution_count": 119,
     "metadata": {},
     "output_type": "execute_result"
    }
   ],
   "source": [
    "grader.checkall()"
   ]
  },
  {
   "cell_type": "code",
   "execution_count": null,
   "id": "12134a69",
   "metadata": {},
   "outputs": [],
   "source": []
  },
  {
   "cell_type": "code",
   "execution_count": null,
   "id": "1044563b",
   "metadata": {},
   "outputs": [],
   "source": []
  }
 ],
 "metadata": {
  "kernelspec": {
   "display_name": "Python 3 (ipykernel)",
   "language": "python",
   "name": "python3"
  },
  "language_info": {
   "codemirror_mode": {
    "name": "ipython",
    "version": 3
   },
   "file_extension": ".py",
   "mimetype": "text/x-python",
   "name": "python",
   "nbconvert_exporter": "python",
   "pygments_lexer": "ipython3",
   "version": "3.9.5"
  },
  "vscode": {
   "interpreter": {
    "hash": "aee8b7b246df8f9039afb4144a1f6fd8d2ca17a180786b69acc140d282b71a49"
   }
  }
 },
 "nbformat": 4,
 "nbformat_minor": 5
}
